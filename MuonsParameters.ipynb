{
 "cells": [
  {
   "cell_type": "code",
   "execution_count": 10,
   "metadata": {},
   "outputs": [],
   "source": [
    "import numpy as np\n",
    "import astropy.units as u\n",
    "from pyirf import spectral,simulations,utils \n",
    "import math\n",
    "#import scipy.integrate as integrate\n",
    "from scipy.integrate import quad\n",
    "import matplotlib.pyplot as plt\n",
    "from IPython.display import display, Latex"
   ]
  },
  {
   "cell_type": "markdown",
   "metadata": {},
   "source": [
    "### Muon rates"
   ]
  },
  {
   "cell_type": "code",
   "execution_count": 658,
   "metadata": {},
   "outputs": [],
   "source": [
    "def muon_rate(muon_energy = 1*u.GeV):\n",
    "    \"\"\"\n",
    "    Function to calculate rate of muons with energy 1GeV for 1 LST \n",
    "\n",
    "    still need to be implemented:\n",
    "        - dependence on energy\n",
    "        - dependence on a.s.l.\n",
    "        - only muon rings fully contained in the mirror\n",
    "    \n",
    "    Parameters\n",
    "    ----------\n",
    "    lst_mirror_area : float \n",
    "        area of LST mirror in m^2 [Gaug 2019]\n",
    "    lst_fov : float \n",
    "        lst field of view in sr^-1 [Gaug 2019]\n",
    "    ----------\n",
    "    Return\n",
    "    \n",
    "    rate of muons for the 1LST\n",
    "    \"\"\"\n",
    "    # a.s.l. for 1 GeV muons [from PDG]\n",
    "    rate_of_muons = 70 * u.m**(-2) * u.sr**(-1)* u.s**(-1)\n",
    "    # at 600 a.s.l. 1.79 for muons > 25GeV (for muons > 16GeV the factor will be 3.55) [from Pascale et al. 1993]\n",
    "    rate_of_muons = 1.79 * u.m**(-2) * u.sr**(-1)* u.s**(-1)\n",
    "    lst_mirror_area = 378 * u.m**(2)\n",
    "    lst_fov = utils.cone_solid_angle(4.3*u.deg)\n",
    "    return rate_of_muons*lst_mirror_area*lst_fov"
   ]
  },
  {
   "cell_type": "code",
   "execution_count": 659,
   "metadata": {},
   "outputs": [
    {
     "name": "stdout",
     "output_type": "stream",
     "text": [
      "11.966923032585234 1 / s\n"
     ]
    }
   ],
   "source": [
    "lst_mirror_area = 378 * u.m**(2)\n",
    "lst_fov = utils.cone_solid_angle(4.3*u.deg)\n",
    "print(muon_rate())"
   ]
  },
  {
   "cell_type": "code",
   "execution_count": 113,
   "metadata": {},
   "outputs": [],
   "source": [
    "# Equation number 75 from Gaug\n",
    "def H(energy):\n",
    "    y = math.log10(energy)\n",
    "    H1 = 0.133\n",
    "    H2 = -2.521\n",
    "    H3 = -5.78\n",
    "    S2 = -2.11\n",
    "    return H1 * (0.5*(y**3) - 2.5*(y**2) + 3*y) \\\n",
    "           + H2 * (-2*(y**3)/3 + 3*(y**2) - (10*y)/3 + 1) \\\n",
    "           + H3 * ((y**3)/6 - (y**2)/2 + y/3) \\\n",
    "           + S2 * ((y**3)/3 - 2*(y**2) + 11*y/3 -2 )\n",
    "\n",
    "def flux(energy):\n",
    "    C = 0.86\n",
    "    parameter_h = H(energy)\n",
    "    return (C * 10**parameter_h)"
   ]
  },
  {
   "cell_type": "code",
   "execution_count": 146,
   "metadata": {},
   "outputs": [
    {
     "data": {
      "text/plain": [
       "(2.7120272352868615, 1.7463258375477594e-08)"
      ]
     },
     "execution_count": 146,
     "metadata": {},
     "output_type": "execute_result"
    }
   ],
   "source": [
    "result = quad(flux, 20, 1000)\n",
    "result"
   ]
  },
  {
   "cell_type": "code",
   "execution_count": 325,
   "metadata": {},
   "outputs": [
    {
     "data": {
      "text/plain": [
       "12.691751302160313"
      ]
     },
     "execution_count": 325,
     "metadata": {},
     "output_type": "execute_result"
    }
   ],
   "source": [
    "(result[0] * lst_fov * lst_mirror_area * 0.7).to_value()"
   ]
  },
  {
   "cell_type": "code",
   "execution_count": 1,
   "metadata": {},
   "outputs": [],
   "source": [
    "def rate_100(energy, theta = 0):\n",
    "    \"\"\"\n",
    "    Equation (78) from Gaug et al. 2019\n",
    "    \"\"\"\n",
    "    return 1.4e3 * energy**(-2.7) \\\n",
    "           * (1 / (1 + (1.1*energy*math.cos(np.deg2rad(theta))/(115))) \\\n",
    "           + (0.054 / (1 + (1.1*energy*math.cos(np.deg2rad(theta))/850))))\n",
    "\n",
    "\n",
    "def max_rate(energy, theta = 0):\n",
    "    \"\"\"\n",
    "    Equation (80) from Gaug et al. 2019\n",
    "    \"\"\"\n",
    "    mirror_radius = 23\n",
    "    impact_max = 0.8*mirror_radius\n",
    "    impact_min = 0.2*mirror_radius\n",
    "    #muon_angle_max = 4.5/2 - 0.2 \n",
    "    muon_angle_max = 1.5\n",
    "    return rate_100(energy) * math.cos(np.deg2rad(theta)) \\\n",
    "           * (impact_max**2 - impact_min**2) * 2 * math.pi**2 \\\n",
    "           * (1 - math.cos(np.deg2rad(muon_angle_max)))"
   ]
  },
  {
   "cell_type": "code",
   "execution_count": 433,
   "metadata": {},
   "outputs": [
    {
     "data": {
      "text/plain": [
       "6.386238225388449"
      ]
     },
     "execution_count": 433,
     "metadata": {},
     "output_type": "execute_result"
    }
   ],
   "source": [
    "max_r = quad(max_rate, 20, np.inf)\n",
    "max_r[0]"
   ]
  },
  {
   "cell_type": "code",
   "execution_count": 418,
   "metadata": {},
   "outputs": [
    {
     "data": {
      "text/plain": [
       "56.926347345234795"
      ]
     },
     "execution_count": 418,
     "metadata": {},
     "output_type": "execute_result"
    }
   ],
   "source": [
    "max_r[0] * lst_fov.to_value() * lst_mirror_area.to_value()"
   ]
  },
  {
   "cell_type": "code",
   "execution_count": 326,
   "metadata": {},
   "outputs": [
    {
     "data": {
      "text/plain": [
       "11.594202898550725"
      ]
     },
     "execution_count": 326,
     "metadata": {},
     "output_type": "execute_result"
    }
   ],
   "source": [
    "80/6.9"
   ]
  },
  {
   "cell_type": "markdown",
   "metadata": {},
   "source": [
    "### Time of simulation\n"
   ]
  },
  {
   "cell_type": "code",
   "execution_count": 437,
   "metadata": {},
   "outputs": [],
   "source": [
    "def proton_rate(area, solid_angle, energy_integral):\n",
    "    \"\"\"\n",
    "    Equation for all particle spectrum from PDG https://pdg.lbl.gov/2022/reviews/rpp2022-rev-cosmic-rays.pdf\n",
    "    \n",
    "    Parameters:\n",
    "    -----------\n",
    "    norm - normalisation factor [GeV^-1 sr^-1 s^-1 m^-2]\n",
    "    energy_integral - result of integration of energy spectrum from Emin to Emax [GeV]\n",
    "    solid_angle - solid angle of FoV [sr]\n",
    "    area - area for integration [m^2]\n",
    "    -----------\n",
    "    Returns:\n",
    "    -----------\n",
    "    rate of protons for a given area and solid angle with given energy spectrum [s^-1]\n",
    "    \"\"\"\n",
    "    norm = 1.8e4\n",
    "    proton_fraction = 0.74\n",
    "    return norm * area * solid_angle * proton_fraction * energy_integral"
   ]
  },
  {
   "cell_type": "code",
   "execution_count": 149,
   "metadata": {},
   "outputs": [],
   "source": [
    "Nshow = 20e4 * 10 * 500\n",
    "E_min = 10\n",
    "E_max = 103901\n",
    "viewcone = 9\n",
    "side = 1511.53\n",
    "area = side**2\n",
    "solid_angle = utils.cone_solid_angle(viewcone*u.deg).to_value()\n",
    "\n",
    "# E^-2.7 from 10 to 10e5 GeV\n",
    "energy_integral_true_spec = 0.01173 \n",
    "# E^-2.7 from 10 to 103901 GeV\n",
    "energy_integral_true_spec = 0.01172\n",
    "\n",
    "# E^-0.7 from 10 to 10e5 GeV\n",
    "energy_integral_weigthed_spec = 98.75 \n",
    "# E^-0.7 from 10 to 103901 GeV\n",
    "energy_integral_weigthed_spec = 99.97 \n",
    "\n",
    "energy_integral_true_spec = 0.1"
   ]
  },
  {
   "cell_type": "code",
   "execution_count": 167,
   "metadata": {},
   "outputs": [],
   "source": [
    "power_law_spectrum = spectral.PowerLaw(normalization=1.8e1 * spectral.DIFFUSE_FLUX_UNIT, index = -2, e_ref = 1 * u.GeV)"
   ]
  },
  {
   "cell_type": "code",
   "execution_count": 168,
   "metadata": {},
   "outputs": [
    {
     "data": {
      "text/plain": [
       "PowerLaw(18.0 1 / (TeV s sr m2) * (E / 1.0 GeV)**-2)"
      ]
     },
     "execution_count": 168,
     "metadata": {},
     "output_type": "execute_result"
    }
   ],
   "source": [
    "power_law_spectrum"
   ]
  },
  {
   "cell_type": "code",
   "execution_count": 263,
   "metadata": {},
   "outputs": [
    {
     "data": {
      "text/latex": [
       "$0.001 \\; \\mathrm{\\frac{u}{GeV}}$"
      ],
      "text/plain": [
       "<Quantity 0.001 u / GeV>"
      ]
     },
     "execution_count": 263,
     "metadata": {},
     "output_type": "execute_result"
    }
   ],
   "source": [
    "quantity_in_tev = 1 * u.Unit(\"u.TeV**-1\")\n",
    "quantity_in_gev = quantity_in_tev.to(\"u.GeV**-1\")\n",
    "quantity_in_gev"
   ]
  },
  {
   "cell_type": "code",
   "execution_count": 221,
   "metadata": {},
   "outputs": [
    {
     "data": {
      "text/plain": [
       "SimulatedEventsInfo(n_showers=1000000000, energy_min=10.000 GeV, energy_max=103.90 TeV, spectral_index=-2.0, max_impact=1.51 km, viewcone=9.0 deg)"
      ]
     },
     "execution_count": 221,
     "metadata": {},
     "output_type": "execute_result"
    }
   ],
   "source": [
    "simulated_events"
   ]
  },
  {
   "cell_type": "code",
   "execution_count": null,
   "metadata": {},
   "outputs": [],
   "source": []
  },
  {
   "cell_type": "code",
   "execution_count": null,
   "metadata": {},
   "outputs": [],
   "source": []
  },
  {
   "cell_type": "code",
   "execution_count": 999,
   "metadata": {},
   "outputs": [
    {
     "data": {
      "text/latex": [
       "$12796.538 \\; \\mathrm{\\frac{1}{GeV\\,s\\,sr\\,m^{2}}}$"
      ],
      "text/plain": [
       "<Quantity 12796.53761536 1 / (GeV s sr m2)>"
      ]
     },
     "execution_count": 999,
     "metadata": {},
     "output_type": "execute_result"
    }
   ],
   "source": [
    "simulated_events = simulations.SimulatedEventsInfo(n_showers = int(42091), \n",
    "                                                   energy_min=10*u.GeV, \n",
    "                                                   energy_max=103.9*u.TeV, \n",
    "                                                   max_impact = 1.511*u.km, \n",
    "                                                   spectral_index=-2, \n",
    "                                                   viewcone=9*u.deg)\n",
    "\n",
    "powerlaw_test = spectral.PowerLaw.from_simulation(simulated_events, obstime=60*u.s, e_ref = 1 * u.GeV)\n",
    "(powerlaw_test.normalization.to_value() / 1000) * u.Unit(\"GeV**-1 * sr**-1 * s**-1 * m**-2\")"
   ]
  },
  {
   "cell_type": "code",
   "execution_count": 1017,
   "metadata": {},
   "outputs": [
    {
     "data": {
      "text/latex": [
       "$17988.588 \\; \\mathrm{\\frac{1}{GeV\\,s\\,sr\\,m^{2}}}$"
      ],
      "text/plain": [
       "<Quantity 17988.58821899 1 / (GeV s sr m2)>"
      ]
     },
     "execution_count": 1017,
     "metadata": {},
     "output_type": "execute_result"
    }
   ],
   "source": [
    "simulated_events = simulations.SimulatedEventsInfo(n_showers = int(2e5 * 499), \n",
    "                                                   energy_min=10*u.GeV, \n",
    "                                                   energy_max=103.9*u.TeV, \n",
    "                                                   max_impact = 1.511*u.km, \n",
    "                                                   spectral_index=-2, \n",
    "                                                   viewcone=9*u.deg)\n",
    "\n",
    "powerlaw_test = spectral.PowerLaw.from_simulation(simulated_events, obstime=0.1*u.s, e_ref = 1 * u.GeV)\n",
    "\n",
    "(powerlaw_test.normalization.to_value() / 1000) * u.Unit(\"GeV**-1 * sr**-1 * s**-1 * m**-2\")"
   ]
  },
  {
   "cell_type": "code",
   "execution_count": null,
   "metadata": {},
   "outputs": [],
   "source": []
  },
  {
   "cell_type": "code",
   "execution_count": 810,
   "metadata": {},
   "outputs": [
    {
     "data": {
      "text/latex": [
       "$16193.437 \\; \\mathrm{\\frac{1}{GeV\\,s\\,sr\\,m^{2}}}$"
      ],
      "text/plain": [
       "<Quantity 16193.43669144 1 / (GeV s sr m2)>"
      ]
     },
     "execution_count": 810,
     "metadata": {},
     "output_type": "execute_result"
    }
   ],
   "source": [
    "simulated_events = simulations.SimulatedEventsInfo(n_showers = int(2e4*10*499), \n",
    "                                                   energy_min=10*u.GeV, \n",
    "                                                   energy_max=103.9*u.TeV, \n",
    "                                                   max_impact = 1.511*u.km, \n",
    "                                                   spectral_index=-2.7, \n",
    "                                                   viewcone=9*u.deg)\n",
    "powerlaw_test = spectral.PowerLaw.from_simulation(simulated_events, obstime=0.0011*u.s, e_ref = 1 * u.GeV)\n",
    "powerlaw_test.normalization.to(\"GeV**-1 s**-1 sr**-1 m**-2\")"
   ]
  },
  {
   "cell_type": "code",
   "execution_count": 777,
   "metadata": {},
   "outputs": [
    {
     "data": {
      "text/plain": [
       "30434.782608695656"
      ]
     },
     "execution_count": 777,
     "metadata": {},
     "output_type": "execute_result"
    }
   ],
   "source": [
    "42000/1.38"
   ]
  },
  {
   "cell_type": "code",
   "execution_count": 998,
   "metadata": {},
   "outputs": [
    {
     "data": {
      "text/plain": [
       "18065.700162862482"
      ]
     },
     "execution_count": 998,
     "metadata": {},
     "output_type": "execute_result"
    }
   ],
   "source": [
    "side = 1511\n",
    "unit = spectral.DIFFUSE_FLUX_UNIT\n",
    "e_max = 103900\n",
    "e_min = 10\n",
    "index = -2.7\n",
    "e_ref = 1\n",
    "n_showers = 2e4 * 5e2 * 10\n",
    "obstime = 0.85\n",
    "A = np.pi*side**2\n",
    "viewcone = 9\n",
    "\n",
    "solid_angle = utils.cone_solid_angle(viewcone*u.deg).to_value()\n",
    "delta = e_max ** (index + 1) - e_min ** (index + 1)\n",
    "nom = (index + 1) * e_ref**index * n_showers\n",
    "denom = A * obstime * solid_angle * delta\n",
    "\n",
    "normalisation = (nom / denom)\n",
    "normalisation"
   ]
  },
  {
   "cell_type": "code",
   "execution_count": 581,
   "metadata": {},
   "outputs": [
    {
     "data": {
      "text/plain": [
       "0.6931989999999999"
      ]
     },
     "execution_count": 581,
     "metadata": {},
     "output_type": "execute_result"
    }
   ],
   "source": [
    "obs_time = nom / (normalisation * solid_angle * delta * A) \n",
    "obs_time"
   ]
  },
  {
   "cell_type": "code",
   "execution_count": 506,
   "metadata": {},
   "outputs": [
    {
     "data": {
      "text/latex": [
       "$9 \\; \\mathrm{{}^{\\circ}}$"
      ],
      "text/plain": [
       "<Quantity 9. deg>"
      ]
     },
     "execution_count": 506,
     "metadata": {},
     "output_type": "execute_result"
    }
   ],
   "source": [
    "solid_angle = utils.cone_solid_angle(viewcone*u.deg).to_value()\n",
    "solid_angle\n",
    "viewcone*u.deg"
   ]
  },
  {
   "cell_type": "markdown",
   "metadata": {},
   "source": [
    "### Function for observational time"
   ]
  },
  {
   "cell_type": "markdown",
   "metadata": {},
   "source": [
    "### Check Workflow"
   ]
  },
  {
   "cell_type": "markdown",
   "metadata": {},
   "source": [
    "1. Take good simtel simulation for 1LST in which I am sure.\n",
    "2. Process it and calculate number of protons and muons.\n",
    "3. Check corsika parameters of this simulation.\n",
    "4. Calculate obs time of these events.\n"
   ]
  },
  {
   "cell_type": "code",
   "execution_count": null,
   "metadata": {},
   "outputs": [],
   "source": []
  },
  {
   "cell_type": "code",
   "execution_count": null,
   "metadata": {},
   "outputs": [],
   "source": []
  },
  {
   "cell_type": "code",
   "execution_count": 997,
   "metadata": {},
   "outputs": [
    {
     "data": {
      "image/png": "[encoded data removed]",
      "text/plain": [
       "<Figure size 640x480 with 1 Axes>"
      ]
     },
     "metadata": {},
     "output_type": "display_data"
    }
   ],
   "source": [
    "proton_norm_text = r'Norm = Norm * 0.74 = 1.3e4, \\: \\: \\: \\: \\: \\text{to account only for protons}'\n",
    "intensity_text = r'I(N) = Norm \\cdot (\\frac{E}{GeV})^{-2.7}, \\: \\: \\: \\: \\: \\text{where Norm} = 1.8e4 \\: [GeV^{-1} s^{-1} sr^{-1} m^{-2} ]'\n",
    "shower_number_text = r'N_{showers} = Norm \\cdot \\int_A \\int_{\\Omega} \\int_{t} \\int_{E_{min}}^{E_{max}} E^{-2.7} \\,dE'\n",
    "time_text = r'TIME = \\frac{(-1.7)\\cdot N_{showers}}{Area \\cdot \\Omega \\cdot Norm \\cdot (E_{max}^{-1.7} - E_{min}^{-1.7})}'\n",
    "n_showers_text = r'where, \\; N_{showers} = N_{corsika_showers} \\cdot \\int_{E_{min}}^{E_{max}} {E^{-0.7} dE} '\n",
    "ax = plt.axes([0,0,0.3,0.3]) #left,bottom,width,height\n",
    "ax.set_xticks([])\n",
    "ax.set_yticks([])\n",
    "ax.axis('off')\n",
    "\n",
    "_ = plt.text(0,2.2,'$%s$' %intensity_text,size=15,color=\"black\")\n",
    "\n",
    "_ = plt.text(0,1.6,'$%s$' %shower_number_text,size=15,color=\"black\")\n",
    "\n",
    "_ = plt.text(0,0.8,'$%s$' %time_text,size=30,color=\"black\")\n",
    "\n",
    "_ = plt.text(0,0,'$%s$' %n_showers_text,size=20,color=\"black\")\n",
    "\n",
    "_ = plt.text(0,-0.5,'$%s$' %proton_norm_text,size=15,color=\"black\")\n",
    "\n",
    "\n",
    "\n"
   ]
  },
  {
   "cell_type": "code",
   "execution_count": 995,
   "metadata": {},
   "outputs": [],
   "source": [
    "def observational_time(simulated_event_info, norm=18000):\n",
    "    \"\"\"\n",
    "    Calculate observation time for simulated events\n",
    "    \n",
    "    Parameters\n",
    "    ----------\n",
    "    Parameters are taken from pyirf.simulations.SimulatedEventsInfo object\n",
    "\n",
    "    e_min - min energy [GeV]\n",
    "    e_max - max energy [GeV]\n",
    "    index - index of simulated power law\n",
    "    n_showers - number of simulated shower (reused accounted)\n",
    "    viewcone - viewcone of simulation\n",
    "    max_impact - diameter of the area for simulation\n",
    "    e_ref - reference energy value\n",
    "    norm - normalisation factor from all particles spectrum from PDG (normalised only for protons)\n",
    "    ----------\n",
    "\n",
    "    Returns\n",
    "    ----------\n",
    "    time of observation in seconds\n",
    "\n",
    "    \"\"\"\n",
    "\n",
    "    e_min = simulated_event_info.energy_min.to(\"GeV\")\n",
    "    e_max = simulated_event_info.energy_max.to(\"GeV\")\n",
    "    index = simulated_event_info.spectral_index\n",
    "    n_showers = simulated_event_info.n_showers\n",
    "    viewcone = simulated_event_info.viewcone.to_value()\n",
    "    max_impact = simulated_event_info.max_impact.to(\"m\")\n",
    "    e_ref = 1 * u.GeV\n",
    "    norm = 0.74 * norm\n",
    "    \n",
    "    solid_angle = utils.cone_solid_angle(viewcone*u.deg).to_value()\n",
    "    A = (np.pi * (max_impact**2))\n",
    "    delta = e_max ** (index + 1) - e_min ** (index + 1)\n",
    "    nom = (index + 1) * e_ref**index * n_showers\n",
    "    denom = A * solid_angle * delta * norm\n",
    "\n",
    "    return (nom / denom).to_value()\n",
    "\n",
    "\n",
    "def observational_time_test(simulated_event_info, norm=18000):\n",
    "    \"\"\"Func for testing\"\"\"\n",
    "    e_min = simulated_event_info.energy_min.to(\"GeV\")\n",
    "    e_max = simulated_event_info.energy_max.to(\"GeV\")\n",
    "    index = simulated_event_info.spectral_index\n",
    "    n_showers = simulated_event_info.n_showers\n",
    "    viewcone = simulated_event_info.viewcone.to(\"deg\")\n",
    "    max_impact = simulated_event_info.max_impact.to(\"m\")\n",
    "    e_ref = 1 # GeV\n",
    "\n",
    "    norm = 0.74 * norm # account for protons in all particle spectrum\n",
    "    solid_angle = utils.cone_solid_angle(viewcone)\n",
    "    \n",
    "    A = (np.pi * (max_impact**2))\n",
    "    delta = e_max ** (index + 1) - e_min ** (index + 1)\n",
    "    nom = (index + 1) * e_ref**index * n_showers\n",
    "    denom = A * solid_angle * delta * norm\n",
    "\n",
    "    print(f\"e_min {e_min}\")\n",
    "    print(f\"e_max {e_max}\")\n",
    "    print(f\"index {index}\")\n",
    "    print(f\"n_showers {n_showers}\")\n",
    "    print(f\"viewcone {viewcone}\")\n",
    "    print(\"solid angle \", solid_angle)\n",
    "    print(f\"A = {A}\")\n",
    "    print(f\"max_impact = {max_impact}\")\n",
    "\n",
    "    return (nom / denom).to_value()\n",
    "\n",
    "#simulated_events = simulations.SimulatedEventsInfo(n_showers = int(2e4 * 1e1 * 500), energy_min=10*u.GeV, energy_max=103.9*u.TeV, max_impact = 1.511*u.km, spectral_index=-2, viewcone=9*u.deg)\n",
    "\n",
    "#observational_time(simulated_events)\n",
    "\n"
   ]
  },
  {
   "cell_type": "code",
   "execution_count": 993,
   "metadata": {},
   "outputs": [
    {
     "name": "stdout",
     "output_type": "stream",
     "text": [
      "time of observation for 500 runs of mono events = 115.01903834926273 seconds\n",
      "Rate of protons = 998.6868404445871 Hz\n",
      "Rate of muons = 1.7910078449314426 Hz\n"
     ]
    }
   ],
   "source": [
    "# MONO Simulation\n",
    "path = '/fefs/aswg/data/mc/DL0/LSTProd2/TestDataset/Protons/Corsika/node_corsika_theta_10.0_az_248.117_/output'\n",
    "runs = 499\n",
    "scale_integral = 99.97\n",
    "mono_shower_number = 2e4 * 10 * runs * scale_integral\n",
    "\n",
    "weighted_proton_number = 114868\n",
    "weighted_muon_number = 206\n",
    "\n",
    "simulated_events2 = simulations.SimulatedEventsInfo(n_showers = int(mono_shower_number), \n",
    "                                                    energy_min=10*u.GeV, \n",
    "                                                    energy_max=103.9*u.TeV, \n",
    "                                                    max_impact = 1.511*u.km, \n",
    "                                                    spectral_index=-2.7, \n",
    "                                                    viewcone=9*u.deg)\n",
    "\n",
    "time_mono = observational_time(simulated_events2)\n",
    "print(f\"time of observation for 500 runs of mono events = {time_mono} seconds\")\n",
    "print(f\"Rate of protons = {weighted_proton_number/time_mono} Hz\")\n",
    "print(f\"Rate of muons = {weighted_muon_number/time_mono} Hz\")"
   ]
  },
  {
   "cell_type": "code",
   "execution_count": 994,
   "metadata": {},
   "outputs": [
    {
     "name": "stdout",
     "output_type": "stream",
     "text": [
      "time of observation for 500 runs of stereo events =  467.1411696481316 seconds\n",
      "Rate of protons = 703.506822675342 Hz\n",
      "Rate of muons = 0.8370060816830082 Hz\n",
      "Rate of muons = 3.7226434169993636 Hz\n"
     ]
    }
   ],
   "source": [
    "path = '/fefs/aswg/workspace/MC_common/corsika7.7_simtelarray_20200629/prod5/4LSTs_MAGIC/proton/zenith_20deg/south_pointing/corsika'\n",
    "n_runs = 499\n",
    "scale_integral = 98.75\n",
    "stereo_shower_number = 1e6 * runs * scale_integral\n",
    "\n",
    "weighted_proton_number = 328637\n",
    "weighted_muon_number = 391\n",
    "weighted_clean_muon_number = 1739\n",
    "\n",
    "simulated_events3 = simulations.SimulatedEventsInfo(n_showers = int(stereo_shower_number), \n",
    "                                                    energy_min=10*u.GeV, \n",
    "                                                    energy_max=100*u.TeV, \n",
    "                                                    max_impact = 1.500*u.km, \n",
    "                                                    spectral_index=-2.7, \n",
    "                                                    viewcone=10*u.deg)\n",
    "\n",
    "time_stereo = observational_time(simulated_events3)\n",
    "print(f\"time of observation for 500 runs of stereo events =  {time_stereo} seconds\")\n",
    "print(f\"Rate of protons = {weighted_proton_number/time_stereo} Hz\")\n",
    "print(f\"Rate of muons = {weighted_muon_number/time_stereo} Hz\")\n",
    "print(f\"Rate of muons = {weighted_clean_muon_number/time_stereo} Hz\")"
   ]
  },
  {
   "cell_type": "code",
   "execution_count": 884,
   "metadata": {},
   "outputs": [
    {
     "name": "stdout",
     "output_type": "stream",
     "text": [
      "e_min 99.0 GeV\n",
      "e_max 200000.0 GeV\n",
      "index -2.7\n",
      "n_showers 14775390000\n",
      "viewcone 5.057 deg\n",
      "solid angle  0.024457303069526867 sr\n",
      "A = 17675806.640675154 m2\n",
      "max_impact = 2372.0 m\n",
      "time of observation for 500 runs of mono events =  10771.513170884638 seconds\n"
     ]
    }
   ],
   "source": [
    "simulated_events4 = simulations.SimulatedEventsInfo(n_showers = int(30000 * 10 * 499 * 98.7), energy_min=99*u.GeV, energy_max=200*u.TeV, max_impact = 2.372*u.km, spectral_index=-2.7, viewcone=5.057*u.deg)\n",
    "\n",
    "print(f\"time of observation for 500 runs of mono events =  {observational_time(simulated_events4)} seconds\")"
   ]
  },
  {
   "cell_type": "code",
   "execution_count": 889,
   "metadata": {},
   "outputs": [
    {
     "name": "stdout",
     "output_type": "stream",
     "text": [
      "e_min 10.0 GeV\n",
      "e_max 103900.0 GeV\n",
      "index -2\n",
      "n_showers 100000000\n",
      "viewcone 9.0 deg\n",
      "solid angle  0.07735643747962972 sr\n",
      "A = 7172636.160856582 m2\n",
      "max_impact = 1511.0 m\n"
     ]
    },
    {
     "data": {
      "text/plain": [
       "0.13532010130614358"
      ]
     },
     "execution_count": 889,
     "metadata": {},
     "output_type": "execute_result"
    }
   ],
   "source": []
  },
  {
   "cell_type": "code",
   "execution_count": 497,
   "metadata": {},
   "outputs": [
    {
     "name": "stdout",
     "output_type": "stream",
     "text": [
      "SimulatedEventsInfo(n_showers=5000000000, energy_min=10.000 GeV, energy_max=103.90 TeV, spectral_index=-2.0, max_impact=1.51 km, viewcone=9.0 deg)\n"
     ]
    }
   ],
   "source": [
    "print(simulated_events2)"
   ]
  },
  {
   "cell_type": "code",
   "execution_count": 748,
   "metadata": {},
   "outputs": [
    {
     "data": {
      "text/latex": [
       "$6.2831853 \\; \\mathrm{sr}$"
      ],
      "text/plain": [
       "<Quantity 6.28318531 sr>"
      ]
     },
     "execution_count": 748,
     "metadata": {},
     "output_type": "execute_result"
    }
   ],
   "source": [
    "utils.cone_solid_angle(np.deg2rad(90))"
   ]
  },
  {
   "cell_type": "code",
   "execution_count": 750,
   "metadata": {},
   "outputs": [
    {
     "data": {
      "text/latex": [
       "$12.566371 \\; \\mathrm{sr}$"
      ],
      "text/plain": [
       "<Quantity 12.56637061 sr>"
      ]
     },
     "execution_count": 750,
     "metadata": {},
     "output_type": "execute_result"
    }
   ],
   "source": [
    "utils.cone_solid_angle(np.deg2rad(180))"
   ]
  },
  {
   "cell_type": "markdown",
   "metadata": {},
   "source": [
    "### Different tests\n"
   ]
  },
  {
   "cell_type": "markdown",
   "metadata": {},
   "source": [
    "#### Energy reweighting"
   ]
  },
  {
   "cell_type": "code",
   "execution_count": 688,
   "metadata": {},
   "outputs": [
    {
     "name": "stdout",
     "output_type": "stream",
     "text": [
      "protons = 114868.88719007111\n",
      "muons = 206.1955031290796\n"
     ]
    }
   ],
   "source": [
    "with open('/Users/vdk/energy.txt', 'r') as fi:\n",
    "    one_line = fi.read()\n",
    "    many_lines = one_line.split(\",\")\n",
    "    energy_array_protons = [float(value) for value in many_lines[:-1]]\n",
    "\n",
    "with open('/Users/vdk/energy_muons.txt', 'r') as fi:\n",
    "    one_line = fi.read()\n",
    "    many_lines = one_line.split(\",\")\n",
    "    energy_array_muons = [float(value) for value in many_lines[:-1]]\n",
    "\n",
    "w_protons = sum([energy**(-0.7) for energy in energy_array_protons])\n",
    "w_muons = sum([energy**(-0.7) for energy in energy_array_muons])\n",
    "print(f\"protons = {w_protons}\")\n",
    "print(f\"muons = {w_muons}\")\n"
   ]
  },
  {
   "cell_type": "code",
   "execution_count": 697,
   "metadata": {},
   "outputs": [],
   "source": [
    "with open('/Users/vdk/energy.txt', 'r') as fi:\n",
    "    one_line = fi.read()\n",
    "    many_lines = one_line.split(\",\")\n",
    "    energy_array_protons = [float(value) for value in many_lines[:-1]]\n",
    "\n",
    "with open('/Users/vdk/energy_muons.txt', 'r') as fi:\n",
    "    one_line = fi.read()\n",
    "    many_lines = one_line.split(\",\")\n",
    "    energy_array_muons = [float(value) for value in many_lines[:-1]]\n",
    "\n",
    "w_protons = sum([energy**(-0.7) for energy in energy_array_protons])\n",
    "w_muons = sum([energy**(-0.7) for energy in energy_array_muons])\n",
    "print(f\"protons = {w_protons}\")\n",
    "print(f\"muons = {w_muons}\")\n",
    "simulated_spectrum = spectral.PowerLaw(normalization = 1 * spectral.DIFFUSE_FLUX_UNIT, index = -2, e_ref =1* u.TeV)\n",
    "target_spectrum = spectral.PowerLaw(normalization = 1 * spectral.DIFFUSE_FLUX_UNIT, index = -2.7, e_ref =1* u.TeV)\n",
    "pyirf_weighted = [spectral.calculate_event_weights(energy*u.TeV, target_spectrum=target_spectrum, simulated_spectrum=simulated_spectrum) for energy in energy_array_protons]"
   ]
  },
  {
   "cell_type": "code",
   "execution_count": 698,
   "metadata": {},
   "outputs": [],
   "source": []
  },
  {
   "cell_type": "code",
   "execution_count": 699,
   "metadata": {},
   "outputs": [
    {
     "data": {
      "text/plain": [
       "114868.88719007115"
      ]
     },
     "execution_count": 699,
     "metadata": {},
     "output_type": "execute_result"
    }
   ],
   "source": [
    "sum(pyirf_weighted)"
   ]
  },
  {
   "cell_type": "code",
   "execution_count": 700,
   "metadata": {},
   "outputs": [
    {
     "data": {
      "text/plain": [
       "0.0017933628164501863"
      ]
     },
     "execution_count": 700,
     "metadata": {},
     "output_type": "execute_result"
    }
   ],
   "source": [
    "206/114868"
   ]
  },
  {
   "cell_type": "code",
   "execution_count": 701,
   "metadata": {},
   "outputs": [
    {
     "data": {
      "text/plain": [
       "0.001786905556085009"
      ]
     },
     "execution_count": 701,
     "metadata": {},
     "output_type": "execute_result"
    }
   ],
   "source": [
    "75/41972"
   ]
  },
  {
   "cell_type": "code",
   "execution_count": 828,
   "metadata": {},
   "outputs": [
    {
     "data": {
      "text/plain": [
       "1016.5388246908951"
      ]
     },
     "execution_count": 828,
     "metadata": {},
     "output_type": "execute_result"
    }
   ],
   "source": [
    "114868.88719007115 / 113"
   ]
  },
  {
   "cell_type": "code",
   "execution_count": 829,
   "metadata": {},
   "outputs": [
    {
     "data": {
      "text/plain": [
       "1.7876106194690264"
      ]
     },
     "execution_count": 829,
     "metadata": {},
     "output_type": "execute_result"
    }
   ],
   "source": [
    "202/113"
   ]
  },
  {
   "cell_type": "code",
   "execution_count": 830,
   "metadata": {},
   "outputs": [
    {
     "data": {
      "text/plain": [
       "0.005298013245033113"
      ]
     },
     "execution_count": 830,
     "metadata": {},
     "output_type": "execute_result"
    }
   ],
   "source": [
    "800/151000"
   ]
  },
  {
   "cell_type": "code",
   "execution_count": 831,
   "metadata": {},
   "outputs": [
    {
     "data": {
      "text/plain": [
       "1738.4897300000002"
      ]
     },
     "execution_count": 831,
     "metadata": {},
     "output_type": "execute_result"
    }
   ],
   "source": [
    "0.00529*328637"
   ]
  },
  {
   "cell_type": "code",
   "execution_count": 837,
   "metadata": {},
   "outputs": [
    {
     "data": {
      "text/plain": [
       "703.8638884320926"
      ]
     },
     "execution_count": 837,
     "metadata": {},
     "output_type": "execute_result"
    }
   ],
   "source": [
    "328637.31717848254/466.9046424736262"
   ]
  },
  {
   "cell_type": "code",
   "execution_count": 839,
   "metadata": {},
   "outputs": [
    {
     "data": {
      "text/plain": [
       "3.7296137339055795"
      ]
     },
     "execution_count": 839,
     "metadata": {},
     "output_type": "execute_result"
    }
   ],
   "source": [
    "1738/466"
   ]
  },
  {
   "cell_type": "code",
   "execution_count": 846,
   "metadata": {},
   "outputs": [
    {
     "data": {
      "text/plain": [
       "463"
      ]
     },
     "execution_count": 846,
     "metadata": {},
     "output_type": "execute_result"
    }
   ],
   "source": [
    "29181311-29180848"
   ]
  },
  {
   "cell_type": "code",
   "execution_count": 875,
   "metadata": {},
   "outputs": [],
   "source": [
    "def test_time():\n",
    "    #Nprotons =  20000 * 10 * 499 \n",
    "    Nprotons =  100000 * 10 * 499 * 99.7\n",
    "    index = -2.7\n",
    "    norm = 1.3e4\n",
    "    max_impact = 1500\n",
    "    area = np.pi*(max_impact**2)\n",
    "    viewcone = 9\n",
    "    solid_angle = utils.cone_solid_angle(np.deg2rad(viewcone)).to_value()\n",
    "    Emax = 100000\n",
    "    Emin = 10\n",
    "    return (Nprotons * (index+1))/(1.3e4*area*solid_angle*(Emax**(index+1) - Emin**(index+1)))"
   ]
  },
  {
   "cell_type": "code",
   "execution_count": 876,
   "metadata": {},
   "outputs": [
    {
     "data": {
      "text/plain": [
       "503.0935675042659"
      ]
     },
     "execution_count": 876,
     "metadata": {},
     "output_type": "execute_result"
    }
   ],
   "source": [
    "300000 / test_time()"
   ]
  },
  {
   "cell_type": "code",
   "execution_count": 16,
   "metadata": {},
   "outputs": [
    {
     "data": {
      "text/plain": [
       "4.307659598843889"
      ]
     },
     "execution_count": 16,
     "metadata": {},
     "output_type": "execute_result"
    }
   ],
   "source": [
    "max_impact = 150\n",
    "area = np.pi*(max_impact**2)\n",
    "Nsim = 1000000\n",
    "Nrec = 400\n",
    "viewcone = 3.5\n",
    "solid_angle = utils.cone_solid_angle(np.deg2rad(viewcone)).to_value()\n",
    "flux = 13\n",
    "\n",
    "\n",
    "rate = flux * solid_angle * area * (Nrec/Nsim)\n",
    "rate"
   ]
  },
  {
   "cell_type": "code",
   "execution_count": null,
   "metadata": {},
   "outputs": [],
   "source": []
  }
 ],
 "metadata": {
  "kernelspec": {
   "display_name": "cta",
   "language": "python",
   "name": "python3"
  },
  "language_info": {
   "codemirror_mode": {
    "name": "ipython",
    "version": 3
   },
   "file_extension": ".py",
   "mimetype": "text/x-python",
   "name": "python",
   "nbconvert_exporter": "python",
   "pygments_lexer": "ipython3",
   "version": "3.11.6"
  }
 },
 "nbformat": 4,
 "nbformat_minor": 2
}
