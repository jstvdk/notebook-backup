{
 "cells": [
  {
   "cell_type": "code",
   "execution_count": 3,
   "metadata": {},
   "outputs": [],
   "source": [
    "import sys\n",
    "sys.path.append('/Users/vdk/GeneveWork/Code/calibpipe-main-calibpipe/')\n",
    "from astropy.io import ascii\n",
    "import numpy as np\n",
    "import pandas as pd\n",
    "import matplotlib\n",
    "import csv\n",
    "import scipy\n",
    "import matplotlib.pyplot as plt\n",
    "from seaborn import histplot\n",
    "import random\n",
    "import copy\n",
    "from os import path, makedirs\n",
    "from astropy.coordinates import SkyCoord\n",
    "from astropy.table import Table\n",
    "import astropy.units as u\n",
    "from ctapipe.containers import MuonEfficiencyContainer\n",
    "from ctapipe.coordinates import CameraFrame, TelescopeFrame\n",
    "from ctapipe.io import EventSource, EventSeeker\n",
    "from ctapipe.core import TelescopeComponent\n",
    "from ctapipe.core.traits import (\n",
    "    List,\n",
    "    Int,\n",
    "    FloatTelescopeParameter,\n",
    "    TelescopeParameter,\n",
    "    Unicode,\n",
    ")\n",
    "from ctapipe.image.cleaning import tailcuts_clean\n",
    "from ctapipe.image.muon import MuonRingFitter, MuonIntensityFitter\n",
    "from traitlets.config import Config\n",
    "from ctapipe.image import ImageProcessor\n",
    "from ctapipe.image.muon import MuonProcessor\n",
    "from ctapipe.visualization import CameraDisplay\n",
    "from ctapipe.instrument import CameraGeometry\n",
    "from ctapipe.calib import CameraCalibrator\n",
    "from traitlets.config.loader import Config, FileConfigLoader, JSONFileConfigLoader\n",
    "import pathlib\n",
    "from calibpipe.throughput import MuonCalibrator\n",
    "from traitlets.config import Config\n",
    "from astropy.time import Time\n",
    "from astropy.coordinates import EarthLocation,SkyCoord, AltAz \n",
    "import time\n",
    "from ctapipe.image import number_of_island_sizes\n",
    "from ctapipe.image import (\n",
    "    hillas_parameters,\n",
    "    leakage_parameters,\n",
    "    concentration_parameters,\n",
    ")\n",
    "from ctapipe.image import timing_parameters\n",
    "from ctapipe.image import number_of_islands\n",
    "from ctapipe.image import camera_to_shower_coordinates\n",
    "from lstchain.io import replace_config, standard_config\n",
    "\n",
    "from astropy.table import Table\n",
    "from astropy.io import fits\n",
    "import seaborn as sns\n",
    "import matplotlib.pyplot as plt\n",
    "import glob\n",
    "import pandas as pd\n",
    "from python_modules.muonpipe import usefull_func\n",
    "import json\n",
    "size_outside = 400 # phe"
   ]
  },
  {
   "cell_type": "code",
   "execution_count": 10,
   "metadata": {},
   "outputs": [
    {
     "ename": "SyntaxError",
     "evalue": "invalid syntax. Perhaps you forgot a comma? (2396958020.py, line 1)",
     "output_type": "error",
     "traceback": [
      "\u001b[0;36m  Cell \u001b[0;32mIn[10], line 1\u001b[0;36m\u001b[0m\n\u001b[0;31m    test = [20240203\u001b[0m\n\u001b[0m            ^\u001b[0m\n\u001b[0;31mSyntaxError\u001b[0m\u001b[0;31m:\u001b[0m invalid syntax. Perhaps you forgot a comma?\n"
     ]
    }
   ],
   "source": []
  },
  {
   "cell_type": "code",
   "execution_count": 4,
   "metadata": {},
   "outputs": [
    {
     "data": {
      "text/plain": [
       "['/Users/vdk/muons2024/muon_cleaning_2024/clean15_muons16464/second_try/muons_LST-1.Run16464.0004.fits',\n",
       " '/Users/vdk/muons2024/muon_cleaning_2024/clean15_muons16464/second_try/muons_LST-1.Run16464.0008.fits',\n",
       " '/Users/vdk/muons2024/muon_cleaning_2024/clean15_muons16464/second_try/muons_LST-1.Run16464.0009.fits',\n",
       " '/Users/vdk/muons2024/muon_cleaning_2024/clean15_muons16464/second_try/muons_LST-1.Run16464.0005.fits',\n",
       " '/Users/vdk/muons2024/muon_cleaning_2024/clean15_muons16464/second_try/muons_LST-1.Run16464.0002.fits',\n",
       " '/Users/vdk/muons2024/muon_cleaning_2024/clean15_muons16464/second_try/muons_LST-1.Run16464.0003.fits',\n",
       " '/Users/vdk/muons2024/muon_cleaning_2024/clean15_muons16464/second_try/muons_LST-1.Run16464.0000.fits',\n",
       " '/Users/vdk/muons2024/muon_cleaning_2024/clean15_muons16464/second_try/muons_LST-1.Run16464.0001.fits',\n",
       " '/Users/vdk/muons2024/muon_cleaning_2024/clean15_muons16464/second_try/muons_LST-1.Run16464.0006.fits',\n",
       " '/Users/vdk/muons2024/muon_cleaning_2024/clean15_muons16464/second_try/muons_LST-1.Run16464.0007.fits']"
      ]
     },
     "execution_count": 4,
     "metadata": {},
     "output_type": "execute_result"
    }
   ],
   "source": [
    "files = glob.glob(\"/Users/vdk/Software/code/muon_cleaning_2024/clean15_muons16464/cleanmuons_16464/muons*\")\n",
    "files = glob.glob(\"/Users/vdk/muons2024/muon_cleaning_2024/clean15_muons16464/second_try/muons*\")\n",
    "files"
   ]
  },
  {
   "cell_type": "code",
   "execution_count": 5,
   "metadata": {},
   "outputs": [],
   "source": [
    "all_data_df = pd.DataFrame()\n",
    "df_good_data = pd.DataFrame()\n",
    "for filename in files:\n",
    "    dat = Table.read(filename)\n",
    "    df = dat.to_pandas()\n",
    "    # Apply a couple of basic quality cuts taken from Ruben's work\n",
    "    #all_data_df = df[(df['ring_containment'] > 0.999) & (df['size_outside'] < size_outside) & df['good_ring'] & (df['muon_efficiency'] < 1)]\n",
    "    # Append the DataFrame to the main DataFrame\n",
    "    all_data_df = df\n",
    "    df_good_data= pd.concat([df_good_data, all_data_df], ignore_index=True)\n",
    "    "
   ]
  },
  {
   "cell_type": "code",
   "execution_count": 6,
   "metadata": {},
   "outputs": [
    {
     "data": {
      "text/html": [
       "<div>\n",
       "<style scoped>\n",
       "    .dataframe tbody tr th:only-of-type {\n",
       "        vertical-align: middle;\n",
       "    }\n",
       "\n",
       "    .dataframe tbody tr th {\n",
       "        vertical-align: top;\n",
       "    }\n",
       "\n",
       "    .dataframe thead th {\n",
       "        text-align: right;\n",
       "    }\n",
       "</style>\n",
       "<table border=\"1\" class=\"dataframe\">\n",
       "  <thead>\n",
       "    <tr style=\"text-align: right;\">\n",
       "      <th></th>\n",
       "      <th>event_id</th>\n",
       "      <th>event_time</th>\n",
       "      <th>mc_energy</th>\n",
       "      <th>ring_size</th>\n",
       "      <th>size_outside</th>\n",
       "      <th>ring_center_x</th>\n",
       "      <th>ring_center_y</th>\n",
       "      <th>ring_radius</th>\n",
       "      <th>ring_width</th>\n",
       "      <th>good_ring</th>\n",
       "      <th>...</th>\n",
       "      <th>impact_parameter</th>\n",
       "      <th>impact_x_array</th>\n",
       "      <th>impact_y_array</th>\n",
       "      <th>radial_stdev</th>\n",
       "      <th>radial_skewness</th>\n",
       "      <th>radial_excess_kurtosis</th>\n",
       "      <th>num_pixels_in_ring</th>\n",
       "      <th>mean_pixel_charge_around_ring</th>\n",
       "      <th>hg_peak_sample</th>\n",
       "      <th>lg_peak_sample</th>\n",
       "    </tr>\n",
       "  </thead>\n",
       "  <tbody>\n",
       "  </tbody>\n",
       "</table>\n",
       "<p>0 rows × 23 columns</p>\n",
       "</div>"
      ],
      "text/plain": [
       "Empty DataFrame\n",
       "Columns: [event_id, event_time, mc_energy, ring_size, size_outside, ring_center_x, ring_center_y, ring_radius, ring_width, good_ring, muon_efficiency, ring_containment, ring_completeness, impact_parameter, impact_x_array, impact_y_array, radial_stdev, radial_skewness, radial_excess_kurtosis, num_pixels_in_ring, mean_pixel_charge_around_ring, hg_peak_sample, lg_peak_sample]\n",
       "Index: []\n",
       "\n",
       "[0 rows x 23 columns]"
      ]
     },
     "execution_count": 6,
     "metadata": {},
     "output_type": "execute_result"
    }
   ],
   "source": [
    "df_good_data"
   ]
  },
  {
   "cell_type": "code",
   "execution_count": 8,
   "metadata": {},
   "outputs": [],
   "source": [
    "filename = '/Users/vdk/Software/code/muon_cleaning_2024/clean15_muons16464/cleanmuons_16464/muons_LST-1.Run16464.0012.fits'\n",
    "filename = '/Users/vdk/muons2024/muon_cleaning_2024/clean15_muons16464/second_try/muons_LST-1.Run16464.0000.fits'\n",
    "dat = Table.read(filename)"
   ]
  },
  {
   "cell_type": "code",
   "execution_count": 9,
   "metadata": {},
   "outputs": [
    {
     "data": {
      "text/html": [
       "<div><i>Table length=0</i>\n",
       "<table id=\"table5869101392\" class=\"table-striped table-bordered table-condensed\">\n",
       "<thead><tr><th>event_id</th><th>event_time</th><th>mc_energy</th><th>ring_size</th><th>size_outside</th><th>ring_center_x</th><th>ring_center_y</th><th>ring_radius</th><th>ring_width</th><th>good_ring</th><th>muon_efficiency</th><th>ring_containment</th><th>ring_completeness</th><th>impact_parameter</th><th>impact_x_array</th><th>impact_y_array</th><th>radial_stdev</th><th>radial_skewness</th><th>radial_excess_kurtosis</th><th>num_pixels_in_ring</th><th>mean_pixel_charge_around_ring</th><th>hg_peak_sample</th><th>lg_peak_sample</th></tr></thead>\n",
       "<thead><tr><th>float64</th><th>float64</th><th>float64</th><th>float64</th><th>float64</th><th>float64</th><th>float64</th><th>float64</th><th>float64</th><th>float64</th><th>float64</th><th>float64</th><th>float64</th><th>float64</th><th>float64</th><th>float64</th><th>float64</th><th>float64</th><th>float64</th><th>float64</th><th>float64</th><th>float64</th><th>float64</th></tr></thead>\n",
       "</table></div>"
      ],
      "text/plain": [
       "<Table length=0>\n",
       "event_id event_time mc_energy ... hg_peak_sample lg_peak_sample\n",
       "float64   float64    float64  ...    float64        float64    \n",
       "-------- ---------- --------- ... -------------- --------------"
      ]
     },
     "execution_count": 9,
     "metadata": {},
     "output_type": "execute_result"
    }
   ],
   "source": [
    "dat"
   ]
  },
  {
   "cell_type": "code",
   "execution_count": 16,
   "metadata": {},
   "outputs": [
    {
     "data": {
      "text/html": [
       "<div><i>Table length=61</i>\n",
       "<table id=\"table5718536048\" class=\"table-striped table-bordered table-condensed\">\n",
       "<thead><tr><th>event_id</th><th>event_time</th><th>mc_energy</th><th>ring_size</th><th>size_outside</th><th>ring_center_x</th><th>ring_center_y</th><th>ring_radius</th><th>ring_width</th><th>good_ring</th><th>muon_efficiency</th><th>ring_containment</th><th>ring_completeness</th><th>impact_parameter</th><th>impact_x_array</th><th>impact_y_array</th><th>radial_stdev</th><th>radial_skewness</th><th>radial_excess_kurtosis</th><th>num_pixels_in_ring</th><th>mean_pixel_charge_around_ring</th><th>hg_peak_sample</th><th>lg_peak_sample</th></tr></thead>\n",
       "<thead><tr><th>int64</th><th>float64</th><th>int64</th><th>float32</th><th>float32</th><th>float64</th><th>float64</th><th>float64</th><th>float64</th><th>bool</th><th>float64</th><th>float64</th><th>float64</th><th>float64</th><th>float64</th><th>float64</th><th>float64</th><th>float64</th><th>float64</th><th>int64</th><th>float64</th><th>int64</th><th>int64</th></tr></thead>\n",
       "<tr><td>1040</td><td>1706732515.5019305</td><td>-1</td><td>2333.3308</td><td>0.0</td><td>-0.6948290333621051</td><td>-0.40932388333297426</td><td>1.2115813205885841</td><td>0.07291294108527259</td><td>True</td><td>0.16478825200250374</td><td>1.0</td><td>0.7333333333333333</td><td>7.545605203054743</td><td>4.433676533898965</td><td>6.105626116388103</td><td>0.056380552178662835</td><td>0.04339186104126951</td><td>0.1410489303129494</td><td>507</td><td>0.12211184782140395</td><td>9</td><td>0</td></tr>\n",
       "<tr><td>2692</td><td>1706732515.7375839</td><td>-1</td><td>1449.5212</td><td>0.0</td><td>1.284470167193175</td><td>-1.2472656707587277</td><td>1.1247852569549512</td><td>0.06212514495534772</td><td>True</td><td>0.1421422661297232</td><td>0.5525873624363385</td><td>0.5333333333333333</td><td>7.974927556789106</td><td>-1.859895809679928</td><td>-7.755014965373651</td><td>0.05325867193188869</td><td>0.3167864534333203</td><td>-0.05149441637175434</td><td>245</td><td>0.5222555704162892</td><td>11</td><td>0</td></tr>\n",
       "<tr><td>2831</td><td>1706732515.7567995</td><td>-1</td><td>1930.162</td><td>0.0</td><td>0.12583289261530922</td><td>-0.8996177787752991</td><td>1.1805404211156725</td><td>0.055091007777153374</td><td>True</td><td>0.14075578435415884</td><td>1.0</td><td>0.6</td><td>7.280162241210815</td><td>-4.6192663146506945</td><td>-5.62700106386031</td><td>0.040853808596282515</td><td>0.3480119331350728</td><td>0.48568695785859983</td><td>476</td><td>0.5048834950017472</td><td>8</td><td>0</td></tr>\n",
       "<tr><td>3434</td><td>1706732515.8451636</td><td>-1</td><td>1886.8015</td><td>0.0</td><td>-1.4771091868110309</td><td>0.09693846586568058</td><td>1.1493562755479645</td><td>0.09424777249751874</td><td>True</td><td>0.18752928429670707</td><td>0.6580278931820024</td><td>0.7</td><td>2.457622237687561</td><td>1.0463848907525546</td><td>2.2237323857832303</td><td>0.07753268802653097</td><td>-0.26099916324520533</td><td>0.2011625393762615</td><td>322</td><td>0.4135419957778033</td><td>9</td><td>0</td></tr>\n",
       "<tr><td>5868</td><td>1706732516.195183</td><td>-1</td><td>1320.4801</td><td>0.0</td><td>-1.9470404769913192</td><td>-0.02669890647110416</td><td>1.0643342110430105</td><td>0.069271963534778</td><td>True</td><td>0.1907465799150697</td><td>0.5160232798470124</td><td>0.43333333333333335</td><td>3.5306412082154104</td><td>-2.2345747128880182</td><td>2.7335148058260454</td><td>0.06330900369919265</td><td>-0.020822615393962296</td><td>-0.44720584524673646</td><td>213</td><td>0.2735815833596622</td><td>10</td><td>0</td></tr>\n",
       "<tr><td>6379</td><td>1706732516.2695014</td><td>-1</td><td>2401.0864</td><td>0.0</td><td>0.03661561022664468</td><td>0.5911329537819756</td><td>1.176747502563742</td><td>0.05994549570662135</td><td>True</td><td>0.16925223505220754</td><td>1.0</td><td>0.8</td><td>6.6889467810849945</td><td>-6.083709255512103</td><td>2.780376005971799</td><td>0.05339587066323958</td><td>-0.26803901051132367</td><td>-0.2575381404657784</td><td>481</td><td>0.18722002918183492</td><td>10</td><td>0</td></tr>\n",
       "<tr><td>6813</td><td>1706732516.3334417</td><td>-1</td><td>1448.6953</td><td>0.0</td><td>1.0407887250245222</td><td>0.8025627899986141</td><td>0.9992091498143951</td><td>0.07859523636805293</td><td>True</td><td>0.16687194191159155</td><td>0.8690293988055429</td><td>0.5</td><td>8.721598948627244</td><td>0.4426868991784178</td><td>-8.710356854342516</td><td>0.06345127314884651</td><td>0.2110435369061895</td><td>-0.35554830860037434</td><td>304</td><td>0.20228297150080105</td><td>10</td><td>0</td></tr>\n",
       "<tr><td>7215</td><td>1706732516.3915038</td><td>-1</td><td>1745.6174</td><td>6.205011</td><td>1.3557214363748944</td><td>0.37735943951325723</td><td>0.9338443717128797</td><td>0.08559057053912952</td><td>True</td><td>0.1698570643655928</td><td>0.8344048033982143</td><td>0.7333333333333333</td><td>6.153532215189989</td><td>-6.045029370559466</td><td>1.1504688750480991</td><td>0.06931454569791452</td><td>-0.5456017185126589</td><td>0.6859905811402647</td><td>268</td><td>0.2110826234559755</td><td>9</td><td>0</td></tr>\n",
       "<tr><td>8350</td><td>1706732516.5525358</td><td>-1</td><td>1558.0745</td><td>6.497825</td><td>0.27461481864233</td><td>-0.02787444997901442</td><td>0.8539034311400246</td><td>0.11640456512899079</td><td>True</td><td>0.18366435323775548</td><td>1.0</td><td>0.5</td><td>8.40235435366192</td><td>4.941197614470042</td><td>6.7958902889361745</td><td>0.08940740362535834</td><td>-0.30042453548187914</td><td>-0.23677490052252725</td><td>254</td><td>0.6986121941561723</td><td>11</td><td>0</td></tr>\n",
       "<tr><td>8401</td><td>1706732516.5586097</td><td>-1</td><td>1575.0984</td><td>0.0</td><td>-0.5973541840343511</td><td>-1.867709704040515</td><td>1.200600329419913</td><td>0.04038676759184164</td><td>True</td><td>0.14032848073532297</td><td>0.48961703794451283</td><td>0.4666666666666667</td><td>6.751962681722744</td><td>3.3498438155249186</td><td>-5.86238402588623</td><td>0.04091994440889997</td><td>-0.27615471912482</td><td>0.2281056287094052</td><td>258</td><td>0.31030342061683613</td><td>9</td><td>0</td></tr>\n",
       "<tr><td>...</td><td>...</td><td>...</td><td>...</td><td>...</td><td>...</td><td>...</td><td>...</td><td>...</td><td>...</td><td>...</td><td>...</td><td>...</td><td>...</td><td>...</td><td>...</td><td>...</td><td>...</td><td>...</td><td>...</td><td>...</td><td>...</td><td>...</td></tr>\n",
       "<tr><td>54698</td><td>1706732523.3018775</td><td>-1</td><td>1622.3389</td><td>0.0</td><td>-0.5909755962641191</td><td>1.4268177984876813</td><td>1.0776968593165366</td><td>0.09966462838533448</td><td>True</td><td>0.16987373278911463</td><td>0.6581413695807116</td><td>0.4666666666666667</td><td>8.510609050405352</td><td>-4.463711337166773</td><td>7.2460849779236165</td><td>0.0834205853615565</td><td>-0.37390738472599</td><td>-0.1928856658068474</td><td>282</td><td>0.2928595695321418</td><td>9</td><td>0</td></tr>\n",
       "<tr><td>54875</td><td>1706732523.327432</td><td>-1</td><td>2274.9106</td><td>0.0</td><td>-0.14170319826166752</td><td>-0.9422887394591316</td><td>1.191116392018178</td><td>0.06923143044911573</td><td>True</td><td>0.17184260490087158</td><td>1.0</td><td>0.7</td><td>7.477059405567162</td><td>6.596208459588728</td><td>3.520859456443904</td><td>0.06086924164084236</td><td>-0.02431486013602882</td><td>-0.47633677013786535</td><td>471</td><td>0.3715538536778654</td><td>11</td><td>0</td></tr>\n",
       "<tr><td>55854</td><td>1706732523.4701953</td><td>-1</td><td>1369.7439</td><td>0.0</td><td>-0.718138986826325</td><td>1.4589505076405693</td><td>0.9140992270793833</td><td>0.05674402531351634</td><td>True</td><td>0.14137239332937834</td><td>0.687703258801295</td><td>0.5333333333333333</td><td>4.2386410852415315</td><td>-1.5022611776046866</td><td>3.963494620124933</td><td>0.052286283342855414</td><td>-0.15966410512260856</td><td>-0.48079753362425226</td><td>208</td><td>0.1827456046795023</td><td>9</td><td>0</td></tr>\n",
       "<tr><td>56245</td><td>1706732523.5278864</td><td>-1</td><td>1991.7231</td><td>0.0</td><td>-0.6729701088642224</td><td>0.03530188405611027</td><td>0.9528078944975332</td><td>0.05634326379212588</td><td>True</td><td>0.1496805181422719</td><td>1.0</td><td>0.8333333333333334</td><td>2.4276946696534223</td><td>0.8486248417095507</td><td>2.274541115719186</td><td>0.05115333976141787</td><td>0.011477140867050751</td><td>0.09111461032357582</td><td>323</td><td>0.29974310302734375</td><td>10</td><td>0</td></tr>\n",
       "<tr><td>57178</td><td>1706732523.6689901</td><td>-1</td><td>1739.6206</td><td>0.0</td><td>-1.1278343963139519</td><td>0.48868694420939934</td><td>1.129263787314202</td><td>0.07648925471067407</td><td>True</td><td>0.16254529289263916</td><td>0.8206569435758284</td><td>0.5666666666666667</td><td>7.8681561337685055</td><td>-2.249518376230074</td><td>-7.539731296297115</td><td>0.05842790864201005</td><td>0.15920279268718512</td><td>-0.2852327011912865</td><td>373</td><td>0.18194284792299623</td><td>10</td><td>0</td></tr>\n",
       "<tr><td>57459</td><td>1706732523.7109802</td><td>-1</td><td>1739.5333</td><td>10.700562</td><td>-0.05855765081206354</td><td>-1.1897923211858947</td><td>1.1055610467380075</td><td>0.12727350866585133</td><td>True</td><td>0.18160469458994316</td><td>0.8949256019294497</td><td>0.5333333333333333</td><td>7.206443443974451</td><td>6.801982512764118</td><td>2.3803069145077664</td><td>0.08525923350427166</td><td>-0.04458529428466825</td><td>0.4516908796937531</td><td>379</td><td>0.6201101356293576</td><td>9</td><td>0</td></tr>\n",
       "<tr><td>57623</td><td>1706732523.7398515</td><td>-1</td><td>1611.2087</td><td>0.0</td><td>0.30057416950144733</td><td>0.5194315444395665</td><td>0.8256101986175847</td><td>0.07505947504685678</td><td>True</td><td>0.14684796207693085</td><td>1.0</td><td>0.8</td><td>2.661259466908264</td><td>1.6591114545402228</td><td>2.0807813752584106</td><td>0.05730715061312489</td><td>-0.3207261636916259</td><td>-0.008591202021543065</td><td>235</td><td>0.10741006760370164</td><td>10</td><td>0</td></tr>\n",
       "<tr><td>58332</td><td>1706732523.839595</td><td>-1</td><td>1812.1455</td><td>0.0</td><td>0.4888223291057791</td><td>0.8021875798262778</td><td>1.0506088912220994</td><td>0.07382639689632524</td><td>True</td><td>0.15987977461849798</td><td>1.0</td><td>0.4666666666666667</td><td>8.195155177265509</td><td>7.4686858919572</td><td>3.3733217200173997</td><td>0.061905209099456994</td><td>0.16856875399031562</td><td>-0.10721757584462521</td><td>380</td><td>0.20479532969083716</td><td>10</td><td>0</td></tr>\n",
       "<tr><td>59341</td><td>1706732523.9815555</td><td>-1</td><td>1827.3984</td><td>0.0</td><td>0.2638468532605202</td><td>0.16287018815180396</td><td>1.1672317104901826</td><td>0.04974250344745443</td><td>True</td><td>0.13205929445186454</td><td>1.0</td><td>0.5</td><td>8.133940629310606</td><td>-6.939944801726872</td><td>-4.242423400620685</td><td>0.04417224472646488</td><td>0.06910408938384667</td><td>-0.4321396120916936</td><td>470</td><td>0.5273716449737549</td><td>10</td><td>0</td></tr>\n",
       "<tr><td>59772</td><td>1706732524.0484476</td><td>-1</td><td>2240.6123</td><td>0.0</td><td>-0.03167025869937322</td><td>-0.3353515903369793</td><td>1.1293570336377288</td><td>0.06048557721025074</td><td>True</td><td>0.15411830660340833</td><td>1.0</td><td>0.9</td><td>4.888304143897694</td><td>4.337809004233084</td><td>2.2536482525100827</td><td>0.055230138628087865</td><td>-0.00713304256853611</td><td>0.0326381442708521</td><td>441</td><td>0.3593962933384093</td><td>9</td><td>0</td></tr>\n",
       "</table></div>"
      ],
      "text/plain": [
       "<Table length=61>\n",
       "event_id     event_time     mc_energy ... hg_peak_sample lg_peak_sample\n",
       " int64        float64         int64   ...     int64          int64     \n",
       "-------- ------------------ --------- ... -------------- --------------\n",
       "    1040 1706732515.5019305        -1 ...              9              0\n",
       "    2692 1706732515.7375839        -1 ...             11              0\n",
       "    2831 1706732515.7567995        -1 ...              8              0\n",
       "    3434 1706732515.8451636        -1 ...              9              0\n",
       "    5868  1706732516.195183        -1 ...             10              0\n",
       "    6379 1706732516.2695014        -1 ...             10              0\n",
       "    6813 1706732516.3334417        -1 ...             10              0\n",
       "    7215 1706732516.3915038        -1 ...              9              0\n",
       "    8350 1706732516.5525358        -1 ...             11              0\n",
       "    8401 1706732516.5586097        -1 ...              9              0\n",
       "     ...                ...       ... ...            ...            ...\n",
       "   54698 1706732523.3018775        -1 ...              9              0\n",
       "   54875  1706732523.327432        -1 ...             11              0\n",
       "   55854 1706732523.4701953        -1 ...              9              0\n",
       "   56245 1706732523.5278864        -1 ...             10              0\n",
       "   57178 1706732523.6689901        -1 ...             10              0\n",
       "   57459 1706732523.7109802        -1 ...              9              0\n",
       "   57623 1706732523.7398515        -1 ...             10              0\n",
       "   58332  1706732523.839595        -1 ...             10              0\n",
       "   59341 1706732523.9815555        -1 ...             10              0\n",
       "   59772 1706732524.0484476        -1 ...              9              0"
      ]
     },
     "execution_count": 16,
     "metadata": {},
     "output_type": "execute_result"
    }
   ],
   "source": [
    "filename = '/Users/vdk/muons2024/20240131muons/muons_LST-1.Run16445.0000.fits'\n",
    "dat = Table.read(filename)\n",
    "dat"
   ]
  },
  {
   "cell_type": "code",
   "execution_count": null,
   "metadata": {},
   "outputs": [],
   "source": []
  },
  {
   "cell_type": "code",
   "execution_count": null,
   "metadata": {},
   "outputs": [],
   "source": []
  },
  {
   "cell_type": "code",
   "execution_count": null,
   "metadata": {},
   "outputs": [],
   "source": []
  },
  {
   "cell_type": "markdown",
   "metadata": {},
   "source": [
    "### Real LST data processing"
   ]
  },
  {
   "cell_type": "code",
   "execution_count": 2,
   "metadata": {},
   "outputs": [
    {
     "ename": "NameError",
     "evalue": "name 'json' is not defined",
     "output_type": "error",
     "traceback": [
      "\u001b[0;31m---------------------------------------------------------------------------\u001b[0m",
      "\u001b[0;31mNameError\u001b[0m                                 Traceback (most recent call last)",
      "Cell \u001b[0;32mIn[2], line 9\u001b[0m\n\u001b[1;32m      7\u001b[0m config_filename \u001b[38;5;241m=\u001b[39m \u001b[38;5;124m'\u001b[39m\u001b[38;5;124m/Users/vdk/CTA/RealLST/typical_run_data/lstchain_standard_v0.10_heuristic_ff.json\u001b[39m\u001b[38;5;124m'\u001b[39m\n\u001b[1;32m      8\u001b[0m \u001b[38;5;28;01mwith\u001b[39;00m \u001b[38;5;28mopen\u001b[39m(config_filename) \u001b[38;5;28;01mas\u001b[39;00m json_file:\n\u001b[0;32m----> 9\u001b[0m     config_data \u001b[38;5;241m=\u001b[39m \u001b[43mjson\u001b[49m\u001b[38;5;241m.\u001b[39mload(json_file)\n\u001b[1;32m     11\u001b[0m custom_config \u001b[38;5;241m=\u001b[39m Config(config_data)\n\u001b[1;32m     13\u001b[0m \u001b[38;5;66;03m# muon_processor_config = Config({\"MuonProcessor\": \u001b[39;00m\n\u001b[1;32m     14\u001b[0m \u001b[38;5;66;03m#                                 {\"RingQuery\": \u001b[39;00m\n\u001b[1;32m     15\u001b[0m \u001b[38;5;66;03m#                                  {\"quality_criteria\" : [[\"intensity_check\",f\"np.abs(parameters.intensity_ratio - 1) < {int_cut}\"],\u001b[39;00m\n\u001b[0;32m   (...)\u001b[0m\n\u001b[1;32m     21\u001b[0m \u001b[38;5;66;03m#                                  {\"quality_criteria\" : [[\"min_pixels\", f\"dl1_params.morphology.n_pixels > {min_pixel}\"],\u001b[39;00m\n\u001b[1;32m     22\u001b[0m \u001b[38;5;66;03m#                                                         [\"min_intensity\", \"dl1_params.hillas.intensity > 500\"]]}}})\u001b[39;00m\n",
      "\u001b[0;31mNameError\u001b[0m: name 'json' is not defined"
     ]
    }
   ],
   "source": [
    "# Треба завантажити конфіг в івент соурс\n",
    "filename = f'/Users/vdk/CTA/RealLST/typical_run_data/LST-1.4.Run14948.0001.fits.fz'\n",
    "\n",
    "int_cut = 0.3\n",
    "min_pixel = 30\n",
    "\n",
    "config_filename = '/Users/vdk/CTA/RealLST/typical_run_data/lstchain_standard_v0.10_heuristic_ff.json'\n",
    "with open(config_filename) as json_file:\n",
    "    config_data = json.load(json_file)\n",
    "\n",
    "custom_config = Config(config_data)\n",
    "\n",
    "# muon_processor_config = Config({\"MuonProcessor\": \n",
    "#                                 {\"RingQuery\": \n",
    "#                                  {\"quality_criteria\" : [[\"intensity_check\",f\"np.abs(parameters.intensity_ratio - 1) < {int_cut}\"],\n",
    "#                                                         [\"ring_containment\", \"parameters.containment > 0.5\"],\n",
    "#                                                         [\"ring_completeness\", \"parameters.completeness > 0.5\"]]}}})\n",
    "\n",
    "# muon_processor_config_2 = Config({\"MuonProcessor\":\n",
    "#                                 {\"ImageParameterQuery\" :\n",
    "#                                  {\"quality_criteria\" : [[\"min_pixels\", f\"dl1_params.morphology.n_pixels > {min_pixel}\"],\n",
    "#                                                         [\"min_intensity\", \"dl1_params.hillas.intensity > 500\"]]}}})\n",
    "\n",
    "cfg = Config({\n",
    "    \"source_config\": {\n",
    "        \"EventSource\" : {\n",
    "            \"allowed_tels\": [1],\"max_events\": 9999}},\n",
    "        \"PointingSource\":{\n",
    "            \"drive_report_path\": '/Users/vdk/CTA/RealLST/typical_run_data/DrivePosition_log_20231007.txt'},\n",
    "        \"LSTR0Corrections\": {\n",
    "          \"calib_scale_high_gain\":1.088,\n",
    "          \"calib_scale_low_gain\":1.004,\n",
    "          \"drs4_pedestal_path\": '/Users/vdk/CTA/RealLST/typical_run_data/drs4_pedestal.Run14937.0000.h5',\n",
    "          \"calibration_path\": '/Users/vdk/CTA/RealLST/typical_run_data/calibration_filters_52.Run14938.0000.h5',\n",
    "          \"drs4_time_calibration_path\": '/Users/vdk/CTA/RealLST/typical_run_data/time_calibration.Run08349.0000.h5'\n",
    "      }})\n",
    "\n",
    "config = replace_config(standard_config, muon_processor_config)\n",
    "config = replace_config(config, muon_processor_config_2)\n",
    "config = replace_config(config, custom_config)\n"
   ]
  },
  {
   "cell_type": "code",
   "execution_count": null,
   "metadata": {},
   "outputs": [],
   "source": []
  }
 ],
 "metadata": {
  "kernelspec": {
   "display_name": "cta-dev",
   "language": "python",
   "name": "python3"
  },
  "language_info": {
   "codemirror_mode": {
    "name": "ipython",
    "version": 3
   },
   "file_extension": ".py",
   "mimetype": "text/x-python",
   "name": "python",
   "nbconvert_exporter": "python",
   "pygments_lexer": "ipython3",
   "version": "3.11.6"
  }
 },
 "nbformat": 4,
 "nbformat_minor": 2
}
