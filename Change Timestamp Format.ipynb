{
 "cells": [
  {
   "cell_type": "code",
   "execution_count": 1,
   "id": "0cce1560",
   "metadata": {},
   "outputs": [
    {
     "name": "stderr",
     "output_type": "stream",
     "text": [
      "/var/folders/_p/3fmt5jz5231_9gxtm8xt76p00000gn/T/ipykernel_73688/3765360167.py:5: DeprecationWarning: \n",
      "Pyarrow will become a required dependency of pandas in the next major release of pandas (pandas 3.0),\n",
      "(to allow more performant data types, such as the Arrow string type, and better interoperability with other libraries)\n",
      "but was not found to be installed on your system.\n",
      "If this would cause problems for you,\n",
      "please provide us feedback at https://github.com/pandas-dev/pandas/issues/54466\n",
      "        \n",
      "  import pandas as pd\n"
     ]
    }
   ],
   "source": [
    "import sys\n",
    "sys.path.append('/Users/vdk/GeneveWork/Code/calibpipe-main-calibpipe/')\n",
    "from astropy.io import ascii\n",
    "import numpy as np\n",
    "import pandas as pd\n",
    "import matplotlib\n",
    "import csv\n",
    "import scipy\n",
    "import matplotlib.pyplot as plt\n",
    "import random\n",
    "import copy\n",
    "from os import path, makedirs\n",
    "from astropy.coordinates import SkyCoord\n",
    "from astropy.table import Table\n",
    "import astropy.units as u\n",
    "from ctapipe.containers import MuonEfficiencyContainer\n",
    "from ctapipe.coordinates import CameraFrame, TelescopeFrame\n",
    "from ctapipe.io import EventSource, EventSeeker\n",
    "from ctapipe.core import TelescopeComponent\n",
    "from ctapipe.core.traits import (\n",
    "    List,\n",
    "    Int,\n",
    "    FloatTelescopeParameter,\n",
    "    TelescopeParameter,\n",
    "    Unicode,\n",
    ")\n",
    "from ctapipe.image.cleaning import tailcuts_clean\n",
    "from ctapipe.image.muon import MuonRingFitter, MuonIntensityFitter\n",
    "from traitlets.config import Config\n",
    "from ctapipe.image import ImageProcessor\n",
    "from ctapipe.image.muon import MuonProcessor\n",
    "from ctapipe.visualization import CameraDisplay\n",
    "from ctapipe.instrument import CameraGeometry\n",
    "from ctapipe.calib import CameraCalibrator\n",
    "from traitlets.config.loader import Config, FileConfigLoader, JSONFileConfigLoader\n",
    "import pathlib\n",
    "from calibpipe.throughput import MuonCalibrator\n",
    "from traitlets.config import Config\n",
    "from astropy.time import Time\n",
    "from astropy.coordinates import EarthLocation,SkyCoord, AltAz \n",
    "from traitlets.config import Config\n",
    "import time\n",
    "from datetime import datetime, timezone\n",
    "import pytz\n",
    "import glob\n",
    "\n",
    "\n"
   ]
  },
  {
   "cell_type": "code",
   "execution_count": 2,
   "id": "35841d23",
   "metadata": {},
   "outputs": [
    {
     "name": "stdout",
     "output_type": "stream",
     "text": [
      "/Users/vdk/CTA/LST/4LSTmuons/simtel_run3001_muon.simtel.gz\n",
      "/Users/vdk/CTA/LST/4LSTmuons/simtel_run5501_muon.simtel.gz\n",
      "/Users/vdk/CTA/LST/4LSTmuons/simtel_run7401_muon.simtel.gz\n",
      "/Users/vdk/CTA/LST/4LSTmuons/simtel_run9201_muon.simtel.gz\n",
      "/Users/vdk/CTA/LST/4LSTmuons/simtel_run1101_muon.simtel.gz\n",
      "/Users/vdk/CTA/LST/4LSTmuons/simtel_run8601_muon.simtel.gz\n",
      "/Users/vdk/CTA/LST/4LSTmuons/simtel_run6001_muon.simtel.gz\n",
      "/Users/vdk/CTA/LST/4LSTmuons/simtel_run2401_muon.simtel.gz\n",
      "/Users/vdk/CTA/LST/4LSTmuons/simtel_run701_muon.simtel.gz\n",
      "/Users/vdk/CTA/LST/4LSTmuons/simtel_run9901_muon.simtel.gz\n",
      "/Users/vdk/CTA/LST/4LSTmuons/simtel_run4101_muon.simtel.gz\n",
      "/Users/vdk/CTA/LST/4LSTmuons/simtel_run301_muon.simtel.gz\n",
      "/Users/vdk/CTA/LST/4LSTmuons/simtel_run2001_muon.simtel.gz\n",
      "/Users/vdk/CTA/LST/4LSTmuons/simtel_run4501_muon.simtel.gz\n",
      "/Users/vdk/CTA/LST/4LSTmuons/simtel_run8201_muon.simtel.gz\n",
      "/Users/vdk/CTA/LST/4LSTmuons/simtel_run6401_muon.simtel.gz\n",
      "/Users/vdk/CTA/LST/4LSTmuons/simtel_run7001_muon.simtel.gz\n",
      "/Users/vdk/CTA/LST/4LSTmuons/simtel_run9601_muon.simtel.gz\n",
      "/Users/vdk/CTA/LST/4LSTmuons/simtel_run801_muon.simtel.gz\n",
      "/Users/vdk/CTA/LST/4LSTmuons/simtel_run1501_muon.simtel.gz\n",
      "/Users/vdk/CTA/LST/4LSTmuons/simtel_run3401_muon.simtel.gz\n",
      "/Users/vdk/CTA/LST/4LSTmuons/simtel_run5101_muon.simtel.gz\n",
      "/Users/vdk/CTA/LST/4LSTmuons/simtel_run8901_muon.simtel.gz\n",
      "/Users/vdk/CTA/LST/4LSTmuons/simtel_run1001_muon.simtel.gz\n",
      "/Users/vdk/CTA/LST/4LSTmuons/simtel_run9301_muon.simtel.gz\n",
      "/Users/vdk/CTA/LST/4LSTmuons/simtel_run7501_muon.simtel.gz\n",
      "/Users/vdk/CTA/LST/4LSTmuons/simtel_run5401_muon.simtel.gz\n",
      "/Users/vdk/CTA/LST/4LSTmuons/simtel_run3101_muon.simtel.gz\n",
      "/Users/vdk/CTA/LST/4LSTmuons/simtel_run4001_muon.simtel.gz\n",
      "/Users/vdk/CTA/LST/4LSTmuons/simtel_run9801_muon.simtel.gz\n",
      "/Users/vdk/CTA/LST/4LSTmuons/simtel_run601_muon.simtel.gz\n",
      "/Users/vdk/CTA/LST/4LSTmuons/simtel_run2501_muon.simtel.gz\n",
      "/Users/vdk/CTA/LST/4LSTmuons/simtel_run6101_muon.simtel.gz\n",
      "/Users/vdk/CTA/LST/4LSTmuons/simtel_run8701_muon.simtel.gz\n",
      "/Users/vdk/CTA/LST/4LSTmuons/simtel_run6501_muon.simtel.gz\n",
      "/Users/vdk/CTA/LST/4LSTmuons/simtel_run8301_muon.simtel.gz\n",
      "/Users/vdk/CTA/LST/4LSTmuons/simtel_run4401_muon.simtel.gz\n",
      "/Users/vdk/CTA/LST/4LSTmuons/simtel_run2101_muon.simtel.gz\n",
      "/Users/vdk/CTA/LST/4LSTmuons/simtel_run201_muon.simtel.gz\n",
      "/Users/vdk/CTA/LST/4LSTmuons/simtel_run8801_muon.simtel.gz\n",
      "/Users/vdk/CTA/LST/4LSTmuons/simtel_run5001_muon.simtel.gz\n",
      "/Users/vdk/CTA/LST/4LSTmuons/simtel_run3501_muon.simtel.gz\n",
      "/Users/vdk/CTA/LST/4LSTmuons/simtel_run10001_muon.simtel.gz\n",
      "/Users/vdk/CTA/LST/4LSTmuons/simtel_run1401_muon.simtel.gz\n",
      "/Users/vdk/CTA/LST/4LSTmuons/simtel_run901_muon.simtel.gz\n",
      "/Users/vdk/CTA/LST/4LSTmuons/simtel_run9701_muon.simtel.gz\n",
      "/Users/vdk/CTA/LST/4LSTmuons/simtel_run7101_muon.simtel.gz\n",
      "/Users/vdk/CTA/LST/4LSTmuons/simtel_run4301_muon.simtel.gz\n",
      "/Users/vdk/CTA/LST/4LSTmuons/simtel_run2601_muon.simtel.gz\n",
      "/Users/vdk/CTA/LST/4LSTmuons/simtel_run1801_muon.simtel.gz\n",
      "/Users/vdk/CTA/LST/4LSTmuons/simtel_run501_muon.simtel.gz\n",
      "/Users/vdk/CTA/LST/4LSTmuons/simtel_run3901_muon.simtel.gz\n",
      "/Users/vdk/CTA/LST/4LSTmuons/simtel_run6201_muon.simtel.gz\n",
      "/Users/vdk/CTA/LST/4LSTmuons/simtel_run8401_muon.simtel.gz\n",
      "/Users/vdk/CTA/LST/4LSTmuons/simtel_run1301_muon.simtel.gz\n",
      "/Users/vdk/CTA/LST/4LSTmuons/simtel_run9001_muon.simtel.gz\n",
      "/Users/vdk/CTA/LST/4LSTmuons/simtel_run7601_muon.simtel.gz\n",
      "/Users/vdk/CTA/LST/4LSTmuons/simtel_run4801_muon.simtel.gz\n",
      "/Users/vdk/CTA/LST/4LSTmuons/simtel_run6901_muon.simtel.gz\n",
      "/Users/vdk/CTA/LST/4LSTmuons/simtel_run5701_muon.simtel.gz\n",
      "/Users/vdk/CTA/LST/4LSTmuons/simtel_run3201_muon.simtel.gz\n",
      "/Users/vdk/CTA/LST/4LSTmuons/simtel_run5301_muon.simtel.gz\n",
      "/Users/vdk/CTA/LST/4LSTmuons/simtel_run3601_muon.simtel.gz\n",
      "/Users/vdk/CTA/LST/4LSTmuons/simtel_run1701_muon.simtel.gz\n",
      "/Users/vdk/CTA/LST/4LSTmuons/simtel_run2901_muon.simtel.gz\n",
      "/Users/vdk/CTA/LST/4LSTmuons/simtel_run9401_muon.simtel.gz\n",
      "/Users/vdk/CTA/LST/4LSTmuons/simtel_run7201_muon.simtel.gz\n",
      "/Users/vdk/CTA/LST/4LSTmuons/simtel_run5801_muon.simtel.gz\n",
      "/Users/vdk/CTA/LST/4LSTmuons/simtel_run6601_muon.simtel.gz\n",
      "/Users/vdk/CTA/LST/4LSTmuons/simtel_run8001_muon.simtel.gz\n",
      "/Users/vdk/CTA/LST/4LSTmuons/simtel_run4701_muon.simtel.gz\n",
      "/Users/vdk/CTA/LST/4LSTmuons/simtel_run7901_muon.simtel.gz\n",
      "/Users/vdk/CTA/LST/4LSTmuons/simtel_run101_muon.simtel.gz\n",
      "/Users/vdk/CTA/LST/4LSTmuons/simtel_run2201_muon.simtel.gz\n",
      "/Users/vdk/CTA/LST/4LSTmuons/simtel_run8501_muon.simtel.gz\n",
      "/Users/vdk/CTA/LST/4LSTmuons/simtel_run6301_muon.simtel.gz\n",
      "/Users/vdk/CTA/LST/4LSTmuons/simtel_run3801_muon.simtel.gz\n",
      "/Users/vdk/CTA/LST/4LSTmuons/simtel_run401_muon.simtel.gz\n",
      "/Users/vdk/CTA/LST/4LSTmuons/simtel_run2701_muon.simtel.gz\n",
      "/Users/vdk/CTA/LST/4LSTmuons/simtel_run1901_muon.simtel.gz\n",
      "/Users/vdk/CTA/LST/4LSTmuons/simtel_run4201_muon.simtel.gz\n",
      "/Users/vdk/CTA/LST/4LSTmuons/simtel_run3301_muon.simtel.gz\n",
      "/Users/vdk/CTA/LST/4LSTmuons/simtel_run6801_muon.simtel.gz\n",
      "/Users/vdk/CTA/LST/4LSTmuons/simtel_run5601_muon.simtel.gz\n",
      "/Users/vdk/CTA/LST/4LSTmuons/simtel_run7701_muon.simtel.gz\n",
      "/Users/vdk/CTA/LST/4LSTmuons/simtel_run4901_muon.simtel.gz\n",
      "/Users/vdk/CTA/LST/4LSTmuons/simtel_run9101_muon.simtel.gz\n",
      "/Users/vdk/CTA/LST/4LSTmuons/simtel_run1201_muon.simtel.gz\n",
      "/Users/vdk/CTA/LST/4LSTmuons/simtel_run7301_muon.simtel.gz\n",
      "/Users/vdk/CTA/LST/4LSTmuons/simtel_run9501_muon.simtel.gz\n",
      "/Users/vdk/CTA/LST/4LSTmuons/simtel_run1601_muon.simtel.gz\n",
      "/Users/vdk/CTA/LST/4LSTmuons/simtel_run2801_muon.simtel.gz\n",
      "/Users/vdk/CTA/LST/4LSTmuons/simtel_run3701_muon.simtel.gz\n",
      "/Users/vdk/CTA/LST/4LSTmuons/simtel_run5201_muon.simtel.gz\n",
      "/Users/vdk/CTA/LST/4LSTmuons/simtel_run2301_muon.simtel.gz\n",
      "/Users/vdk/CTA/LST/4LSTmuons/simtel_run4601_muon.simtel.gz\n",
      "/Users/vdk/CTA/LST/4LSTmuons/simtel_run7801_muon.simtel.gz\n",
      "/Users/vdk/CTA/LST/4LSTmuons/simtel_run8101_muon.simtel.gz\n",
      "/Users/vdk/CTA/LST/4LSTmuons/simtel_run5901_muon.simtel.gz\n",
      "/Users/vdk/CTA/LST/4LSTmuons/simtel_run6701_muon.simtel.gz\n"
     ]
    }
   ],
   "source": [
    "simtel_dir=\"/Users/vdk/CTA/LST/4LSTmuons/\"\n",
    "\n",
    "simtel_files=\"simtel_run*_muon.simtel.gz\"\n",
    "\n",
    "for single_file in glob.glob(simtel_dir+simtel_files):\n",
    "    print(single_file)"
   ]
  },
  {
   "cell_type": "code",
   "execution_count": 7,
   "id": "9764966a",
   "metadata": {},
   "outputs": [
    {
     "name": "stderr",
     "output_type": "stream",
     "text": [
      "TelescopeParameter type argument 'MST_*' did not match any known telescope types\n",
      "TelescopeParameter type argument 'SST_1M_*' did not match any known telescope types\n"
     ]
    },
    {
     "name": "stdout",
     "output_type": "stream",
     "text": [
      "/Users/vdk/CTA/LST/4LSTmuons/simtel_run101_muon.simtel.gz\n"
     ]
    },
    {
     "name": "stderr",
     "output_type": "stream",
     "text": [
      "TelescopeParameter type argument 'MST_*' did not match any known telescope types\n",
      "TelescopeParameter type argument 'SST_1M_*' did not match any known telescope types\n",
      "TelescopeParameter type argument 'MST_*' did not match any known telescope types\n",
      "TelescopeParameter type argument 'SST_1M_*' did not match any known telescope types\n",
      "TelescopeParameter type argument 'MST_*' did not match any known telescope types\n",
      "TelescopeParameter type argument 'SST_1M_*' did not match any known telescope types\n",
      "TelescopeParameter type argument 'MST_*' did not match any known telescope types\n",
      "TelescopeParameter type argument 'SST_1M_*' did not match any known telescope types\n",
      "TelescopeParameter type argument 'MST_*' did not match any known telescope types\n",
      "TelescopeParameter type argument 'SST_1M_*' did not match any known telescope types\n",
      "TelescopeParameter type argument 'MST_*' did not match any known telescope types\n",
      "TelescopeParameter type argument 'SST_1M_*' did not match any known telescope types\n",
      "TelescopeParameter type argument 'MST_*' did not match any known telescope types\n",
      "TelescopeParameter type argument 'SST_1M_*' did not match any known telescope types\n",
      "TelescopeParameter type argument 'MST_*' did not match any known telescope types\n",
      "TelescopeParameter type argument 'SST_1M_*' did not match any known telescope types\n",
      "TelescopeParameter type argument 'MST_*' did not match any known telescope types\n",
      "TelescopeParameter type argument 'SST_1M_*' did not match any known telescope types\n",
      "TelescopeParameter type argument 'MST_*' did not match any known telescope types\n",
      "TelescopeParameter type argument 'SST_1M_*' did not match any known telescope types\n",
      "TelescopeParameter type argument 'MST_*' did not match any known telescope types\n",
      "TelescopeParameter type argument 'SST_1M_*' did not match any known telescope types\n",
      "TelescopeParameter type argument 'MST_*' did not match any known telescope types\n",
      "TelescopeParameter type argument 'SST_1M_*' did not match any known telescope types\n",
      "TelescopeParameter type argument 'MST_*' did not match any known telescope types\n",
      "TelescopeParameter type argument 'SST_1M_*' did not match any known telescope types\n",
      "TelescopeParameter type argument 'MST_*' did not match any known telescope types\n",
      "TelescopeParameter type argument 'SST_1M_*' did not match any known telescope types\n",
      "TelescopeParameter type argument 'MST_*' did not match any known telescope types\n",
      "TelescopeParameter type argument 'SST_1M_*' did not match any known telescope types\n",
      "TelescopeParameter type argument 'MST_*' did not match any known telescope types\n",
      "TelescopeParameter type argument 'SST_1M_*' did not match any known telescope types\n",
      "TelescopeParameter type argument 'MST_*' did not match any known telescope types\n",
      "TelescopeParameter type argument 'SST_1M_*' did not match any known telescope types\n",
      "TelescopeParameter type argument 'MST_*' did not match any known telescope types\n",
      "TelescopeParameter type argument 'SST_1M_*' did not match any known telescope types\n",
      "TelescopeParameter type argument 'MST_*' did not match any known telescope types\n",
      "TelescopeParameter type argument 'SST_1M_*' did not match any known telescope types\n",
      "TelescopeParameter type argument 'MST_*' did not match any known telescope types\n",
      "TelescopeParameter type argument 'SST_1M_*' did not match any known telescope types\n",
      "TelescopeParameter type argument 'MST_*' did not match any known telescope types\n",
      "TelescopeParameter type argument 'SST_1M_*' did not match any known telescope types\n",
      "TelescopeParameter type argument 'MST_*' did not match any known telescope types\n",
      "TelescopeParameter type argument 'SST_1M_*' did not match any known telescope types\n",
      "TelescopeParameter type argument 'MST_*' did not match any known telescope types\n",
      "TelescopeParameter type argument 'SST_1M_*' did not match any known telescope types\n",
      "TelescopeParameter type argument 'MST_*' did not match any known telescope types\n",
      "TelescopeParameter type argument 'SST_1M_*' did not match any known telescope types\n",
      "TelescopeParameter type argument 'MST_*' did not match any known telescope types\n",
      "TelescopeParameter type argument 'SST_1M_*' did not match any known telescope types\n",
      "TelescopeParameter type argument 'MST_*' did not match any known telescope types\n",
      "TelescopeParameter type argument 'SST_1M_*' did not match any known telescope types\n",
      "TelescopeParameter type argument 'MST_*' did not match any known telescope types\n",
      "TelescopeParameter type argument 'SST_1M_*' did not match any known telescope types\n",
      "TelescopeParameter type argument 'MST_*' did not match any known telescope types\n",
      "TelescopeParameter type argument 'SST_1M_*' did not match any known telescope types\n",
      "TelescopeParameter type argument 'MST_*' did not match any known telescope types\n",
      "TelescopeParameter type argument 'SST_1M_*' did not match any known telescope types\n",
      "TelescopeParameter type argument 'MST_*' did not match any known telescope types\n",
      "TelescopeParameter type argument 'SST_1M_*' did not match any known telescope types\n",
      "TelescopeParameter type argument 'MST_*' did not match any known telescope types\n",
      "TelescopeParameter type argument 'SST_1M_*' did not match any known telescope types\n",
      "TelescopeParameter type argument 'MST_*' did not match any known telescope types\n",
      "TelescopeParameter type argument 'SST_1M_*' did not match any known telescope types\n",
      "TelescopeParameter type argument 'MST_*' did not match any known telescope types\n",
      "TelescopeParameter type argument 'SST_1M_*' did not match any known telescope types\n",
      "TelescopeParameter type argument 'MST_*' did not match any known telescope types\n",
      "TelescopeParameter type argument 'SST_1M_*' did not match any known telescope types\n",
      "TelescopeParameter type argument 'MST_*' did not match any known telescope types\n",
      "TelescopeParameter type argument 'SST_1M_*' did not match any known telescope types\n",
      "TelescopeParameter type argument 'MST_*' did not match any known telescope types\n",
      "TelescopeParameter type argument 'SST_1M_*' did not match any known telescope types\n",
      "TelescopeParameter type argument 'MST_*' did not match any known telescope types\n",
      "TelescopeParameter type argument 'SST_1M_*' did not match any known telescope types\n",
      "TelescopeParameter type argument 'MST_*' did not match any known telescope types\n",
      "TelescopeParameter type argument 'SST_1M_*' did not match any known telescope types\n",
      "TelescopeParameter type argument 'MST_*' did not match any known telescope types\n",
      "TelescopeParameter type argument 'SST_1M_*' did not match any known telescope types\n",
      "TelescopeParameter type argument 'MST_*' did not match any known telescope types\n",
      "TelescopeParameter type argument 'SST_1M_*' did not match any known telescope types\n",
      "TelescopeParameter type argument 'MST_*' did not match any known telescope types\n",
      "TelescopeParameter type argument 'SST_1M_*' did not match any known telescope types\n",
      "TelescopeParameter type argument 'MST_*' did not match any known telescope types\n",
      "TelescopeParameter type argument 'SST_1M_*' did not match any known telescope types\n",
      "TelescopeParameter type argument 'MST_*' did not match any known telescope types\n",
      "TelescopeParameter type argument 'SST_1M_*' did not match any known telescope types\n",
      "TelescopeParameter type argument 'MST_*' did not match any known telescope types\n",
      "TelescopeParameter type argument 'SST_1M_*' did not match any known telescope types\n",
      "TelescopeParameter type argument 'MST_*' did not match any known telescope types\n",
      "TelescopeParameter type argument 'SST_1M_*' did not match any known telescope types\n",
      "TelescopeParameter type argument 'MST_*' did not match any known telescope types\n",
      "TelescopeParameter type argument 'SST_1M_*' did not match any known telescope types\n",
      "TelescopeParameter type argument 'MST_*' did not match any known telescope types\n",
      "TelescopeParameter type argument 'SST_1M_*' did not match any known telescope types\n",
      "TelescopeParameter type argument 'MST_*' did not match any known telescope types\n",
      "TelescopeParameter type argument 'SST_1M_*' did not match any known telescope types\n",
      "TelescopeParameter type argument 'MST_*' did not match any known telescope types\n",
      "TelescopeParameter type argument 'SST_1M_*' did not match any known telescope types\n"
     ]
    },
    {
     "ename": "KeyboardInterrupt",
     "evalue": "",
     "output_type": "error",
     "traceback": [
      "\u001b[0;31m---------------------------------------------------------------------------\u001b[0m",
      "\u001b[0;31mAttributeError\u001b[0m                            Traceback (most recent call last)",
      "File \u001b[0;32m~/mambaforge/envs/cta-dev-test/lib/python3.11/site-packages/astropy/units/quantity.py:1653\u001b[0m, in \u001b[0;36mQuantity._to_own_unit\u001b[0;34m(self, value, check_precision, unit)\u001b[0m\n\u001b[1;32m   1652\u001b[0m \u001b[38;5;28;01mtry\u001b[39;00m:\n\u001b[0;32m-> 1653\u001b[0m     _value \u001b[38;5;241m=\u001b[39m \u001b[43mvalue\u001b[49m\u001b[38;5;241;43m.\u001b[39;49m\u001b[43mto_value\u001b[49m(unit)\n\u001b[1;32m   1654\u001b[0m \u001b[38;5;28;01mexcept\u001b[39;00m \u001b[38;5;167;01mAttributeError\u001b[39;00m:\n\u001b[1;32m   1655\u001b[0m     \u001b[38;5;66;03m# We're not a Quantity.\u001b[39;00m\n\u001b[1;32m   1656\u001b[0m     \u001b[38;5;66;03m# First remove two special cases (with a fast test):\u001b[39;00m\n\u001b[1;32m   1657\u001b[0m     \u001b[38;5;66;03m# 1) Maybe masked printing? MaskedArray with quantities does not\u001b[39;00m\n\u001b[1;32m   1658\u001b[0m     \u001b[38;5;66;03m# work very well, but no reason to break even repr and str.\u001b[39;00m\n\u001b[1;32m   1659\u001b[0m     \u001b[38;5;66;03m# 2) np.ma.masked? useful if we're a MaskedQuantity.\u001b[39;00m\n",
      "\u001b[0;31mAttributeError\u001b[0m: 'int' object has no attribute 'to_value'",
      "\nDuring handling of the above exception, another exception occurred:\n",
      "\u001b[0;31mUnitConversionError\u001b[0m                       Traceback (most recent call last)",
      "File \u001b[0;32m~/mambaforge/envs/cta-dev-test/lib/python3.11/site-packages/astropy/units/quantity.py:982\u001b[0m, in \u001b[0;36mQuantity.to_value\u001b[0;34m(self, unit, equivalencies)\u001b[0m\n\u001b[1;32m    981\u001b[0m \u001b[38;5;28;01mtry\u001b[39;00m:\n\u001b[0;32m--> 982\u001b[0m     scale \u001b[38;5;241m=\u001b[39m \u001b[38;5;28;43mself\u001b[39;49m\u001b[38;5;241;43m.\u001b[39;49m\u001b[43munit\u001b[49m\u001b[38;5;241;43m.\u001b[39;49m\u001b[43m_to\u001b[49m\u001b[43m(\u001b[49m\u001b[43munit\u001b[49m\u001b[43m)\u001b[49m\n\u001b[1;32m    983\u001b[0m \u001b[38;5;28;01mexcept\u001b[39;00m \u001b[38;5;167;01mException\u001b[39;00m:\n\u001b[1;32m    984\u001b[0m     \u001b[38;5;66;03m# Short-cut failed; try default (maybe equivalencies help).\u001b[39;00m\n",
      "File \u001b[0;32m~/mambaforge/envs/cta-dev-test/lib/python3.11/site-packages/astropy/units/core.py:1159\u001b[0m, in \u001b[0;36mUnitBase._to\u001b[0;34m(self, other)\u001b[0m\n\u001b[1;32m   1157\u001b[0m         \u001b[38;5;28;01mreturn\u001b[39;00m self_decomposed\u001b[38;5;241m.\u001b[39mscale \u001b[38;5;241m/\u001b[39m other_decomposed\u001b[38;5;241m.\u001b[39mscale\n\u001b[0;32m-> 1159\u001b[0m \u001b[38;5;28;01mraise\u001b[39;00m UnitConversionError(\u001b[38;5;124mf\u001b[39m\u001b[38;5;124m\"\u001b[39m\u001b[38;5;124m'\u001b[39m\u001b[38;5;132;01m{\u001b[39;00m\u001b[38;5;28mself\u001b[39m\u001b[38;5;132;01m!r}\u001b[39;00m\u001b[38;5;124m'\u001b[39m\u001b[38;5;124m is not a scaled version of \u001b[39m\u001b[38;5;124m'\u001b[39m\u001b[38;5;132;01m{\u001b[39;00mother\u001b[38;5;132;01m!r}\u001b[39;00m\u001b[38;5;124m'\u001b[39m\u001b[38;5;124m\"\u001b[39m)\n",
      "\u001b[0;31mUnitConversionError\u001b[0m: 'Unit(dimensionless)' is not a scaled version of 'Unit(\"rad\")'",
      "\nDuring handling of the above exception, another exception occurred:\n",
      "\u001b[0;31mUnitConversionError\u001b[0m                       Traceback (most recent call last)",
      "File \u001b[0;32m~/mambaforge/envs/cta-dev-test/lib/python3.11/site-packages/astropy/units/quantity.py:1669\u001b[0m, in \u001b[0;36mQuantity._to_own_unit\u001b[0;34m(self, value, check_precision, unit)\u001b[0m\n\u001b[1;32m   1668\u001b[0m     as_quantity \u001b[38;5;241m=\u001b[39m Quantity(value)\n\u001b[0;32m-> 1669\u001b[0m     _value \u001b[38;5;241m=\u001b[39m \u001b[43mas_quantity\u001b[49m\u001b[38;5;241;43m.\u001b[39;49m\u001b[43mto_value\u001b[49m\u001b[43m(\u001b[49m\u001b[43munit\u001b[49m\u001b[43m)\u001b[49m\n\u001b[1;32m   1670\u001b[0m \u001b[38;5;28;01mexcept\u001b[39;00m UnitsError:\n\u001b[1;32m   1671\u001b[0m     \u001b[38;5;66;03m# last chance: if this was not something with a unit\u001b[39;00m\n\u001b[1;32m   1672\u001b[0m     \u001b[38;5;66;03m# and is all 0, inf, or nan, we treat it as arbitrary unit.\u001b[39;00m\n",
      "File \u001b[0;32m~/mambaforge/envs/cta-dev-test/lib/python3.11/site-packages/astropy/units/quantity.py:985\u001b[0m, in \u001b[0;36mQuantity.to_value\u001b[0;34m(self, unit, equivalencies)\u001b[0m\n\u001b[1;32m    983\u001b[0m \u001b[38;5;28;01mexcept\u001b[39;00m \u001b[38;5;167;01mException\u001b[39;00m:\n\u001b[1;32m    984\u001b[0m     \u001b[38;5;66;03m# Short-cut failed; try default (maybe equivalencies help).\u001b[39;00m\n\u001b[0;32m--> 985\u001b[0m     value \u001b[38;5;241m=\u001b[39m \u001b[38;5;28;43mself\u001b[39;49m\u001b[38;5;241;43m.\u001b[39;49m\u001b[43m_to_value\u001b[49m\u001b[43m(\u001b[49m\u001b[43munit\u001b[49m\u001b[43m,\u001b[49m\u001b[43m \u001b[49m\u001b[43mequivalencies\u001b[49m\u001b[43m)\u001b[49m\n\u001b[1;32m    986\u001b[0m \u001b[38;5;28;01melse\u001b[39;00m:\n",
      "File \u001b[0;32m~/mambaforge/envs/cta-dev-test/lib/python3.11/site-packages/astropy/units/quantity.py:891\u001b[0m, in \u001b[0;36mQuantity._to_value\u001b[0;34m(self, unit, equivalencies)\u001b[0m\n\u001b[1;32m    889\u001b[0m \u001b[38;5;28;01mif\u001b[39;00m \u001b[38;5;129;01mnot\u001b[39;00m \u001b[38;5;28mself\u001b[39m\u001b[38;5;241m.\u001b[39mdtype\u001b[38;5;241m.\u001b[39mnames \u001b[38;5;129;01mor\u001b[39;00m \u001b[38;5;28misinstance\u001b[39m(\u001b[38;5;28mself\u001b[39m\u001b[38;5;241m.\u001b[39munit, StructuredUnit):\n\u001b[1;32m    890\u001b[0m     \u001b[38;5;66;03m# Standard path, let unit to do work.\u001b[39;00m\n\u001b[0;32m--> 891\u001b[0m     \u001b[38;5;28;01mreturn\u001b[39;00m \u001b[38;5;28;43mself\u001b[39;49m\u001b[38;5;241;43m.\u001b[39;49m\u001b[43munit\u001b[49m\u001b[38;5;241;43m.\u001b[39;49m\u001b[43mto\u001b[49m\u001b[43m(\u001b[49m\n\u001b[1;32m    892\u001b[0m \u001b[43m        \u001b[49m\u001b[43munit\u001b[49m\u001b[43m,\u001b[49m\u001b[43m \u001b[49m\u001b[38;5;28;43mself\u001b[39;49m\u001b[38;5;241;43m.\u001b[39;49m\u001b[43mview\u001b[49m\u001b[43m(\u001b[49m\u001b[43mnp\u001b[49m\u001b[38;5;241;43m.\u001b[39;49m\u001b[43mndarray\u001b[49m\u001b[43m)\u001b[49m\u001b[43m,\u001b[49m\u001b[43m \u001b[49m\u001b[43mequivalencies\u001b[49m\u001b[38;5;241;43m=\u001b[39;49m\u001b[43mequivalencies\u001b[49m\n\u001b[1;32m    893\u001b[0m \u001b[43m    \u001b[49m\u001b[43m)\u001b[49m\n\u001b[1;32m    895\u001b[0m \u001b[38;5;28;01melse\u001b[39;00m:\n\u001b[1;32m    896\u001b[0m     \u001b[38;5;66;03m# The .to() method of a simple unit cannot convert a structured\u001b[39;00m\n\u001b[1;32m    897\u001b[0m     \u001b[38;5;66;03m# dtype, so we work around it, by recursing.\u001b[39;00m\n\u001b[1;32m    898\u001b[0m     \u001b[38;5;66;03m# TODO: deprecate this?\u001b[39;00m\n\u001b[1;32m    899\u001b[0m     \u001b[38;5;66;03m# Convert simple to Structured on initialization?\u001b[39;00m\n",
      "File \u001b[0;32m~/mambaforge/envs/cta-dev-test/lib/python3.11/site-packages/astropy/units/core.py:1195\u001b[0m, in \u001b[0;36mUnitBase.to\u001b[0;34m(self, other, value, equivalencies)\u001b[0m\n\u001b[1;32m   1194\u001b[0m \u001b[38;5;28;01melse\u001b[39;00m:\n\u001b[0;32m-> 1195\u001b[0m     \u001b[38;5;28;01mreturn\u001b[39;00m \u001b[38;5;28;43mself\u001b[39;49m\u001b[38;5;241;43m.\u001b[39;49m\u001b[43m_get_converter\u001b[49m\u001b[43m(\u001b[49m\u001b[43mUnit\u001b[49m\u001b[43m(\u001b[49m\u001b[43mother\u001b[49m\u001b[43m)\u001b[49m\u001b[43m,\u001b[49m\u001b[43m \u001b[49m\u001b[43mequivalencies\u001b[49m\u001b[43m)\u001b[49m(value)\n",
      "File \u001b[0;32m~/mambaforge/envs/cta-dev-test/lib/python3.11/site-packages/astropy/units/core.py:1124\u001b[0m, in \u001b[0;36mUnitBase._get_converter\u001b[0;34m(self, other, equivalencies)\u001b[0m\n\u001b[1;32m   1122\u001b[0m                 \u001b[38;5;28;01mreturn\u001b[39;00m \u001b[38;5;28;01mlambda\u001b[39;00m v: b(converter(v))\n\u001b[0;32m-> 1124\u001b[0m \u001b[38;5;28;01mraise\u001b[39;00m exc\n",
      "File \u001b[0;32m~/mambaforge/envs/cta-dev-test/lib/python3.11/site-packages/astropy/units/core.py:1107\u001b[0m, in \u001b[0;36mUnitBase._get_converter\u001b[0;34m(self, other, equivalencies)\u001b[0m\n\u001b[1;32m   1106\u001b[0m \u001b[38;5;28;01mtry\u001b[39;00m:\n\u001b[0;32m-> 1107\u001b[0m     \u001b[38;5;28;01mreturn\u001b[39;00m \u001b[38;5;28;43mself\u001b[39;49m\u001b[38;5;241;43m.\u001b[39;49m\u001b[43m_apply_equivalencies\u001b[49m\u001b[43m(\u001b[49m\n\u001b[1;32m   1108\u001b[0m \u001b[43m        \u001b[49m\u001b[38;5;28;43mself\u001b[39;49m\u001b[43m,\u001b[49m\u001b[43m \u001b[49m\u001b[43mother\u001b[49m\u001b[43m,\u001b[49m\u001b[43m \u001b[49m\u001b[38;5;28;43mself\u001b[39;49m\u001b[38;5;241;43m.\u001b[39;49m\u001b[43m_normalize_equivalencies\u001b[49m\u001b[43m(\u001b[49m\u001b[43mequivalencies\u001b[49m\u001b[43m)\u001b[49m\n\u001b[1;32m   1109\u001b[0m \u001b[43m    \u001b[49m\u001b[43m)\u001b[49m\n\u001b[1;32m   1110\u001b[0m \u001b[38;5;28;01mexcept\u001b[39;00m UnitsError \u001b[38;5;28;01mas\u001b[39;00m exc:\n\u001b[1;32m   1111\u001b[0m     \u001b[38;5;66;03m# Last hope: maybe other knows how to do it?\u001b[39;00m\n\u001b[1;32m   1112\u001b[0m     \u001b[38;5;66;03m# We assume the equivalencies have the unit itself as first item.\u001b[39;00m\n\u001b[1;32m   1113\u001b[0m     \u001b[38;5;66;03m# TODO: maybe better for other to have a `_back_converter` method?\u001b[39;00m\n",
      "File \u001b[0;32m~/mambaforge/envs/cta-dev-test/lib/python3.11/site-packages/astropy/units/core.py:1085\u001b[0m, in \u001b[0;36mUnitBase._apply_equivalencies\u001b[0;34m(self, unit, other, equivalencies)\u001b[0m\n\u001b[1;32m   1083\u001b[0m other_str \u001b[38;5;241m=\u001b[39m get_err_str(other)\n\u001b[0;32m-> 1085\u001b[0m \u001b[38;5;28;01mraise\u001b[39;00m UnitConversionError(\u001b[38;5;124mf\u001b[39m\u001b[38;5;124m\"\u001b[39m\u001b[38;5;132;01m{\u001b[39;00munit_str\u001b[38;5;132;01m}\u001b[39;00m\u001b[38;5;124m and \u001b[39m\u001b[38;5;132;01m{\u001b[39;00mother_str\u001b[38;5;132;01m}\u001b[39;00m\u001b[38;5;124m are not convertible\u001b[39m\u001b[38;5;124m\"\u001b[39m)\n",
      "\u001b[0;31mUnitConversionError\u001b[0m: '' (dimensionless) and 'rad' (angle) are not convertible",
      "\nDuring handling of the above exception, another exception occurred:\n",
      "\u001b[0;31mKeyboardInterrupt\u001b[0m                         Traceback (most recent call last)",
      "Cell \u001b[0;32mIn[7], line 35\u001b[0m\n\u001b[1;32m     33\u001b[0m checker \u001b[38;5;241m+\u001b[39m\u001b[38;5;241m=\u001b[39m \u001b[38;5;241m1\u001b[39m\n\u001b[1;32m     34\u001b[0m image_processor \u001b[38;5;241m=\u001b[39m ImageProcessor(source\u001b[38;5;241m.\u001b[39msubarray)\n\u001b[0;32m---> 35\u001b[0m muon_processor \u001b[38;5;241m=\u001b[39m \u001b[43mMuonProcessor\u001b[49m\u001b[43m(\u001b[49m\u001b[43msource\u001b[49m\u001b[38;5;241;43m.\u001b[39;49m\u001b[43msubarray\u001b[49m\u001b[43m,\u001b[49m\u001b[43m \u001b[49m\u001b[43mconfig\u001b[49m\u001b[43m \u001b[49m\u001b[38;5;241;43m=\u001b[39;49m\u001b[43m \u001b[49m\u001b[43mmuon_processor_config_2\u001b[49m\u001b[43m)\u001b[49m\n\u001b[1;32m     36\u001b[0m \u001b[38;5;66;03m#muon_processor = MuonProcessor(source.subarray)\u001b[39;00m\n\u001b[1;32m     37\u001b[0m calib \u001b[38;5;241m=\u001b[39m CameraCalibrator(image_extractor_type\u001b[38;5;241m=\u001b[39m\u001b[38;5;124m\"\u001b[39m\u001b[38;5;124mGlobalPeakWindowSum\u001b[39m\u001b[38;5;124m\"\u001b[39m,subarray \u001b[38;5;241m=\u001b[39m source\u001b[38;5;241m.\u001b[39msubarray)\n",
      "File \u001b[0;32m~/Software/ctasoft/test/ctapipe/src/ctapipe/image/muon/processor.py:104\u001b[0m, in \u001b[0;36mMuonProcessor.__init__\u001b[0;34m(self, subarray, **kwargs)\u001b[0m\n\u001b[1;32m    101\u001b[0m \u001b[38;5;28mself\u001b[39m\u001b[38;5;241m.\u001b[39mring_query \u001b[38;5;241m=\u001b[39m RingQuery(parent\u001b[38;5;241m=\u001b[39m\u001b[38;5;28mself\u001b[39m)\n\u001b[1;32m    103\u001b[0m frame \u001b[38;5;241m=\u001b[39m TelescopeFrame()\n\u001b[0;32m--> 104\u001b[0m \u001b[38;5;28mself\u001b[39m\u001b[38;5;241m.\u001b[39mgeometries \u001b[38;5;241m=\u001b[39m \u001b[43m{\u001b[49m\n\u001b[1;32m    105\u001b[0m \u001b[43m    \u001b[49m\u001b[43mtel_id\u001b[49m\u001b[43m:\u001b[49m\u001b[43m \u001b[49m\u001b[43mtel\u001b[49m\u001b[38;5;241;43m.\u001b[39;49m\u001b[43mcamera\u001b[49m\u001b[38;5;241;43m.\u001b[39;49m\u001b[43mgeometry\u001b[49m\u001b[38;5;241;43m.\u001b[39;49m\u001b[43mtransform_to\u001b[49m\u001b[43m(\u001b[49m\u001b[43mframe\u001b[49m\u001b[43m)\u001b[49m\n\u001b[1;32m    106\u001b[0m \u001b[43m    \u001b[49m\u001b[38;5;28;43;01mfor\u001b[39;49;00m\u001b[43m \u001b[49m\u001b[43mtel_id\u001b[49m\u001b[43m,\u001b[49m\u001b[43m \u001b[49m\u001b[43mtel\u001b[49m\u001b[43m \u001b[49m\u001b[38;5;129;43;01min\u001b[39;49;00m\u001b[43m \u001b[49m\u001b[38;5;28;43mself\u001b[39;49m\u001b[38;5;241;43m.\u001b[39;49m\u001b[43msubarray\u001b[49m\u001b[38;5;241;43m.\u001b[39;49m\u001b[43mtel\u001b[49m\u001b[38;5;241;43m.\u001b[39;49m\u001b[43mitems\u001b[49m\u001b[43m(\u001b[49m\u001b[43m)\u001b[49m\n\u001b[1;32m    107\u001b[0m \u001b[43m\u001b[49m\u001b[43m}\u001b[49m\n\u001b[1;32m    108\u001b[0m \u001b[38;5;28mself\u001b[39m\u001b[38;5;241m.\u001b[39mfov_radius \u001b[38;5;241m=\u001b[39m {\n\u001b[1;32m    109\u001b[0m     tel_id: geometry\u001b[38;5;241m.\u001b[39mguess_radius()\n\u001b[1;32m    110\u001b[0m     \u001b[38;5;28;01mfor\u001b[39;00m tel_id, geometry \u001b[38;5;129;01min\u001b[39;00m \u001b[38;5;28mself\u001b[39m\u001b[38;5;241m.\u001b[39mgeometries\u001b[38;5;241m.\u001b[39mitems()\n\u001b[1;32m    111\u001b[0m }\n\u001b[1;32m    113\u001b[0m \u001b[38;5;28mself\u001b[39m\u001b[38;5;241m.\u001b[39mring_fitter \u001b[38;5;241m=\u001b[39m MuonRingFitter(parent\u001b[38;5;241m=\u001b[39m\u001b[38;5;28mself\u001b[39m)\n",
      "File \u001b[0;32m~/Software/ctasoft/test/ctapipe/src/ctapipe/image/muon/processor.py:105\u001b[0m, in \u001b[0;36m<dictcomp>\u001b[0;34m(.0)\u001b[0m\n\u001b[1;32m    101\u001b[0m \u001b[38;5;28mself\u001b[39m\u001b[38;5;241m.\u001b[39mring_query \u001b[38;5;241m=\u001b[39m RingQuery(parent\u001b[38;5;241m=\u001b[39m\u001b[38;5;28mself\u001b[39m)\n\u001b[1;32m    103\u001b[0m frame \u001b[38;5;241m=\u001b[39m TelescopeFrame()\n\u001b[1;32m    104\u001b[0m \u001b[38;5;28mself\u001b[39m\u001b[38;5;241m.\u001b[39mgeometries \u001b[38;5;241m=\u001b[39m {\n\u001b[0;32m--> 105\u001b[0m     tel_id: \u001b[43mtel\u001b[49m\u001b[38;5;241;43m.\u001b[39;49m\u001b[43mcamera\u001b[49m\u001b[38;5;241;43m.\u001b[39;49m\u001b[43mgeometry\u001b[49m\u001b[38;5;241;43m.\u001b[39;49m\u001b[43mtransform_to\u001b[49m\u001b[43m(\u001b[49m\u001b[43mframe\u001b[49m\u001b[43m)\u001b[49m\n\u001b[1;32m    106\u001b[0m     \u001b[38;5;28;01mfor\u001b[39;00m tel_id, tel \u001b[38;5;129;01min\u001b[39;00m \u001b[38;5;28mself\u001b[39m\u001b[38;5;241m.\u001b[39msubarray\u001b[38;5;241m.\u001b[39mtel\u001b[38;5;241m.\u001b[39mitems()\n\u001b[1;32m    107\u001b[0m }\n\u001b[1;32m    108\u001b[0m \u001b[38;5;28mself\u001b[39m\u001b[38;5;241m.\u001b[39mfov_radius \u001b[38;5;241m=\u001b[39m {\n\u001b[1;32m    109\u001b[0m     tel_id: geometry\u001b[38;5;241m.\u001b[39mguess_radius()\n\u001b[1;32m    110\u001b[0m     \u001b[38;5;28;01mfor\u001b[39;00m tel_id, geometry \u001b[38;5;129;01min\u001b[39;00m \u001b[38;5;28mself\u001b[39m\u001b[38;5;241m.\u001b[39mgeometries\u001b[38;5;241m.\u001b[39mitems()\n\u001b[1;32m    111\u001b[0m }\n\u001b[1;32m    113\u001b[0m \u001b[38;5;28mself\u001b[39m\u001b[38;5;241m.\u001b[39mring_fitter \u001b[38;5;241m=\u001b[39m MuonRingFitter(parent\u001b[38;5;241m=\u001b[39m\u001b[38;5;28mself\u001b[39m)\n",
      "File \u001b[0;32m~/Software/ctasoft/test/ctapipe/src/ctapipe/instrument/camera/geometry.py:275\u001b[0m, in \u001b[0;36mCameraGeometry.transform_to\u001b[0;34m(self, frame)\u001b[0m\n\u001b[1;32m    271\u001b[0m width \u001b[38;5;241m=\u001b[39m cam\u001b[38;5;241m.\u001b[39mpixel_width[\u001b[38;5;241m0\u001b[39m]\u001b[38;5;241m.\u001b[39mto_value(cam\u001b[38;5;241m.\u001b[39mpix_x\u001b[38;5;241m.\u001b[39munit)\n\u001b[1;32m    272\u001b[0m points \u001b[38;5;241m=\u001b[39m SkyCoord(\n\u001b[1;32m    273\u001b[0m     [\u001b[38;5;241m0\u001b[39m, width, \u001b[38;5;241m0\u001b[39m], [\u001b[38;5;241m0\u001b[39m, \u001b[38;5;241m0\u001b[39m, width], unit\u001b[38;5;241m=\u001b[39mcam\u001b[38;5;241m.\u001b[39mpix_x\u001b[38;5;241m.\u001b[39munit, frame\u001b[38;5;241m=\u001b[39mcam\u001b[38;5;241m.\u001b[39mframe\n\u001b[1;32m    274\u001b[0m )\n\u001b[0;32m--> 275\u001b[0m points_trans \u001b[38;5;241m=\u001b[39m \u001b[43mpoints\u001b[49m\u001b[38;5;241;43m.\u001b[39;49m\u001b[43mtransform_to\u001b[49m\u001b[43m(\u001b[49m\u001b[43mframe\u001b[49m\u001b[43m)\u001b[49m\n\u001b[1;32m    277\u001b[0m x_name, y_name \u001b[38;5;241m=\u001b[39m get_representation_component_names(cam\u001b[38;5;241m.\u001b[39mframe)\n\u001b[1;32m    278\u001b[0m points_x \u001b[38;5;241m=\u001b[39m \u001b[38;5;28mgetattr\u001b[39m(points, x_name)\n",
      "File \u001b[0;32m~/mambaforge/envs/cta-dev-test/lib/python3.11/site-packages/astropy/coordinates/sky_coordinate.py:692\u001b[0m, in \u001b[0;36mSkyCoord.transform_to\u001b[0;34m(self, frame, merge_attributes)\u001b[0m\n\u001b[1;32m    688\u001b[0m generic_frame \u001b[38;5;241m=\u001b[39m GenericFrame(frame_kwargs)\n\u001b[1;32m    690\u001b[0m \u001b[38;5;66;03m# Do the transformation, returning a coordinate frame of the desired\u001b[39;00m\n\u001b[1;32m    691\u001b[0m \u001b[38;5;66;03m# final type (not generic).\u001b[39;00m\n\u001b[0;32m--> 692\u001b[0m new_coord \u001b[38;5;241m=\u001b[39m \u001b[43mtrans\u001b[49m\u001b[43m(\u001b[49m\u001b[38;5;28;43mself\u001b[39;49m\u001b[38;5;241;43m.\u001b[39;49m\u001b[43mframe\u001b[49m\u001b[43m,\u001b[49m\u001b[43m \u001b[49m\u001b[43mgeneric_frame\u001b[49m\u001b[43m)\u001b[49m\n\u001b[1;32m    694\u001b[0m \u001b[38;5;66;03m# Finally make the new SkyCoord object from the `new_coord` and\u001b[39;00m\n\u001b[1;32m    695\u001b[0m \u001b[38;5;66;03m# remaining frame_kwargs that are not frame_attributes in `new_coord`.\u001b[39;00m\n\u001b[1;32m    696\u001b[0m \u001b[38;5;28;01mfor\u001b[39;00m attr \u001b[38;5;129;01min\u001b[39;00m \u001b[38;5;28mset\u001b[39m(new_coord\u001b[38;5;241m.\u001b[39mframe_attributes) \u001b[38;5;241m&\u001b[39m \u001b[38;5;28mset\u001b[39m(frame_kwargs\u001b[38;5;241m.\u001b[39mkeys()):\n",
      "File \u001b[0;32m~/mambaforge/envs/cta-dev-test/lib/python3.11/site-packages/astropy/coordinates/transformations.py:1537\u001b[0m, in \u001b[0;36mCompositeTransform.__call__\u001b[0;34m(self, fromcoord, toframe)\u001b[0m\n\u001b[1;32m   1534\u001b[0m             frattrs[inter_frame_attr_nm] \u001b[38;5;241m=\u001b[39m attr\n\u001b[1;32m   1536\u001b[0m     curr_toframe \u001b[38;5;241m=\u001b[39m t\u001b[38;5;241m.\u001b[39mtosys(\u001b[38;5;241m*\u001b[39m\u001b[38;5;241m*\u001b[39mfrattrs)\n\u001b[0;32m-> 1537\u001b[0m     curr_coord \u001b[38;5;241m=\u001b[39m \u001b[43mt\u001b[49m\u001b[43m(\u001b[49m\u001b[43mcurr_coord\u001b[49m\u001b[43m,\u001b[49m\u001b[43m \u001b[49m\u001b[43mcurr_toframe\u001b[49m\u001b[43m)\u001b[49m\n\u001b[1;32m   1539\u001b[0m \u001b[38;5;66;03m# this is safe even in the case where self.transforms is empty, because\u001b[39;00m\n\u001b[1;32m   1540\u001b[0m \u001b[38;5;66;03m# coordinate objects are immutable, so copying is not needed\u001b[39;00m\n\u001b[1;32m   1541\u001b[0m \u001b[38;5;28;01mreturn\u001b[39;00m curr_coord\n",
      "File \u001b[0;32m~/mambaforge/envs/cta-dev-test/lib/python3.11/site-packages/astropy/coordinates/transformations.py:927\u001b[0m, in \u001b[0;36mFunctionTransform.__call__\u001b[0;34m(self, fromcoord, toframe)\u001b[0m\n\u001b[1;32m    926\u001b[0m \u001b[38;5;28;01mdef\u001b[39;00m \u001b[38;5;21m__call__\u001b[39m(\u001b[38;5;28mself\u001b[39m, fromcoord, toframe):\n\u001b[0;32m--> 927\u001b[0m     res \u001b[38;5;241m=\u001b[39m \u001b[38;5;28;43mself\u001b[39;49m\u001b[38;5;241;43m.\u001b[39;49m\u001b[43mfunc\u001b[49m\u001b[43m(\u001b[49m\u001b[43mfromcoord\u001b[49m\u001b[43m,\u001b[49m\u001b[43m \u001b[49m\u001b[43mtoframe\u001b[49m\u001b[43m)\u001b[49m\n\u001b[1;32m    928\u001b[0m     \u001b[38;5;28;01mif\u001b[39;00m \u001b[38;5;129;01mnot\u001b[39;00m \u001b[38;5;28misinstance\u001b[39m(res, \u001b[38;5;28mself\u001b[39m\u001b[38;5;241m.\u001b[39mtosys):\n\u001b[1;32m    929\u001b[0m         \u001b[38;5;28;01mraise\u001b[39;00m \u001b[38;5;167;01mTypeError\u001b[39;00m(\n\u001b[1;32m    930\u001b[0m             \u001b[38;5;124mf\u001b[39m\u001b[38;5;124m\"\u001b[39m\u001b[38;5;124mthe transformation function yielded \u001b[39m\u001b[38;5;132;01m{\u001b[39;00mres\u001b[38;5;132;01m}\u001b[39;00m\u001b[38;5;124m but \u001b[39m\u001b[38;5;124m\"\u001b[39m\n\u001b[1;32m    931\u001b[0m             \u001b[38;5;124mf\u001b[39m\u001b[38;5;124m\"\u001b[39m\u001b[38;5;124mshould have been of type \u001b[39m\u001b[38;5;132;01m{\u001b[39;00m\u001b[38;5;28mself\u001b[39m\u001b[38;5;241m.\u001b[39mtosys\u001b[38;5;132;01m}\u001b[39;00m\u001b[38;5;124m\"\u001b[39m\n\u001b[1;32m    932\u001b[0m         )\n",
      "File \u001b[0;32m~/Software/ctasoft/test/ctapipe/src/ctapipe/coordinates/camera_frame.py:125\u001b[0m, in \u001b[0;36mcamera_to_telescope\u001b[0;34m(camera_coord, telescope_frame)\u001b[0m\n\u001b[1;32m    122\u001b[0m y_pos \u001b[38;5;241m=\u001b[39m camera_coord\u001b[38;5;241m.\u001b[39mcartesian\u001b[38;5;241m.\u001b[39my\n\u001b[1;32m    124\u001b[0m rot \u001b[38;5;241m=\u001b[39m camera_coord\u001b[38;5;241m.\u001b[39mrotation\n\u001b[0;32m--> 125\u001b[0m \u001b[38;5;28;01mif\u001b[39;00m \u001b[43mrot\u001b[49m\u001b[43m \u001b[49m\u001b[38;5;241;43m==\u001b[39;49m\u001b[43m \u001b[49m\u001b[38;5;241;43m0\u001b[39;49m:  \u001b[38;5;66;03m# if no rotation applied save a few cycles\u001b[39;00m\n\u001b[1;32m    126\u001b[0m     x_rotated \u001b[38;5;241m=\u001b[39m x_pos\n\u001b[1;32m    127\u001b[0m     y_rotated \u001b[38;5;241m=\u001b[39m y_pos\n",
      "File \u001b[0;32m~/mambaforge/envs/cta-dev-test/lib/python3.11/site-packages/astropy/units/quantity.py:1134\u001b[0m, in \u001b[0;36mQuantity.__eq__\u001b[0;34m(self, other)\u001b[0m\n\u001b[1;32m   1132\u001b[0m \u001b[38;5;28;01mdef\u001b[39;00m \u001b[38;5;21m__eq__\u001b[39m(\u001b[38;5;28mself\u001b[39m, other):\n\u001b[1;32m   1133\u001b[0m     \u001b[38;5;28;01mtry\u001b[39;00m:\n\u001b[0;32m-> 1134\u001b[0m         other_value \u001b[38;5;241m=\u001b[39m \u001b[38;5;28;43mself\u001b[39;49m\u001b[38;5;241;43m.\u001b[39;49m\u001b[43m_to_own_unit\u001b[49m\u001b[43m(\u001b[49m\u001b[43mother\u001b[49m\u001b[43m)\u001b[49m\n\u001b[1;32m   1135\u001b[0m     \u001b[38;5;28;01mexcept\u001b[39;00m UnitsError:\n\u001b[1;32m   1136\u001b[0m         \u001b[38;5;28;01mreturn\u001b[39;00m \u001b[38;5;28;01mFalse\u001b[39;00m\n",
      "File \u001b[0;32m~/mambaforge/envs/cta-dev-test/lib/python3.11/site-packages/astropy/units/quantity.py:1673\u001b[0m, in \u001b[0;36mQuantity._to_own_unit\u001b[0;34m(self, value, check_precision, unit)\u001b[0m\n\u001b[1;32m   1669\u001b[0m     _value \u001b[38;5;241m=\u001b[39m as_quantity\u001b[38;5;241m.\u001b[39mto_value(unit)\n\u001b[1;32m   1670\u001b[0m \u001b[38;5;28;01mexcept\u001b[39;00m UnitsError:\n\u001b[1;32m   1671\u001b[0m     \u001b[38;5;66;03m# last chance: if this was not something with a unit\u001b[39;00m\n\u001b[1;32m   1672\u001b[0m     \u001b[38;5;66;03m# and is all 0, inf, or nan, we treat it as arbitrary unit.\u001b[39;00m\n\u001b[0;32m-> 1673\u001b[0m     \u001b[38;5;28;01mif\u001b[39;00m \u001b[38;5;129;01mnot\u001b[39;00m \u001b[38;5;28mhasattr\u001b[39m(value, \u001b[38;5;124m\"\u001b[39m\u001b[38;5;124munit\u001b[39m\u001b[38;5;124m\"\u001b[39m) \u001b[38;5;129;01mand\u001b[39;00m \u001b[43mcan_have_arbitrary_unit\u001b[49m\u001b[43m(\u001b[49m\n\u001b[1;32m   1674\u001b[0m \u001b[43m        \u001b[49m\u001b[43mas_quantity\u001b[49m\u001b[38;5;241;43m.\u001b[39;49m\u001b[43mvalue\u001b[49m\n\u001b[1;32m   1675\u001b[0m \u001b[43m    \u001b[49m\u001b[43m)\u001b[49m:\n\u001b[1;32m   1676\u001b[0m         _value \u001b[38;5;241m=\u001b[39m as_quantity\u001b[38;5;241m.\u001b[39mvalue\n\u001b[1;32m   1677\u001b[0m     \u001b[38;5;28;01melse\u001b[39;00m:\n",
      "File \u001b[0;32m~/mambaforge/envs/cta-dev-test/lib/python3.11/site-packages/astropy/units/quantity_helper/converters.py:138\u001b[0m, in \u001b[0;36mcan_have_arbitrary_unit\u001b[0;34m(value)\u001b[0m\n\u001b[1;32m    123\u001b[0m \u001b[38;5;28;01mdef\u001b[39;00m \u001b[38;5;21mcan_have_arbitrary_unit\u001b[39m(value):\n\u001b[1;32m    124\u001b[0m \u001b[38;5;250m    \u001b[39m\u001b[38;5;124;03m\"\"\"Test whether the items in value can have arbitrary units.\u001b[39;00m\n\u001b[1;32m    125\u001b[0m \n\u001b[1;32m    126\u001b[0m \u001b[38;5;124;03m    Numbers whose value does not change upon a unit change, i.e.,\u001b[39;00m\n\u001b[0;32m   (...)\u001b[0m\n\u001b[1;32m    136\u001b[0m \u001b[38;5;124;03m        `True` if each member is either zero or not finite, `False` otherwise\u001b[39;00m\n\u001b[1;32m    137\u001b[0m \u001b[38;5;124;03m    \"\"\"\u001b[39;00m\n\u001b[0;32m--> 138\u001b[0m     \u001b[38;5;28;01mreturn\u001b[39;00m \u001b[43mnp\u001b[49m\u001b[38;5;241;43m.\u001b[39;49m\u001b[43mall\u001b[49m\u001b[43m(\u001b[49m\u001b[43mnp\u001b[49m\u001b[38;5;241;43m.\u001b[39;49m\u001b[43mlogical_or\u001b[49m\u001b[43m(\u001b[49m\u001b[43mnp\u001b[49m\u001b[38;5;241;43m.\u001b[39;49m\u001b[43mequal\u001b[49m\u001b[43m(\u001b[49m\u001b[43mvalue\u001b[49m\u001b[43m,\u001b[49m\u001b[43m \u001b[49m\u001b[38;5;241;43m0.0\u001b[39;49m\u001b[43m)\u001b[49m\u001b[43m,\u001b[49m\u001b[43m \u001b[49m\u001b[38;5;241;43m~\u001b[39;49m\u001b[43mnp\u001b[49m\u001b[38;5;241;43m.\u001b[39;49m\u001b[43misfinite\u001b[49m\u001b[43m(\u001b[49m\u001b[43mvalue\u001b[49m\u001b[43m)\u001b[49m\u001b[43m)\u001b[49m\u001b[43m)\u001b[49m\n",
      "File \u001b[0;32m~/mambaforge/envs/cta-dev-test/lib/python3.11/site-packages/numpy/core/fromnumeric.py:2504\u001b[0m, in \u001b[0;36mall\u001b[0;34m(a, axis, out, keepdims, where)\u001b[0m\n\u001b[1;32m   2421\u001b[0m \u001b[38;5;129m@array_function_dispatch\u001b[39m(_all_dispatcher)\n\u001b[1;32m   2422\u001b[0m \u001b[38;5;28;01mdef\u001b[39;00m \u001b[38;5;21mall\u001b[39m(a, axis\u001b[38;5;241m=\u001b[39m\u001b[38;5;28;01mNone\u001b[39;00m, out\u001b[38;5;241m=\u001b[39m\u001b[38;5;28;01mNone\u001b[39;00m, keepdims\u001b[38;5;241m=\u001b[39mnp\u001b[38;5;241m.\u001b[39m_NoValue, \u001b[38;5;241m*\u001b[39m, where\u001b[38;5;241m=\u001b[39mnp\u001b[38;5;241m.\u001b[39m_NoValue):\n\u001b[1;32m   2423\u001b[0m \u001b[38;5;250m    \u001b[39m\u001b[38;5;124;03m\"\"\"\u001b[39;00m\n\u001b[1;32m   2424\u001b[0m \u001b[38;5;124;03m    Test whether all array elements along a given axis evaluate to True.\u001b[39;00m\n\u001b[1;32m   2425\u001b[0m \n\u001b[0;32m   (...)\u001b[0m\n\u001b[1;32m   2502\u001b[0m \n\u001b[1;32m   2503\u001b[0m \u001b[38;5;124;03m    \"\"\"\u001b[39;00m\n\u001b[0;32m-> 2504\u001b[0m     \u001b[38;5;28;01mreturn\u001b[39;00m \u001b[43m_wrapreduction\u001b[49m\u001b[43m(\u001b[49m\u001b[43ma\u001b[49m\u001b[43m,\u001b[49m\u001b[43m \u001b[49m\u001b[43mnp\u001b[49m\u001b[38;5;241;43m.\u001b[39;49m\u001b[43mlogical_and\u001b[49m\u001b[43m,\u001b[49m\u001b[43m \u001b[49m\u001b[38;5;124;43m'\u001b[39;49m\u001b[38;5;124;43mall\u001b[39;49m\u001b[38;5;124;43m'\u001b[39;49m\u001b[43m,\u001b[49m\u001b[43m \u001b[49m\u001b[43maxis\u001b[49m\u001b[43m,\u001b[49m\u001b[43m \u001b[49m\u001b[38;5;28;43;01mNone\u001b[39;49;00m\u001b[43m,\u001b[49m\u001b[43m \u001b[49m\u001b[43mout\u001b[49m\u001b[43m,\u001b[49m\n\u001b[1;32m   2505\u001b[0m \u001b[43m                          \u001b[49m\u001b[43mkeepdims\u001b[49m\u001b[38;5;241;43m=\u001b[39;49m\u001b[43mkeepdims\u001b[49m\u001b[43m,\u001b[49m\u001b[43m \u001b[49m\u001b[43mwhere\u001b[49m\u001b[38;5;241;43m=\u001b[39;49m\u001b[43mwhere\u001b[49m\u001b[43m)\u001b[49m\n",
      "File \u001b[0;32m~/mambaforge/envs/cta-dev-test/lib/python3.11/site-packages/numpy/core/fromnumeric.py:72\u001b[0m, in \u001b[0;36m_wrapreduction\u001b[0;34m(obj, ufunc, method, axis, dtype, out, **kwargs)\u001b[0m\n\u001b[1;32m     71\u001b[0m \u001b[38;5;28;01mdef\u001b[39;00m \u001b[38;5;21m_wrapreduction\u001b[39m(obj, ufunc, method, axis, dtype, out, \u001b[38;5;241m*\u001b[39m\u001b[38;5;241m*\u001b[39mkwargs):\n\u001b[0;32m---> 72\u001b[0m     passkwargs \u001b[38;5;241m=\u001b[39m \u001b[43m{\u001b[49m\u001b[43mk\u001b[49m\u001b[43m:\u001b[49m\u001b[43m \u001b[49m\u001b[43mv\u001b[49m\u001b[43m \u001b[49m\u001b[38;5;28;43;01mfor\u001b[39;49;00m\u001b[43m \u001b[49m\u001b[43mk\u001b[49m\u001b[43m,\u001b[49m\u001b[43m \u001b[49m\u001b[43mv\u001b[49m\u001b[43m \u001b[49m\u001b[38;5;129;43;01min\u001b[39;49;00m\u001b[43m \u001b[49m\u001b[43mkwargs\u001b[49m\u001b[38;5;241;43m.\u001b[39;49m\u001b[43mitems\u001b[49m\u001b[43m(\u001b[49m\u001b[43m)\u001b[49m\n\u001b[1;32m     73\u001b[0m \u001b[43m                  \u001b[49m\u001b[38;5;28;43;01mif\u001b[39;49;00m\u001b[43m \u001b[49m\u001b[43mv\u001b[49m\u001b[43m \u001b[49m\u001b[38;5;129;43;01mis\u001b[39;49;00m\u001b[43m \u001b[49m\u001b[38;5;129;43;01mnot\u001b[39;49;00m\u001b[43m \u001b[49m\u001b[43mnp\u001b[49m\u001b[38;5;241;43m.\u001b[39;49m\u001b[43m_NoValue\u001b[49m\u001b[43m}\u001b[49m\n\u001b[1;32m     75\u001b[0m     \u001b[38;5;28;01mif\u001b[39;00m \u001b[38;5;28mtype\u001b[39m(obj) \u001b[38;5;129;01mis\u001b[39;00m \u001b[38;5;129;01mnot\u001b[39;00m mu\u001b[38;5;241m.\u001b[39mndarray:\n\u001b[1;32m     76\u001b[0m         \u001b[38;5;28;01mtry\u001b[39;00m:\n",
      "File \u001b[0;32m~/mambaforge/envs/cta-dev-test/lib/python3.11/site-packages/numpy/core/fromnumeric.py:73\u001b[0m, in \u001b[0;36m<dictcomp>\u001b[0;34m(.0)\u001b[0m\n\u001b[1;32m     71\u001b[0m \u001b[38;5;28;01mdef\u001b[39;00m \u001b[38;5;21m_wrapreduction\u001b[39m(obj, ufunc, method, axis, dtype, out, \u001b[38;5;241m*\u001b[39m\u001b[38;5;241m*\u001b[39mkwargs):\n\u001b[1;32m     72\u001b[0m     passkwargs \u001b[38;5;241m=\u001b[39m {k: v \u001b[38;5;28;01mfor\u001b[39;00m k, v \u001b[38;5;129;01min\u001b[39;00m kwargs\u001b[38;5;241m.\u001b[39mitems()\n\u001b[0;32m---> 73\u001b[0m                   \u001b[38;5;28;01mif\u001b[39;00m v \u001b[38;5;129;01mis\u001b[39;00m \u001b[38;5;129;01mnot\u001b[39;00m np\u001b[38;5;241m.\u001b[39m_NoValue}\n\u001b[1;32m     75\u001b[0m     \u001b[38;5;28;01mif\u001b[39;00m \u001b[38;5;28mtype\u001b[39m(obj) \u001b[38;5;129;01mis\u001b[39;00m \u001b[38;5;129;01mnot\u001b[39;00m mu\u001b[38;5;241m.\u001b[39mndarray:\n\u001b[1;32m     76\u001b[0m         \u001b[38;5;28;01mtry\u001b[39;00m:\n",
      "\u001b[0;31mKeyboardInterrupt\u001b[0m: "
     ]
    }
   ],
   "source": [
    "int_cut = 0.3\n",
    "min_pixel = 70\n",
    "\n",
    "muon_processor_config = Config({\"MuonProcessor\": \n",
    "                                {\"RingQuery\": \n",
    "                                 {\"quality_criteria\" : [[\"intensity_check\",f\"np.abs(parameters.intensity_ratio - 1) < {int_cut}\"],\n",
    "                                                        [\"ring_containment\", \"parameters.containment > 0.5\"],\n",
    "                                                        [\"ring_completeness\", \"parameters.completeness > 0.5\"]]}}})\n",
    "\n",
    "#muon_processor_config = Config({\"MuonProcessor\":\n",
    "#                                {\"ImageParameterQuery\" :\n",
    "#                                {\"quality_criteria\" : [[\"min_pixels\", f\"dl1_params.morphology.n_pixels > {min_pixel}\"],\n",
    "#                                                        [\"min_intensity\", \"dl1_params.hillas.intensity > 500\"]]}}})\n",
    "\n",
    "muon_processor_config_2 = Config({\"MuonProcessor\":\n",
    "                                {\"ImageParameterQuery\" :\n",
    "                                 {\"quality_criteria\" : [[\"min_pixels\", f\"dl1_params.morphology.n_pixels > {min_pixel}\"],\n",
    "                                                        [\"min_intensity\", \"dl1_params.hillas.intensity > 500\"]]}}})\n",
    "\n",
    "checker = 0\n",
    "event_container = {}\n",
    "t1 = time.perf_counter(), time.process_time()\n",
    "\n",
    "for k in range(1,10):\n",
    "    filename = f'/Users/vdk/CTA/LST/4LSTmuons/simtel_run{k}01_muon.simtel.gz'\n",
    "    print(filename)\n",
    "    source = EventSource(filename, max_events=9000)\n",
    "    event_iterator = iter(source)\n",
    "    keks = k*1000\n",
    "    checker = 0\n",
    "    for i,j in enumerate(event_iterator):\n",
    "        for m in j.trigger.tels_with_trigger:\n",
    "            checker += 1\n",
    "            image_processor = ImageProcessor(source.subarray)\n",
    "            muon_processor = MuonProcessor(source.subarray, config = muon_processor_config_2)\n",
    "            #muon_processor = MuonProcessor(source.subarray)\n",
    "            calib = CameraCalibrator(image_extractor_type=\"GlobalPeakWindowSum\",subarray = source.subarray)\n",
    "            calib(j)\n",
    "            image_processor(j)\n",
    "            muon_processor(j)\n",
    "            for m in j.muon.tel.keys():\n",
    "                if not np.isnan(j.muon.tel[m].efficiency.optical_efficiency):\n",
    "                    event = j\n",
    "                    break\n",
    "    break\n",
    "    t2 = time.perf_counter(), time.process_time()\n",
    "    print(\"checker = \", checker)   \n",
    "\n",
    "print(f\" Real time: {t2[0] - t1[0]:.2f} seconds\")\n",
    "print(f\" CPU time: {t2[1] - t1[1]:.2f} seconds\")"
   ]
  },
  {
   "cell_type": "code",
   "execution_count": 18,
   "id": "d1524b59",
   "metadata": {},
   "outputs": [],
   "source": [
    "if event.muon.tel[1].efficiency.is_valid and not event.muon.tel[1].efficiency.parameters_at_limit:\n",
    "    print('hi')"
   ]
  },
  {
   "cell_type": "code",
   "execution_count": 20,
   "id": "9d2a8b3d",
   "metadata": {},
   "outputs": [],
   "source": [
    "event.muon.tel[1].efficiency.is_valid = True"
   ]
  },
  {
   "cell_type": "code",
   "execution_count": 1,
   "id": "4e4535d7",
   "metadata": {},
   "outputs": [],
   "source": [
    "def test_func(param):\n",
    "    if param:\n",
    "        print('hi')"
   ]
  },
  {
   "cell_type": "code",
   "execution_count": 3,
   "id": "d98ab32f",
   "metadata": {},
   "outputs": [],
   "source": [
    "test_func(False)"
   ]
  },
  {
   "cell_type": "code",
   "execution_count": 2,
   "id": "d9672596",
   "metadata": {},
   "outputs": [
    {
     "name": "stdout",
     "output_type": "stream",
     "text": [
      "/Users/vdk/Software/ctasoft/calibpipe/calibpipe/tests/data/throughput/simtel_run501_muon_telescope_transmission_0.8.simtel.gz\n"
     ]
    }
   ],
   "source": [
    "filename = f'/Users/vdk/Software/ctasoft/calibpipe/calibpipe/tests/data/throughput/simtel_run501_muon_telescope_transmission_0.8.simtel.gz'\n",
    "print(filename)\n",
    "source = EventSource(filename, max_events=9000)\n",
    "event_iterator = iter(source)\n",
    "event = next(event_iterator)"
   ]
  },
  {
   "cell_type": "code",
   "execution_count": 17,
   "id": "26881deb",
   "metadata": {},
   "outputs": [
    {
     "ename": "TypeError",
     "evalue": "timezone.utcoffset() takes exactly one argument (0 given)",
     "output_type": "error",
     "traceback": [
      "\u001b[0;31m---------------------------------------------------------------------------\u001b[0m",
      "\u001b[0;31mTypeError\u001b[0m                                 Traceback (most recent call last)",
      "Cell \u001b[0;32mIn[17], line 3\u001b[0m\n\u001b[1;32m      1\u001b[0m event \u001b[38;5;241m=\u001b[39m \u001b[38;5;28mnext\u001b[39m(event_iterator)\n\u001b[1;32m      2\u001b[0m timestamp \u001b[38;5;241m=\u001b[39m event\u001b[38;5;241m.\u001b[39mtrigger\u001b[38;5;241m.\u001b[39mtel[\u001b[38;5;241m3\u001b[39m]\u001b[38;5;241m.\u001b[39mtime\u001b[38;5;241m.\u001b[39mutc\u001b[38;5;241m.\u001b[39mto_datetime(timezone\u001b[38;5;241m.\u001b[39mutc)\n\u001b[0;32m----> 3\u001b[0m \u001b[43mtimestamp\u001b[49m\u001b[38;5;241;43m.\u001b[39;49m\u001b[43mtzinfo\u001b[49m\u001b[38;5;241;43m.\u001b[39;49m\u001b[43mutcoffset\u001b[49m\u001b[43m(\u001b[49m\u001b[43m)\u001b[49m\n",
      "\u001b[0;31mTypeError\u001b[0m: timezone.utcoffset() takes exactly one argument (0 given)"
     ]
    }
   ],
   "source": [
    "event = next(event_iterator)\n",
    "timestamp = event.trigger.tel[3].time.utc.to_datetime(timezone.utc)\n",
    "timestamp.tzinfo.utcoffset()"
   ]
  },
  {
   "cell_type": "code",
   "execution_count": 4,
   "id": "c45096d9",
   "metadata": {},
   "outputs": [
    {
     "data": {
      "text/plain": [
       "<Time object: scale='tai' format='mjd' value=0.0>"
      ]
     },
     "execution_count": 4,
     "metadata": {},
     "output_type": "execute_result"
    }
   ],
   "source": [
    "timestamp = timestamp.utc.to_datetime(timezone.utc)\n",
    "event.trigger.tel[3].time"
   ]
  },
  {
   "cell_type": "code",
   "execution_count": 30,
   "id": "8e2eafc7",
   "metadata": {},
   "outputs": [
    {
     "data": {
      "text/plain": [
       "float"
      ]
     },
     "execution_count": 30,
     "metadata": {},
     "output_type": "execute_result"
    }
   ],
   "source": [
    "dt_utc = timestamp.astimezone(pytz.utc)\n",
    "unix_timestamp = float(dt_utc.timestamp())\n",
    "type(unix_timestamp)"
   ]
  },
  {
   "cell_type": "code",
   "execution_count": 19,
   "id": "7f41f7ec",
   "metadata": {},
   "outputs": [
    {
     "ename": "UnknownTimeZoneError",
     "evalue": "'Europe/Geneva'",
     "output_type": "error",
     "traceback": [
      "\u001b[0;31m---------------------------------------------------------------------------\u001b[0m",
      "\u001b[0;31mUnknownTimeZoneError\u001b[0m                      Traceback (most recent call last)",
      "Cell \u001b[0;32mIn[19], line 5\u001b[0m\n\u001b[1;32m      2\u001b[0m \u001b[38;5;28;01mimport\u001b[39;00m \u001b[38;5;21;01mpytz\u001b[39;00m\n\u001b[1;32m      4\u001b[0m \u001b[38;5;66;03m# Replace 'Your_Timezone' with your timezone, e.g., 'America/New_York'\u001b[39;00m\n\u001b[0;32m----> 5\u001b[0m your_timezone \u001b[38;5;241m=\u001b[39m \u001b[43mpytz\u001b[49m\u001b[38;5;241;43m.\u001b[39;49m\u001b[43mtimezone\u001b[49m\u001b[43m(\u001b[49m\u001b[38;5;124;43m'\u001b[39;49m\u001b[38;5;124;43mEurope/Geneva\u001b[39;49m\u001b[38;5;124;43m'\u001b[39;49m\u001b[43m)\u001b[49m\n\u001b[1;32m      7\u001b[0m \u001b[38;5;66;03m# Get the current time in your timezone\u001b[39;00m\n\u001b[1;32m      8\u001b[0m now_in_your_timezone \u001b[38;5;241m=\u001b[39m datetime\u001b[38;5;241m.\u001b[39mnow(your_timezone)\n",
      "File \u001b[0;32m~/mambaforge/envs/cta/lib/python3.11/site-packages/pytz/__init__.py:188\u001b[0m, in \u001b[0;36mtimezone\u001b[0;34m(zone)\u001b[0m\n\u001b[1;32m    186\u001b[0m             fp\u001b[38;5;241m.\u001b[39mclose()\n\u001b[1;32m    187\u001b[0m     \u001b[38;5;28;01melse\u001b[39;00m:\n\u001b[0;32m--> 188\u001b[0m         \u001b[38;5;28;01mraise\u001b[39;00m UnknownTimeZoneError(zone)\n\u001b[1;32m    190\u001b[0m \u001b[38;5;28;01mreturn\u001b[39;00m _tzinfo_cache[zone]\n",
      "\u001b[0;31mUnknownTimeZoneError\u001b[0m: 'Europe/Geneva'"
     ]
    }
   ],
   "source": [
    "from astropy.table import Table\n",
    "import pytz\n",
    "\n",
    "# Replace 'Your_Timezone' with your timezone, e.g., 'America/New_York'\n",
    "your_timezone = pytz.timezone('')\n",
    "\n",
    "# Get the current time in your timezone\n",
    "now_in_your_timezone = datetime.now(your_timezone)\n",
    "\n",
    "# Get the timedelta of your timezone\n",
    "timezone_timedelta = now_in_your_timezone.utcoffset()"
   ]
  },
  {
   "cell_type": "code",
   "execution_count": 36,
   "id": "2395259c",
   "metadata": {},
   "outputs": [
    {
     "data": {
      "text/html": [
       "<div><i>Table length=0</i>\n",
       "<table id=\"table5669914896\" class=\"table-striped table-bordered table-condensed\">\n",
       "<thead><tr><th>obs_id</th><th>timestamp</th><th>optical_efficiency</th></tr></thead>\n",
       "<thead><tr><th>float64</th><th>float64</th><th>float64</th></tr></thead>\n",
       "</table></div>"
      ],
      "text/plain": [
       "<Table length=0>\n",
       " obs_id timestamp optical_efficiency\n",
       "float64  float64       float64      \n",
       "------- --------- ------------------"
      ]
     },
     "execution_count": 36,
     "metadata": {},
     "output_type": "execute_result"
    }
   ],
   "source": [
    "all_muon_parameters = [\"obs_id\", \"timestamp\", \"optical_efficiency\"]\n",
    "table = Table(names=all_muon_parameters)\n",
    "table"
   ]
  },
  {
   "cell_type": "code",
   "execution_count": 38,
   "id": "9af72d9b",
   "metadata": {},
   "outputs": [
    {
     "data": {
      "text/plain": [
       "'1858-11-17T00:00:00'"
      ]
     },
     "execution_count": 38,
     "metadata": {},
     "output_type": "execute_result"
    }
   ],
   "source": [
    "timestamp.isoformat()"
   ]
  },
  {
   "cell_type": "code",
   "execution_count": 11,
   "id": "a379040e",
   "metadata": {},
   "outputs": [
    {
     "name": "stdout",
     "output_type": "stream",
     "text": [
      "date_string = 21 June, 2018\n",
      "type of date_string = <class 'str'>\n",
      "date_object = 2018-06-21 00:00:00\n",
      "type of date_object = <class 'datetime.datetime'>\n"
     ]
    }
   ],
   "source": [
    "date_string = \"21 June, 2018\"\n",
    "\n",
    "print(\"date_string =\", date_string)\n",
    "print(\"type of date_string =\", type(date_string))\n",
    "\n",
    "date_object = datetime.strptime(date_string, \"%d %B, %Y\")\n",
    "\n",
    "print(\"date_object =\", date_object)\n",
    "print(\"type of date_object =\", type(date_object))"
   ]
  },
  {
   "cell_type": "code",
   "execution_count": 17,
   "id": "1c82dc4f",
   "metadata": {},
   "outputs": [],
   "source": [
    "testtime = event.trigger.tel[1].time.to_value(\"mjd\", \"str\")"
   ]
  },
  {
   "cell_type": "code",
   "execution_count": 18,
   "id": "f34f6ead",
   "metadata": {},
   "outputs": [
    {
     "name": "stdout",
     "output_type": "stream",
     "text": [
      "date_string = .0\n",
      "type of date_string = <class 'str'>\n"
     ]
    },
    {
     "ename": "ValueError",
     "evalue": "time data '.0' does not match format '%Y-%m-%d %H:%M:%S'",
     "output_type": "error",
     "traceback": [
      "\u001b[0;31m---------------------------------------------------------------------------\u001b[0m",
      "\u001b[0;31mValueError\u001b[0m                                Traceback (most recent call last)",
      "Cell \u001b[0;32mIn[18], line 6\u001b[0m\n\u001b[1;32m      3\u001b[0m \u001b[38;5;28mprint\u001b[39m(\u001b[38;5;124m\"\u001b[39m\u001b[38;5;124mdate_string =\u001b[39m\u001b[38;5;124m\"\u001b[39m, date_string)\n\u001b[1;32m      4\u001b[0m \u001b[38;5;28mprint\u001b[39m(\u001b[38;5;124m\"\u001b[39m\u001b[38;5;124mtype of date_string =\u001b[39m\u001b[38;5;124m\"\u001b[39m, \u001b[38;5;28mtype\u001b[39m(date_string))\n\u001b[0;32m----> 6\u001b[0m date_object \u001b[38;5;241m=\u001b[39m \u001b[43mdatetime\u001b[49m\u001b[38;5;241;43m.\u001b[39;49m\u001b[43mstrptime\u001b[49m\u001b[43m(\u001b[49m\u001b[43mdate_string\u001b[49m\u001b[43m,\u001b[49m\u001b[43m \u001b[49m\u001b[38;5;124;43m\"\u001b[39;49m\u001b[38;5;124;43m%\u001b[39;49m\u001b[38;5;124;43mY-\u001b[39;49m\u001b[38;5;124;43m%\u001b[39;49m\u001b[38;5;124;43mm-\u001b[39;49m\u001b[38;5;132;43;01m%d\u001b[39;49;00m\u001b[38;5;124;43m \u001b[39;49m\u001b[38;5;124;43m%\u001b[39;49m\u001b[38;5;124;43mH:\u001b[39;49m\u001b[38;5;124;43m%\u001b[39;49m\u001b[38;5;124;43mM:\u001b[39;49m\u001b[38;5;124;43m%\u001b[39;49m\u001b[38;5;124;43mS\u001b[39;49m\u001b[38;5;124;43m\"\u001b[39;49m\u001b[43m)\u001b[49m\n\u001b[1;32m      8\u001b[0m \u001b[38;5;28mprint\u001b[39m(\u001b[38;5;124m\"\u001b[39m\u001b[38;5;124mdate_object =\u001b[39m\u001b[38;5;124m\"\u001b[39m, date_object)\n\u001b[1;32m      9\u001b[0m \u001b[38;5;28mprint\u001b[39m(\u001b[38;5;124m\"\u001b[39m\u001b[38;5;124mtype of date_object =\u001b[39m\u001b[38;5;124m\"\u001b[39m, \u001b[38;5;28mtype\u001b[39m(date_object))\n",
      "File \u001b[0;32m~/mambaforge/envs/cta/lib/python3.11/_strptime.py:568\u001b[0m, in \u001b[0;36m_strptime_datetime\u001b[0;34m(cls, data_string, format)\u001b[0m\n\u001b[1;32m    565\u001b[0m \u001b[38;5;28;01mdef\u001b[39;00m \u001b[38;5;21m_strptime_datetime\u001b[39m(\u001b[38;5;28mcls\u001b[39m, data_string, \u001b[38;5;28mformat\u001b[39m\u001b[38;5;241m=\u001b[39m\u001b[38;5;124m\"\u001b[39m\u001b[38;5;132;01m%a\u001b[39;00m\u001b[38;5;124m \u001b[39m\u001b[38;5;124m%\u001b[39m\u001b[38;5;124mb \u001b[39m\u001b[38;5;132;01m%d\u001b[39;00m\u001b[38;5;124m \u001b[39m\u001b[38;5;124m%\u001b[39m\u001b[38;5;124mH:\u001b[39m\u001b[38;5;124m%\u001b[39m\u001b[38;5;124mM:\u001b[39m\u001b[38;5;124m%\u001b[39m\u001b[38;5;124mS \u001b[39m\u001b[38;5;124m%\u001b[39m\u001b[38;5;124mY\u001b[39m\u001b[38;5;124m\"\u001b[39m):\n\u001b[1;32m    566\u001b[0m \u001b[38;5;250m    \u001b[39m\u001b[38;5;124;03m\"\"\"Return a class cls instance based on the input string and the\u001b[39;00m\n\u001b[1;32m    567\u001b[0m \u001b[38;5;124;03m    format string.\"\"\"\u001b[39;00m\n\u001b[0;32m--> 568\u001b[0m     tt, fraction, gmtoff_fraction \u001b[38;5;241m=\u001b[39m \u001b[43m_strptime\u001b[49m\u001b[43m(\u001b[49m\u001b[43mdata_string\u001b[49m\u001b[43m,\u001b[49m\u001b[43m \u001b[49m\u001b[38;5;28;43mformat\u001b[39;49m\u001b[43m)\u001b[49m\n\u001b[1;32m    569\u001b[0m     tzname, gmtoff \u001b[38;5;241m=\u001b[39m tt[\u001b[38;5;241m-\u001b[39m\u001b[38;5;241m2\u001b[39m:]\n\u001b[1;32m    570\u001b[0m     args \u001b[38;5;241m=\u001b[39m tt[:\u001b[38;5;241m6\u001b[39m] \u001b[38;5;241m+\u001b[39m (fraction,)\n",
      "File \u001b[0;32m~/mambaforge/envs/cta/lib/python3.11/_strptime.py:349\u001b[0m, in \u001b[0;36m_strptime\u001b[0;34m(data_string, format)\u001b[0m\n\u001b[1;32m    347\u001b[0m found \u001b[38;5;241m=\u001b[39m format_regex\u001b[38;5;241m.\u001b[39mmatch(data_string)\n\u001b[1;32m    348\u001b[0m \u001b[38;5;28;01mif\u001b[39;00m \u001b[38;5;129;01mnot\u001b[39;00m found:\n\u001b[0;32m--> 349\u001b[0m     \u001b[38;5;28;01mraise\u001b[39;00m \u001b[38;5;167;01mValueError\u001b[39;00m(\u001b[38;5;124m\"\u001b[39m\u001b[38;5;124mtime data \u001b[39m\u001b[38;5;132;01m%r\u001b[39;00m\u001b[38;5;124m does not match format \u001b[39m\u001b[38;5;132;01m%r\u001b[39;00m\u001b[38;5;124m\"\u001b[39m \u001b[38;5;241m%\u001b[39m\n\u001b[1;32m    350\u001b[0m                      (data_string, \u001b[38;5;28mformat\u001b[39m))\n\u001b[1;32m    351\u001b[0m \u001b[38;5;28;01mif\u001b[39;00m \u001b[38;5;28mlen\u001b[39m(data_string) \u001b[38;5;241m!=\u001b[39m found\u001b[38;5;241m.\u001b[39mend():\n\u001b[1;32m    352\u001b[0m     \u001b[38;5;28;01mraise\u001b[39;00m \u001b[38;5;167;01mValueError\u001b[39;00m(\u001b[38;5;124m\"\u001b[39m\u001b[38;5;124munconverted data remains: \u001b[39m\u001b[38;5;132;01m%s\u001b[39;00m\u001b[38;5;124m\"\u001b[39m \u001b[38;5;241m%\u001b[39m\n\u001b[1;32m    353\u001b[0m                       data_string[found\u001b[38;5;241m.\u001b[39mend():])\n",
      "\u001b[0;31mValueError\u001b[0m: time data '.0' does not match format '%Y-%m-%d %H:%M:%S'"
     ]
    }
   ],
   "source": [
    "date_string = testtime\n",
    "\n",
    "print(\"date_string =\", date_string)\n",
    "print(\"type of date_string =\", type(date_string))\n",
    "\n",
    "date_object = datetime.strptime(date_string, \"%Y-%m-%d %H:%M:%S\")\n",
    "\n",
    "print(\"date_object =\", date_object)\n",
    "print(\"type of date_object =\", type(date_object))"
   ]
  },
  {
   "cell_type": "code",
   "execution_count": null,
   "id": "a05a1c17",
   "metadata": {},
   "outputs": [],
   "source": []
  }
 ],
 "metadata": {
  "kernelspec": {
   "display_name": "cta",
   "language": "python",
   "name": "python3"
  },
  "language_info": {
   "codemirror_mode": {
    "name": "ipython",
    "version": 3
   },
   "file_extension": ".py",
   "mimetype": "text/x-python",
   "name": "python",
   "nbconvert_exporter": "python",
   "pygments_lexer": "ipython3",
   "version": "3.11.7"
  }
 },
 "nbformat": 4,
 "nbformat_minor": 5
}
