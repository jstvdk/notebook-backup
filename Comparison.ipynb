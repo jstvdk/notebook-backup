{
 "cells": [
  {
   "cell_type": "code",
   "execution_count": 1,
   "metadata": {},
   "outputs": [],
   "source": [
    "import sys\n",
    "sys.path.append('/Users/vdk/GeneveWork/Code/calibpipe-main-calibpipe/')\n",
    "from astropy.io import ascii\n",
    "import numpy as np\n",
    "import pandas as pd\n",
    "import matplotlib\n",
    "import csv\n",
    "import scipy\n",
    "import matplotlib.pyplot as plt\n",
    "from seaborn import histplot\n",
    "import random\n",
    "import copy\n",
    "from os import path, makedirs\n",
    "from astropy.coordinates import SkyCoord\n",
    "from astropy.table import Table\n",
    "import astropy.units as u\n",
    "from ctapipe.containers import MuonEfficiencyContainer\n",
    "from ctapipe.coordinates import CameraFrame, TelescopeFrame\n",
    "from ctapipe.io import EventSource, EventSeeker\n",
    "from ctapipe.core import TelescopeComponent\n",
    "from ctapipe.core.traits import (\n",
    "    List,\n",
    "    Int,\n",
    "    FloatTelescopeParameter,\n",
    "    TelescopeParameter,\n",
    "    Unicode,\n",
    ")\n",
    "from ctapipe.image.cleaning import tailcuts_clean\n",
    "from ctapipe.image.muon import MuonRingFitter, MuonIntensityFitter\n",
    "from traitlets.config import Config\n",
    "from ctapipe.image import ImageProcessor\n",
    "from ctapipe.image.muon import MuonProcessor\n",
    "from ctapipe.visualization import CameraDisplay\n",
    "from ctapipe.instrument import CameraGeometry\n",
    "from ctapipe.calib import CameraCalibrator\n",
    "from traitlets.config.loader import Config, FileConfigLoader, JSONFileConfigLoader\n",
    "import pathlib\n",
    "from calibpipe.throughput import MuonCalibrator\n",
    "from traitlets.config import Config\n",
    "from astropy.time import Time\n",
    "from astropy.coordinates import EarthLocation,SkyCoord, AltAz \n",
    "from traitlets.config import Config\n",
    "import time\n",
    "from ctapipe.image import number_of_islands\n",
    "\n",
    "\n",
    "\n"
   ]
  },
  {
   "cell_type": "code",
   "execution_count": 2,
   "metadata": {},
   "outputs": [
    {
     "name": "stderr",
     "output_type": "stream",
     "text": [
      "/Users/vdk/mambaforge/envs/cta/lib/python3.11/site-packages/ctapipe/image/pixel_likelihood.py:98: RuntimeWarning: invalid value encountered in log\n",
      "  neg_log_l = np.log(theta + EPSILON) + (image - prediction) ** 2 / theta\n",
      "/Users/vdk/mambaforge/envs/cta/lib/python3.11/site-packages/ctapipe/image/pixel_likelihood.py:98: RuntimeWarning: invalid value encountered in log\n",
      "  neg_log_l = np.log(theta + EPSILON) + (image - prediction) ** 2 / theta\n",
      "/Users/vdk/mambaforge/envs/cta/lib/python3.11/site-packages/ctapipe/image/pixel_likelihood.py:98: RuntimeWarning: invalid value encountered in log\n",
      "  neg_log_l = np.log(theta + EPSILON) + (image - prediction) ** 2 / theta\n",
      "/Users/vdk/mambaforge/envs/cta/lib/python3.11/site-packages/ctapipe/image/pixel_likelihood.py:98: RuntimeWarning: invalid value encountered in log\n",
      "  neg_log_l = np.log(theta + EPSILON) + (image - prediction) ** 2 / theta\n"
     ]
    },
    {
     "name": "stdout",
     "output_type": "stream",
     "text": [
      "E VariableMetricBuilder Initial matrix not pos.def.\n",
      "E VariableMetricBuilder Initial matrix not pos.def.\n",
      "E VariableMetricBuilder Initial matrix not pos.def.\n"
     ]
    },
    {
     "name": "stderr",
     "output_type": "stream",
     "text": [
      "/Users/vdk/mambaforge/envs/cta/lib/python3.11/site-packages/ctapipe/image/pixel_likelihood.py:98: RuntimeWarning: invalid value encountered in log\n",
      "  neg_log_l = np.log(theta + EPSILON) + (image - prediction) ** 2 / theta\n",
      "/Users/vdk/mambaforge/envs/cta/lib/python3.11/site-packages/ctapipe/image/pixel_likelihood.py:98: RuntimeWarning: invalid value encountered in log\n",
      "  neg_log_l = np.log(theta + EPSILON) + (image - prediction) ** 2 / theta\n",
      "/Users/vdk/mambaforge/envs/cta/lib/python3.11/site-packages/ctapipe/image/pixel_likelihood.py:98: RuntimeWarning: invalid value encountered in log\n",
      "  neg_log_l = np.log(theta + EPSILON) + (image - prediction) ** 2 / theta\n",
      "/Users/vdk/mambaforge/envs/cta/lib/python3.11/site-packages/ctapipe/image/pixel_likelihood.py:98: RuntimeWarning: invalid value encountered in log\n",
      "  neg_log_l = np.log(theta + EPSILON) + (image - prediction) ** 2 / theta\n"
     ]
    },
    {
     "name": "stdout",
     "output_type": "stream",
     "text": [
      "E VariableMetricBuilder Initial matrix not pos.def.\n"
     ]
    },
    {
     "name": "stderr",
     "output_type": "stream",
     "text": [
      "/Users/vdk/mambaforge/envs/cta/lib/python3.11/site-packages/ctapipe/image/pixel_likelihood.py:98: RuntimeWarning: invalid value encountered in log\n",
      "  neg_log_l = np.log(theta + EPSILON) + (image - prediction) ** 2 / theta\n",
      "/Users/vdk/mambaforge/envs/cta/lib/python3.11/site-packages/ctapipe/image/pixel_likelihood.py:98: RuntimeWarning: invalid value encountered in log\n",
      "  neg_log_l = np.log(theta + EPSILON) + (image - prediction) ** 2 / theta\n",
      "/Users/vdk/mambaforge/envs/cta/lib/python3.11/site-packages/ctapipe/image/pixel_likelihood.py:98: RuntimeWarning: invalid value encountered in log\n",
      "  neg_log_l = np.log(theta + EPSILON) + (image - prediction) ** 2 / theta\n",
      "/Users/vdk/mambaforge/envs/cta/lib/python3.11/site-packages/ctapipe/image/pixel_likelihood.py:98: RuntimeWarning: invalid value encountered in log\n",
      "  neg_log_l = np.log(theta + EPSILON) + (image - prediction) ** 2 / theta\n",
      "/Users/vdk/mambaforge/envs/cta/lib/python3.11/site-packages/ctapipe/image/pixel_likelihood.py:98: RuntimeWarning: invalid value encountered in log\n",
      "  neg_log_l = np.log(theta + EPSILON) + (image - prediction) ** 2 / theta\n",
      "/Users/vdk/mambaforge/envs/cta/lib/python3.11/site-packages/ctapipe/image/pixel_likelihood.py:98: RuntimeWarning: invalid value encountered in log\n",
      "  neg_log_l = np.log(theta + EPSILON) + (image - prediction) ** 2 / theta\n",
      "/Users/vdk/mambaforge/envs/cta/lib/python3.11/site-packages/ctapipe/image/pixel_likelihood.py:98: RuntimeWarning: invalid value encountered in log\n",
      "  neg_log_l = np.log(theta + EPSILON) + (image - prediction) ** 2 / theta\n",
      "/Users/vdk/mambaforge/envs/cta/lib/python3.11/site-packages/ctapipe/image/pixel_likelihood.py:98: RuntimeWarning: invalid value encountered in log\n",
      "  neg_log_l = np.log(theta + EPSILON) + (image - prediction) ** 2 / theta\n"
     ]
    },
    {
     "name": "stdout",
     "output_type": "stream",
     "text": [
      "E VariableMetricBuilder Initial matrix not pos.def.\n"
     ]
    },
    {
     "name": "stderr",
     "output_type": "stream",
     "text": [
      "/Users/vdk/mambaforge/envs/cta/lib/python3.11/site-packages/ctapipe/image/pixel_likelihood.py:98: RuntimeWarning: invalid value encountered in log\n",
      "  neg_log_l = np.log(theta + EPSILON) + (image - prediction) ** 2 / theta\n"
     ]
    },
    {
     "name": "stdout",
     "output_type": "stream",
     "text": [
      "E VariableMetricBuilder Initial matrix not pos.def.\n"
     ]
    },
    {
     "name": "stderr",
     "output_type": "stream",
     "text": [
      "/Users/vdk/mambaforge/envs/cta/lib/python3.11/site-packages/ctapipe/image/pixel_likelihood.py:98: RuntimeWarning: invalid value encountered in log\n",
      "  neg_log_l = np.log(theta + EPSILON) + (image - prediction) ** 2 / theta\n",
      "/Users/vdk/mambaforge/envs/cta/lib/python3.11/site-packages/ctapipe/image/pixel_likelihood.py:98: RuntimeWarning: invalid value encountered in log\n",
      "  neg_log_l = np.log(theta + EPSILON) + (image - prediction) ** 2 / theta\n",
      "/Users/vdk/mambaforge/envs/cta/lib/python3.11/site-packages/ctapipe/image/pixel_likelihood.py:98: RuntimeWarning: invalid value encountered in log\n",
      "  neg_log_l = np.log(theta + EPSILON) + (image - prediction) ** 2 / theta\n",
      "/Users/vdk/mambaforge/envs/cta/lib/python3.11/site-packages/ctapipe/image/pixel_likelihood.py:98: RuntimeWarning: invalid value encountered in log\n",
      "  neg_log_l = np.log(theta + EPSILON) + (image - prediction) ** 2 / theta\n",
      "/Users/vdk/mambaforge/envs/cta/lib/python3.11/site-packages/ctapipe/image/pixel_likelihood.py:98: RuntimeWarning: invalid value encountered in log\n",
      "  neg_log_l = np.log(theta + EPSILON) + (image - prediction) ** 2 / theta\n",
      "/Users/vdk/mambaforge/envs/cta/lib/python3.11/site-packages/ctapipe/image/pixel_likelihood.py:98: RuntimeWarning: invalid value encountered in log\n",
      "  neg_log_l = np.log(theta + EPSILON) + (image - prediction) ** 2 / theta\n",
      "/Users/vdk/mambaforge/envs/cta/lib/python3.11/site-packages/ctapipe/image/pixel_likelihood.py:98: RuntimeWarning: invalid value encountered in log\n",
      "  neg_log_l = np.log(theta + EPSILON) + (image - prediction) ** 2 / theta\n",
      "/Users/vdk/mambaforge/envs/cta/lib/python3.11/site-packages/ctapipe/image/pixel_likelihood.py:98: RuntimeWarning: invalid value encountered in log\n",
      "  neg_log_l = np.log(theta + EPSILON) + (image - prediction) ** 2 / theta\n"
     ]
    },
    {
     "name": "stdout",
     "output_type": "stream",
     "text": [
      "E VariableMetricBuilder Initial matrix not pos.def.\n"
     ]
    },
    {
     "name": "stderr",
     "output_type": "stream",
     "text": [
      "/Users/vdk/mambaforge/envs/cta/lib/python3.11/site-packages/ctapipe/image/pixel_likelihood.py:98: RuntimeWarning: invalid value encountered in log\n",
      "  neg_log_l = np.log(theta + EPSILON) + (image - prediction) ** 2 / theta\n",
      "/Users/vdk/mambaforge/envs/cta/lib/python3.11/site-packages/ctapipe/image/pixel_likelihood.py:98: RuntimeWarning: invalid value encountered in log\n",
      "  neg_log_l = np.log(theta + EPSILON) + (image - prediction) ** 2 / theta\n",
      "/Users/vdk/mambaforge/envs/cta/lib/python3.11/site-packages/ctapipe/image/pixel_likelihood.py:98: RuntimeWarning: invalid value encountered in log\n",
      "  neg_log_l = np.log(theta + EPSILON) + (image - prediction) ** 2 / theta\n",
      "/Users/vdk/mambaforge/envs/cta/lib/python3.11/site-packages/ctapipe/image/pixel_likelihood.py:98: RuntimeWarning: invalid value encountered in log\n",
      "  neg_log_l = np.log(theta + EPSILON) + (image - prediction) ** 2 / theta\n",
      "/Users/vdk/mambaforge/envs/cta/lib/python3.11/site-packages/ctapipe/image/pixel_likelihood.py:98: RuntimeWarning: invalid value encountered in log\n",
      "  neg_log_l = np.log(theta + EPSILON) + (image - prediction) ** 2 / theta\n",
      "/Users/vdk/mambaforge/envs/cta/lib/python3.11/site-packages/ctapipe/image/pixel_likelihood.py:98: RuntimeWarning: invalid value encountered in log\n",
      "  neg_log_l = np.log(theta + EPSILON) + (image - prediction) ** 2 / theta\n",
      "/Users/vdk/mambaforge/envs/cta/lib/python3.11/site-packages/ctapipe/image/pixel_likelihood.py:98: RuntimeWarning: invalid value encountered in log\n",
      "  neg_log_l = np.log(theta + EPSILON) + (image - prediction) ** 2 / theta\n",
      "/Users/vdk/mambaforge/envs/cta/lib/python3.11/site-packages/ctapipe/image/pixel_likelihood.py:98: RuntimeWarning: invalid value encountered in log\n",
      "  neg_log_l = np.log(theta + EPSILON) + (image - prediction) ** 2 / theta\n",
      "/Users/vdk/mambaforge/envs/cta/lib/python3.11/site-packages/ctapipe/image/pixel_likelihood.py:98: RuntimeWarning: invalid value encountered in log\n",
      "  neg_log_l = np.log(theta + EPSILON) + (image - prediction) ** 2 / theta\n",
      "/Users/vdk/mambaforge/envs/cta/lib/python3.11/site-packages/ctapipe/image/pixel_likelihood.py:98: RuntimeWarning: invalid value encountered in log\n",
      "  neg_log_l = np.log(theta + EPSILON) + (image - prediction) ** 2 / theta\n",
      "/Users/vdk/mambaforge/envs/cta/lib/python3.11/site-packages/ctapipe/image/pixel_likelihood.py:98: RuntimeWarning: invalid value encountered in log\n",
      "  neg_log_l = np.log(theta + EPSILON) + (image - prediction) ** 2 / theta\n",
      "/Users/vdk/mambaforge/envs/cta/lib/python3.11/site-packages/ctapipe/image/pixel_likelihood.py:98: RuntimeWarning: invalid value encountered in log\n",
      "  neg_log_l = np.log(theta + EPSILON) + (image - prediction) ** 2 / theta\n",
      "/Users/vdk/mambaforge/envs/cta/lib/python3.11/site-packages/ctapipe/image/pixel_likelihood.py:98: RuntimeWarning: invalid value encountered in log\n",
      "  neg_log_l = np.log(theta + EPSILON) + (image - prediction) ** 2 / theta\n",
      "/Users/vdk/mambaforge/envs/cta/lib/python3.11/site-packages/ctapipe/image/pixel_likelihood.py:98: RuntimeWarning: invalid value encountered in log\n",
      "  neg_log_l = np.log(theta + EPSILON) + (image - prediction) ** 2 / theta\n",
      "/Users/vdk/mambaforge/envs/cta/lib/python3.11/site-packages/ctapipe/image/pixel_likelihood.py:98: RuntimeWarning: invalid value encountered in log\n",
      "  neg_log_l = np.log(theta + EPSILON) + (image - prediction) ** 2 / theta\n",
      "/Users/vdk/mambaforge/envs/cta/lib/python3.11/site-packages/ctapipe/image/pixel_likelihood.py:98: RuntimeWarning: invalid value encountered in log\n",
      "  neg_log_l = np.log(theta + EPSILON) + (image - prediction) ** 2 / theta\n",
      "/Users/vdk/mambaforge/envs/cta/lib/python3.11/site-packages/ctapipe/image/pixel_likelihood.py:98: RuntimeWarning: invalid value encountered in log\n",
      "  neg_log_l = np.log(theta + EPSILON) + (image - prediction) ** 2 / theta\n",
      "/Users/vdk/mambaforge/envs/cta/lib/python3.11/site-packages/ctapipe/image/pixel_likelihood.py:98: RuntimeWarning: invalid value encountered in log\n",
      "  neg_log_l = np.log(theta + EPSILON) + (image - prediction) ** 2 / theta\n",
      "/Users/vdk/mambaforge/envs/cta/lib/python3.11/site-packages/ctapipe/image/pixel_likelihood.py:98: RuntimeWarning: invalid value encountered in log\n",
      "  neg_log_l = np.log(theta + EPSILON) + (image - prediction) ** 2 / theta\n",
      "/Users/vdk/mambaforge/envs/cta/lib/python3.11/site-packages/ctapipe/image/pixel_likelihood.py:98: RuntimeWarning: invalid value encountered in log\n",
      "  neg_log_l = np.log(theta + EPSILON) + (image - prediction) ** 2 / theta\n"
     ]
    },
    {
     "name": "stdout",
     "output_type": "stream",
     "text": [
      "E VariableMetricBuilder Initial matrix not pos.def.\n"
     ]
    },
    {
     "name": "stderr",
     "output_type": "stream",
     "text": [
      "/Users/vdk/mambaforge/envs/cta/lib/python3.11/site-packages/ctapipe/image/pixel_likelihood.py:98: RuntimeWarning: invalid value encountered in log\n",
      "  neg_log_l = np.log(theta + EPSILON) + (image - prediction) ** 2 / theta\n",
      "/Users/vdk/mambaforge/envs/cta/lib/python3.11/site-packages/ctapipe/image/pixel_likelihood.py:98: RuntimeWarning: invalid value encountered in log\n",
      "  neg_log_l = np.log(theta + EPSILON) + (image - prediction) ** 2 / theta\n",
      "/Users/vdk/mambaforge/envs/cta/lib/python3.11/site-packages/ctapipe/image/pixel_likelihood.py:98: RuntimeWarning: invalid value encountered in log\n",
      "  neg_log_l = np.log(theta + EPSILON) + (image - prediction) ** 2 / theta\n",
      "/Users/vdk/mambaforge/envs/cta/lib/python3.11/site-packages/ctapipe/image/pixel_likelihood.py:98: RuntimeWarning: invalid value encountered in log\n",
      "  neg_log_l = np.log(theta + EPSILON) + (image - prediction) ** 2 / theta\n",
      "/Users/vdk/mambaforge/envs/cta/lib/python3.11/site-packages/ctapipe/image/pixel_likelihood.py:98: RuntimeWarning: invalid value encountered in log\n",
      "  neg_log_l = np.log(theta + EPSILON) + (image - prediction) ** 2 / theta\n",
      "/Users/vdk/mambaforge/envs/cta/lib/python3.11/site-packages/ctapipe/image/pixel_likelihood.py:98: RuntimeWarning: invalid value encountered in log\n",
      "  neg_log_l = np.log(theta + EPSILON) + (image - prediction) ** 2 / theta\n",
      "/Users/vdk/mambaforge/envs/cta/lib/python3.11/site-packages/ctapipe/image/pixel_likelihood.py:98: RuntimeWarning: invalid value encountered in log\n",
      "  neg_log_l = np.log(theta + EPSILON) + (image - prediction) ** 2 / theta\n",
      "/Users/vdk/mambaforge/envs/cta/lib/python3.11/site-packages/ctapipe/image/pixel_likelihood.py:98: RuntimeWarning: invalid value encountered in log\n",
      "  neg_log_l = np.log(theta + EPSILON) + (image - prediction) ** 2 / theta\n",
      "/Users/vdk/mambaforge/envs/cta/lib/python3.11/site-packages/ctapipe/image/pixel_likelihood.py:98: RuntimeWarning: invalid value encountered in log\n",
      "  neg_log_l = np.log(theta + EPSILON) + (image - prediction) ** 2 / theta\n",
      "/Users/vdk/mambaforge/envs/cta/lib/python3.11/site-packages/ctapipe/image/pixel_likelihood.py:98: RuntimeWarning: invalid value encountered in log\n",
      "  neg_log_l = np.log(theta + EPSILON) + (image - prediction) ** 2 / theta\n",
      "/Users/vdk/mambaforge/envs/cta/lib/python3.11/site-packages/ctapipe/image/pixel_likelihood.py:98: RuntimeWarning: invalid value encountered in log\n",
      "  neg_log_l = np.log(theta + EPSILON) + (image - prediction) ** 2 / theta\n",
      "/Users/vdk/mambaforge/envs/cta/lib/python3.11/site-packages/ctapipe/image/pixel_likelihood.py:98: RuntimeWarning: invalid value encountered in log\n",
      "  neg_log_l = np.log(theta + EPSILON) + (image - prediction) ** 2 / theta\n",
      "/Users/vdk/mambaforge/envs/cta/lib/python3.11/site-packages/ctapipe/image/pixel_likelihood.py:98: RuntimeWarning: invalid value encountered in log\n",
      "  neg_log_l = np.log(theta + EPSILON) + (image - prediction) ** 2 / theta\n",
      "/Users/vdk/mambaforge/envs/cta/lib/python3.11/site-packages/ctapipe/image/pixel_likelihood.py:98: RuntimeWarning: invalid value encountered in log\n",
      "  neg_log_l = np.log(theta + EPSILON) + (image - prediction) ** 2 / theta\n",
      "/Users/vdk/mambaforge/envs/cta/lib/python3.11/site-packages/ctapipe/image/pixel_likelihood.py:98: RuntimeWarning: invalid value encountered in log\n",
      "  neg_log_l = np.log(theta + EPSILON) + (image - prediction) ** 2 / theta\n",
      "/Users/vdk/mambaforge/envs/cta/lib/python3.11/site-packages/ctapipe/image/pixel_likelihood.py:98: RuntimeWarning: invalid value encountered in log\n",
      "  neg_log_l = np.log(theta + EPSILON) + (image - prediction) ** 2 / theta\n",
      "/Users/vdk/mambaforge/envs/cta/lib/python3.11/site-packages/ctapipe/image/pixel_likelihood.py:98: RuntimeWarning: invalid value encountered in log\n",
      "  neg_log_l = np.log(theta + EPSILON) + (image - prediction) ** 2 / theta\n",
      "/Users/vdk/mambaforge/envs/cta/lib/python3.11/site-packages/ctapipe/image/pixel_likelihood.py:98: RuntimeWarning: invalid value encountered in log\n",
      "  neg_log_l = np.log(theta + EPSILON) + (image - prediction) ** 2 / theta\n",
      "/Users/vdk/mambaforge/envs/cta/lib/python3.11/site-packages/ctapipe/image/pixel_likelihood.py:98: RuntimeWarning: invalid value encountered in log\n",
      "  neg_log_l = np.log(theta + EPSILON) + (image - prediction) ** 2 / theta\n",
      "/Users/vdk/mambaforge/envs/cta/lib/python3.11/site-packages/ctapipe/image/pixel_likelihood.py:98: RuntimeWarning: invalid value encountered in log\n",
      "  neg_log_l = np.log(theta + EPSILON) + (image - prediction) ** 2 / theta\n",
      "/Users/vdk/mambaforge/envs/cta/lib/python3.11/site-packages/ctapipe/image/pixel_likelihood.py:98: RuntimeWarning: invalid value encountered in log\n",
      "  neg_log_l = np.log(theta + EPSILON) + (image - prediction) ** 2 / theta\n",
      "/Users/vdk/mambaforge/envs/cta/lib/python3.11/site-packages/ctapipe/image/pixel_likelihood.py:98: RuntimeWarning: invalid value encountered in log\n",
      "  neg_log_l = np.log(theta + EPSILON) + (image - prediction) ** 2 / theta\n"
     ]
    },
    {
     "name": "stdout",
     "output_type": "stream",
     "text": [
      "E VariableMetricBuilder Initial matrix not pos.def.\n"
     ]
    },
    {
     "name": "stderr",
     "output_type": "stream",
     "text": [
      "/Users/vdk/mambaforge/envs/cta/lib/python3.11/site-packages/ctapipe/image/pixel_likelihood.py:98: RuntimeWarning: invalid value encountered in log\n",
      "  neg_log_l = np.log(theta + EPSILON) + (image - prediction) ** 2 / theta\n",
      "/Users/vdk/mambaforge/envs/cta/lib/python3.11/site-packages/ctapipe/image/pixel_likelihood.py:98: RuntimeWarning: invalid value encountered in log\n",
      "  neg_log_l = np.log(theta + EPSILON) + (image - prediction) ** 2 / theta\n",
      "/Users/vdk/mambaforge/envs/cta/lib/python3.11/site-packages/ctapipe/image/pixel_likelihood.py:98: RuntimeWarning: invalid value encountered in log\n",
      "  neg_log_l = np.log(theta + EPSILON) + (image - prediction) ** 2 / theta\n",
      "/Users/vdk/mambaforge/envs/cta/lib/python3.11/site-packages/ctapipe/image/pixel_likelihood.py:98: RuntimeWarning: invalid value encountered in log\n",
      "  neg_log_l = np.log(theta + EPSILON) + (image - prediction) ** 2 / theta\n",
      "/Users/vdk/mambaforge/envs/cta/lib/python3.11/site-packages/ctapipe/image/pixel_likelihood.py:98: RuntimeWarning: invalid value encountered in log\n",
      "  neg_log_l = np.log(theta + EPSILON) + (image - prediction) ** 2 / theta\n",
      "/Users/vdk/mambaforge/envs/cta/lib/python3.11/site-packages/ctapipe/image/pixel_likelihood.py:98: RuntimeWarning: invalid value encountered in log\n",
      "  neg_log_l = np.log(theta + EPSILON) + (image - prediction) ** 2 / theta\n",
      "/Users/vdk/mambaforge/envs/cta/lib/python3.11/site-packages/ctapipe/image/pixel_likelihood.py:98: RuntimeWarning: invalid value encountered in log\n",
      "  neg_log_l = np.log(theta + EPSILON) + (image - prediction) ** 2 / theta\n",
      "/Users/vdk/mambaforge/envs/cta/lib/python3.11/site-packages/ctapipe/image/pixel_likelihood.py:98: RuntimeWarning: invalid value encountered in log\n",
      "  neg_log_l = np.log(theta + EPSILON) + (image - prediction) ** 2 / theta\n",
      "/Users/vdk/mambaforge/envs/cta/lib/python3.11/site-packages/ctapipe/image/pixel_likelihood.py:98: RuntimeWarning: invalid value encountered in log\n",
      "  neg_log_l = np.log(theta + EPSILON) + (image - prediction) ** 2 / theta\n",
      "/Users/vdk/mambaforge/envs/cta/lib/python3.11/site-packages/ctapipe/image/pixel_likelihood.py:98: RuntimeWarning: invalid value encountered in log\n",
      "  neg_log_l = np.log(theta + EPSILON) + (image - prediction) ** 2 / theta\n",
      "/Users/vdk/mambaforge/envs/cta/lib/python3.11/site-packages/ctapipe/image/pixel_likelihood.py:98: RuntimeWarning: invalid value encountered in log\n",
      "  neg_log_l = np.log(theta + EPSILON) + (image - prediction) ** 2 / theta\n",
      "/Users/vdk/mambaforge/envs/cta/lib/python3.11/site-packages/ctapipe/image/pixel_likelihood.py:98: RuntimeWarning: invalid value encountered in log\n",
      "  neg_log_l = np.log(theta + EPSILON) + (image - prediction) ** 2 / theta\n",
      "/Users/vdk/mambaforge/envs/cta/lib/python3.11/site-packages/ctapipe/image/pixel_likelihood.py:98: RuntimeWarning: invalid value encountered in log\n",
      "  neg_log_l = np.log(theta + EPSILON) + (image - prediction) ** 2 / theta\n",
      "/Users/vdk/mambaforge/envs/cta/lib/python3.11/site-packages/ctapipe/image/pixel_likelihood.py:98: RuntimeWarning: invalid value encountered in log\n",
      "  neg_log_l = np.log(theta + EPSILON) + (image - prediction) ** 2 / theta\n",
      "/Users/vdk/mambaforge/envs/cta/lib/python3.11/site-packages/ctapipe/image/pixel_likelihood.py:98: RuntimeWarning: invalid value encountered in log\n",
      "  neg_log_l = np.log(theta + EPSILON) + (image - prediction) ** 2 / theta\n",
      "/Users/vdk/mambaforge/envs/cta/lib/python3.11/site-packages/ctapipe/image/pixel_likelihood.py:98: RuntimeWarning: invalid value encountered in log\n",
      "  neg_log_l = np.log(theta + EPSILON) + (image - prediction) ** 2 / theta\n",
      "/Users/vdk/mambaforge/envs/cta/lib/python3.11/site-packages/ctapipe/image/pixel_likelihood.py:98: RuntimeWarning: invalid value encountered in log\n",
      "  neg_log_l = np.log(theta + EPSILON) + (image - prediction) ** 2 / theta\n",
      "/Users/vdk/mambaforge/envs/cta/lib/python3.11/site-packages/ctapipe/image/pixel_likelihood.py:98: RuntimeWarning: invalid value encountered in log\n",
      "  neg_log_l = np.log(theta + EPSILON) + (image - prediction) ** 2 / theta\n",
      "/Users/vdk/mambaforge/envs/cta/lib/python3.11/site-packages/ctapipe/image/pixel_likelihood.py:98: RuntimeWarning: invalid value encountered in log\n",
      "  neg_log_l = np.log(theta + EPSILON) + (image - prediction) ** 2 / theta\n"
     ]
    },
    {
     "name": "stdout",
     "output_type": "stream",
     "text": [
      "E VariableMetricBuilder Initial matrix not pos.def.\n",
      "E VariableMetricBuilder Initial matrix not pos.def.\n",
      "E VariableMetricBuilder Initial matrix not pos.def.\n",
      "E VariableMetricBuilder Initial matrix not pos.def.\n"
     ]
    },
    {
     "name": "stderr",
     "output_type": "stream",
     "text": [
      "/Users/vdk/mambaforge/envs/cta/lib/python3.11/site-packages/ctapipe/image/pixel_likelihood.py:98: RuntimeWarning: invalid value encountered in log\n",
      "  neg_log_l = np.log(theta + EPSILON) + (image - prediction) ** 2 / theta\n",
      "/Users/vdk/mambaforge/envs/cta/lib/python3.11/site-packages/ctapipe/image/pixel_likelihood.py:98: RuntimeWarning: invalid value encountered in log\n",
      "  neg_log_l = np.log(theta + EPSILON) + (image - prediction) ** 2 / theta\n",
      "/Users/vdk/mambaforge/envs/cta/lib/python3.11/site-packages/ctapipe/image/pixel_likelihood.py:98: RuntimeWarning: invalid value encountered in log\n",
      "  neg_log_l = np.log(theta + EPSILON) + (image - prediction) ** 2 / theta\n",
      "/Users/vdk/mambaforge/envs/cta/lib/python3.11/site-packages/ctapipe/image/pixel_likelihood.py:98: RuntimeWarning: invalid value encountered in log\n",
      "  neg_log_l = np.log(theta + EPSILON) + (image - prediction) ** 2 / theta\n",
      "/Users/vdk/mambaforge/envs/cta/lib/python3.11/site-packages/ctapipe/image/pixel_likelihood.py:98: RuntimeWarning: invalid value encountered in log\n",
      "  neg_log_l = np.log(theta + EPSILON) + (image - prediction) ** 2 / theta\n",
      "/Users/vdk/mambaforge/envs/cta/lib/python3.11/site-packages/ctapipe/image/pixel_likelihood.py:98: RuntimeWarning: invalid value encountered in log\n",
      "  neg_log_l = np.log(theta + EPSILON) + (image - prediction) ** 2 / theta\n",
      "/Users/vdk/mambaforge/envs/cta/lib/python3.11/site-packages/ctapipe/image/pixel_likelihood.py:98: RuntimeWarning: invalid value encountered in log\n",
      "  neg_log_l = np.log(theta + EPSILON) + (image - prediction) ** 2 / theta\n",
      "/Users/vdk/mambaforge/envs/cta/lib/python3.11/site-packages/ctapipe/image/pixel_likelihood.py:98: RuntimeWarning: invalid value encountered in log\n",
      "  neg_log_l = np.log(theta + EPSILON) + (image - prediction) ** 2 / theta\n",
      "/Users/vdk/mambaforge/envs/cta/lib/python3.11/site-packages/ctapipe/image/pixel_likelihood.py:98: RuntimeWarning: invalid value encountered in log\n",
      "  neg_log_l = np.log(theta + EPSILON) + (image - prediction) ** 2 / theta\n"
     ]
    },
    {
     "name": "stdout",
     "output_type": "stream",
     "text": [
      "E VariableMetricBuilder Initial matrix not pos.def.\n"
     ]
    }
   ],
   "source": [
    "# TIME CLEANING ALGO + ISLANDS CLEANING WITHOUT FLAGGING\n",
    "\n",
    "int_cut = 0.3\n",
    "min_pixel = 30\n",
    "\n",
    "muon_processor_config = Config({\"MuonProcessor\": \n",
    "                                {\"RingQuery\": \n",
    "                                 {\"quality_criteria\" : [[\"intensity_check\",f\"np.abs(parameters.intensity_ratio - 1) < {int_cut}\"],\n",
    "                                                        [\"ring_containment\", \"parameters.containment > 0.5\"],\n",
    "                                                        [\"ring_completeness\", \"parameters.completeness > 0.5\"]]}}})\n",
    "\n",
    "muon_processor_config_2 = Config({\"MuonProcessor\":\n",
    "                                {\"ImageParameterQuery\" :\n",
    "                                 {\"quality_criteria\" : [[\"min_pixels\", f\"dl1_params.morphology.n_pixels > {min_pixel}\"],\n",
    "                                                        [\"min_intensity\", \"dl1_params.hillas.intensity > 500\"]]}}})\n",
    "\n",
    "checker = 0\n",
    "cleaned_event_container = {}\n",
    "r1_cut = 2\n",
    "min_pixel_cut = 60\n",
    "max_pixel_cut = 200\n",
    "low_threshold_variance = 0.1\n",
    "up_threshold_variance = 0.4\n",
    "max_time = 14\n",
    "\n",
    "for k in range(78,100):\n",
    "    filename = f'/Users/vdk/LST/LST_work/corsika_4LSTprotons/simtel_corsika_run39{k}.simtel.gz'\n",
    "    source = EventSource(filename)\n",
    "    event_iterator = iter(source)\n",
    "    keks = 1000*k\n",
    "    for i,event in enumerate(event_iterator):\n",
    "        \n",
    "        image_processor = ImageProcessor(source.subarray)\n",
    "        #muon_processor = MuonProcessor(source.subarray, config = muon_processor_config_2)\n",
    "        muon_processor = MuonProcessor(source.subarray)\n",
    "        calib = CameraCalibrator(image_extractor_type=\"GlobalPeakWindowSum\",subarray = source.subarray)\n",
    "\n",
    "        if len(event.trigger.tels_with_trigger) > 1:\n",
    "            for tels in event.trigger.tels_with_trigger:\n",
    "                pixel_mask = []\n",
    "                for_clean_mask = []\n",
    "                \n",
    "                original_r1_waveform = event.r1.tel[tels].waveform.copy()\n",
    "                \n",
    "                for k,l in enumerate(event.r0.tel[tels].waveform[1]):\n",
    "                    if np.argmax(l) in range(17,41): \n",
    "                        pixel_mask.append(True)\n",
    "                    else:\n",
    "                        pixel_mask.append(False)\n",
    "\n",
    "                working_wave = event.r1.tel[tels].waveform.copy()\n",
    "                for k,l in enumerate(working_wave):\n",
    "                    if pixel_mask[k]:\n",
    "                        for_clean_mask.append(True)\n",
    "                        #working_wave[k] = np.zeros(40)     \n",
    "                        working_wave[k] = np.mean(event.r1.tel[tels].waveform, axis = 0)\n",
    "                    else:\n",
    "                        for_clean_mask.append(False)\n",
    "                event.r1.tel[tels].waveform = working_wave\n",
    "\n",
    "                calib(event)\n",
    "                image_processor(event)\n",
    "                cam_geometry = source.subarray.tel[tels].camera.geometry\n",
    "                return_pixels = np.array([])\n",
    "                for_clean_mask = np.array(for_clean_mask)\n",
    "                n_islands, island_id = number_of_islands(cam_geometry, for_clean_mask)\n",
    "\n",
    "                for t in range(1,n_islands+1):\n",
    "                    if len(np.where(island_id == t)[0]) <= 3:\n",
    "                        return_pixels = np.append(return_pixels,np.where(island_id ==t)[0])\n",
    "\n",
    "                return_pixels = return_pixels.astype(int)\n",
    "\n",
    "                event.r1.tel[tels].waveform[return_pixels,:] = original_r1_waveform[return_pixels,:]  \n",
    "\n",
    "                calib(event)\n",
    "                image_processor(event)\n",
    "                muon_processor(event)   \n",
    "                    \n",
    "                if len(event.muon.tel.keys()):       \n",
    "                    for m in event.muon.tel.keys():\n",
    "                        if not np.isnan(event.muon.tel[m].efficiency.width):\n",
    "                            cleaned_event_container[keks+i] = event   \n",
    "\n",
    "\n",
    "\n",
    "\n"
   ]
  },
  {
   "cell_type": "code",
   "execution_count": 5,
   "metadata": {},
   "outputs": [
    {
     "name": "stdout",
     "output_type": "stream",
     "text": [
      "mean  0.230255506878046\n",
      "std  0.045668718915971476\n",
      "len  28\n"
     ]
    }
   ],
   "source": [
    "nice_events = []\n",
    "nice_opt_eff = []\n",
    "events_nice_opt_eff = []\n",
    "\n",
    "for i in cleaned_event_container:\n",
    "    for m in cleaned_event_container[i].trigger.tel.keys():\n",
    "        if not np.isnan(cleaned_event_container[i].muon.tel[m].efficiency.width):\n",
    "            if cleaned_event_container[i].dl1.tel[m].parameters.morphology.n_pixels > 50 and abs(cleaned_event_container[i].muon.tel[m].parameters.intensity_ratio - 1) < 0.3 and cleaned_event_container[i].muon.tel[m].parameters.completeness > 0.5 and cleaned_event_container[i].muon.tel[m].parameters.mean_squared_error.to_value() < 0.01:\n",
    "                nice_events.append(i)\n",
    "                nice_opt_eff.append(cleaned_event_container[i].muon.tel[m].efficiency.optical_efficiency)\n",
    "                events_nice_opt_eff.append(i)\n",
    "\n",
    "print(\"mean \", np.mean(nice_opt_eff))\n",
    "print(\"std \", np.std(nice_opt_eff))\n",
    "print(\"len \", len(nice_opt_eff))"
   ]
  },
  {
   "cell_type": "code",
   "execution_count": null,
   "metadata": {},
   "outputs": [],
   "source": []
  }
 ],
 "metadata": {
  "kernelspec": {
   "display_name": "cta",
   "language": "python",
   "name": "cta"
  },
  "language_info": {
   "codemirror_mode": {
    "name": "ipython",
    "version": 3
   },
   "file_extension": ".py",
   "mimetype": "text/x-python",
   "name": "python",
   "nbconvert_exporter": "python",
   "pygments_lexer": "ipython3",
   "version": "3.11.6"
  },
  "orig_nbformat": 4
 },
 "nbformat": 4,
 "nbformat_minor": 2
}
