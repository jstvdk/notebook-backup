{
 "cells": [
  {
   "cell_type": "code",
   "execution_count": 1,
   "metadata": {},
   "outputs": [],
   "source": [
    "import sys\n",
    "sys.path.append('/Users/vdk/Software/ctasoft/calibpipe/')\n",
    "import calibpipe\n",
    "from calibpipe import throughput\n",
    "from astropy.time import Time"
   ]
  },
  {
   "cell_type": "code",
   "execution_count": 2,
   "metadata": {},
   "outputs": [],
   "source": [
    "test = throughput.containers.TelescopeOpticalThoughtputContainer()"
   ]
  },
  {
   "cell_type": "code",
   "execution_count": 15,
   "metadata": {},
   "outputs": [],
   "source": [
    "test.validity_start = 'gegh'"
   ]
  },
  {
   "cell_type": "code",
   "execution_count": 17,
   "metadata": {},
   "outputs": [
    {
     "data": {
      "text/plain": [
       "str"
      ]
     },
     "execution_count": 17,
     "metadata": {},
     "output_type": "execute_result"
    }
   ],
   "source": [
    "type(test.validity_start)"
   ]
  },
  {
   "cell_type": "code",
   "execution_count": 6,
   "metadata": {},
   "outputs": [
    {
     "data": {
      "text/plain": [
       "datetime.datetime(2020, 5, 15, 0, 0)"
      ]
     },
     "execution_count": 6,
     "metadata": {},
     "output_type": "execute_result"
    }
   ],
   "source": [
    "tai_mjd_timestamp = 58984#event.trigger.tel[1].time  # Replace this with your TAI MJD timestamp\n",
    "\n",
    "\n",
    "\n",
    "# Convert Astropy Time object to Python datetime object\n",
    "datetime_obj = Time(tai_mjd_timestamp, format='mjd', scale='tai').to_datetime()\n",
    "\n",
    "datetime_obj"
   ]
  },
  {
   "cell_type": "code",
   "execution_count": 21,
   "metadata": {},
   "outputs": [],
   "source": [
    "test.validity_start = datetime_obj"
   ]
  },
  {
   "cell_type": "code",
   "execution_count": 23,
   "metadata": {},
   "outputs": [
    {
     "data": {
      "text/plain": [
       "datetime.datetime"
      ]
     },
     "execution_count": 23,
     "metadata": {},
     "output_type": "execute_result"
    }
   ],
   "source": [
    "type(test.validity_start)"
   ]
  },
  {
   "cell_type": "code",
   "execution_count": 3,
   "metadata": {},
   "outputs": [
    {
     "data": {
      "text/plain": [
       "calibpipe.throughput.containers.TelescopeOpticalThoughtputContainer:\n",
       "optical_throughput_coefficient: Optical throughput from the selected calibration\n",
       "                                method with default nan with type <class\n",
       "                                'numpy.float32'>\n",
       "optical_throughput_coefficient_std: Optical throughput from the selected\n",
       "                                calibration method with default nan with type\n",
       "                                <class 'numpy.float32'>\n",
       "                        method: Calibration method used to fill\n",
       "                                optical_throughput_coefficient with default None\n",
       "                                with type <class 'str'>\n",
       "                validity_start: Starting timestamp of validity for the selected\n",
       "                                throughput. with default 0.0 with type <class\n",
       "                                'datetime.datetime'>\n",
       "                  validity_end: Ending timestamp of validity for the selected\n",
       "                                throughput. with default 0.0 with type <class\n",
       "                                'datetime.datetime'>\n",
       "                        obs_id: ID of the observation block for validity with\n",
       "                                default -1 with type <class 'numpy.int32'>\n",
       "                        tel_id: Telescope ID with default -1 with type <class\n",
       "                                'numpy.int32'>"
      ]
     },
     "execution_count": 3,
     "metadata": {},
     "output_type": "execute_result"
    }
   ],
   "source": [
    "test"
   ]
  },
  {
   "cell_type": "code",
   "execution_count": 12,
   "metadata": {},
   "outputs": [
    {
     "name": "stdout",
     "output_type": "stream",
     "text": [
      "2020-05-15 00:00:00\n"
     ]
    }
   ],
   "source": [
    "print(datetime_obj)\n",
    "from datetime import datetime"
   ]
  },
  {
   "cell_type": "code",
   "execution_count": 14,
   "metadata": {},
   "outputs": [],
   "source": [
    "test_obj = datetime.strptime(\"1993-11-03 00:00:00\", \"%Y-%m-%d %H:%M:%S\")"
   ]
  },
  {
   "cell_type": "code",
   "execution_count": 16,
   "metadata": {},
   "outputs": [
    {
     "data": {
      "text/plain": [
       "datetime.datetime"
      ]
     },
     "execution_count": 16,
     "metadata": {},
     "output_type": "execute_result"
    }
   ],
   "source": [
    "type(test_obj)"
   ]
  },
  {
   "cell_type": "code",
   "execution_count": null,
   "metadata": {},
   "outputs": [],
   "source": []
  }
 ],
 "metadata": {
  "kernelspec": {
   "display_name": "cta",
   "language": "python",
   "name": "python3"
  },
  "language_info": {
   "codemirror_mode": {
    "name": "ipython",
    "version": 3
   },
   "file_extension": ".py",
   "mimetype": "text/x-python",
   "name": "python",
   "nbconvert_exporter": "python",
   "pygments_lexer": "ipython3",
   "version": "3.11.6"
  }
 },
 "nbformat": 4,
 "nbformat_minor": 2
}
