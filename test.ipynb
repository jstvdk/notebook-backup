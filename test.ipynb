{
 "cells": [
  {
   "cell_type": "code",
   "execution_count": 7,
   "metadata": {},
   "outputs": [],
   "source": [
    "import numpy as np\n",
    "import matplotlib.pyplot as plt\n",
    "from seaborn import histplot\n",
    "import ctapipe.io.metadata as meta\n",
    "from astropy.time import Time"
   ]
  },
  {
   "cell_type": "code",
   "execution_count": 66,
   "metadata": {},
   "outputs": [],
   "source": [
    "ProductMeta = meta.Product(description = \"test1\")\n",
    "ContactMeta = meta.Contact(email = \"test@email.ch\",  organization = \"MIB\")\n",
    "InstrumetMeta = meta.Instrument(site = \"CTA-North\", class_ = \"Telescope\")\n",
    "ProcessMeta = meta.Process()\n",
    "ActivityMeta = meta.Activity()"
   ]
  },
  {
   "cell_type": "code",
   "execution_count": 67,
   "metadata": {},
   "outputs": [],
   "source": [
    "dict = meta._to_dict(InstrumetMeta)"
   ]
  },
  {
   "cell_type": "code",
   "execution_count": 68,
   "metadata": {},
   "outputs": [],
   "source": [
    "ReferenceMeta = meta.Reference(product = ProductMeta, contact = ContactMeta, instrument = InstrumetMeta, process = ProcessMeta, activity = ActivityMeta)"
   ]
  },
  {
   "cell_type": "code",
   "execution_count": 71,
   "metadata": {},
   "outputs": [
    {
     "data": {
      "text/plain": [
       "OrderedDict([('CTA REFERENCE VERSION', '1'),\n",
       "             ('CTA CONTACT EMAIL', 'test@email.ch'),\n",
       "             ('CTA CONTACT NAME', 'Вадим Войцеховський'),\n",
       "             ('CTA CONTACT ORGANIZATION', 'MIB'),\n",
       "             ('CTA PRODUCT CREATION TIME', '2024-02-06 15:30:34.806'),\n",
       "             ('CTA PRODUCT DATA ASSOCIATION', 'Other'),\n",
       "             ('CTA PRODUCT DATA CATEGORY', 'Other'),\n",
       "             ('CTA PRODUCT DATA LEVELS', ''),\n",
       "             ('CTA PRODUCT DATA MODEL NAME', 'unknown'),\n",
       "             ('CTA PRODUCT DATA MODEL URL', 'unknown'),\n",
       "             ('CTA PRODUCT DATA MODEL VERSION', 'unknown'),\n",
       "             ('CTA PRODUCT DESCRIPTION', 'test1'),\n",
       "             ('CTA PRODUCT FORMAT', ''),\n",
       "             ('CTA PRODUCT ID', '62094aa4-879b-4890-adec-8d94e6a5a3ae'),\n",
       "             ('CTA PROCESS ID', ''),\n",
       "             ('CTA PROCESS SUBTYPE', ''),\n",
       "             ('CTA PROCESS TYPE', 'Other'),\n",
       "             ('CTA ACTIVITY ID', ''),\n",
       "             ('CTA ACTIVITY NAME', ''),\n",
       "             ('CTA ACTIVITY SOFTWARE NAME', 'unknown'),\n",
       "             ('CTA ACTIVITY SOFTWARE VERSION', 'unknown'),\n",
       "             ('CTA ACTIVITY START TIME', '2024-02-06 15:30:34.808'),\n",
       "             ('CTA ACTIVITY STOP TIME', None),\n",
       "             ('CTA ACTIVITY TYPE', 'software'),\n",
       "             ('CTA INSTRUMENT CLASS', 'Telescope'),\n",
       "             ('CTA INSTRUMENT ID', 'unspecified'),\n",
       "             ('CTA INSTRUMENT SITE', 'CTA-North'),\n",
       "             ('CTA INSTRUMENT SUBTYPE', 'unspecified'),\n",
       "             ('CTA INSTRUMENT TYPE', 'unspecified'),\n",
       "             ('CTA INSTRUMENT VERSION', 'unspecified')])"
      ]
     },
     "execution_count": 71,
     "metadata": {},
     "output_type": "execute_result"
    }
   ],
   "source": [
    "test_dict = ReferenceMeta.to_dict()\n",
    "test_dict"
   ]
  },
  {
   "cell_type": "code",
   "execution_count": 73,
   "metadata": {},
   "outputs": [
    {
     "data": {
      "text/plain": [
       "'62094aa4-879b-4890-adec-8d94e6a5a3ae'"
      ]
     },
     "execution_count": 73,
     "metadata": {},
     "output_type": "execute_result"
    }
   ],
   "source": [
    "test_dict['CTA PRODUCT ID']"
   ]
  },
  {
   "cell_type": "code",
   "execution_count": 3,
   "metadata": {},
   "outputs": [
    {
     "data": {
      "text/plain": [
       "array([-1.        , -0.97979798, -0.95959596, -0.93939394, -0.91919192,\n",
       "       -0.8989899 , -0.87878788, -0.85858586, -0.83838384, -0.81818182,\n",
       "       -0.7979798 , -0.77777778, -0.75757576, -0.73737374, -0.71717172,\n",
       "       -0.6969697 , -0.67676768, -0.65656566, -0.63636364, -0.61616162,\n",
       "       -0.5959596 , -0.57575758, -0.55555556, -0.53535354, -0.51515152,\n",
       "       -0.49494949, -0.47474747, -0.45454545, -0.43434343, -0.41414141,\n",
       "       -0.39393939, -0.37373737, -0.35353535, -0.33333333, -0.31313131,\n",
       "       -0.29292929, -0.27272727, -0.25252525, -0.23232323, -0.21212121,\n",
       "       -0.19191919, -0.17171717, -0.15151515, -0.13131313, -0.11111111,\n",
       "       -0.09090909, -0.07070707, -0.05050505, -0.03030303, -0.01010101,\n",
       "        0.01010101,  0.03030303,  0.05050505,  0.07070707,  0.09090909,\n",
       "        0.11111111,  0.13131313,  0.15151515,  0.17171717,  0.19191919,\n",
       "        0.21212121,  0.23232323,  0.25252525,  0.27272727,  0.29292929,\n",
       "        0.31313131,  0.33333333,  0.35353535,  0.37373737,  0.39393939,\n",
       "        0.41414141,  0.43434343,  0.45454545,  0.47474747,  0.49494949,\n",
       "        0.51515152,  0.53535354,  0.55555556,  0.57575758,  0.5959596 ,\n",
       "        0.61616162,  0.63636364,  0.65656566,  0.67676768,  0.6969697 ,\n",
       "        0.71717172,  0.73737374,  0.75757576,  0.77777778,  0.7979798 ,\n",
       "        0.81818182,  0.83838384,  0.85858586,  0.87878788,  0.8989899 ,\n",
       "        0.91919192,  0.93939394,  0.95959596,  0.97979798,  1.        ])"
      ]
     },
     "execution_count": 3,
     "metadata": {},
     "output_type": "execute_result"
    }
   ],
   "source": [
    "np.linspace(-1,1,100)"
   ]
  },
  {
   "cell_type": "code",
   "execution_count": 4,
   "metadata": {},
   "outputs": [
    {
     "data": {
      "image/png": "[encoded data removed]",
      "text/plain": [
       "<Figure size 640x480 with 1 Axes>"
      ]
     },
     "metadata": {},
     "output_type": "display_data"
    }
   ],
   "source": [
    "import matplotlib.pyplot as plt\n",
    "import numpy as np\n",
    "import math\n",
    "\n",
    "x = np.linspace(-1,1,100)\n",
    "y = [math.cos(i) for i in x]\n",
    "plt.plot(x,y)\n",
    "plt.savefig('/Users/vdk/test.png')"
   ]
  },
  {
   "cell_type": "code",
   "execution_count": 1,
   "metadata": {},
   "outputs": [],
   "source": [
    "flag_events = 10"
   ]
  },
  {
   "cell_type": "code",
   "execution_count": 2,
   "metadata": {},
   "outputs": [],
   "source": [
    "with open('/Users/vdk/RealLST/flag_output_2.txt', 'w+') as fo:\n",
    "    fo.write(f'{flag_events}')"
   ]
  },
  {
   "cell_type": "code",
   "execution_count": 10,
   "metadata": {},
   "outputs": [],
   "source": [
    "arr = np.array([[1,2,3,4], [1,2,3,4]])\n",
    "event = 43567"
   ]
  },
  {
   "cell_type": "code",
   "execution_count": 7,
   "metadata": {},
   "outputs": [
    {
     "ename": "TypeError",
     "evalue": "write() argument must be str, not numpy.ndarray",
     "output_type": "error",
     "traceback": [
      "\u001b[0;31m---------------------------------------------------------------------------\u001b[0m",
      "\u001b[0;31mTypeError\u001b[0m                                 Traceback (most recent call last)",
      "Cell \u001b[0;32mIn[7], line 2\u001b[0m\n\u001b[1;32m      1\u001b[0m \u001b[39mwith\u001b[39;00m \u001b[39mopen\u001b[39m(\u001b[39mf\u001b[39m\u001b[39m'\u001b[39m\u001b[39m/Users/vdk/test_output\u001b[39m\u001b[39m{\u001b[39;00mevent\u001b[39m}\u001b[39;00m\u001b[39m.txt\u001b[39m\u001b[39m'\u001b[39m, \u001b[39m'\u001b[39m\u001b[39mw+\u001b[39m\u001b[39m'\u001b[39m) \u001b[39mas\u001b[39;00m fo:\n\u001b[0;32m----> 2\u001b[0m     fo\u001b[39m.\u001b[39;49mwrite(arr)\n",
      "\u001b[0;31mTypeError\u001b[0m: write() argument must be str, not numpy.ndarray"
     ]
    }
   ],
   "source": [
    "with open(f'/Users/vdk/test_output{event}.txt', 'w+') as fo:\n",
    "    fo.write(arr)"
   ]
  },
  {
   "cell_type": "code",
   "execution_count": 11,
   "metadata": {},
   "outputs": [],
   "source": [
    "filename = f'/Users/vdk/test_output{event}.txt'\n",
    "np.save(filename, arr)"
   ]
  },
  {
   "cell_type": "code",
   "execution_count": 13,
   "metadata": {},
   "outputs": [
    {
     "data": {
      "text/plain": [
       "array([[1, 2, 3, 4],\n",
       "       [1, 2, 3, 4]])"
      ]
     },
     "execution_count": 13,
     "metadata": {},
     "output_type": "execute_result"
    }
   ],
   "source": [
    "np.load('/Users/vdk/test_output43567.txt.npy')"
   ]
  },
  {
   "cell_type": "code",
   "execution_count": 2,
   "metadata": {},
   "outputs": [],
   "source": [
    "arr = [123,234,567]"
   ]
  },
  {
   "cell_type": "code",
   "execution_count": 5,
   "metadata": {},
   "outputs": [],
   "source": [
    "if '123' in arr:\n",
    "    print(True)"
   ]
  },
  {
   "cell_type": "code",
   "execution_count": 3,
   "metadata": {},
   "outputs": [
    {
     "name": "stdout",
     "output_type": "stream",
     "text": [
      "ok\n"
     ]
    }
   ],
   "source": [
    "arr = [1,2,3,4]\n",
    "\n",
    "if 4 in arr:\n",
    "    print('ok')"
   ]
  },
  {
   "cell_type": "code",
   "execution_count": 33,
   "metadata": {},
   "outputs": [
    {
     "ename": "AttributeError",
     "evalue": "module 'matplotlib.pyplot' has no attribute 'label'",
     "output_type": "error",
     "traceback": [
      "\u001b[0;31m---------------------------------------------------------------------------\u001b[0m",
      "\u001b[0;31mAttributeError\u001b[0m                            Traceback (most recent call last)",
      "\u001b[1;32m/Users/vdk/JupyterNotebookTransfer/test.ipynb Cell 13\u001b[0m line \u001b[0;36m1\n\u001b[1;32m      <a href='vscode-notebook-cell:/Users/vdk/JupyterNotebookTransfer/test.ipynb#X15sZmlsZQ%3D%3D?line=8'>9</a>\u001b[0m plt\u001b[39m.\u001b[39mxscale(\u001b[39m\"\u001b[39m\u001b[39msymlog\u001b[39m\u001b[39m\"\u001b[39m)\n\u001b[1;32m     <a href='vscode-notebook-cell:/Users/vdk/JupyterNotebookTransfer/test.ipynb#X15sZmlsZQ%3D%3D?line=9'>10</a>\u001b[0m \u001b[39m#plt.yscale(\"symlog\")\u001b[39;00m\n\u001b[0;32m---> <a href='vscode-notebook-cell:/Users/vdk/JupyterNotebookTransfer/test.ipynb#X15sZmlsZQ%3D%3D?line=10'>11</a>\u001b[0m plt\u001b[39m.\u001b[39;49mlabel(\u001b[39m\"\u001b[39m\u001b[39mMuon Energy GeV\u001b[39m\u001b[39m\"\u001b[39m)\n",
      "\u001b[0;31mAttributeError\u001b[0m: module 'matplotlib.pyplot' has no attribute 'label'"
     ]
    },
    {
     "data": {
      "image/png": "[encoded data removed]",
      "text/plain": [
       "<Figure size 640x480 with 1 Axes>"
      ]
     },
     "metadata": {},
     "output_type": "display_data"
    }
   ],
   "source": [
    "with open('/Users/vdk/energy_muons.txt', 'r') as fi:\n",
    "    one_line = fi.read()\n",
    "    many_lines = one_line.split(\",\")\n",
    "    floats_array = [float(value)*1000 for value in many_lines[:-1]]\n",
    "\n",
    "#w_protons = sum([energy**(-0.7) for energy in floats_array])\n",
    "\n",
    "z,x,c = plt.hist(floats_array, density = True, bins = 100)\n",
    "plt.xscale(\"symlog\")\n",
    "#plt.yscale(\"symlog\")\n",
    "plt.label(\"Muon Energy GeV\")"
   ]
  },
  {
   "cell_type": "code",
   "execution_count": 64,
   "metadata": {},
   "outputs": [
    {
     "name": "stderr",
     "output_type": "stream",
     "text": [
      "/var/folders/_p/3fmt5jz5231_9gxtm8xt76p00000gn/T/ipykernel_1610/1705373958.py:3: UserWarning: Attempt to set non-positive xlim on a log-scaled axis will be ignored.\n",
      "  plt.xlim(0,5e4)\n"
     ]
    },
    {
     "data": {
      "image/png": "[encoded data removed]",
      "text/plain": [
       "<Figure size 640x480 with 1 Axes>"
      ]
     },
     "metadata": {},
     "output_type": "display_data"
    }
   ],
   "source": [
    "histplot(floats_array, log_scale = True, bins = 25, stat = 'probability', alpha = 0.7)\n",
    "plt.vlines(x=20, ymin=0, ymax = 0.15, color = 'red', label = '20 GeV energy', lw= 2)\n",
    "plt.xlim(0,5e4)\n",
    "plt.ylim(0,0.15)\n",
    "plt.xlabel(\"Muon energy [GeV]\")\n",
    "plt.legend()\n",
    "plt.grid(alpha = 0.5)\n",
    "plt.savefig('/Users/vdk/ImagePurgatorium/muon_energies_sim500_opt0784.png')"
   ]
  },
  {
   "cell_type": "code",
   "execution_count": 50,
   "metadata": {},
   "outputs": [
    {
     "data": {
      "text/plain": [
       "[33.30184146761894,\n",
       " 39.902202785015106,\n",
       " 55.15884608030319,\n",
       " 55.82336708903313,\n",
       " 57.744450867176056,\n",
       " 64.9806559085846,\n",
       " 67.31273233890533,\n",
       " 93.31346303224564,\n",
       " 95.30389308929443,\n",
       " 119.43831294775009,\n",
       " 122.65623360872269,\n",
       " 123.72444570064545,\n",
       " 134.47459042072296,\n",
       " 137.04659044742584,\n",
       " 138.34981620311737,\n",
       " 144.26279067993164,\n",
       " 150.36144852638245,\n",
       " 152.44804322719574,\n",
       " 153.59149873256683,\n",
       " 159.7396582365036,\n",
       " 173.4081506729126,\n",
       " 177.31769382953644,\n",
       " 178.2875955104828,\n",
       " 195.06339728832245,\n",
       " 200.6281465291977,\n",
       " 202.47066020965576,\n",
       " 205.93279600143433,\n",
       " 206.5361589193344,\n",
       " 207.92457461357117,\n",
       " 227.23981738090515,\n",
       " 238.76893520355225,\n",
       " 257.54162669181824,\n",
       " 271.1392343044281,\n",
       " 277.2504985332489,\n",
       " 277.828574180603,\n",
       " 288.1868779659271,\n",
       " 288.7207567691803,\n",
       " 321.14580273628235,\n",
       " 324.1875171661377,\n",
       " 344.94197368621826,\n",
       " 360.95744371414185,\n",
       " 368.2768940925598,\n",
       " 369.7831630706787,\n",
       " 389.9679183959961,\n",
       " 394.57187056541443,\n",
       " 425.23708939552307,\n",
       " 432.50778317451477,\n",
       " 489.65156078338623,\n",
       " 491.1321699619293,\n",
       " 531.782865524292,\n",
       " 542.2803163528442,\n",
       " 542.8972840309143,\n",
       " 568.3993101119995,\n",
       " 612.03932762146,\n",
       " 630.2483081817627,\n",
       " 723.8995432853699,\n",
       " 744.4409132003784,\n",
       " 749.6965527534485,\n",
       " 808.6567521095276,\n",
       " 815.2544498443604,\n",
       " 852.4138927459717,\n",
       " 950.4219889640808,\n",
       " 998.0202913284302,\n",
       " 1044.1755056381226,\n",
       " 1416.644811630249,\n",
       " 1526.0181427001953,\n",
       " 1653.9345979690552,\n",
       " 1806.1097860336304,\n",
       " 2741.4560317993164,\n",
       " 5460.690975189209,\n",
       " 6884.079933166504,\n",
       " 9039.409637451172,\n",
       " 9557.164192199707,\n",
       " 42565.86837768555,\n",
       " 44991.48178100586]"
      ]
     },
     "execution_count": 50,
     "metadata": {},
     "output_type": "execute_result"
    }
   ],
   "source": [
    "sorted(floats_array)"
   ]
  },
  {
   "cell_type": "code",
   "execution_count": 65,
   "metadata": {},
   "outputs": [
    {
     "data": {
      "text/plain": [
       "491"
      ]
     },
     "execution_count": 65,
     "metadata": {},
     "output_type": "execute_result"
    }
   ],
   "source": [
    "29217084 - 29216593"
   ]
  },
  {
   "cell_type": "code",
   "execution_count": 70,
   "metadata": {},
   "outputs": [],
   "source": [
    "flag_events = 1\n",
    "non_flag_events = 3\n",
    "tag_pix_number = 100\n",
    "good_ring_number = 5\n",
    "with open('/Users/vdk/test.txt', 'a+') as fo:\n",
    "   fo.write(f'flag_events = {flag_events} \\n non_flag_events = {non_flag_events} \\n tag_pix_number = {tag_pix_number} \\n good_ring_number {good_ring_number}')"
   ]
  },
  {
   "cell_type": "code",
   "execution_count": null,
   "metadata": {},
   "outputs": [],
   "source": []
  },
  {
   "cell_type": "code",
   "execution_count": 74,
   "metadata": {},
   "outputs": [],
   "source": [
    "with open('/Users/vdk/test2.txt', 'a+') as fo:\n",
    "   fo.write(f'{flag_events},')"
   ]
  },
  {
   "cell_type": "code",
   "execution_count": 76,
   "metadata": {},
   "outputs": [
    {
     "name": "stdout",
     "output_type": "stream",
     "text": [
      "11\n",
      "12\n",
      "13\n",
      "14\n",
      "15\n",
      "16\n",
      "17\n",
      "18\n",
      "19\n"
     ]
    }
   ],
   "source": [
    "for counter in range(0,21):\n",
    "    if counter > 10 and counter < 20:\n",
    "        print(counter)"
   ]
  },
  {
   "cell_type": "code",
   "execution_count": 81,
   "metadata": {},
   "outputs": [
    {
     "name": "stdout",
     "output_type": "stream",
     "text": [
      "k\n"
     ]
    }
   ],
   "source": [
    "if (1 < 2 < 10):\n",
    "    print('k')"
   ]
  },
  {
   "cell_type": "code",
   "execution_count": 92,
   "metadata": {},
   "outputs": [],
   "source": [
    "dist = np.array([1,2,3,4,4.11,4.22,4.5,5,6,7,8,9])\n",
    "radius = 4"
   ]
  },
  {
   "cell_type": "code",
   "execution_count": 95,
   "metadata": {},
   "outputs": [],
   "source": [
    "mask = np.abs(dist - radius) < radius * 0.25"
   ]
  },
  {
   "cell_type": "code",
   "execution_count": 94,
   "metadata": {},
   "outputs": [
    {
     "data": {
      "text/plain": [
       "1.0"
      ]
     },
     "execution_count": 94,
     "metadata": {},
     "output_type": "execute_result"
    }
   ],
   "source": [
    "radius * 0.25"
   ]
  },
  {
   "cell_type": "code",
   "execution_count": 99,
   "metadata": {},
   "outputs": [],
   "source": [
    "test_image = np.array([1,2,3,4,4.11,4.22,4.5,5,6,7,8,9])"
   ]
  },
  {
   "cell_type": "code",
   "execution_count": 102,
   "metadata": {},
   "outputs": [
    {
     "data": {
      "text/plain": [
       "array([0.  , 0.  , 0.  , 4.  , 4.11, 4.22, 4.5 , 0.  , 0.  , 0.  , 0.  ,\n",
       "       0.  ])"
      ]
     },
     "execution_count": 102,
     "metadata": {},
     "output_type": "execute_result"
    }
   ],
   "source": [
    "test_image * mask"
   ]
  },
  {
   "cell_type": "code",
   "execution_count": 103,
   "metadata": {},
   "outputs": [
    {
     "data": {
      "text/plain": [
       "array([4.  , 4.11, 4.22, 4.5 ])"
      ]
     },
     "execution_count": 103,
     "metadata": {},
     "output_type": "execute_result"
    }
   ],
   "source": [
    "test_image[mask]"
   ]
  },
  {
   "cell_type": "code",
   "execution_count": 105,
   "metadata": {},
   "outputs": [
    {
     "data": {
      "text/plain": [
       "array([1.  , 2.  , 3.  , 4.  , 4.11, 4.22, 4.5 , 5.  , 6.  , 7.  , 8.  ,\n",
       "       9.  ])"
      ]
     },
     "execution_count": 105,
     "metadata": {},
     "output_type": "execute_result"
    }
   ],
   "source": [
    "test_image"
   ]
  },
  {
   "cell_type": "code",
   "execution_count": 113,
   "metadata": {},
   "outputs": [],
   "source": [
    "test = np.array([1.,2.,3.,4.])\n",
    "phi = 5"
   ]
  },
  {
   "cell_type": "code",
   "execution_count": 114,
   "metadata": {},
   "outputs": [
    {
     "data": {
      "text/plain": [
       "array([6., 7., 8., 9.])"
      ]
     },
     "execution_count": 114,
     "metadata": {},
     "output_type": "execute_result"
    }
   ],
   "source": [
    "phi + test"
   ]
  },
  {
   "cell_type": "code",
   "execution_count": 115,
   "metadata": {},
   "outputs": [],
   "source": [
    "test /= 2."
   ]
  },
  {
   "cell_type": "code",
   "execution_count": 116,
   "metadata": {},
   "outputs": [
    {
     "data": {
      "text/plain": [
       "array([0.5, 1. , 1.5, 2. ])"
      ]
     },
     "execution_count": 116,
     "metadata": {},
     "output_type": "execute_result"
    }
   ],
   "source": [
    "test"
   ]
  },
  {
   "cell_type": "code",
   "execution_count": 119,
   "metadata": {},
   "outputs": [],
   "source": [
    "arr = np.loadtxt('/Users/vdk/gauss.txt')"
   ]
  },
  {
   "cell_type": "code",
   "execution_count": 127,
   "metadata": {},
   "outputs": [
    {
     "data": {
      "text/plain": [
       "(0.0, 0.01)"
      ]
     },
     "execution_count": 127,
     "metadata": {},
     "output_type": "execute_result"
    },
    {
     "data": {
      "image/png": "[encoded data removed]",
      "text/plain": [
       "<Figure size 640x480 with 1 Axes>"
      ]
     },
     "metadata": {},
     "output_type": "display_data"
    }
   ],
   "source": [
    "plt.hist(arr, bins = 100, density=True)\n",
    "plt.xlim(0,0.01)"
   ]
  },
  {
   "cell_type": "code",
   "execution_count": 128,
   "metadata": {},
   "outputs": [
    {
     "name": "stdout",
     "output_type": "stream",
     "text": [
      "f\n",
      "f\n"
     ]
    }
   ],
   "source": [
    "for _ in (0, 0):\n",
    "    print('f')"
   ]
  },
  {
   "cell_type": "code",
   "execution_count": 129,
   "metadata": {},
   "outputs": [],
   "source": [
    "test_list = [1,2,3,4,5]\n",
    "result = ','.join(map(str, test_list))"
   ]
  },
  {
   "cell_type": "code",
   "execution_count": 131,
   "metadata": {},
   "outputs": [
    {
     "name": "stdout",
     "output_type": "stream",
     "text": [
      "True\n"
     ]
    }
   ],
   "source": [
    "if result:\n",
    "    print(True)"
   ]
  },
  {
   "cell_type": "code",
   "execution_count": 163,
   "metadata": {},
   "outputs": [
    {
     "data": {
      "text/plain": [
       "<matplotlib.legend.Legend at 0x17af7ce50>"
      ]
     },
     "execution_count": 163,
     "metadata": {},
     "output_type": "execute_result"
    },
    {
     "data": {
      "image/png": "[encoded data removed]",
      "text/plain": [
       "<Figure size 640x480 with 1 Axes>"
      ]
     },
     "metadata": {},
     "output_type": "display_data"
    }
   ],
   "source": [
    "x = [-70.93, -35.27, 75.28, 30.91]\n",
    "y = [-52.07, 66.14, 50.49, -64.54]\n",
    "circle = []\n",
    "telescope1 = [-70.93, -52.07]\n",
    "telescope2 = [-35.27, 66.14]\n",
    "telescope3 = [75.28, 50.49]\n",
    "telescope4 = [30.91, -64.54]\n",
    "plt.scatter(telescope1[0],telescope1[1], label = 'LST1', marker = 'x', s =200)\n",
    "plt.scatter(telescope2[0],telescope2[1], label = 'LST2', marker = 'x', s =200)\n",
    "plt.scatter(telescope3[0],telescope3[1], label = 'LST3', marker = 'x', s =200)\n",
    "plt.scatter(telescope4[0],telescope4[1], label = 'LST4', marker = 'x', s =200)\n",
    "circle2 = plt.Circle((0, 0), 150, color='b', fill=False)\n",
    "plt.scatter(0,0, marker = 's', c = 'k', s = 100)\n",
    "plt.xlim(-200,200)\n",
    "plt.ylim(-200,200)\n",
    "plt.grid(alpha = 0.5)\n",
    "plt.gca().add_patch(circle2)\n",
    "plt.xlabel(\"meters\")\n",
    "plt.ylabel(\"meters\")\n",
    "plt.legend()\n"
   ]
  },
  {
   "cell_type": "code",
   "execution_count": 150,
   "metadata": {},
   "outputs": [
    {
     "name": "stdout",
     "output_type": "stream",
     "text": [
      "70.56199331084689\n",
      "36.19548176223105\n",
      "75.61460440946577\n",
      "29.847748658818475\n"
     ]
    }
   ],
   "source": [
    "print(np.sqrt((telescope1[0])**2 + telescope1[1]))\n",
    "print(np.sqrt((telescope2[0])**2 + telescope2[1]))\n",
    "print(np.sqrt((telescope3[0])**2 + telescope3[1]))\n",
    "print(np.sqrt((telescope4[0])**2 + telescope4[1]))"
   ]
  },
  {
   "cell_type": "code",
   "execution_count": 194,
   "metadata": {},
   "outputs": [],
   "source": [
    "lines = []\n",
    "with open('/Users/vdk/data_data.txt', 'r') as fi:\n",
    "    lines = fi.readlines()\n"
   ]
  },
  {
   "cell_type": "code",
   "execution_count": 196,
   "metadata": {},
   "outputs": [
    {
     "data": {
      "text/plain": [
       "['1,4\\n', '1,4\\n', '1,4\\n']"
      ]
     },
     "execution_count": 196,
     "metadata": {},
     "output_type": "execute_result"
    }
   ],
   "source": [
    "lines"
   ]
  },
  {
   "cell_type": "code",
   "execution_count": 171,
   "metadata": {},
   "outputs": [],
   "source": [
    "test = ','.split(lines[0][:-1])"
   ]
  },
  {
   "cell_type": "code",
   "execution_count": 186,
   "metadata": {},
   "outputs": [],
   "source": [
    "separated = list(map(int, lines[0][:-1].split(',')))"
   ]
  },
  {
   "cell_type": "code",
   "execution_count": 187,
   "metadata": {},
   "outputs": [
    {
     "data": {
      "text/plain": [
       "[1, 4]"
      ]
     },
     "execution_count": 187,
     "metadata": {},
     "output_type": "execute_result"
    }
   ],
   "source": [
    "separated"
   ]
  },
  {
   "cell_type": "code",
   "execution_count": 188,
   "metadata": {},
   "outputs": [],
   "source": [
    "test_lines = ['1\\n','1\\n','1\\n']"
   ]
  },
  {
   "cell_type": "code",
   "execution_count": 189,
   "metadata": {},
   "outputs": [],
   "source": [
    "separated = list(map(int, test_lines[0][:-1].split(',')))"
   ]
  },
  {
   "cell_type": "code",
   "execution_count": 203,
   "metadata": {},
   "outputs": [
    {
     "data": {
      "text/plain": [
       "[[1, 4], [1, 4], [1, 4]]"
      ]
     },
     "execution_count": 203,
     "metadata": {},
     "output_type": "execute_result"
    }
   ],
   "source": [
    "separated = []\n",
    "for line in lines:\n",
    "    separated.append(list(map(int, lines[0][:-1].split(','))))\n",
    "\n",
    "separated"
   ]
  },
  {
   "cell_type": "code",
   "execution_count": 209,
   "metadata": {},
   "outputs": [
    {
     "data": {
      "text/plain": [
       "[1, 4, 1, 4, 1, 4]"
      ]
     },
     "execution_count": 209,
     "metadata": {},
     "output_type": "execute_result"
    }
   ],
   "source": [
    "\n",
    "lengths = [len(subarray) for subarray in separated]\n",
    "one_dim = list(chain.from_iterable(separated))\n",
    "one_dim"
   ]
  },
  {
   "cell_type": "code",
   "execution_count": 218,
   "metadata": {},
   "outputs": [],
   "source": [
    "filename = 'test.fdsf'\n",
    "if filename == 'kek':\n",
    "    pass\n",
    "elif not filename.endswith(\".h5\"):\n",
    "    filename += \".h5\""
   ]
  },
  {
   "cell_type": "code",
   "execution_count": 228,
   "metadata": {},
   "outputs": [],
   "source": [
    "test1 = np.array([1,2,3,4,5])\n",
    "test2 = np.array([2,2])\n",
    "\n",
    "result = test1[~test2]"
   ]
  },
  {
   "cell_type": "code",
   "execution_count": 229,
   "metadata": {},
   "outputs": [
    {
     "data": {
      "text/plain": [
       "array([3, 3])"
      ]
     },
     "execution_count": 229,
     "metadata": {},
     "output_type": "execute_result"
    }
   ],
   "source": [
    "tel_arr = [1,2,3,4,5]\n",
    "good_muon_data = self.kwargs.pop(\n",
    "    \"good_muon_data\",\n",
    "    {tel_id: True for tel_id in self.eventsource.subarray.tels.keys()},\n",
    ")"
   ]
  },
  {
   "cell_type": "code",
   "execution_count": 25,
   "metadata": {},
   "outputs": [
    {
     "data": {
      "text/plain": [
       "<matplotlib.collections.PathCollection at 0x144d1d9d0>"
      ]
     },
     "execution_count": 25,
     "metadata": {},
     "output_type": "execute_result"
    },
    {
     "data": {
      "image/png": "[encoded data removed]",
      "text/plain": [
       "<Figure size 640x480 with 1 Axes>"
      ]
     },
     "metadata": {},
     "output_type": "display_data"
    }
   ],
   "source": [
    "y = [1036, 920, 818, 726, 643, 568, 499, 438, 383, 333, 288, 249, 213, 182, 155, 132, 112, 95, 80, 67, 57]\n",
    "x = [i for i in range(21)]\n",
    "xvals = np.linspace(0, 20, 20000)\n",
    "\n",
    "yinterp = np.interp(xvals, x, y)\n",
    "\n",
    "plt.scatter(x,y, s = 200)\n",
    "plt.scatter(xvals, yinterp, alpha = 0.2)\n"
   ]
  },
  {
   "cell_type": "code",
   "execution_count": 27,
   "metadata": {},
   "outputs": [
    {
     "data": {
      "text/plain": [
       "622.1339566978348"
      ]
     },
     "execution_count": 27,
     "metadata": {},
     "output_type": "execute_result"
    }
   ],
   "source": [
    "yinterp[4278]"
   ]
  },
  {
   "cell_type": "code",
   "execution_count": 20,
   "metadata": {},
   "outputs": [
    {
     "data": {
      "text/plain": [
       "678.841192059603"
      ]
     },
     "execution_count": 20,
     "metadata": {},
     "output_type": "execute_result"
    }
   ],
   "source": [
    "yinterp[3568]"
   ]
  },
  {
   "cell_type": "code",
   "execution_count": 28,
   "metadata": {},
   "outputs": [
    {
     "data": {
      "text/plain": [
       "715.9440472023601"
      ]
     },
     "execution_count": 28,
     "metadata": {},
     "output_type": "execute_result"
    }
   ],
   "source": [
    "yinterp[3121]"
   ]
  },
  {
   "cell_type": "code",
   "execution_count": 22,
   "metadata": {},
   "outputs": [
    {
     "data": {
      "text/plain": [
       "array([0.        , 0.22222222, 0.44444444, 0.66666667, 0.88888889,\n",
       "       1.11111111, 1.33333333, 1.55555556, 1.77777778, 2.        ])"
      ]
     },
     "execution_count": 22,
     "metadata": {},
     "output_type": "execute_result"
    }
   ],
   "source": [
    "np.linspace(0,2,10)"
   ]
  },
  {
   "cell_type": "markdown",
   "metadata": {},
   "source": []
  }
 ],
 "metadata": {
  "kernelspec": {
   "display_name": "cta",
   "language": "python",
   "name": "cta"
  },
  "language_info": {
   "codemirror_mode": {
    "name": "ipython",
    "version": 3
   },
   "file_extension": ".py",
   "mimetype": "text/x-python",
   "name": "python",
   "nbconvert_exporter": "python",
   "pygments_lexer": "ipython3",
   "version": "3.11.6"
  },
  "orig_nbformat": 4
 },
 "nbformat": 4,
 "nbformat_minor": 2
}
