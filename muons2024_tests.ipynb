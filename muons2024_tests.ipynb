{
 "cells": [
  {
   "cell_type": "code",
   "execution_count": 1,
   "metadata": {},
   "outputs": [],
   "source": [
    "import glob\n",
    "import numpy as np"
   ]
  },
  {
   "cell_type": "code",
   "execution_count": 8,
   "metadata": {},
   "outputs": [],
   "source": [
    "files = glob.glob(\"/Users/vdk/v0.10/*\")"
   ]
  },
  {
   "cell_type": "code",
   "execution_count": 10,
   "metadata": {},
   "outputs": [],
   "source": [
    "new_files = [file[-8:] for file in files]"
   ]
  },
  {
   "cell_type": "code",
   "execution_count": 12,
   "metadata": {},
   "outputs": [
    {
     "data": {
      "text/plain": [
       "168"
      ]
     },
     "execution_count": 12,
     "metadata": {},
     "output_type": "execute_result"
    }
   ],
   "source": [
    "len(new_files)"
   ]
  },
  {
   "cell_type": "code",
   "execution_count": 14,
   "metadata": {},
   "outputs": [
    {
     "name": "stdout",
     "output_type": "stream",
     "text": [
      "['20210811', '20230616', '20230810', '20220629', '20230817', '20231104', '20230821', '20230819', '20231103', '20230619', '20230818', '20230211', '20230820', '20230816', '20220628', '20230220', '20230811', '20240228', '20230709', '20221220', '20240210', '20221015', '20221023', '20221024', '20231216', '20231211', '20231218', '20230908', '20231012', '20231220', '20221025', '20240218', '20230706', '20221219', '20240211', '20230708', '20240216', '20231210', '20231217', '20230922', '20231007', '20230121', '20230313', '20230126', '20231009', '20230322', '20231203', '20230117', '20230518', '20210315', '20230712', '20240205', '20230724', '20230516', '20230723', '20240202', '20230324', '20231008', '20230912', '20230924', '20230118', '20230315', '20230923', '20230120', '20231006', '20230722', '20240203', '20240204', '20230725', '20230713', '20230714', '20231116', '20231111', '20231118', '20240117', '20240110', '20210803', '20240119', '20240121', '20210804', '20231121', '20231119', '20201118', '20231110', '20231117', '20210805', '20210802', '20240118', '20240111', '20240129', '20230222', '20230214', '20231107', '20230213', '20230822', '20240130', '20230824', '20231108', '20230812', '20230815', '20210213', '20240109', '20230625', '20240131', '20230622', '20231212', '20231215', '20231011', '20201213', '20221016', '20240213', '20240214', '20221018', '20231010', '20201215', '20231214', '20231213', '20221021', '20221026', '20240215', '20221222', '20221028', '20240212', '20221017', '20230523', '20240208', '20240201', '20240206', '20230125', '20230919', '20231209', '20230921', '20230310', '20230917', '20230319', '20230114', '20230321', '20231207', '20240207', '20230721', '20230717', '20210317', '20230911', '20231206', '20230318', '20230916', '20230115', '20231201', '20230920', '20231208', '20231005', '20230918', '20230124', '20201207', '20210809', '20240113', '20240114', '20210807', '20230808', '20231112', '20231115', '20230208', '20210808', '20230807', '20231122', '20231114', '20231113', '20230809']\n"
     ]
    }
   ],
   "source": [
    "print(new_files)"
   ]
  },
  {
   "cell_type": "code",
   "execution_count": 1,
   "metadata": {},
   "outputs": [],
   "source": [
    "import astropy.units as u"
   ]
  },
  {
   "cell_type": "code",
   "execution_count": 6,
   "metadata": {},
   "outputs": [],
   "source": [
    "q = 1.6e-19 * u.C\n",
    "electron_charge = q/q"
   ]
  },
  {
   "cell_type": "code",
   "execution_count": 7,
   "metadata": {},
   "outputs": [
    {
     "data": {
      "text/latex": [
       "$1 \\; \\mathrm{}$"
      ],
      "text/plain": [
       "<Quantity 1.>"
      ]
     },
     "execution_count": 7,
     "metadata": {},
     "output_type": "execute_result"
    }
   ],
   "source": []
  },
  {
   "cell_type": "code",
   "execution_count": 8,
   "metadata": {},
   "outputs": [],
   "source": [
    "test_arr =  ['/home/jovyan/muon_fits/Run01796.0033.fits',\n",
    " '/home/jovyan/muon_fits/Run01996.0173.fits',\n",
    " '/home/jovyan/muon_fits/Run01996.0046.fits',\n",
    " '/home/jovyan/muon_fits/Run01996.0140.fits',\n",
    " '/home/jovyan/muon_fits/Run01996.0012.fits',\n",
    " '/home/jovyan/muon_fits/Run01996.0054.fits',\n",
    " '/home/jovyan/muon_fits/Run02114.0041.fits',\n",
    " '/home/jovyan/muon_fits/Run02114.0050.fits',\n",
    " '/home/jovyan/muon_fits/Run02114.0035.fits',\n",
    " '/home/jovyan/muon_fits/Run02114.0143.fits',\n",
    " '/home/jovyan/muon_fits/Run02114.0014.fits',\n",
    " '/home/jovyan/muon_fits/Run02352.0031.fits',\n",
    " '/home/jovyan/muon_fits/Run02352.0070.fits',\n",
    " '/home/jovyan/muon_fits/Run02352.0012.fits',\n",
    " '/home/jovyan/muon_fits/Run02352.0015.fits',\n",
    " '/home/jovyan/muon_fits/Run02352.0038.fits',\n",
    " '/home/jovyan/muon_fits/Run02352.0082.fits',\n",
    " '/home/jovyan/muon_fits/Run02352.0105.fits',\n",
    " '/home/jovyan/muon_fits/Run02352.0024.fits',\n",
    " '/home/jovyan/muon_fits/Run02007.0049.fits',\n",
    " '/home/jovyan/muon_fits/Run02007.0089.fits',\n",
    " '/home/jovyan/muon_fits/Run02007.0039.fits',\n",
    " '/home/jovyan/muon_fits/Run02007.0059.fits',\n",
    " '/home/jovyan/muon_fits/Run02007.0042.fits',\n",
    " '/home/jovyan/muon_fits/Run02007.0043.fits',\n",
    " '/home/jovyan/muon_fits/Run02007.0064.fits',\n",
    " '/home/jovyan/muon_fits/Run02007.0035.fits']"
   ]
  },
  {
   "cell_type": "code",
   "execution_count": 9,
   "metadata": {},
   "outputs": [
    {
     "data": {
      "text/plain": [
       "['Run01796.0033.fits',\n",
       " 'Run01996.0173.fits',\n",
       " 'Run01996.0046.fits',\n",
       " 'Run01996.0140.fits',\n",
       " 'Run01996.0012.fits',\n",
       " 'Run01996.0054.fits',\n",
       " 'Run02114.0041.fits',\n",
       " 'Run02114.0050.fits',\n",
       " 'Run02114.0035.fits',\n",
       " 'Run02114.0143.fits',\n",
       " 'Run02114.0014.fits',\n",
       " 'Run02352.0031.fits',\n",
       " 'Run02352.0070.fits',\n",
       " 'Run02352.0012.fits',\n",
       " 'Run02352.0015.fits',\n",
       " 'Run02352.0038.fits',\n",
       " 'Run02352.0082.fits',\n",
       " 'Run02352.0105.fits',\n",
       " 'Run02352.0024.fits',\n",
       " 'Run02007.0049.fits',\n",
       " 'Run02007.0089.fits',\n",
       " 'Run02007.0039.fits',\n",
       " 'Run02007.0059.fits',\n",
       " 'Run02007.0042.fits',\n",
       " 'Run02007.0043.fits',\n",
       " 'Run02007.0064.fits',\n",
       " 'Run02007.0035.fits']"
      ]
     },
     "execution_count": 9,
     "metadata": {},
     "output_type": "execute_result"
    }
   ],
   "source": [
    "short_files = [run_name[-18:] for run_name in test_arr]\n",
    "short_files"
   ]
  },
  {
   "cell_type": "code",
   "execution_count": 10,
   "metadata": {},
   "outputs": [
    {
     "data": {
      "text/plain": [
       "['01796',\n",
       " '01996',\n",
       " '01996',\n",
       " '01996',\n",
       " '01996',\n",
       " '01996',\n",
       " '02007',\n",
       " '02007',\n",
       " '02007',\n",
       " '02007',\n",
       " '02007',\n",
       " '02007',\n",
       " '02007',\n",
       " '02007',\n",
       " '02114',\n",
       " '02114',\n",
       " '02114',\n",
       " '02114',\n",
       " '02114',\n",
       " '02352',\n",
       " '02352',\n",
       " '02352',\n",
       " '02352',\n",
       " '02352',\n",
       " '02352',\n",
       " '02352',\n",
       " '02352']"
      ]
     },
     "execution_count": 10,
     "metadata": {},
     "output_type": "execute_result"
    }
   ],
   "source": [
    "run_number = [file_part[3:8] for file_part in short_files]\n",
    "sorted_run_number = sorted(run_number, key=int)\n",
    "sorted_run_number"
   ]
  },
  {
   "cell_type": "code",
   "execution_count": 11,
   "metadata": {},
   "outputs": [
    {
     "data": {
      "text/plain": [
       "{'01796', '01996', '02007', '02114', '02352'}"
      ]
     },
     "execution_count": 11,
     "metadata": {},
     "output_type": "execute_result"
    }
   ],
   "source": [
    "set_sorted_run = set(sorted_run_number)\n",
    "set_sorted_run"
   ]
  },
  {
   "cell_type": "code",
   "execution_count": 12,
   "metadata": {},
   "outputs": [],
   "source": [
    "dict = {}\n",
    "for run in set_sorted_run:\n",
    "    dict[run] = []\n",
    "\n",
    "for run in set_sorted_run:    \n",
    "    for subrun in short_files:\n",
    "        if run in subrun:\n",
    "            dict[run].append(subrun)\n"
   ]
  },
  {
   "cell_type": "code",
   "execution_count": 13,
   "metadata": {},
   "outputs": [
    {
     "data": {
      "text/plain": [
       "{'02007': ['Run02007.0049.fits',\n",
       "  'Run02007.0089.fits',\n",
       "  'Run02007.0039.fits',\n",
       "  'Run02007.0059.fits',\n",
       "  'Run02007.0042.fits',\n",
       "  'Run02007.0043.fits',\n",
       "  'Run02007.0064.fits',\n",
       "  'Run02007.0035.fits'],\n",
       " '02352': ['Run02352.0031.fits',\n",
       "  'Run02352.0070.fits',\n",
       "  'Run02352.0012.fits',\n",
       "  'Run02352.0015.fits',\n",
       "  'Run02352.0038.fits',\n",
       "  'Run02352.0082.fits',\n",
       "  'Run02352.0105.fits',\n",
       "  'Run02352.0024.fits'],\n",
       " '01996': ['Run01996.0173.fits',\n",
       "  'Run01996.0046.fits',\n",
       "  'Run01996.0140.fits',\n",
       "  'Run01996.0012.fits',\n",
       "  'Run01996.0054.fits'],\n",
       " '01796': ['Run01796.0033.fits'],\n",
       " '02114': ['Run02114.0041.fits',\n",
       "  'Run02114.0050.fits',\n",
       "  'Run02114.0035.fits',\n",
       "  'Run02114.0143.fits',\n",
       "  'Run02114.0014.fits']}"
      ]
     },
     "execution_count": 13,
     "metadata": {},
     "output_type": "execute_result"
    }
   ],
   "source": [
    "dict"
   ]
  },
  {
   "cell_type": "code",
   "execution_count": null,
   "metadata": {},
   "outputs": [],
   "source": []
  }
 ],
 "metadata": {
  "kernelspec": {
   "display_name": "cta-test",
   "language": "python",
   "name": "python3"
  },
  "language_info": {
   "codemirror_mode": {
    "name": "ipython",
    "version": 3
   },
   "file_extension": ".py",
   "mimetype": "text/x-python",
   "name": "python",
   "nbconvert_exporter": "python",
   "pygments_lexer": "ipython3",
   "version": "3.9.18"
  }
 },
 "nbformat": 4,
 "nbformat_minor": 2
}
