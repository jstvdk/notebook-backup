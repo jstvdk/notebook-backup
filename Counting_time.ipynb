{
 "cells": [
  {
   "cell_type": "code",
   "execution_count": 2,
   "metadata": {},
   "outputs": [],
   "source": [
    "import sys\n",
    "sys.path.append('/Users/vdk/GeneveWork/Code/calibpipe-main-calibpipe/')\n",
    "from astropy.io import ascii\n",
    "import numpy as np\n",
    "import pandas as pd\n",
    "import matplotlib\n",
    "import csv\n",
    "import scipy\n",
    "import matplotlib.pyplot as plt\n",
    "from seaborn import histplot\n",
    "import random\n",
    "import copy\n",
    "from os import path, makedirs\n",
    "from astropy.coordinates import SkyCoord\n",
    "from astropy.table import Table\n",
    "import astropy.units as u\n",
    "from ctapipe.containers import MuonEfficiencyContainer\n",
    "from ctapipe.coordinates import CameraFrame, TelescopeFrame\n",
    "from ctapipe.io import EventSource, EventSeeker\n",
    "from ctapipe.core import TelescopeComponent\n",
    "from ctapipe.core.traits import (\n",
    "    List,\n",
    "    Int,\n",
    "    FloatTelescopeParameter,\n",
    "    TelescopeParameter,\n",
    "    Unicode,\n",
    ")\n",
    "from ctapipe.image.cleaning import tailcuts_clean\n",
    "from ctapipe.image.muon import MuonRingFitter, MuonIntensityFitter\n",
    "from traitlets.config import Config\n",
    "from ctapipe.image import ImageProcessor\n",
    "from ctapipe.image.muon import MuonProcessor\n",
    "from ctapipe.visualization import CameraDisplay\n",
    "from ctapipe.instrument import CameraGeometry\n",
    "from ctapipe.calib import CameraCalibrator\n",
    "from traitlets.config.loader import Config, FileConfigLoader, JSONFileConfigLoader\n",
    "import pathlib\n",
    "from calibpipe.throughput import MuonCalibrator\n",
    "from traitlets.config import Config\n",
    "from astropy.time import Time\n",
    "from astropy.coordinates import EarthLocation,SkyCoord, AltAz \n",
    "import time\n",
    "from ctapipe.image import number_of_island_sizes\n",
    "from ctapipe.image import (\n",
    "    hillas_parameters,\n",
    "    leakage_parameters,\n",
    "    concentration_parameters,\n",
    ")\n",
    "from ctapipe.image import timing_parameters\n",
    "from ctapipe.image import number_of_islands\n",
    "from ctapipe.image import camera_to_shower_coordinates\n",
    "import ctapipe\n",
    "from lstchain.io import replace_config, standard_config\n",
    "import h5py\n",
    "from astropy.io import fits\n",
    "import json\n",
    "import os\n",
    "from pyirf import spectral,simulations,utils "
   ]
  },
  {
   "cell_type": "markdown",
   "metadata": {},
   "source": [
    "## Observations"
   ]
  },
  {
   "cell_type": "code",
   "execution_count": 20,
   "metadata": {},
   "outputs": [],
   "source": [
    "# Треба завантажити конфіг в івент соурс\n",
    "filename = f'/Users/vdk/RealLST/LST-1.1.Run15085.0001.fits.fz'\n",
    "\n",
    "int_cut = 0.3\n",
    "min_pixel = 30\n",
    "\n",
    "config_filename = '/Users/vdk/RealLST/typical_run_data/lstchain_standard_v0.10_heuristic_ff.json'\n",
    "with open(config_filename) as json_file:\n",
    "    config_data = json.load(json_file)\n",
    "\n",
    "custom_config = Config(config_data)\n",
    "\n",
    "muon_processor_config = Config({\"MuonProcessor\": \n",
    "                                {\"RingQuery\": \n",
    "                                 {\"quality_criteria\" : [[\"intensity_check\",f\"np.abs(parameters.intensity_ratio - 1) < {int_cut}\"],\n",
    "                                                        [\"ring_containment\", \"parameters.containment > 0.5\"],\n",
    "                                                        [\"ring_completeness\", \"parameters.completeness > 0.5\"]]}}})\n",
    "\n",
    "muon_processor_config_2 = Config({\"MuonProcessor\":\n",
    "                                {\"ImageParameterQuery\" :\n",
    "                                 {\"quality_criteria\" : [[\"min_pixels\", f\"dl1_params.morphology.n_pixels > {min_pixel}\"],\n",
    "                                                        [\"min_intensity\", \"dl1_params.hillas.intensity > 500\"]]}}})\n",
    "\n",
    "cfg = Config({\n",
    "    \"source_config\": {\n",
    "        \"EventSource\" : {\n",
    "            \"allowed_tels\": [1],\"max_events\": 9999}},\n",
    "        \"PointingSource\":{\n",
    "            \"drive_report_path\": '/Users/vdk/RealLST/data/DrivePosition_log_20231007.txt'},\n",
    "        \"LSTR0Corrections\": {\n",
    "          \"calib_scale_high_gain\":1.088,\n",
    "          \"calib_scale_low_gain\":1.004,\n",
    "          \"drs4_pedestal_path\": '/Users/vdk/RealLST/data/drs4_pedestal.Run14937.0000.h5',\n",
    "          \"calibration_path\": '/Users/vdk/RealLST/data/calibration_filters_52.Run14938.0000.h5',\n",
    "          \"drs4_time_calibration_path\": '/Users/vdk/RealLST/data/time_calibration.Run08349.0000.h5'\n",
    "      }})\n",
    "\n",
    "config = replace_config(standard_config, muon_processor_config)\n",
    "config = replace_config(config, muon_processor_config_2)\n",
    "config = replace_config(config, custom_config)\n"
   ]
  },
  {
   "cell_type": "code",
   "execution_count": 21,
   "metadata": {},
   "outputs": [],
   "source": [
    "source = EventSource(filename, config = Config(cfg))\n",
    "event_iterator = iter(source)"
   ]
  },
  {
   "cell_type": "code",
   "execution_count": 22,
   "metadata": {},
   "outputs": [
    {
     "name": "stderr",
     "output_type": "stream",
     "text": [
      "Calculating time reference values not from first event. This might result in wrong timestamps due to UCTS jumps\n",
      "Using event 53003 as time reference for dragon. timestamp: 1697084503430796050 from ucts counter: 8430795800\n"
     ]
    },
    {
     "ename": "ValueError",
     "evalue": "A value (1697084466.4307961) in x_new is above the interpolation range's maximum value (1696766701).",
     "output_type": "error",
     "traceback": [
      "\u001b[0;31m---------------------------------------------------------------------------\u001b[0m",
      "\u001b[0;31mValueError\u001b[0m                                Traceback (most recent call last)",
      "\u001b[1;32m/Users/vdk/JupyterNotebookTransfer/Counting_time.ipynb Cell 5\u001b[0m line \u001b[0;36m2\n\u001b[1;32m      <a href='vscode-notebook-cell:/Users/vdk/JupyterNotebookTransfer/Counting_time.ipynb#W4sZmlsZQ%3D%3D?line=0'>1</a>\u001b[0m time_2 \u001b[39m=\u001b[39m []\n\u001b[0;32m----> <a href='vscode-notebook-cell:/Users/vdk/JupyterNotebookTransfer/Counting_time.ipynb#W4sZmlsZQ%3D%3D?line=1'>2</a>\u001b[0m \u001b[39mfor\u001b[39;00m event \u001b[39min\u001b[39;00m event_iterator:\n\u001b[1;32m      <a href='vscode-notebook-cell:/Users/vdk/JupyterNotebookTransfer/Counting_time.ipynb#W4sZmlsZQ%3D%3D?line=2'>3</a>\u001b[0m     time_2\u001b[39m.\u001b[39mappend(event\u001b[39m.\u001b[39mtrigger\u001b[39m.\u001b[39mtime\u001b[39m.\u001b[39mto_value(\u001b[39mformat\u001b[39m \u001b[39m=\u001b[39m \u001b[39m'\u001b[39m\u001b[39munix_tai\u001b[39m\u001b[39m'\u001b[39m))\n",
      "File \u001b[0;32m~/mambaforge/envs/cta/lib/python3.11/site-packages/ctapipe/io/eventsource.py:323\u001b[0m, in \u001b[0;36mEventSource.__iter__\u001b[0;34m(self)\u001b[0m\n\u001b[1;32m    314\u001b[0m \u001b[39mdef\u001b[39;00m \u001b[39m__iter__\u001b[39m(\u001b[39mself\u001b[39m):\n\u001b[1;32m    315\u001b[0m \u001b[39m    \u001b[39m\u001b[39m\"\"\"\u001b[39;00m\n\u001b[1;32m    316\u001b[0m \u001b[39m    Generator that iterates through `_generator`, but keeps track of\u001b[39;00m\n\u001b[1;32m    317\u001b[0m \u001b[39m    `self.max_events`.\u001b[39;00m\n\u001b[0;32m   (...)\u001b[0m\n\u001b[1;32m    321\u001b[0m \u001b[39m    generator\u001b[39;00m\n\u001b[1;32m    322\u001b[0m \u001b[39m    \"\"\"\u001b[39;00m\n\u001b[0;32m--> 323\u001b[0m     \u001b[39mfor\u001b[39;00m event \u001b[39min\u001b[39;00m \u001b[39mself\u001b[39m\u001b[39m.\u001b[39m_generator():\n\u001b[1;32m    324\u001b[0m         \u001b[39myield\u001b[39;00m event\n\u001b[1;32m    325\u001b[0m         \u001b[39mif\u001b[39;00m \u001b[39mself\u001b[39m\u001b[39m.\u001b[39mmax_events \u001b[39mand\u001b[39;00m event\u001b[39m.\u001b[39mcount \u001b[39m>\u001b[39m\u001b[39m=\u001b[39m \u001b[39mself\u001b[39m\u001b[39m.\u001b[39mmax_events \u001b[39m-\u001b[39m \u001b[39m1\u001b[39m:\n",
      "File \u001b[0;32m~/mambaforge/envs/cta/lib/python3.11/site-packages/ctapipe_io_lst/__init__.py:569\u001b[0m, in \u001b[0;36mLSTEventSource._generator\u001b[0;34m(self)\u001b[0m\n\u001b[1;32m    566\u001b[0m \u001b[39mself\u001b[39m\u001b[39m.\u001b[39mfill_mon_container(array_event, zfits_event)\n\u001b[1;32m    568\u001b[0m \u001b[39mif\u001b[39;00m \u001b[39mself\u001b[39m\u001b[39m.\u001b[39mpointing_information:\n\u001b[0;32m--> 569\u001b[0m     \u001b[39mself\u001b[39;49m\u001b[39m.\u001b[39;49mfill_pointing_info(array_event)\n\u001b[1;32m    571\u001b[0m \u001b[39m# apply low level corrections\u001b[39;00m\n\u001b[1;32m    572\u001b[0m \u001b[39mif\u001b[39;00m \u001b[39mself\u001b[39m\u001b[39m.\u001b[39mapply_drs4_corrections:\n",
      "File \u001b[0;32m~/mambaforge/envs/cta/lib/python3.11/site-packages/ctapipe_io_lst/__init__.py:906\u001b[0m, in \u001b[0;36mLSTEventSource.fill_pointing_info\u001b[0;34m(self, array_event)\u001b[0m\n\u001b[1;32m    904\u001b[0m \u001b[39mdef\u001b[39;00m \u001b[39mfill_pointing_info\u001b[39m(\u001b[39mself\u001b[39m, array_event):\n\u001b[1;32m    905\u001b[0m     tel_id \u001b[39m=\u001b[39m \u001b[39mself\u001b[39m\u001b[39m.\u001b[39mtel_id\n\u001b[0;32m--> 906\u001b[0m     pointing \u001b[39m=\u001b[39m \u001b[39mself\u001b[39;49m\u001b[39m.\u001b[39;49mpointing_source\u001b[39m.\u001b[39;49mget_pointing_position_altaz(\n\u001b[1;32m    907\u001b[0m         tel_id, array_event\u001b[39m.\u001b[39;49mtrigger\u001b[39m.\u001b[39;49mtime,\n\u001b[1;32m    908\u001b[0m     )\n\u001b[1;32m    909\u001b[0m     array_event\u001b[39m.\u001b[39mpointing\u001b[39m.\u001b[39mtel[tel_id] \u001b[39m=\u001b[39m pointing\n\u001b[1;32m    910\u001b[0m     array_event\u001b[39m.\u001b[39mpointing\u001b[39m.\u001b[39marray_altitude \u001b[39m=\u001b[39m pointing\u001b[39m.\u001b[39maltitude\n",
      "File \u001b[0;32m~/mambaforge/envs/cta/lib/python3.11/site-packages/ctapipe_io_lst/pointing.py:240\u001b[0m, in \u001b[0;36mPointingSource.get_pointing_position_altaz\u001b[0;34m(self, tel_id, time)\u001b[0m\n\u001b[1;32m    237\u001b[0m \u001b[39mif\u001b[39;00m tel_id \u001b[39mnot\u001b[39;00m \u001b[39min\u001b[39;00m \u001b[39mself\u001b[39m\u001b[39m.\u001b[39mdrive_log:\n\u001b[1;32m    238\u001b[0m     \u001b[39mself\u001b[39m\u001b[39m.\u001b[39m_read_drive_report_for_tel(tel_id)\n\u001b[0;32m--> 240\u001b[0m alt \u001b[39m=\u001b[39m u\u001b[39m.\u001b[39mQuantity(\u001b[39mself\u001b[39;49m\u001b[39m.\u001b[39;49minterp_alt[tel_id](time\u001b[39m.\u001b[39;49munix), u\u001b[39m.\u001b[39mdeg)\n\u001b[1;32m    241\u001b[0m az \u001b[39m=\u001b[39m u\u001b[39m.\u001b[39mQuantity(\u001b[39mself\u001b[39m\u001b[39m.\u001b[39minterp_az[tel_id](time\u001b[39m.\u001b[39munix), u\u001b[39m.\u001b[39mdeg)\n\u001b[1;32m    243\u001b[0m \u001b[39mreturn\u001b[39;00m TelescopePointingContainer(\n\u001b[1;32m    244\u001b[0m     altitude\u001b[39m=\u001b[39malt\u001b[39m.\u001b[39mto(u\u001b[39m.\u001b[39mrad),\n\u001b[1;32m    245\u001b[0m     azimuth\u001b[39m=\u001b[39maz\u001b[39m.\u001b[39mto(u\u001b[39m.\u001b[39mrad),\n\u001b[1;32m    246\u001b[0m )\n",
      "File \u001b[0;32m~/mambaforge/envs/cta/lib/python3.11/site-packages/scipy/interpolate/_polyint.py:80\u001b[0m, in \u001b[0;36m_Interpolator1D.__call__\u001b[0;34m(self, x)\u001b[0m\n\u001b[1;32m     59\u001b[0m \u001b[39m\u001b[39m\u001b[39m\"\"\"\u001b[39;00m\n\u001b[1;32m     60\u001b[0m \u001b[39mEvaluate the interpolant\u001b[39;00m\n\u001b[1;32m     61\u001b[0m \n\u001b[0;32m   (...)\u001b[0m\n\u001b[1;32m     77\u001b[0m \n\u001b[1;32m     78\u001b[0m \u001b[39m\"\"\"\u001b[39;00m\n\u001b[1;32m     79\u001b[0m x, x_shape \u001b[39m=\u001b[39m \u001b[39mself\u001b[39m\u001b[39m.\u001b[39m_prepare_x(x)\n\u001b[0;32m---> 80\u001b[0m y \u001b[39m=\u001b[39m \u001b[39mself\u001b[39;49m\u001b[39m.\u001b[39;49m_evaluate(x)\n\u001b[1;32m     81\u001b[0m \u001b[39mreturn\u001b[39;00m \u001b[39mself\u001b[39m\u001b[39m.\u001b[39m_finish_y(y, x_shape)\n",
      "File \u001b[0;32m~/mambaforge/envs/cta/lib/python3.11/site-packages/scipy/interpolate/_interpolate.py:755\u001b[0m, in \u001b[0;36minterp1d._evaluate\u001b[0;34m(self, x_new)\u001b[0m\n\u001b[1;32m    753\u001b[0m y_new \u001b[39m=\u001b[39m \u001b[39mself\u001b[39m\u001b[39m.\u001b[39m_call(\u001b[39mself\u001b[39m, x_new)\n\u001b[1;32m    754\u001b[0m \u001b[39mif\u001b[39;00m \u001b[39mnot\u001b[39;00m \u001b[39mself\u001b[39m\u001b[39m.\u001b[39m_extrapolate:\n\u001b[0;32m--> 755\u001b[0m     below_bounds, above_bounds \u001b[39m=\u001b[39m \u001b[39mself\u001b[39;49m\u001b[39m.\u001b[39;49m_check_bounds(x_new)\n\u001b[1;32m    756\u001b[0m     \u001b[39mif\u001b[39;00m \u001b[39mlen\u001b[39m(y_new) \u001b[39m>\u001b[39m \u001b[39m0\u001b[39m:\n\u001b[1;32m    757\u001b[0m         \u001b[39m# Note fill_value must be broadcast up to the proper size\u001b[39;00m\n\u001b[1;32m    758\u001b[0m         \u001b[39m# and flattened to work here\u001b[39;00m\n\u001b[1;32m    759\u001b[0m         y_new[below_bounds] \u001b[39m=\u001b[39m \u001b[39mself\u001b[39m\u001b[39m.\u001b[39m_fill_value_below\n",
      "File \u001b[0;32m~/mambaforge/envs/cta/lib/python3.11/site-packages/scipy/interpolate/_interpolate.py:789\u001b[0m, in \u001b[0;36minterp1d._check_bounds\u001b[0;34m(self, x_new)\u001b[0m\n\u001b[1;32m    787\u001b[0m \u001b[39mif\u001b[39;00m \u001b[39mself\u001b[39m\u001b[39m.\u001b[39mbounds_error \u001b[39mand\u001b[39;00m above_bounds\u001b[39m.\u001b[39many():\n\u001b[1;32m    788\u001b[0m     above_bounds_value \u001b[39m=\u001b[39m x_new[np\u001b[39m.\u001b[39margmax(above_bounds)]\n\u001b[0;32m--> 789\u001b[0m     \u001b[39mraise\u001b[39;00m \u001b[39mValueError\u001b[39;00m(\u001b[39m\"\u001b[39m\u001b[39mA value (\u001b[39m\u001b[39m{}\u001b[39;00m\u001b[39m) in x_new is above \u001b[39m\u001b[39m\"\u001b[39m\n\u001b[1;32m    790\u001b[0m                      \u001b[39m\"\u001b[39m\u001b[39mthe interpolation range\u001b[39m\u001b[39m'\u001b[39m\u001b[39ms maximum value (\u001b[39m\u001b[39m{}\u001b[39;00m\u001b[39m).\u001b[39m\u001b[39m\"\u001b[39m\n\u001b[1;32m    791\u001b[0m                      \u001b[39m.\u001b[39mformat(above_bounds_value, \u001b[39mself\u001b[39m\u001b[39m.\u001b[39mx[\u001b[39m-\u001b[39m\u001b[39m1\u001b[39m]))\n\u001b[1;32m    793\u001b[0m \u001b[39m# !! Should we emit a warning if some values are out of bounds?\u001b[39;00m\n\u001b[1;32m    794\u001b[0m \u001b[39m# !! matlab does not.\u001b[39;00m\n\u001b[1;32m    795\u001b[0m \u001b[39mreturn\u001b[39;00m below_bounds, above_bounds\n",
      "\u001b[0;31mValueError\u001b[0m: A value (1697084466.4307961) in x_new is above the interpolation range's maximum value (1696766701)."
     ]
    }
   ],
   "source": [
    "time_2 = []\n",
    "for event in event_iterator:\n",
    "    time_2.append(event.trigger.time.to_value(format = 'unix_tai'))"
   ]
  },
  {
   "cell_type": "code",
   "execution_count": 23,
   "metadata": {},
   "outputs": [
    {
     "data": {
      "text/plain": [
       "0"
      ]
     },
     "execution_count": 23,
     "metadata": {},
     "output_type": "execute_result"
    }
   ],
   "source": [
    "len(time_2)"
   ]
  },
  {
   "cell_type": "code",
   "execution_count": 24,
   "metadata": {},
   "outputs": [
    {
     "ename": "IndexError",
     "evalue": "list index out of range",
     "output_type": "error",
     "traceback": [
      "\u001b[0;31m---------------------------------------------------------------------------\u001b[0m",
      "\u001b[0;31mIndexError\u001b[0m                                Traceback (most recent call last)",
      "\u001b[1;32m/Users/vdk/JupyterNotebookTransfer/Counting_time.ipynb Cell 7\u001b[0m line \u001b[0;36m1\n\u001b[0;32m----> <a href='vscode-notebook-cell:/Users/vdk/JupyterNotebookTransfer/Counting_time.ipynb#W6sZmlsZQ%3D%3D?line=0'>1</a>\u001b[0m time_2[\u001b[39m-\u001b[39;49m\u001b[39m1\u001b[39;49m] \u001b[39m-\u001b[39m  time_2[\u001b[39m0\u001b[39m]\n",
      "\u001b[0;31mIndexError\u001b[0m: list index out of range"
     ]
    }
   ],
   "source": [
    "time_2[-1] -  time_2[0]"
   ]
  },
  {
   "cell_type": "code",
   "execution_count": 25,
   "metadata": {},
   "outputs": [
    {
     "ename": "IndexError",
     "evalue": "list index out of range",
     "output_type": "error",
     "traceback": [
      "\u001b[0;31m---------------------------------------------------------------------------\u001b[0m",
      "\u001b[0;31mIndexError\u001b[0m                                Traceback (most recent call last)",
      "\u001b[1;32m/Users/vdk/JupyterNotebookTransfer/Counting_time.ipynb Cell 8\u001b[0m line \u001b[0;36m1\n\u001b[0;32m----> <a href='vscode-notebook-cell:/Users/vdk/JupyterNotebookTransfer/Counting_time.ipynb#X10sZmlsZQ%3D%3D?line=0'>1</a>\u001b[0m time_2[\u001b[39m-\u001b[39;49m\u001b[39m1\u001b[39;49m]\n",
      "\u001b[0;31mIndexError\u001b[0m: list index out of range"
     ]
    }
   ],
   "source": [
    "time_2[-1]"
   ]
  },
  {
   "cell_type": "code",
   "execution_count": 34,
   "metadata": {},
   "outputs": [
    {
     "data": {
      "text/plain": [
       "1696720169.7323139"
      ]
     },
     "execution_count": 34,
     "metadata": {},
     "output_type": "execute_result"
    }
   ],
   "source": [
    "time[-1]"
   ]
  },
  {
   "cell_type": "code",
   "execution_count": 21,
   "metadata": {},
   "outputs": [
    {
     "data": {
      "text/plain": [
       "1696720155.4783056"
      ]
     },
     "execution_count": 21,
     "metadata": {},
     "output_type": "execute_result"
    }
   ],
   "source": [
    "event.trigger.time.to_value(format = 'unix_tai')"
   ]
  },
  {
   "cell_type": "code",
   "execution_count": 11,
   "metadata": {},
   "outputs": [
    {
     "data": {
      "text/plain": [
       "0.0010075569152832031"
      ]
     },
     "execution_count": 11,
     "metadata": {},
     "output_type": "execute_result"
    }
   ],
   "source": [
    "1696720155.4783056 - 1696720155.477298"
   ]
  },
  {
   "cell_type": "markdown",
   "metadata": {},
   "source": [
    "## Simulations"
   ]
  },
  {
   "cell_type": "code",
   "execution_count": 131,
   "metadata": {},
   "outputs": [
    {
     "name": "stdout",
     "output_type": "stream",
     "text": [
      "Weighted muons =  22.68288225410579\n",
      "Weighted protons =  13268.778060739964\n"
     ]
    }
   ],
   "source": [
    "muons_energy = [1.203954219818115234e+00, 1.407119393348693848e+00, 3.442558348178863525e-01, 7.431100308895111084e-02, 5.539828166365623474e-02, 6.081026196479797363e-01, 1.953697204589843750e+01, 1.592359095811843872e-01]\n",
    "\n",
    "w_muons = sum([energy**(-0.7) for energy in muons_energy])\n",
    "\n",
    "with open('/Users/vdk/runs31-41_protons.txt', 'r') as fi:\n",
    "    lines1 = fi.readlines()\n",
    "\n",
    "with open('/Users/vdk/runs41-51_protons.txt', 'r') as fi:\n",
    "    lines2 = fi.readlines()\n",
    "\n",
    "splitted = lines1[0].split(' ')\n",
    "protons_energy1 = [float(i) for i in splitted]\n",
    "splitted = lines2[0].split(' ')\n",
    "protons_energy2 = [float(i) for i in splitted]\n",
    "\n",
    "protons_energy = protons_energy1 + protons_energy2\n",
    "\n",
    "w_protons = sum([energy**(-0.7) for energy in protons_energy])\n",
    "print(\"Weighted muons = \", w_muons)\n",
    "print(\"Weighted protons = \", w_protons)"
   ]
  },
  {
   "cell_type": "code",
   "execution_count": 7,
   "metadata": {},
   "outputs": [],
   "source": [
    "Nshow = 20e4 * 10 * 500\n",
    "E_min = 10\n",
    "E_max = 103901\n",
    "viewcone = 9\n",
    "side = 1511.53\n",
    "area = side**2\n",
    "solid_angle = utils.cone_solid_angle(viewcone*u.deg).to_value()\n",
    "\n",
    "# E^-2.7 from 10 to 10e5 GeV\n",
    "energy_integral_true_spec = 0.01173 \n",
    "# E^-2.7 from 10 to 103901 GeV\n",
    "energy_integral_true_spec = 0.01172\n",
    "\n",
    "# E^-0.7 from 10 to 10e5 GeV\n",
    "energy_integral_weigthed_spec = 98.75 \n",
    "# E^-0.7 from 10 to 103901 GeV\n",
    "energy_integral_weigthed_spec = 99.97 \n",
    "\n",
    "energy_integral_true_spec = 0.1\n"
   ]
  },
  {
   "cell_type": "code",
   "execution_count": 6,
   "metadata": {},
   "outputs": [
    {
     "data": {
      "text/plain": [
       "1000000000.0"
      ]
     },
     "execution_count": 6,
     "metadata": {},
     "output_type": "execute_result"
    }
   ],
   "source": [
    "Nshow"
   ]
  },
  {
   "cell_type": "code",
   "execution_count": 8,
   "metadata": {},
   "outputs": [],
   "source": [
    "def intensity(area, solid_angle, energy_integral):\n",
    "    N_0 = 1.8e4\n",
    "    return N_0 * area * solid_angle * 0.74 * energy_integral"
   ]
  },
  {
   "cell_type": "code",
   "execution_count": 12,
   "metadata": {},
   "outputs": [
    {
     "name": "stdout",
     "output_type": "stream",
     "text": [
      "Simulated time 424.6542392931994 sec\n"
     ]
    }
   ],
   "source": [
    "proton_rate = intensity(area=area, solid_angle = solid_angle, energy_integral=energy_integral_true_spec)\n",
    "proton_number = Nshow * energy_integral_weigthed_spec\n",
    "sim_time = proton_number / proton_rate\n",
    "print(f\"Simulated time {sim_time} sec\")"
   ]
  },
  {
   "cell_type": "code",
   "execution_count": 166,
   "metadata": {},
   "outputs": [
    {
     "data": {
      "text/plain": [
       "225.4501173689886"
      ]
     },
     "execution_count": 166,
     "metadata": {},
     "output_type": "execute_result"
    }
   ],
   "source": [
    "w_protons/sim_time"
   ]
  },
  {
   "cell_type": "code",
   "execution_count": 168,
   "metadata": {},
   "outputs": [
    {
     "data": {
      "text/plain": [
       "2.312432287153613"
      ]
     },
     "execution_count": 168,
     "metadata": {},
     "output_type": "execute_result"
    }
   ],
   "source": [
    "(w_muons*6)/sim_time"
   ]
  },
  {
   "cell_type": "code",
   "execution_count": 148,
   "metadata": {},
   "outputs": [
    {
     "data": {
      "text/plain": [
       "22.68288225410579"
      ]
     },
     "execution_count": 148,
     "metadata": {},
     "output_type": "execute_result"
    }
   ],
   "source": [
    "w_muons"
   ]
  },
  {
   "cell_type": "code",
   "execution_count": 45,
   "metadata": {},
   "outputs": [
    {
     "data": {
      "text/plain": [
       "0.004829255176122614"
      ]
     },
     "execution_count": 45,
     "metadata": {},
     "output_type": "execute_result"
    }
   ],
   "source": [
    "17.96/3719"
   ]
  },
  {
   "cell_type": "code",
   "execution_count": 98,
   "metadata": {},
   "outputs": [
    {
     "data": {
      "text/plain": [
       "0.0012831217597637546"
      ]
     },
     "execution_count": 98,
     "metadata": {},
     "output_type": "execute_result"
    }
   ],
   "source": [
    "4.771929824561403/3719"
   ]
  },
  {
   "cell_type": "code",
   "execution_count": 80,
   "metadata": {},
   "outputs": [],
   "source": []
  },
  {
   "cell_type": "code",
   "execution_count": null,
   "metadata": {},
   "outputs": [],
   "source": []
  },
  {
   "cell_type": "code",
   "execution_count": 128,
   "metadata": {},
   "outputs": [
    {
     "data": {
      "text/plain": [
       "22.68288225410579"
      ]
     },
     "execution_count": 128,
     "metadata": {},
     "output_type": "execute_result"
    }
   ],
   "source": [
    "\n",
    "w_muons"
   ]
  },
  {
   "cell_type": "code",
   "execution_count": 83,
   "metadata": {},
   "outputs": [],
   "source": []
  },
  {
   "cell_type": "code",
   "execution_count": 110,
   "metadata": {},
   "outputs": [
    {
     "data": {
      "text/plain": [
       "13268.778060739964"
      ]
     },
     "execution_count": 110,
     "metadata": {},
     "output_type": "execute_result"
    }
   ],
   "source": []
  },
  {
   "cell_type": "code",
   "execution_count": null,
   "metadata": {},
   "outputs": [],
   "source": []
  },
  {
   "cell_type": "code",
   "execution_count": null,
   "metadata": {},
   "outputs": [],
   "source": []
  },
  {
   "cell_type": "code",
   "execution_count": 174,
   "metadata": {},
   "outputs": [
    {
     "data": {
      "text/plain": [
       "15.878017577874054"
      ]
     },
     "execution_count": 174,
     "metadata": {},
     "output_type": "execute_result"
    }
   ],
   "source": [
    "w_muons/elapsed_time"
   ]
  },
  {
   "cell_type": "code",
   "execution_count": 175,
   "metadata": {},
   "outputs": [
    {
     "data": {
      "text/plain": [
       "116.2"
      ]
     },
     "execution_count": 175,
     "metadata": {},
     "output_type": "execute_result"
    }
   ],
   "source": [
    "166/elapsed_time"
   ]
  },
  {
   "cell_type": "code",
   "execution_count": 168,
   "metadata": {},
   "outputs": [
    {
     "data": {
      "text/plain": [
       "62.51"
      ]
     },
     "execution_count": 168,
     "metadata": {},
     "output_type": "execute_result"
    }
   ],
   "source": [
    "266/elapsed_time"
   ]
  },
  {
   "cell_type": "code",
   "execution_count": 169,
   "metadata": {},
   "outputs": [
    {
     "data": {
      "text/plain": [
       "0.012489233419465978"
      ]
     },
     "execution_count": 169,
     "metadata": {},
     "output_type": "execute_result"
    }
   ],
   "source": [
    "116/9288"
   ]
  },
  {
   "cell_type": "code",
   "execution_count": null,
   "metadata": {},
   "outputs": [],
   "source": []
  },
  {
   "cell_type": "code",
   "execution_count": 100,
   "metadata": {},
   "outputs": [
    {
     "data": {
      "text/plain": [
       "116.90140845070422"
      ]
     },
     "execution_count": 100,
     "metadata": {},
     "output_type": "execute_result"
    }
   ],
   "source": [
    "166/1.42"
   ]
  },
  {
   "cell_type": "code",
   "execution_count": 120,
   "metadata": {},
   "outputs": [
    {
     "data": {
      "text/plain": [
       "0.05477001648814644"
      ]
     },
     "execution_count": 120,
     "metadata": {},
     "output_type": "execute_result"
    }
   ],
   "source": [
    "protons_energy[0]**(-0.7)"
   ]
  },
  {
   "cell_type": "code",
   "execution_count": 192,
   "metadata": {},
   "outputs": [],
   "source": [
    "\n"
   ]
  },
  {
   "cell_type": "code",
   "execution_count": 193,
   "metadata": {},
   "outputs": [],
   "source": []
  },
  {
   "cell_type": "code",
   "execution_count": 194,
   "metadata": {},
   "outputs": [
    {
     "data": {
      "text/plain": [
       "1.0910441860127758"
      ]
     },
     "execution_count": 194,
     "metadata": {},
     "output_type": "execute_result"
    }
   ],
   "source": [
    "Nshow / intensity"
   ]
  },
  {
   "cell_type": "markdown",
   "metadata": {},
   "source": []
  },
  {
   "cell_type": "code",
   "execution_count": 200,
   "metadata": {},
   "outputs": [],
   "source": [
    "def intensity(area, solid_angle):\n",
    "    return 1.8 * 10000 * solid_angle * area * 0.74"
   ]
  },
  {
   "cell_type": "code",
   "execution_count": 203,
   "metadata": {},
   "outputs": [],
   "source": [
    "test = intensity(area, solid_angle)"
   ]
  },
  {
   "cell_type": "code",
   "execution_count": 204,
   "metadata": {},
   "outputs": [
    {
     "data": {
      "text/plain": [
       "1.4743840351523994"
      ]
     },
     "execution_count": 204,
     "metadata": {},
     "output_type": "execute_result"
    }
   ],
   "source": [
    "Nshow / (test * integral)"
   ]
  },
  {
   "cell_type": "code",
   "execution_count": 205,
   "metadata": {},
   "outputs": [
    {
     "data": {
      "text/plain": [
       "321.08843537414964"
      ]
     },
     "execution_count": 205,
     "metadata": {},
     "output_type": "execute_result"
    }
   ],
   "source": [
    "472/1.47"
   ]
  },
  {
   "cell_type": "code",
   "execution_count": 212,
   "metadata": {},
   "outputs": [
    {
     "data": {
      "text/plain": [
       "['__name__',\n",
       " '__doc__',\n",
       " '__package__',\n",
       " '__loader__',\n",
       " '__spec__',\n",
       " '__path__',\n",
       " '__file__',\n",
       " '__cached__',\n",
       " '__builtins__',\n",
       " '_version',\n",
       " 'version',\n",
       " '__version__',\n",
       " '__all__',\n",
       " 'binning',\n",
       " 'cuts',\n",
       " 'simulations',\n",
       " 'io',\n",
       " 'exceptions',\n",
       " 'utils',\n",
       " 'interpolation']"
      ]
     },
     "execution_count": 212,
     "metadata": {},
     "output_type": "execute_result"
    }
   ],
   "source": [
    "pyirf.__dir__()"
   ]
  },
  {
   "cell_type": "code",
   "execution_count": 63,
   "metadata": {},
   "outputs": [],
   "source": [
    "\n"
   ]
  },
  {
   "cell_type": "code",
   "execution_count": 9,
   "metadata": {},
   "outputs": [
    {
     "data": {
      "text/plain": [
       "PowerLaw(18000.0 1 / (GeV s sr m2) * (E / 1.0 GeV)**-2.7)"
      ]
     },
     "execution_count": 9,
     "metadata": {},
     "output_type": "execute_result"
    }
   ],
   "source": [
    "spectral.PDG_ALL_PARTICLE"
   ]
  },
  {
   "cell_type": "code",
   "execution_count": 46,
   "metadata": {},
   "outputs": [],
   "source": [
    "power_law = spectral.PowerLaw(normalization=1 * spectral.DIFFUSE_FLUX_UNIT,\n",
    "        index=-2)"
   ]
  },
  {
   "cell_type": "code",
   "execution_count": 69,
   "metadata": {},
   "outputs": [],
   "source": [
    "simulated_events = simulations.SimulatedEventsInfo(n_showers=int(20e6),\n",
    "                                                   energy_min=10 * u.GeV,\n",
    "                                                   energy_max=100 * u.TeV,\n",
    "                                                   max_impact=1500 * u.m,\n",
    "                                                   spectral_index=-2,\n",
    "                                                   viewcone=10 * u.deg)\n",
    "\n",
    "energy_bins = np.geomspace(simulated_events.energy_min, simulated_events.energy_max, 300)"
   ]
  },
  {
   "cell_type": "code",
   "execution_count": 75,
   "metadata": {},
   "outputs": [
    {
     "data": {
      "text/plain": [
       "20000000.00000001"
      ]
     },
     "execution_count": 75,
     "metadata": {},
     "output_type": "execute_result"
    }
   ],
   "source": [
    "#plt.hist(simulated_events.calculate_n_showers_per_energy(energy_bins), log = True)\n",
    "\n",
    "sum(simulated_events.calculate_n_showers_per_energy(energy_bins))"
   ]
  },
  {
   "cell_type": "code",
   "execution_count": 53,
   "metadata": {},
   "outputs": [
    {
     "data": {
      "text/plain": [
       "PowerLaw(0.0592883209766677 1 / (TeV s sr m2) * (E / 1.0 TeV)**-2)"
      ]
     },
     "execution_count": 53,
     "metadata": {},
     "output_type": "execute_result"
    }
   ],
   "source": [
    "power_law.from_simulation(simulated_events, 5*u.second)"
   ]
  },
  {
   "cell_type": "code",
   "execution_count": 54,
   "metadata": {},
   "outputs": [
    {
     "data": {
      "text/plain": [
       "PowerLaw(0.0954557030567379 1 / (TeV s m2) * (E / 1.0 TeV)**-2)"
      ]
     },
     "execution_count": 54,
     "metadata": {},
     "output_type": "execute_result"
    }
   ],
   "source": [
    "power_law.integrate_cone(0*u.deg, 10*u.deg)"
   ]
  },
  {
   "cell_type": "code",
   "execution_count": 62,
   "metadata": {},
   "outputs": [
    {
     "data": {
      "text/plain": [
       "0.00569209978830307"
      ]
     },
     "execution_count": 62,
     "metadata": {},
     "output_type": "execute_result"
    }
   ],
   "source": [
    "spectral.calculate_event_weights(100*u.TeV, spectral.PDG_ALL_PARTICLE, power_law)"
   ]
  },
  {
   "cell_type": "code",
   "execution_count": 66,
   "metadata": {},
   "outputs": [
    {
     "data": {
      "text/latex": [
       "$0.095455703 \\; \\mathrm{sr}$"
      ],
      "text/plain": [
       "<Quantity 0.0954557 sr>"
      ]
     },
     "execution_count": 66,
     "metadata": {},
     "output_type": "execute_result"
    }
   ],
   "source": [
    "utils.cone_solid_angle(10*u.deg)"
   ]
  },
  {
   "cell_type": "code",
   "execution_count": 125,
   "metadata": {},
   "outputs": [],
   "source": [
    "power_law = spectral.PowerLaw(normalization=1 * spectral.DIFFUSE_FLUX_UNIT,index=-2, e_ref= 1*  u.TeV)\n",
    "\n",
    "w_protons = sum([spectral.calculate_event_weights(energy*u.TeV, spectral.PDG_ALL_PARTICLE, power_law) for energy in muons_energy])"
   ]
  },
  {
   "cell_type": "code",
   "execution_count": 126,
   "metadata": {},
   "outputs": [
    {
     "data": {
      "text/plain": [
       "3.2431776874852627"
      ]
     },
     "execution_count": 126,
     "metadata": {},
     "output_type": "execute_result"
    }
   ],
   "source": [
    "w_protons"
   ]
  },
  {
   "cell_type": "code",
   "execution_count": 118,
   "metadata": {},
   "outputs": [
    {
     "name": "stdout",
     "output_type": "stream",
     "text": [
      "Help on class PowerLaw in module pyirf.spectral:\n",
      "\n",
      "class PowerLaw(builtins.object)\n",
      " |  PowerLaw(normalization, index, e_ref=<Quantity 1. TeV>)\n",
      " |  \n",
      " |  A power law with normalization, reference energy and index.\n",
      " |  Index includes the sign:\n",
      " |  \n",
      " |  .. math::\n",
      " |  \n",
      " |      \\Phi(E, \\Phi_0, \\gamma, E_\\text{ref}) =\n",
      " |      \\Phi_0 \\left(\\frac{E}{E_\\text{ref}}\\right)^{\\gamma}\n",
      " |  \n",
      " |  Attributes\n",
      " |  ----------\n",
      " |  normalization: astropy.units.Quantity[flux]\n",
      " |      :math:`\\Phi_0`,\n",
      " |  index: float\n",
      " |      :math:`\\gamma`\n",
      " |  e_ref: astropy.units.Quantity[energy]\n",
      " |      :math:`E_\\text{ref}`\n",
      " |  \n",
      " |  Methods defined here:\n",
      " |  \n",
      " |  __call__(self, energy)\n",
      " |      Call self as a function.\n",
      " |  \n",
      " |  __init__(self, normalization, index, e_ref=<Quantity 1. TeV>)\n",
      " |      Create a new PowerLaw spectrum\n",
      " |  \n",
      " |  __repr__(self)\n",
      " |      Return repr(self).\n",
      " |  \n",
      " |  integrate_cone(self, inner, outer)\n",
      " |      Integrate this powerlaw over solid angle in the given cone\n",
      " |      \n",
      " |      Parameters\n",
      " |      ----------\n",
      " |      inner : astropy.units.Quantity[angle]\n",
      " |          inner opening angle of cone\n",
      " |      outer : astropy.units.Quantity[angle]\n",
      " |          outer opening angle of cone\n",
      " |      \n",
      " |      Returns\n",
      " |      -------\n",
      " |      integrated : PowerLaw\n",
      " |          A new powerlaw instance with new normalization with the integration\n",
      " |          result.\n",
      " |  \n",
      " |  ----------------------------------------------------------------------\n",
      " |  Class methods defined here:\n",
      " |  \n",
      " |  from_simulation(simulated_event_info, obstime, e_ref=<Quantity 1. TeV>) from builtins.type\n",
      " |      Calculate the flux normalization for simulated events drawn\n",
      " |      from a power law for a certain observation time.\n",
      " |  \n",
      " |  ----------------------------------------------------------------------\n",
      " |  Data descriptors defined here:\n",
      " |  \n",
      " |  __dict__\n",
      " |      dictionary for instance variables (if defined)\n",
      " |  \n",
      " |  __weakref__\n",
      " |      list of weak references to the object (if defined)\n",
      "\n"
     ]
    }
   ],
   "source": [
    "help(spectral.PowerLaw)"
   ]
  },
  {
   "cell_type": "code",
   "execution_count": null,
   "metadata": {},
   "outputs": [],
   "source": []
  }
 ],
 "metadata": {
  "kernelspec": {
   "display_name": "cta",
   "language": "python",
   "name": "python3"
  },
  "language_info": {
   "codemirror_mode": {
    "name": "ipython",
    "version": 3
   },
   "file_extension": ".py",
   "mimetype": "text/x-python",
   "name": "python",
   "nbconvert_exporter": "python",
   "pygments_lexer": "ipython3",
   "version": "3.11.6"
  }
 },
 "nbformat": 4,
 "nbformat_minor": 2
}
