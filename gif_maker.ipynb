{
 "cells": [
  {
   "cell_type": "code",
   "execution_count": 2,
   "metadata": {},
   "outputs": [],
   "source": [
    "from PIL import Image"
   ]
  },
  {
   "cell_type": "code",
   "execution_count": 3,
   "metadata": {},
   "outputs": [],
   "source": [
    "image_files = [\n",
    "    '/Users/vdk/muons2024/images/HeatMapImpact/ImpactPoints_2019-20year.png', \n",
    "    '/Users/vdk/muons2024/images/HeatMapImpact/ImpactPoints_2021year.png', \n",
    "    '/Users/vdk/muons2024/images/HeatMapImpact/ImpactPoints_2022year.png', \n",
    "    '/Users/vdk/muons2024/images/HeatMapImpact/ImpactPoints_2023year.png', \n",
    "    '/Users/vdk/muons2024/images/HeatMapImpact/ImpactPoints_2024year.png',\n",
    "]\n",
    "\n",
    "# Load images\n",
    "images = [Image.open(image) for image in image_files]\n",
    "\n",
    "# Save as GIF\n",
    "images[0].save('/Users/vdk/output.gif', save_all=True, append_images=images[1:], duration=500, loop=0)"
   ]
  },
  {
   "cell_type": "code",
   "execution_count": null,
   "metadata": {},
   "outputs": [],
   "source": []
  }
 ],
 "metadata": {
  "kernelspec": {
   "display_name": "cta-dev",
   "language": "python",
   "name": "python3"
  },
  "language_info": {
   "codemirror_mode": {
    "name": "ipython",
    "version": 3
   },
   "file_extension": ".py",
   "mimetype": "text/x-python",
   "name": "python",
   "nbconvert_exporter": "python",
   "pygments_lexer": "ipython3",
   "version": "3.10.14"
  }
 },
 "nbformat": 4,
 "nbformat_minor": 2
}
