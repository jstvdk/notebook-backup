{
 "cells": [
  {
   "cell_type": "code",
   "execution_count": 2,
   "metadata": {},
   "outputs": [],
   "source": [
    "import sys\n",
    "sys.path.append('/Users/vdk/GeneveWork/Code/calibpipe-main-calibpipe/')\n",
    "from astropy.io import ascii\n",
    "import numpy as np\n",
    "import pandas as pd\n",
    "import matplotlib\n",
    "import csv\n",
    "import scipy\n",
    "import matplotlib.pyplot as plt\n",
    "from seaborn import histplot\n",
    "import random\n",
    "import copy\n",
    "from os import path, makedirs\n",
    "from astropy.coordinates import SkyCoord\n",
    "from astropy.table import Table\n",
    "import astropy.units as u\n",
    "from ctapipe.containers import MuonEfficiencyContainer\n",
    "from ctapipe.coordinates import CameraFrame, TelescopeFrame\n",
    "from ctapipe.io import EventSource, EventSeeker\n",
    "from ctapipe.core import TelescopeComponent\n",
    "from ctapipe.core.traits import (\n",
    "    List,\n",
    "    Int,\n",
    "    FloatTelescopeParameter,\n",
    "    TelescopeParameter,\n",
    "    Unicode,\n",
    ")\n",
    "from ctapipe.image.cleaning import tailcuts_clean\n",
    "from ctapipe.image.muon import MuonRingFitter, MuonIntensityFitter\n",
    "from traitlets.config import Config\n",
    "from ctapipe.image import ImageProcessor\n",
    "from ctapipe.image.muon import MuonProcessor\n",
    "from ctapipe.visualization import CameraDisplay\n",
    "from ctapipe.instrument import CameraGeometry\n",
    "from ctapipe.calib import CameraCalibrator\n",
    "from traitlets.config.loader import Config, FileConfigLoader, JSONFileConfigLoader\n",
    "import pathlib\n",
    "from calibpipe.throughput import MuonCalibrator\n",
    "from traitlets.config import Config\n",
    "from astropy.time import Time\n",
    "from astropy.coordinates import EarthLocation,SkyCoord, AltAz \n",
    "from traitlets.config import Config\n",
    "import time\n",
    "from ctapipe.image import number_of_islands\n",
    "\n",
    "\n",
    "\n"
   ]
  },
  {
   "cell_type": "code",
   "execution_count": 19,
   "metadata": {},
   "outputs": [],
   "source": [
    "# TIME CLEANING ALGO + ISLANDS CLEANING\n",
    "\n",
    "int_cut = 0.3\n",
    "min_pixel = 150\n",
    "\n",
    "muon_processor_config = Config({\"MuonProcessor\": \n",
    "                                {\"RingQuery\": \n",
    "                                 {\"quality_criteria\" : [[\"intensity_check\",f\"np.abs(parameters.intensity_ratio - 1) < {int_cut}\"],\n",
    "                                                        [\"ring_containment\", \"parameters.containment > 0.5\"],\n",
    "                                                        [\"ring_completeness\", \"parameters.completeness > 0.5\"]]}}})\n",
    "\n",
    "#muon_processor_config = Config({\"MuonProcessor\":\n",
    "#                                {\"ImageParameterQuery\" :\n",
    "#                                {\"quality_criteria\" : [[\"min_pixels\", f\"dl1_params.morphology.n_pixels > {min_pixel}\"],\n",
    "#                                                        [\"min_intensity\", \"dl1_params.hillas.intensity > 500\"]]}}})\n",
    "\n",
    "checker = 0\n",
    "cleaned_event_container = {}\n",
    "\n",
    "\n",
    "r1_cut = 2\n",
    "min_pixel_cut = 60\n",
    "max_pixel_cut = 200\n",
    "low_threshold_variance = 0.1\n",
    "up_threshold_variance = 0.4\n",
    "max_time = 14\n",
    "\n",
    "for k in range(85,80):\n",
    "    filename = f'/Users/vdk/LST/LST_work/corsika_4LSTprotons/simtel_corsika_run39{k}.simtel.gz'\n",
    "    source = EventSource(filename, max_events=9000)\n",
    "    event_iterator = iter(source)\n",
    "    for i,event in enumerate(event_iterator):\n",
    "        \n",
    "        image_processor = ImageProcessor(source.subarray)\n",
    "        #muon_processor = MuonProcessor(source.subarray, config = muon_processor_config)\n",
    "        muon_processor = MuonProcessor(source.subarray)\n",
    "        calib = CameraCalibrator(image_extractor_type=\"GlobalPeakWindowSum\",subarray = source.subarray)\n",
    "\n",
    "        if len(event.trigger.tels_with_trigger) > 1:\n",
    "            for tels in event.trigger.tels_with_trigger:\n",
    "\n",
    "                tmp_arr = []\n",
    "                var_arr = []\n",
    "                for pix_id in event.r1.tel[tels].waveform[:,10:max_time]:\n",
    "                    tmp_arr.append(np.max(pix_id)) # знаходить максимальне значення waveform в кожному пікселі\n",
    "                    var_arr.append(np.var(pix_id))\n",
    "            \n",
    "            tmp_arr = np.array(tmp_arr)\n",
    "            pixel_number = len(tmp_arr[tmp_arr>r1_cut])\n",
    "            \n",
    "            if (pixel_number > min_pixel_cut) and (pixel_number < max_pixel_cut) and (np.mean(var_arr) >low_threshold_variance) and (np.mean(var_arr) < up_threshold_variance):\n",
    "                pixel_mask = []\n",
    "                original_r1_waveform = event.r1.tel[tels].waveform.copy()\n",
    "                for_clean_mask = []\n",
    "\n",
    "                for k,l in enumerate(event.r0.tel[tels].waveform[1]):\n",
    "                    if np.argmax(l) in range(17,41): \n",
    "                        pixel_mask.append(True)\n",
    "                    else:\n",
    "                        pixel_mask.append(False)\n",
    "\n",
    "                working_wave = event.r1.tel[tels].waveform.copy()\n",
    "                for k,l in enumerate(working_wave):\n",
    "                    if pixel_mask[k]:\n",
    "                        for_clean_mask.append(True)\n",
    "                        working_wave[k] = np.zeros(40)     \n",
    "                        #working_wave[k] = np.mean(event.r1.tel[tels].waveform, axis = 0)\n",
    "                    else:\n",
    "                        for_clean_mask.append(False)\n",
    "                event.r1.tel[tels].waveform = working_wave\n",
    "\n",
    "                calib(event)\n",
    "                image_processor(event)\n",
    "                cam_geometry = source.subarray.tel[tels].camera.geometry\n",
    "                return_pixels = np.array([])\n",
    "                for_clean_mask = np.array(for_clean_mask)\n",
    "                n_islands, island_id = number_of_islands(cam_geometry, for_clean_mask)\n",
    "\n",
    "                for t in range(1,n_islands+1):\n",
    "                    if len(np.where(island_id == t)[0]) <= 3:\n",
    "                        return_pixels = np.append(return_pixels,np.where(island_id ==t)[0])\n",
    "\n",
    "                return_pixels = return_pixels.astype(int)\n",
    "\n",
    "                event.r1.tel[tels].waveform[return_pixels,:] = original_r1_waveform[return_pixels,:]  \n",
    "\n",
    "                calib(event)\n",
    "                image_processor(event)\n",
    "                muon_processor(event)   \n",
    "                    \n",
    "                if len(event.muon.tel.keys()):       \n",
    "                    for m in event.muon.tel.keys():\n",
    "                        if not np.isnan(event.muon.tel[m].efficiency.width):\n",
    "                            cleaned_event_container[1000*k + i] = event    \n",
    "\n",
    "\n",
    "\n",
    "\n"
   ]
  },
  {
   "cell_type": "code",
   "execution_count": null,
   "metadata": {},
   "outputs": [
    {
     "name": "stderr",
     "output_type": "stream",
     "text": [
      "/Users/vdk/mambaforge/envs/cta/lib/python3.11/site-packages/ctapipe/image/pixel_likelihood.py:98: RuntimeWarning: invalid value encountered in log\n",
      "  neg_log_l = np.log(theta + EPSILON) + (image - prediction) ** 2 / theta\n",
      "/Users/vdk/mambaforge/envs/cta/lib/python3.11/site-packages/ctapipe/image/pixel_likelihood.py:98: RuntimeWarning: invalid value encountered in log\n",
      "  neg_log_l = np.log(theta + EPSILON) + (image - prediction) ** 2 / theta\n"
     ]
    },
    {
     "name": "stdout",
     "output_type": "stream",
     "text": [
      "E VariableMetricBuilder Initial matrix not pos.def.\n"
     ]
    },
    {
     "name": "stderr",
     "output_type": "stream",
     "text": [
      "/Users/vdk/mambaforge/envs/cta/lib/python3.11/site-packages/ctapipe/image/pixel_likelihood.py:98: RuntimeWarning: invalid value encountered in log\n",
      "  neg_log_l = np.log(theta + EPSILON) + (image - prediction) ** 2 / theta\n",
      "/Users/vdk/mambaforge/envs/cta/lib/python3.11/site-packages/ctapipe/image/pixel_likelihood.py:98: RuntimeWarning: invalid value encountered in log\n",
      "  neg_log_l = np.log(theta + EPSILON) + (image - prediction) ** 2 / theta\n"
     ]
    }
   ],
   "source": [
    "# TIME CLEANING ALGO + ISLANDS CLEANING\n",
    "\n",
    "int_cut = 0.3\n",
    "min_pixel = 150\n",
    "\n",
    "muon_processor_config = Config({\"MuonProcessor\": \n",
    "                                {\"RingQuery\": \n",
    "                                 {\"quality_criteria\" : [[\"intensity_check\",f\"np.abs(parameters.intensity_ratio - 1) < {int_cut}\"],\n",
    "                                                        [\"ring_containment\", \"parameters.containment > 0.5\"],\n",
    "                                                        [\"ring_completeness\", \"parameters.completeness > 0.5\"]]}}})\n",
    "\n",
    "#muon_processor_config = Config({\"MuonProcessor\":\n",
    "#                                {\"ImageParameterQuery\" :\n",
    "#                                {\"quality_criteria\" : [[\"min_pixels\", f\"dl1_params.morphology.n_pixels > {min_pixel}\"],\n",
    "#                                                        [\"min_intensity\", \"dl1_params.hillas.intensity > 500\"]]}}})\n",
    "\n",
    "muon_processor_config_2 = Config({\"MuonProcessor\":\n",
    "                                {\"ImageParameterQuery\" :\n",
    "                                 {\"quality_criteria\" : [[\"min_pixels\", f\"dl1_params.morphology.n_pixels < {min_pixel}\"],\n",
    "                                                        [\"min_intensity\", \"dl1_params.hillas.intensity > 500\"]]}}})\n",
    "\n",
    "checker = 0\n",
    "cleaned_event_container = {}\n",
    "\n",
    "for k in range(78,80):\n",
    "    filename = f'/Users/vdk/LST/LST_work/corsika_4LSTprotons/simtel_corsika_run39{k}.simtel.gz'\n",
    "    source = EventSource(filename, max_events=9000)\n",
    "    event_iterator = iter(source)\n",
    "    for i,event in enumerate(event_iterator):\n",
    "        \n",
    "        image_processor = ImageProcessor(source.subarray)\n",
    "        #muon_processor = MuonProcessor(source.subarray, config = muon_processor_config)\n",
    "        muon_processor = MuonProcessor(source.subarray)\n",
    "        calib = CameraCalibrator(image_extractor_type=\"GlobalPeakWindowSum\",subarray = source.subarray)\n",
    "\n",
    "        if len(event.trigger.tels_with_trigger) > 1:\n",
    "\n",
    "            for tels in event.trigger.tels_with_trigger:\n",
    "                pixel_mask = []\n",
    "                original_r1_waveform = event.r1.tel[tels].waveform.copy()\n",
    "                for_clean_mask = np.array([]).astype(bool)\n",
    "\n",
    "                for k,l in enumerate(event.r0.tel[tels].waveform[1]):\n",
    "                    if np.argmax(l) in range(17,41): \n",
    "                        pixel_mask.append(True)\n",
    "                    else:\n",
    "                        pixel_mask.append(False)\n",
    "\n",
    "                working_wave = event.r1.tel[tels].waveform.copy()\n",
    "                for k,l in enumerate(working_wave):\n",
    "                    if pixel_mask[k]:\n",
    "                        for_clean_mask = np.append(for_clean_mask, True)\n",
    "                        working_wave[k] = np.zeros(40)     \n",
    "                        #working_wave[k] = np.mean(event.r1.tel[tels].waveform, axis = 0)\n",
    "                    else:\n",
    "                        for_clean_mask = np.append(for_clean_mask, False)\n",
    "                event.r1.tel[tels].waveform = working_wave\n",
    "\n",
    "                calib(event)\n",
    "                image_processor(event)\n",
    "                cam_geometry = source.subarray.tel[tels].camera.geometry\n",
    "\n",
    "            return_pixels = np.array([])\n",
    "\n",
    "            n_islands, island_id = number_of_islands(cam_geometry, for_clean_mask)\n",
    "\n",
    "            for t in range(1,n_islands+1):\n",
    "                if len(np.where(island_id == t)[0]) <= 3:\n",
    "                    return_pixels = np.append(return_pixels,np.where(island_id ==t)[0])\n",
    "\n",
    "            return_pixels = return_pixels.astype(int)\n",
    "\n",
    "            event.r1.tel[tels].waveform[return_pixels,:] = original_r1_waveform[return_pixels,:]  \n",
    "\n",
    "            calib(event)\n",
    "            image_processor(event)\n",
    "            muon_processor(event)   \n",
    "                    \n",
    "            if len(event.muon.tel.keys()):       \n",
    "                for m in event.muon.tel.keys():\n",
    "                    if not np.isnan(event.muon.tel[m].efficiency.width):\n",
    "                        cleaned_event_container[k*1000 + i] = event    \n",
    "\n",
    "\n",
    "\n",
    "\n"
   ]
  },
  {
   "cell_type": "code",
   "execution_count": 14,
   "metadata": {},
   "outputs": [],
   "source": [
    "for_clean = []\n",
    "\n",
    "\n",
    "for_clean.append(True)"
   ]
  },
  {
   "cell_type": "code",
   "execution_count": 15,
   "metadata": {},
   "outputs": [
    {
     "data": {
      "text/plain": [
       "[True]"
      ]
     },
     "execution_count": 15,
     "metadata": {},
     "output_type": "execute_result"
    }
   ],
   "source": [
    "for_clean"
   ]
  },
  {
   "cell_type": "code",
   "execution_count": 16,
   "metadata": {},
   "outputs": [],
   "source": [
    "for_clean = np.array(for_clean)"
   ]
  },
  {
   "cell_type": "code",
   "execution_count": 17,
   "metadata": {},
   "outputs": [
    {
     "data": {
      "text/plain": [
       "array([ True])"
      ]
     },
     "execution_count": 17,
     "metadata": {},
     "output_type": "execute_result"
    }
   ],
   "source": [
    "for_clean"
   ]
  },
  {
   "attachments": {},
   "cell_type": "markdown",
   "metadata": {},
   "source": [
    "## Without Cleaning"
   ]
  },
  {
   "cell_type": "code",
   "execution_count": 32,
   "metadata": {},
   "outputs": [
    {
     "name": "stdout",
     "output_type": "stream",
     "text": [
      "/Users/vdk/LST/LST_work/corsika_4LSTprotons/simtel_corsika_run3978.simtel.gz\n",
      "/Users/vdk/LST/LST_work/corsika_4LSTprotons/simtel_corsika_run3979.simtel.gz\n",
      "/Users/vdk/LST/LST_work/corsika_4LSTprotons/simtel_corsika_run3980.simtel.gz\n",
      "/Users/vdk/LST/LST_work/corsika_4LSTprotons/simtel_corsika_run3981.simtel.gz\n",
      "/Users/vdk/LST/LST_work/corsika_4LSTprotons/simtel_corsika_run3982.simtel.gz\n",
      "/Users/vdk/LST/LST_work/corsika_4LSTprotons/simtel_corsika_run3983.simtel.gz\n",
      "/Users/vdk/LST/LST_work/corsika_4LSTprotons/simtel_corsika_run3984.simtel.gz\n",
      "/Users/vdk/LST/LST_work/corsika_4LSTprotons/simtel_corsika_run3985.simtel.gz\n",
      "/Users/vdk/LST/LST_work/corsika_4LSTprotons/simtel_corsika_run3986.simtel.gz\n",
      "/Users/vdk/LST/LST_work/corsika_4LSTprotons/simtel_corsika_run3987.simtel.gz\n",
      "/Users/vdk/LST/LST_work/corsika_4LSTprotons/simtel_corsika_run3988.simtel.gz\n",
      "/Users/vdk/LST/LST_work/corsika_4LSTprotons/simtel_corsika_run3989.simtel.gz\n",
      "/Users/vdk/LST/LST_work/corsika_4LSTprotons/simtel_corsika_run3990.simtel.gz\n",
      "/Users/vdk/LST/LST_work/corsika_4LSTprotons/simtel_corsika_run3991.simtel.gz\n",
      "/Users/vdk/LST/LST_work/corsika_4LSTprotons/simtel_corsika_run3992.simtel.gz\n",
      "/Users/vdk/LST/LST_work/corsika_4LSTprotons/simtel_corsika_run3993.simtel.gz\n",
      "/Users/vdk/LST/LST_work/corsika_4LSTprotons/simtel_corsika_run3994.simtel.gz\n",
      "/Users/vdk/LST/LST_work/corsika_4LSTprotons/simtel_corsika_run3995.simtel.gz\n",
      "/Users/vdk/LST/LST_work/corsika_4LSTprotons/simtel_corsika_run3996.simtel.gz\n",
      "/Users/vdk/LST/LST_work/corsika_4LSTprotons/simtel_corsika_run3997.simtel.gz\n",
      "/Users/vdk/LST/LST_work/corsika_4LSTprotons/simtel_corsika_run3998.simtel.gz\n",
      "/Users/vdk/LST/LST_work/corsika_4LSTprotons/simtel_corsika_run3999.simtel.gz\n"
     ]
    }
   ],
   "source": [
    "max_time = 14\n",
    "r1_cut = 2\n",
    "min_pixel_cut = 40\n",
    "max_pixel_cut = 200\n",
    "event_container_flag_2 = {}\n",
    "\n",
    "threshold_variance = 0.1 # choose events with variance higher than this value\n",
    "\n",
    "int_cut = 0.3\n",
    "min_pixel = 70\n",
    "\n",
    "muon_processor_config = Config({\"MuonProcessor\": \n",
    "                                {\"RingQuery\": \n",
    "                                 {\"quality_criteria\" : [[\"intensity_check\",f\"np.abs(parameters.intensity_ratio - 1) < {int_cut}\"],\n",
    "                                                        [\"ring_containment\", \"parameters.containment > 0.5\"],\n",
    "                                                        [\"ring_completeness\", \"parameters.completeness > 0.5\"]]}}})\n",
    "\n",
    "#muon_processor_config = Config({\"MuonProcessor\":\n",
    "#                                {\"ImageParameterQuery\" :\n",
    "#                                {\"quality_criteria\" : [[\"min_pixels\", f\"dl1_params.morphology.n_pixels > {min_pixel}\"],\n",
    "#                                                        [\"min_intensity\", \"dl1_params.hillas.intensity > 500\"]]}}})\n",
    "\n",
    "muon_processor_config_2 = Config({\"MuonProcessor\":\n",
    "                                {\"ImageParameterQuery\" :\n",
    "                                 {\"quality_criteria\" : [[\"min_pixels\", f\"dl1_params.morphology.n_pixels > {min_pixel}\"],\n",
    "                                                        [\"min_intensity\", \"dl1_params.hillas.intensity > 500\"]]}}})\n",
    "\n",
    "all_events = 0\n",
    "stereo = 0\n",
    "event_container_protons = {}\n",
    "\n",
    "for k in range(78,100):\n",
    "    filename = f'/Users/vdk/LST/LST_work/corsika_4LSTprotons/simtel_corsika_run39{k}.simtel.gz'\n",
    "    print(filename)\n",
    "    source = EventSource(filename, max_events=9000)\n",
    "    event_iterator = iter(source)\n",
    "    keks = k*1000\n",
    "    for i,event in enumerate(event_iterator):\n",
    "        all_events += 1\n",
    "        if len(event.trigger.tels_with_trigger) > 1:\n",
    "            for tel_id in event.trigger.tels_with_trigger:\n",
    "                tmp_arr = []\n",
    "                var_arr = []\n",
    "                for pix_id in event.r1.tel[tel_id].waveform[:,10:max_time]:\n",
    "                    tmp_arr.append(np.max(pix_id)) # знаходить максимальне значення waveform в кожному пікселі\n",
    "                    var_arr.append(np.var(pix_id))\n",
    "                \n",
    "                tmp_arr = np.array(tmp_arr)\n",
    "                pixel_number = len(tmp_arr[tmp_arr>r1_cut])\n",
    "                \n",
    "            if (pixel_number > min_pixel_cut) and (pixel_number < max_pixel_cut) and (np.mean(var_arr) > threshold_variance) and (np.mean(var_arr) < 0.4):  \n",
    "                stereo += 1          \n",
    "                image_processor = ImageProcessor(source.subarray)\n",
    "                muon_processor = MuonProcessor(source.subarray, config = muon_processor_config)\n",
    "                #muon_processor = MuonProcessor(source.subarray)\n",
    "                calib = CameraCalibrator(image_extractor_type=\"GlobalPeakWindowSum\",subarray = source.subarray)\n",
    "                calib(event)\n",
    "                image_processor(event)\n",
    "                muon_processor(event)\n",
    "                for m in event.muon.tel.keys():\n",
    "                    if not np.isnan(event.muon.tel[m].efficiency.width):\n",
    "                        event_container_protons[keks+i] = event\n",
    "            \n",
    "            "
   ]
  },
  {
   "cell_type": "code",
   "execution_count": 33,
   "metadata": {},
   "outputs": [
    {
     "name": "stdout",
     "output_type": "stream",
     "text": [
      "all events =  16351\n",
      "stereo =  176\n",
      "muons =  12\n",
      "muons events =  dict_keys([78437, 82039, 84192, 86287, 88130, 88524, 88599, 88647, 89236, 90324, 90635, 99076])\n",
      "mean =  0.26604304754755986\n",
      "std =  0.11692390885675603\n",
      "len =  12\n"
     ]
    }
   ],
   "source": [
    "print(\"all events = \", all_events)\n",
    "print(\"stereo = \", stereo)\n",
    "print(\"muons = \", len(event_container_protons))\n",
    "print(\"muons events = \", event_container_protons.keys())\n",
    "#for i in event_container_protons:\n",
    "#    print(i)\n",
    "\n",
    "opt_eff_p = []\n",
    "for i in event_container_protons:\n",
    "    for m in event_container_protons[i].trigger.tels_with_trigger:\n",
    "        if not np.isnan(event_container_protons[i].muon.tel[m].efficiency.optical_efficiency):\n",
    "            #if event_container_protons[i].muon.tel[m].efficiency.optical_efficiency < 100 and event_container_protons[i].muon.tel[m].parameters.completeness > 0.5 and event_container_protons[i].muon.tel[m].parameters.mean_squared_error.to_value() < 0.01 and event_container_protons[i].dl1.tel[m].parameters.morphology.n_pixels > 50:\n",
    "            opt_eff_p.append(event_container_protons[i].muon.tel[m].efficiency.optical_efficiency)\n",
    "\n",
    "print(\"mean = \", np.mean(opt_eff_p))\n",
    "print(\"std = \", np.std(opt_eff_p))\n",
    "print(\"len = \", len(opt_eff_p))\n"
   ]
  },
  {
   "cell_type": "code",
   "execution_count": 3,
   "metadata": {},
   "outputs": [],
   "source": [
    "filename = f'/Users/vdk/LST/LST_work/corsika_4LSTprotons/simtel_corsika_run3990.simtel.gz'\n",
    "source = EventSource(filename, max_events=9000)\n",
    "event_iterator = iter(source)\n",
    "\n",
    "event = next(event_iterator)"
   ]
  },
  {
   "cell_type": "code",
   "execution_count": 4,
   "metadata": {},
   "outputs": [
    {
     "name": "stderr",
     "output_type": "stream",
     "text": [
      "TelescopeParameter type argument 'MST_*' did not match any known telescope types\n",
      "TelescopeParameter type argument 'SST_1M_*' did not match any known telescope types\n"
     ]
    }
   ],
   "source": [
    "    image_processor = ImageProcessor(source.subarray)\n",
    "    #muon_processor = MuonProcessor(source.subarray, config = muon_processor_config)\n",
    "    muon_processor = MuonProcessor(source.subarray)\n",
    "    calib = CameraCalibrator(image_extractor_type=\"GlobalPeakWindowSum\",subarray = source.subarray)"
   ]
  },
  {
   "cell_type": "code",
   "execution_count": 7,
   "metadata": {},
   "outputs": [
    {
     "data": {
      "text/plain": [
       "array([[ 0.35840306,  0.6062469 ,  0.16887546, ..., -0.04981026,\n",
       "         0.1834545 , -0.29765406],\n",
       "       [-0.20691536,  0.08083554,  0.10961063, ..., -0.2788531 ,\n",
       "        -0.00548973, -0.23569046],\n",
       "       [ 0.5278473 ,  0.5425233 ,  0.64525557, ..., -0.10322222,\n",
       "        -0.07387015,  0.2490026 ],\n",
       "       ...,\n",
       "       [ 0.20108074, -0.02119417, -0.22865075, ..., -0.15455912,\n",
       "        -0.02119417, -0.06564915],\n",
       "       [-0.07097574, -0.1733781 , -0.27578044, ..., -0.12949137,\n",
       "        -0.26115155, -0.10023355],\n",
       "       [-0.14959979, -0.20574667,  0.10306117, ..., -0.36015058,\n",
       "        -0.19170995, -0.20574667]], dtype=float32)"
      ]
     },
     "execution_count": 7,
     "metadata": {},
     "output_type": "execute_result"
    }
   ],
   "source": [
    "event.r1.tel[2].waveform"
   ]
  },
  {
   "cell_type": "code",
   "execution_count": 8,
   "metadata": {},
   "outputs": [
    {
     "name": "stderr",
     "output_type": "stream",
     "text": [
      "/Users/vdk/mambaforge/envs/cta/lib/python3.11/site-packages/ctapipe/calib/camera/calibrator.py:159: UserWarning: Encountered an event with no R1 data. DL0 is unchanged in this circumstance.\n",
      "  warnings.warn(\n",
      "/Users/vdk/mambaforge/envs/cta/lib/python3.11/site-packages/ctapipe/calib/camera/calibrator.py:171: UserWarning: Encountered an event with no DL0 data. DL1 is unchanged in this circumstance.\n",
      "  warnings.warn(\n"
     ]
    }
   ],
   "source": [
    "calib(event)"
   ]
  },
  {
   "cell_type": "code",
   "execution_count": 9,
   "metadata": {},
   "outputs": [
    {
     "data": {
      "text/plain": [
       "array([[ 0.35840306,  0.6062469 ,  0.16887546, ..., -0.04981026,\n",
       "         0.1834545 , -0.29765406],\n",
       "       [-0.20691536,  0.08083554,  0.10961063, ..., -0.2788531 ,\n",
       "        -0.00548973, -0.23569046],\n",
       "       [ 0.5278473 ,  0.5425233 ,  0.64525557, ..., -0.10322222,\n",
       "        -0.07387015,  0.2490026 ],\n",
       "       ...,\n",
       "       [ 0.20108074, -0.02119417, -0.22865075, ..., -0.15455912,\n",
       "        -0.02119417, -0.06564915],\n",
       "       [-0.07097574, -0.1733781 , -0.27578044, ..., -0.12949137,\n",
       "        -0.26115155, -0.10023355],\n",
       "       [-0.14959979, -0.20574667,  0.10306117, ..., -0.36015058,\n",
       "        -0.19170995, -0.20574667]], dtype=float32)"
      ]
     },
     "execution_count": 9,
     "metadata": {},
     "output_type": "execute_result"
    }
   ],
   "source": [
    "event.r1.tel[2].waveform"
   ]
  },
  {
   "cell_type": "code",
   "execution_count": 10,
   "metadata": {},
   "outputs": [],
   "source": [
    "calib(event)"
   ]
  },
  {
   "cell_type": "code",
   "execution_count": 11,
   "metadata": {},
   "outputs": [
    {
     "data": {
      "text/plain": [
       "array([[ 0.35840306,  0.6062469 ,  0.16887546, ..., -0.04981026,\n",
       "         0.1834545 , -0.29765406],\n",
       "       [-0.20691536,  0.08083554,  0.10961063, ..., -0.2788531 ,\n",
       "        -0.00548973, -0.23569046],\n",
       "       [ 0.5278473 ,  0.5425233 ,  0.64525557, ..., -0.10322222,\n",
       "        -0.07387015,  0.2490026 ],\n",
       "       ...,\n",
       "       [ 0.20108074, -0.02119417, -0.22865075, ..., -0.15455912,\n",
       "        -0.02119417, -0.06564915],\n",
       "       [-0.07097574, -0.1733781 , -0.27578044, ..., -0.12949137,\n",
       "        -0.26115155, -0.10023355],\n",
       "       [-0.14959979, -0.20574667,  0.10306117, ..., -0.36015058,\n",
       "        -0.19170995, -0.20574667]], dtype=float32)"
      ]
     },
     "execution_count": 11,
     "metadata": {},
     "output_type": "execute_result"
    }
   ],
   "source": [
    "event.r1.tel[2].waveform"
   ]
  },
  {
   "cell_type": "code",
   "execution_count": null,
   "metadata": {},
   "outputs": [],
   "source": []
  }
 ],
 "metadata": {
  "kernelspec": {
   "display_name": "cta",
   "language": "python",
   "name": "cta"
  },
  "language_info": {
   "codemirror_mode": {
    "name": "ipython",
    "version": 3
   },
   "file_extension": ".py",
   "mimetype": "text/x-python",
   "name": "python",
   "nbconvert_exporter": "python",
   "pygments_lexer": "ipython3",
   "version": "3.11.6"
  },
  "orig_nbformat": 4
 },
 "nbformat": 4,
 "nbformat_minor": 2
}
