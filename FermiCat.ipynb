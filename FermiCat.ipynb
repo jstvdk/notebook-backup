{
 "cells": [
  {
   "cell_type": "code",
   "execution_count": 1,
   "metadata": {},
   "outputs": [],
   "source": [
    "\n",
    "from astropy.table import Table"
   ]
  },
  {
   "cell_type": "code",
   "execution_count": 2,
   "metadata": {},
   "outputs": [
    {
     "name": "stderr",
     "output_type": "stream",
     "text": [
      "WARNING: hdu= was not specified but multiple tables are present, reading in first available table (hdu=1) [astropy.io.fits.connect]\n"
     ]
    },
    {
     "data": {
      "text/html": [
       "<div><i>Table length=7195</i>\n",
       "<table id=\"table4617060704\" class=\"table-striped table-bordered table-condensed\">\n",
       "<thead><tr><th>Source_Name</th><th>DataRelease</th><th>RAJ2000</th><th>DEJ2000</th><th>GLON</th><th>GLAT</th><th>Conf_68_SemiMajor</th><th>Conf_68_SemiMinor</th><th>Conf_68_PosAng</th><th>Conf_95_SemiMajor</th><th>Conf_95_SemiMinor</th><th>Conf_95_PosAng</th><th>ROI_num</th><th>Extended_Source_Name</th><th>Signif_Avg</th><th>Pivot_Energy</th><th>Flux1000</th><th>Unc_Flux1000</th><th>Energy_Flux100</th><th>Unc_Energy_Flux100</th><th>SpectrumType</th><th>PL_Flux_Density</th><th>Unc_PL_Flux_Density</th><th>PL_Index</th><th>Unc_PL_Index</th><th>LP_Flux_Density</th><th>Unc_LP_Flux_Density</th><th>LP_Index</th><th>Unc_LP_Index</th><th>LP_beta</th><th>Unc_LP_beta</th><th>LP_SigCurv</th><th>LP_EPeak</th><th>Unc_LP_EPeak</th><th>PLEC_Flux_Density</th><th>Unc_PLEC_Flux_Density</th><th>PLEC_IndexS</th><th>Unc_PLEC_IndexS</th><th>PLEC_ExpfactorS</th><th>Unc_PLEC_ExpfactorS</th><th>PLEC_Exp_Index</th><th>Unc_PLEC_Exp_Index</th><th>PLEC_SigCurv</th><th>PLEC_EPeak</th><th>Unc_PLEC_EPeak</th><th>Npred</th><th>Flux_Band</th><th>Unc_Flux_Band</th><th>nuFnu_Band</th><th>Sqrt_TS_Band</th><th>Variability_Index</th><th>Frac_Variability</th><th>Unc_Frac_Variability</th><th>Signif_Peak</th><th>Flux_Peak</th><th>Unc_Flux_Peak</th><th>Time_Peak</th><th>Peak_Interval</th><th>Flux_History</th><th>Unc_Flux_History</th><th>Sqrt_TS_History</th><th>ASSOC_4FGL</th><th>ASSOC_FGL</th><th>ASSOC_FHL</th><th>ASSOC_GAM1</th><th>ASSOC_GAM2</th><th>ASSOC_GAM3</th><th>TEVCAT_FLAG</th><th>ASSOC_TEV</th><th>CLASS1</th><th>CLASS2</th><th>ASSOC1</th><th>ASSOC2</th><th>ASSOC_PROB_BAY</th><th>ASSOC_PROB_LR</th><th>RA_Counterpart</th><th>DEC_Counterpart</th><th>Unc_Counterpart</th><th>Flags</th></tr></thead>\n",
       "<thead><tr><th></th><th></th><th>deg</th><th>deg</th><th>deg</th><th>deg</th><th>deg</th><th>deg</th><th>deg</th><th>deg</th><th>deg</th><th>deg</th><th></th><th></th><th></th><th>MeV</th><th>ph / (s cm2)</th><th>ph / (s cm2)</th><th>erg / (s cm2)</th><th>erg / (s cm2)</th><th></th><th>ph / (MeV s cm2)</th><th>ph / (MeV s cm2)</th><th></th><th></th><th>ph / (MeV s cm2)</th><th>ph / (MeV s cm2)</th><th></th><th></th><th></th><th></th><th></th><th>MeV</th><th>MeV</th><th>ph / (MeV s cm2)</th><th>ph / (MeV s cm2)</th><th></th><th></th><th></th><th></th><th></th><th></th><th></th><th>MeV</th><th>MeV</th><th></th><th>ph / (s cm2)</th><th>ph / (s cm2)</th><th>erg / (s cm2)</th><th></th><th></th><th></th><th></th><th></th><th>ph / (s cm2)</th><th>ph / (s cm2)</th><th>s</th><th>s</th><th>ph / (s cm2)</th><th>ph / (s cm2)</th><th></th><th></th><th></th><th></th><th></th><th></th><th></th><th></th><th></th><th></th><th></th><th></th><th></th><th></th><th></th><th>deg</th><th>deg</th><th>deg</th><th></th></tr></thead>\n",
       "<thead><tr><th>bytes18</th><th>int16</th><th>float32</th><th>float32</th><th>float32</th><th>float32</th><th>float32</th><th>float32</th><th>float32</th><th>float32</th><th>float32</th><th>float32</th><th>int16</th><th>bytes18</th><th>float32</th><th>float32</th><th>float32</th><th>float32</th><th>float32</th><th>float32</th><th>bytes17</th><th>float32</th><th>float32</th><th>float32</th><th>float32</th><th>float32</th><th>float32</th><th>float32</th><th>float32</th><th>float32</th><th>float32</th><th>float32</th><th>float32</th><th>float32</th><th>float32</th><th>float32</th><th>float32</th><th>float32</th><th>float32</th><th>float32</th><th>float32</th><th>float32</th><th>float32</th><th>float32</th><th>float32</th><th>float32</th><th>float32[8]</th><th>float32[8,2]</th><th>float32[8]</th><th>float32[8]</th><th>float32</th><th>float32</th><th>float32</th><th>float32</th><th>float32</th><th>float32</th><th>float64</th><th>float32</th><th>float32[14]</th><th>float32[14,2]</th><th>float32[14]</th><th>bytes18</th><th>bytes18</th><th>bytes18</th><th>bytes18</th><th>bytes18</th><th>bytes18</th><th>bytes1</th><th>bytes30</th><th>bytes5</th><th>bytes10</th><th>bytes28</th><th>bytes28</th><th>float32</th><th>float32</th><th>float64</th><th>float64</th><th>float32</th><th>int16</th></tr></thead>\n",
       "<tr><td>4FGL J0000.3-7355</td><td>1</td><td>0.0983</td><td>-73.9220</td><td>307.7090</td><td>-42.7295</td><td>0.0324</td><td>0.0315</td><td>-62.700</td><td>0.0525</td><td>0.0510</td><td>-62.700</td><td>1726</td><td></td><td>8.493</td><td>1917.72</td><td>1.4796e-10</td><td>2.1770e-11</td><td>1.7352e-12</td><td>2.6915e-13</td><td>PowerLaw</td><td>4.2844e-14</td><td>6.2686e-15</td><td>2.2474</td><td>0.1174</td><td>4.8417e-14</td><td>8.4813e-15</td><td>2.1280</td><td>0.1969</td><td>0.1100</td><td>0.1119</td><td>1.118</td><td>1071.71</td><td>1443.50</td><td>4.8620e-14</td><td>8.0372e-15</td><td>2.0489</td><td>0.2070</td><td>0.18232</td><td>0.15102</td><td>0.6667</td><td>--</td><td>1.329</td><td>1427.56</td><td>2230.54</td><td>411.91</td><td>2.0565643e-08 .. 5.1613483e-17</td><td>-1.6676287e-08 .. 2.0635616e-12</td><td>3.2624888e-12 .. 8.333941e-18</td><td>1.1720686 .. 0.0</td><td>12.8350</td><td>0.0000</td><td>10.0000</td><td>-inf</td><td>-inf</td><td>-inf</td><td>-inf</td><td>-inf</td><td>6.084946e-12 .. 3.1096483e-09</td><td>-- .. 1.5917939e-09</td><td>0.0 .. 2.4133372</td><td>4FGL J0000.3-7355</td><td></td><td></td><td></td><td></td><td></td><td>N</td><td></td><td></td><td></td><td></td><td></td><td>0.0000</td><td>0.0000</td><td>--</td><td>--</td><td>--</td><td>0</td></tr>\n",
       "<tr><td>4FGL J0000.5+0743</td><td>2</td><td>0.1375</td><td>7.7273</td><td>101.6565</td><td>-53.0295</td><td>0.0945</td><td>0.0700</td><td>-10.220</td><td>0.1533</td><td>0.1135</td><td>-10.220</td><td>106</td><td></td><td>5.681</td><td>1379.88</td><td>1.5541e-10</td><td>3.0373e-11</td><td>1.9306e-12</td><td>3.7501e-13</td><td>PowerLaw</td><td>9.7825e-14</td><td>1.8354e-14</td><td>2.3308</td><td>0.1310</td><td>1.1449e-13</td><td>2.4667e-14</td><td>2.2470</td><td>0.1913</td><td>0.1097</td><td>0.1065</td><td>1.194</td><td>447.47</td><td>737.20</td><td>1.0522e-13</td><td>2.1944e-14</td><td>2.2473</td><td>0.1789</td><td>0.06567</td><td>0.10380</td><td>0.6667</td><td>--</td><td>0.000</td><td>--</td><td>--</td><td>384.92</td><td>3.750181e-12 .. 9.930329e-16</td><td>-- .. 2.7929685e-12</td><td>5.929706e-16 .. 1.554265e-16</td><td>0.0 .. 0.0</td><td>25.5690</td><td>0.5617</td><td>0.2739</td><td>-inf</td><td>-inf</td><td>-inf</td><td>-inf</td><td>-inf</td><td>1.5356434e-09 .. 2.4428466e-09</td><td>-1.1904873e-09 .. 2.4088174e-09</td><td>1.4323782 .. 1.2026387</td><td>4FGL J0000.5+0743</td><td></td><td></td><td></td><td></td><td></td><td>N</td><td></td><td></td><td></td><td></td><td></td><td>0.0000</td><td>0.0000</td><td>--</td><td>--</td><td>--</td><td>0</td></tr>\n",
       "<tr><td>4FGL J0000.7+2530</td><td>3</td><td>0.1878</td><td>25.5153</td><td>108.7751</td><td>-35.9592</td><td>0.0514</td><td>0.0410</td><td>82.400</td><td>0.0833</td><td>0.0665</td><td>82.400</td><td>1344</td><td></td><td>4.197</td><td>5989.26</td><td>6.7792e-11</td><td>2.2785e-11</td><td>8.0505e-13</td><td>2.4709e-13</td><td>PowerLaw</td><td>2.1343e-15</td><td>6.5433e-16</td><td>1.8562</td><td>0.1934</td><td>3.0265e-15</td><td>1.0188e-15</td><td>1.8019</td><td>0.3299</td><td>0.2511</td><td>0.1814</td><td>1.689</td><td>8885.66</td><td>6262.71</td><td>3.3732e-15</td><td>1.1067e-15</td><td>1.6250</td><td>0.3854</td><td>0.68800</td><td>0.40956</td><td>0.6667</td><td>--</td><td>1.791</td><td>9534.83</td><td>4121.65</td><td>95.18</td><td>5.159399e-14 .. 9.303994e-14</td><td>-- .. 3.4502763e-12</td><td>8.312768e-18 .. 1.7575507e-14</td><td>0.0 .. 0.016723227</td><td>13.1493</td><td>0.0000</td><td>10.0000</td><td>-inf</td><td>-inf</td><td>-inf</td><td>-inf</td><td>-inf</td><td>1.3094809e-09 .. 5.0288596e-10</td><td>-6.474343e-10 .. 7.7705853e-10</td><td>3.7604396 .. 0.990755</td><td>4FGL J0000.7+2530</td><td></td><td></td><td></td><td></td><td></td><td>N</td><td></td><td></td><td></td><td></td><td></td><td>0.0000</td><td>0.0000</td><td>--</td><td>--</td><td>--</td><td>0</td></tr>\n",
       "<tr><td>4FGL J0001.2+4741</td><td>1</td><td>0.3126</td><td>47.6859</td><td>114.2502</td><td>-14.3381</td><td>0.0369</td><td>0.0332</td><td>-45.900</td><td>0.0598</td><td>0.0538</td><td>-45.900</td><td>668</td><td></td><td>5.524</td><td>3218.10</td><td>1.2155e-10</td><td>2.6822e-11</td><td>1.3691e-12</td><td>3.2222e-13</td><td>PowerLaw</td><td>1.1363e-14</td><td>2.4424e-15</td><td>2.1551</td><td>0.1539</td><td>1.2383e-14</td><td>3.1681e-15</td><td>2.1142</td><td>0.1907</td><td>0.0498</td><td>0.0966</td><td>0.394</td><td>1022.07</td><td>3515.22</td><td>1.1934e-14</td><td>2.8185e-15</td><td>2.0940</td><td>0.1856</td><td>0.04227</td><td>0.08483</td><td>0.6667</td><td>--</td><td>0.000</td><td>--</td><td>--</td><td>271.44</td><td>1.964253e-11 .. 1.6018216e-18</td><td>-- .. 2.118955e-12</td><td>3.1274286e-15 .. 2.6799535e-19</td><td>0.0 .. 0.0</td><td>28.9156</td><td>0.6639</td><td>0.3331</td><td>4.797</td><td>5.7389635e-09</td><td>1.7132418e-09</td><td>286670016.0</td><td>31560000.0</td><td>2.7438956e-09 .. 3.4820546e-15</td><td>-1.5440191e-09 .. 9.97245e-10</td><td>1.9989107 .. 0.0</td><td>4FGL J0001.2+4741</td><td></td><td></td><td></td><td></td><td></td><td>N</td><td></td><td>bcu</td><td></td><td>B3 2358+474</td><td></td><td>0.9961</td><td>0.9386</td><td>0.3293</td><td>47.7002</td><td>0.00000</td><td>0</td></tr>\n",
       "<tr><td>4FGL J0001.2-0747</td><td>1</td><td>0.3151</td><td>-7.7971</td><td>89.0327</td><td>-67.3050</td><td>0.0184</td><td>0.0176</td><td>64.100</td><td>0.0299</td><td>0.0285</td><td>64.100</td><td>671</td><td></td><td>24.497</td><td>2065.15</td><td>7.0245e-10</td><td>4.6535e-11</td><td>7.8076e-12</td><td>5.1475e-13</td><td>PowerLaw</td><td>1.6904e-13</td><td>1.1110e-14</td><td>2.0816</td><td>0.0501</td><td>1.7784e-13</td><td>1.3428e-14</td><td>2.0525</td><td>0.0651</td><td>0.0379</td><td>0.0310</td><td>1.283</td><td>1033.51</td><td>1244.78</td><td>1.7597e-13</td><td>1.2692e-14</td><td>2.0288</td><td>0.0676</td><td>0.04095</td><td>0.03388</td><td>0.6667</td><td>--</td><td>1.171</td><td>797.88</td><td>3014.20</td><td>1204.73</td><td>1.6641469e-12 .. 1.2048088e-12</td><td>-- .. 3.695932e-12</td><td>2.657329e-16 .. 2.0750411e-13</td><td>0.0 .. 0.84722465</td><td>51.7424</td><td>0.4291</td><td>0.1109</td><td>10.227</td><td>1.632524e-08</td><td>2.33745e-09</td><td>349790016.0</td><td>31560000.0</td><td>8.462245e-09 .. 3.470081e-09</td><td>-1.5965307e-09 .. 1.688124e-09</td><td>7.926063 .. 3.1138053</td><td>4FGL J0001.2-0747</td><td>3FGL J0001.2-0748</td><td>3FHL J0001.2-0748</td><td></td><td></td><td></td><td>N</td><td></td><td>bll</td><td></td><td>PMN J0001-0746</td><td></td><td>0.9970</td><td>0.9329</td><td>0.3251</td><td>-7.7741</td><td>0.00000</td><td>0</td></tr>\n",
       "<tr><td>4FGL J0001.4-0010</td><td>3</td><td>0.3717</td><td>-0.1699</td><td>96.8920</td><td>-60.4913</td><td>0.0365</td><td>0.0363</td><td>-52.740</td><td>0.0592</td><td>0.0589</td><td>-52.740</td><td>1506</td><td></td><td>5.252</td><td>2869.26</td><td>1.1773e-10</td><td>2.7161e-11</td><td>1.3124e-12</td><td>3.1021e-13</td><td>PowerLaw</td><td>1.4221e-14</td><td>3.2475e-15</td><td>2.1090</td><td>0.1837</td><td>1.3973e-14</td><td>3.6007e-15</td><td>2.1180</td><td>0.1871</td><td>-0.0102</td><td>0.0692</td><td>0.000</td><td>--</td><td>--</td><td>1.4730e-14</td><td>3.5671e-15</td><td>2.0446</td><td>0.2581</td><td>0.03280</td><td>0.08614</td><td>0.6667</td><td>--</td><td>0.000</td><td>81.30</td><td>9030.00</td><td>207.88</td><td>1.7131245e-13 .. 3.4016991e-16</td><td>-- .. 2.8853061e-12</td><td>2.732577e-17 .. 5.7954914e-17</td><td>0.0 .. 0.0</td><td>9.3742</td><td>0.0000</td><td>10.0000</td><td>-inf</td><td>-inf</td><td>-inf</td><td>-inf</td><td>-inf</td><td>1.2336494e-09 .. 7.619416e-10</td><td>-9.843029e-10 .. 1.7601309e-09</td><td>1.3531672 .. 0.47480378</td><td>4FGL J0001.4-0010</td><td></td><td></td><td></td><td></td><td></td><td>N</td><td></td><td>bll</td><td></td><td>FBQS J0001-0011</td><td></td><td>0.9916</td><td>0.8177</td><td>0.3395</td><td>-0.1944</td><td>0.00450</td><td>0</td></tr>\n",
       "<tr><td>4FGL J0001.5+2113</td><td>1</td><td>0.3815</td><td>21.2183</td><td>107.6494</td><td>-40.1677</td><td>0.0260</td><td>0.0240</td><td>-60.520</td><td>0.0422</td><td>0.0389</td><td>-60.520</td><td>1344</td><td></td><td>46.426</td><td>340.92</td><td>1.1855e-09</td><td>5.4453e-11</td><td>2.2820e-11</td><td>6.3708e-13</td><td>LogParabola</td><td>3.8179e-11</td><td>1.0140e-12</td><td>2.6704</td><td>0.0217</td><td>4.3688e-11</td><td>1.3399e-12</td><td>2.5455</td><td>0.0332</td><td>0.1489</td><td>0.0215</td><td>7.549</td><td>54.60</td><td>18.40</td><td>4.2284e-11</td><td>1.2519e-12</td><td>2.5060</td><td>0.0338</td><td>0.18454</td><td>0.02820</td><td>0.6667</td><td>--</td><td>7.787</td><td>--</td><td>--</td><td>5749.19</td><td>6.6762965e-08 .. 6.1398297e-15</td><td>-2.8545768e-08 .. 2.5565743e-12</td><td>1.0662745e-11 .. 5.91162e-16</td><td>2.3333735 .. 0.0</td><td>1861.6034</td><td>1.0882</td><td>0.2146</td><td>38.140</td><td>2.0028273e-07</td><td>6.6710975e-09</td><td>476030016.0</td><td>31560000.0</td><td>5.10925e-09 .. 1.1947686e-08</td><td>-2.8717098e-09 .. 3.7160157e-09</td><td>1.829908 .. 3.5550892</td><td>4FGL J0001.5+2113</td><td>3FGL J0001.4+2120</td><td></td><td></td><td>3EG J2359+2041</td><td></td><td>N</td><td></td><td>fsrq</td><td></td><td>TXS 2358+209</td><td></td><td>0.9980</td><td>0.9582</td><td>0.3849</td><td>21.2267</td><td>0.00000</td><td>0</td></tr>\n",
       "<tr><td>4FGL J0001.6+3503</td><td>3</td><td>0.4098</td><td>35.0573</td><td>111.5381</td><td>-26.7103</td><td>0.0629</td><td>0.0501</td><td>-49.100</td><td>0.1020</td><td>0.0813</td><td>-49.100</td><td>780</td><td></td><td>6.475</td><td>1091.06</td><td>1.8919e-10</td><td>3.4430e-11</td><td>1.3373e-12</td><td>3.6359e-13</td><td>LogParabola</td><td>1.7218e-13</td><td>2.8462e-14</td><td>2.4493</td><td>0.1193</td><td>2.3079e-13</td><td>4.2560e-14</td><td>2.1549</td><td>0.2968</td><td>0.3242</td><td>0.1841</td><td>2.418</td><td>859.26</td><td>482.52</td><td>2.3266e-13</td><td>4.2877e-14</td><td>1.9527</td><td>0.3402</td><td>0.65448</td><td>0.31435</td><td>0.6667</td><td>--</td><td>2.866</td><td>1170.92</td><td>554.37</td><td>335.83</td><td>1.1733832e-08 .. 1.0613527e-15</td><td>-8.083276e-09 .. 2.386919e-12</td><td>2.0044877e-12 .. 9.833707e-17</td><td>1.4500567 .. 0.0</td><td>11.1987</td><td>0.0000</td><td>10.0000</td><td>-inf</td><td>-inf</td><td>-inf</td><td>-inf</td><td>-inf</td><td>3.207077e-09 .. 2.2588191e-09</td><td>-1.012114e-09 .. 1.0322188e-09</td><td>3.726184 .. 2.6258</td><td>4FGL J0001.6+3503</td><td></td><td></td><td></td><td></td><td></td><td>N</td><td></td><td></td><td></td><td></td><td></td><td>0.0000</td><td>0.0000</td><td>--</td><td>--</td><td>--</td><td>0</td></tr>\n",
       "<tr><td>4FGL J0001.6-4156</td><td>1</td><td>0.4165</td><td>-41.9425</td><td>334.2263</td><td>-72.0285</td><td>0.0427</td><td>0.0324</td><td>44.090</td><td>0.0692</td><td>0.0525</td><td>44.090</td><td>1349</td><td></td><td>17.982</td><td>2729.53</td><td>3.1268e-10</td><td>3.1619e-11</td><td>3.2608e-12</td><td>4.2668e-13</td><td>LogParabola</td><td>3.9823e-14</td><td>3.9064e-15</td><td>1.7811</td><td>0.0640</td><td>4.5783e-14</td><td>5.2111e-15</td><td>1.5810</td><td>0.1248</td><td>0.1209</td><td>0.0567</td><td>2.630</td><td>15441.65</td><td>8987.76</td><td>4.3217e-14</td><td>4.7601e-15</td><td>1.5866</td><td>0.1194</td><td>0.09821</td><td>0.06049</td><td>0.6667</td><td>--</td><td>2.330</td><td>20271.29</td><td>10459.36</td><td>294.07</td><td>1.8588997e-10 .. 1.5726335e-12</td><td>-- .. 2.2862857e-12</td><td>3.1364227e-14 .. 2.1498715e-13</td><td>0.037754785 .. 1.5824199</td><td>25.6095</td><td>0.3689</td><td>0.1471</td><td>-inf</td><td>-inf</td><td>-inf</td><td>-inf</td><td>-inf</td><td>1.2599416e-09 .. 1.3015212e-09</td><td>-3.4846484e-10 .. 3.8189454e-10</td><td>5.4899836 .. 6.524167</td><td>4FGL J0001.6-4156</td><td>3FGL J0002.2-4152</td><td>3FHL J0001.9-4155</td><td></td><td></td><td></td><td>N</td><td></td><td>bcu</td><td></td><td>2MASS J00013275-4155252</td><td></td><td>0.9963</td><td>0.8546</td><td>0.3865</td><td>-41.9237</td><td>0.00007</td><td>0</td></tr>\n",
       "<tr><td>...</td><td>...</td><td>...</td><td>...</td><td>...</td><td>...</td><td>...</td><td>...</td><td>...</td><td>...</td><td>...</td><td>...</td><td>...</td><td>...</td><td>...</td><td>...</td><td>...</td><td>...</td><td>...</td><td>...</td><td>...</td><td>...</td><td>...</td><td>...</td><td>...</td><td>...</td><td>...</td><td>...</td><td>...</td><td>...</td><td>...</td><td>...</td><td>...</td><td>...</td><td>...</td><td>...</td><td>...</td><td>...</td><td>...</td><td>...</td><td>...</td><td>...</td><td>...</td><td>...</td><td>...</td><td>...</td><td>...</td><td>...</td><td>...</td><td>...</td><td>...</td><td>...</td><td>...</td><td>...</td><td>...</td><td>...</td><td>...</td><td>...</td><td>...</td><td>...</td><td>...</td><td>...</td><td>...</td><td>...</td><td>...</td><td>...</td><td>...</td><td>...</td><td>...</td><td>...</td><td>...</td><td>...</td><td>...</td><td>...</td><td>...</td><td>...</td><td>...</td><td>...</td><td>...</td></tr>\n",
       "<tr><td>4FGL J2359.0-3038</td><td>1</td><td>359.7719</td><td>-30.6367</td><td>12.8091</td><td>-78.0242</td><td>0.0141</td><td>0.0136</td><td>24.260</td><td>0.0228</td><td>0.0220</td><td>24.260</td><td>1763</td><td></td><td>22.709</td><td>3701.19</td><td>4.4264e-10</td><td>3.6010e-11</td><td>5.3215e-12</td><td>4.5298e-13</td><td>PowerLaw</td><td>3.4192e-14</td><td>2.7482e-15</td><td>1.8376</td><td>0.0590</td><td>3.4151e-14</td><td>3.3512e-15</td><td>1.8385</td><td>0.0716</td><td>-0.0005</td><td>0.0300</td><td>0.000</td><td>--</td><td>--</td><td>3.4833e-14</td><td>3.0064e-15</td><td>1.8100</td><td>0.0762</td><td>0.01237</td><td>0.02138</td><td>0.6667</td><td>--</td><td>0.000</td><td>139434.84</td><td>291390.84</td><td>615.92</td><td>1.2206869e-10 .. 9.354159e-12</td><td>-- .. 4.932343e-12</td><td>1.9682083e-14 .. 1.7808143e-12</td><td>0.0 .. 6.8772135</td><td>16.8301</td><td>0.1504</td><td>0.1446</td><td>-inf</td><td>-inf</td><td>-inf</td><td>-inf</td><td>-inf</td><td>5.320255e-09 .. 1.7362575e-09</td><td>-1.0776404e-09 .. 7.404344e-10</td><td>8.609941 .. 5.314805</td><td>4FGL J2359.0-3038</td><td>3FGL J2359.3-3038</td><td>3FHL J2359.1-3038</td><td></td><td></td><td></td><td>P</td><td>H 2356-309</td><td>bll</td><td></td><td>H 2356-309</td><td></td><td>0.9993</td><td>0.9955</td><td>359.7829</td><td>-30.6280</td><td>0.00000</td><td>0</td></tr>\n",
       "<tr><td>4FGL J2359.1+1719</td><td>1</td><td>359.7756</td><td>17.3225</td><td>105.5174</td><td>-43.7725</td><td>0.0334</td><td>0.0313</td><td>-18.990</td><td>0.0542</td><td>0.0507</td><td>-18.990</td><td>238</td><td></td><td>7.143</td><td>3016.57</td><td>1.4012e-10</td><td>2.6541e-11</td><td>1.5609e-12</td><td>2.9398e-13</td><td>PowerLaw</td><td>1.5503e-14</td><td>2.9193e-15</td><td>2.0196</td><td>0.1255</td><td>1.8969e-14</td><td>4.2185e-15</td><td>1.9066</td><td>0.1821</td><td>0.1219</td><td>0.0981</td><td>1.376</td><td>4424.30</td><td>2999.35</td><td>1.7827e-14</td><td>3.7740e-15</td><td>1.8698</td><td>0.1873</td><td>0.11508</td><td>0.11232</td><td>0.6667</td><td>--</td><td>0.911</td><td>7009.59</td><td>5601.37</td><td>229.35</td><td>1.8924191e-10 .. 7.098173e-17</td><td>-- .. 2.6471787e-12</td><td>3.0292853e-14 .. 1.2534039e-17</td><td>0.0 .. 0.0</td><td>9.7312</td><td>0.0000</td><td>10.0000</td><td>-inf</td><td>-inf</td><td>-inf</td><td>-inf</td><td>-inf</td><td>1.0522296e-09 .. 2.5952473e-11</td><td>-7.9103996e-10 .. 1.2582255e-09</td><td>1.3821346 .. 0.0</td><td>4FGL J2359.1+1719</td><td></td><td></td><td></td><td></td><td></td><td>N</td><td></td><td>bcu</td><td></td><td>NVSS J235901+171926</td><td></td><td>--</td><td>0.0000</td><td>359.7549</td><td>17.3238</td><td>0.00000</td><td>0</td></tr>\n",
       "<tr><td>4FGL J2359.2-3134</td><td>2</td><td>359.8167</td><td>-31.5832</td><td>8.4116</td><td>-77.8010</td><td>0.0609</td><td>0.0483</td><td>1.930</td><td>0.0987</td><td>0.0783</td><td>1.930</td><td>1763</td><td></td><td>9.180</td><td>571.07</td><td>1.4652e-10</td><td>2.3966e-11</td><td>2.9069e-12</td><td>3.6328e-13</td><td>PowerLaw</td><td>1.1519e-12</td><td>1.3677e-13</td><td>2.7165</td><td>0.0987</td><td>1.1765e-12</td><td>1.6588e-13</td><td>2.7137</td><td>0.1061</td><td>0.0215</td><td>0.0610</td><td>0.234</td><td>--</td><td>--</td><td>1.1584e-12</td><td>1.4892e-13</td><td>2.7065</td><td>0.1107</td><td>0.01439</td><td>0.05886</td><td>0.6667</td><td>--</td><td>0.000</td><td>--</td><td>--</td><td>900.22</td><td>9.0763175e-09 .. 1.1232852e-17</td><td>-- .. 3.1554514e-12</td><td>1.4137116e-12 .. 1.5420619e-18</td><td>0.5659317 .. 0.0</td><td>95.4096</td><td>1.0690</td><td>0.2417</td><td>10.447</td><td>2.889726e-08</td><td>3.3430512e-09</td><td>507590016.0</td><td>31560000.0</td><td>4.6589457e-09 .. 6.420198e-10</td><td>-2.7989315e-09 .. 2.8244502e-09</td><td>1.7039856 .. 0.26349235</td><td>4FGL J2359.2-3134</td><td></td><td></td><td></td><td></td><td></td><td>N</td><td></td><td>fsrq</td><td></td><td>PKS 2357-318</td><td></td><td>0.9817</td><td>0.9533</td><td>359.8979</td><td>-31.5622</td><td>0.00000</td><td>16</td></tr>\n",
       "<tr><td>4FGL J2359.3+0215</td><td>2</td><td>359.8329</td><td>2.2603</td><td>97.7490</td><td>-58.0409</td><td>0.0374</td><td>0.0334</td><td>49.520</td><td>0.0606</td><td>0.0541</td><td>49.520</td><td>1506</td><td></td><td>8.578</td><td>5153.45</td><td>1.4273e-10</td><td>2.9032e-11</td><td>1.3542e-12</td><td>2.8231e-13</td><td>LogParabola</td><td>5.6610e-15</td><td>1.0589e-15</td><td>1.7525</td><td>0.1066</td><td>9.8337e-15</td><td>2.0377e-15</td><td>1.5779</td><td>0.2099</td><td>0.3669</td><td>0.1311</td><td>3.787</td><td>9160.70</td><td>2833.18</td><td>9.8472e-15</td><td>2.0597e-15</td><td>1.3569</td><td>0.2329</td><td>0.69427</td><td>0.26201</td><td>0.6667</td><td>--</td><td>3.934</td><td>10602.07</td><td>2587.09</td><td>83.81</td><td>6.12997e-12 .. 5.640288e-17</td><td>-- .. 2.8466034e-12</td><td>1.0625808e-15 .. 5.4204736e-18</td><td>0.0 .. 0.0</td><td>18.0104</td><td>0.2597</td><td>0.5599</td><td>-inf</td><td>-inf</td><td>-inf</td><td>-inf</td><td>-inf</td><td>2.5990912e-10 .. 3.5572528e-10</td><td>-1.0145343e-10 .. 1.8114238e-10</td><td>4.1475573 .. 3.6924284</td><td>4FGL J2359.3+0215</td><td></td><td></td><td></td><td></td><td></td><td>N</td><td></td><td>bcu</td><td></td><td>1RXS J235916.9+021505</td><td></td><td>0.9976</td><td>0.8404</td><td>359.8210</td><td>2.2556</td><td>0.00450</td><td>0</td></tr>\n",
       "<tr><td>4FGL J2359.3+2502</td><td>3</td><td>359.8342</td><td>25.0416</td><td>108.2474</td><td>-36.3401</td><td>0.0432</td><td>0.0360</td><td>67.540</td><td>0.0700</td><td>0.0583</td><td>67.540</td><td>1344</td><td></td><td>5.559</td><td>3147.20</td><td>1.1876e-10</td><td>2.6855e-11</td><td>1.3272e-12</td><td>3.1223e-13</td><td>PowerLaw</td><td>1.1758e-14</td><td>2.6006e-15</td><td>2.1231</td><td>0.1675</td><td>1.3738e-14</td><td>3.5773e-15</td><td>2.0150</td><td>0.2807</td><td>0.1352</td><td>0.1624</td><td>1.003</td><td>2977.49</td><td>3197.77</td><td>1.3975e-14</td><td>3.5652e-15</td><td>1.9033</td><td>0.3188</td><td>0.27394</td><td>0.28334</td><td>0.6667</td><td>--</td><td>1.063</td><td>4320.85</td><td>3543.40</td><td>235.13</td><td>1.2702883e-13 .. 5.382678e-16</td><td>-- .. 2.9702519e-12</td><td>2.0250846e-17 .. 9.1195385e-17</td><td>0.0 .. 0.0</td><td>22.0515</td><td>0.4716</td><td>0.3875</td><td>-inf</td><td>-inf</td><td>-inf</td><td>-inf</td><td>-inf</td><td>1.4257835e-09 .. 2.2204516e-09</td><td>-1.298539e-09 .. 1.5770656e-09</td><td>1.1429439 .. 2.3692312</td><td>4FGL J2359.3+2502</td><td></td><td></td><td></td><td></td><td></td><td>N</td><td></td><td></td><td></td><td></td><td></td><td>0.0000</td><td>0.0000</td><td>--</td><td>--</td><td>--</td><td>0</td></tr>\n",
       "<tr><td>4FGL J2359.3-2049</td><td>1</td><td>359.8357</td><td>-20.8189</td><td>58.0901</td><td>-76.5429</td><td>0.0246</td><td>0.0215</td><td>-73.900</td><td>0.0399</td><td>0.0348</td><td>-73.900</td><td>1693</td><td></td><td>18.289</td><td>2930.84</td><td>3.5826e-10</td><td>3.2927e-11</td><td>4.0940e-12</td><td>3.8947e-13</td><td>PowerLaw</td><td>4.2403e-14</td><td>3.8934e-15</td><td>1.9285</td><td>0.0693</td><td>4.2834e-14</td><td>4.6351e-15</td><td>1.9243</td><td>0.0807</td><td>0.0044</td><td>0.0336</td><td>0.000</td><td>15503608.00</td><td>950889600.00</td><td>4.3602e-14</td><td>4.2689e-15</td><td>1.8901</td><td>0.0896</td><td>0.01918</td><td>0.02778</td><td>0.6667</td><td>--</td><td>0.000</td><td>31028.62</td><td>44514.93</td><td>533.91</td><td>4.9757958e-09 .. 1.948438e-12</td><td>-- .. 2.6153853e-12</td><td>7.9938936e-13 .. 3.5714053e-13</td><td>0.22761072 .. 2.1001635</td><td>14.4982</td><td>0.0683</td><td>0.3772</td><td>-inf</td><td>-inf</td><td>-inf</td><td>-inf</td><td>-inf</td><td>2.975037e-09 .. 3.769433e-09</td><td>-1.0253463e-09 .. 1.0628519e-09</td><td>4.0335164 .. 7.0298395</td><td>4FGL J2359.3-2049</td><td>3FGL J2359.5-2052</td><td>3FHL J2359.3-2049</td><td></td><td></td><td></td><td>N</td><td></td><td>bll</td><td></td><td>TXS 2356-210</td><td></td><td>0.9945</td><td>0.9715</td><td>359.8314</td><td>-20.7989</td><td>0.00000</td><td>2</td></tr>\n",
       "<tr><td>4FGL J2359.3+1444</td><td>1</td><td>359.8390</td><td>14.7498</td><td>104.5647</td><td>-46.2563</td><td>0.1367</td><td>0.0884</td><td>-65.400</td><td>0.2217</td><td>0.1433</td><td>-65.400</td><td>345</td><td></td><td>7.791</td><td>581.71</td><td>1.7027e-10</td><td>3.1031e-11</td><td>2.3558e-12</td><td>4.3196e-13</td><td>LogParabola</td><td>1.0647e-12</td><td>1.4439e-13</td><td>2.6385</td><td>0.1026</td><td>1.3274e-12</td><td>2.0172e-13</td><td>2.4665</td><td>0.1891</td><td>0.2230</td><td>0.1174</td><td>2.510</td><td>204.39</td><td>174.47</td><td>1.3466e-12</td><td>2.0285e-13</td><td>2.3027</td><td>0.2284</td><td>0.46339</td><td>0.23163</td><td>0.6667</td><td>--</td><td>2.765</td><td>246.73</td><td>321.64</td><td>601.49</td><td>1.0087045e-09 .. 6.621411e-15</td><td>-- .. 2.7959755e-12</td><td>1.6467336e-13 .. 6.134908e-16</td><td>0.0 .. 0.0</td><td>13.5620</td><td>0.1693</td><td>0.3996</td><td>-inf</td><td>-inf</td><td>-inf</td><td>-inf</td><td>-inf</td><td>8.7565954e-09 .. 3.6501813e-09</td><td>-2.3720672e-09 .. 2.5192155e-09</td><td>4.02097 .. 1.6115729</td><td>4FGL J2359.3+1444</td><td></td><td></td><td></td><td></td><td></td><td>N</td><td></td><td></td><td>agn</td><td></td><td>WISEA J235925.18+144919.9</td><td>0.2400</td><td>0.0000</td><td>--</td><td>--</td><td>--</td><td>2</td></tr>\n",
       "<tr><td>4FGL J2359.7-5041</td><td>3</td><td>359.9365</td><td>-50.6853</td><td>322.1281</td><td>-64.4728</td><td>0.1307</td><td>0.1039</td><td>84.490</td><td>0.2119</td><td>0.1685</td><td>84.490</td><td>467</td><td></td><td>5.150</td><td>717.05</td><td>7.9821e-11</td><td>2.0142e-11</td><td>1.1160e-12</td><td>2.7356e-13</td><td>LogParabola</td><td>2.9541e-13</td><td>6.1210e-14</td><td>2.7144</td><td>0.1447</td><td>4.6061e-13</td><td>9.2680e-14</td><td>2.6399</td><td>0.2580</td><td>0.4466</td><td>0.1836</td><td>3.037</td><td>350.25</td><td>150.83</td><td>4.6789e-13</td><td>9.3302e-14</td><td>2.4724</td><td>0.2798</td><td>0.93898</td><td>0.38615</td><td>0.6667</td><td>--</td><td>3.199</td><td>388.47</td><td>219.94</td><td>357.77</td><td>2.112895e-08 .. 3.74138e-15</td><td>-1.4760097e-08 .. 2.332284e-12</td><td>3.5827396e-12 .. 3.4664855e-16</td><td>1.4511985 .. 0.0</td><td>6.9343</td><td>0.0000</td><td>10.0000</td><td>-inf</td><td>-inf</td><td>-inf</td><td>-inf</td><td>-inf</td><td>2.6759004e-09 .. 1.3225839e-09</td><td>-1.5685266e-09 .. 1.4912929e-09</td><td>1.7924763 .. 0.900663</td><td>4FGL J2359.7-5041</td><td></td><td></td><td></td><td></td><td></td><td>N</td><td></td><td>bcu</td><td></td><td>AT20G J235947-504233</td><td></td><td>0.9621</td><td>0.8819</td><td>359.9484</td><td>-50.7093</td><td>0.00450</td><td>0</td></tr>\n",
       "<tr><td>4FGL J2359.9-3736</td><td>1</td><td>359.9816</td><td>-37.6160</td><td>345.6628</td><td>-74.9196</td><td>0.0508</td><td>0.0435</td><td>-58.770</td><td>0.0823</td><td>0.0706</td><td>-58.770</td><td>257</td><td></td><td>11.476</td><td>1490.85</td><td>2.4481e-10</td><td>3.0261e-11</td><td>1.7523e-12</td><td>2.8096e-13</td><td>LogParabola</td><td>1.0050e-13</td><td>1.1950e-14</td><td>2.0949</td><td>0.0833</td><td>1.2366e-13</td><td>1.6873e-14</td><td>1.9044</td><td>0.1505</td><td>0.1859</td><td>0.0868</td><td>2.774</td><td>1927.75</td><td>685.90</td><td>1.1698e-13</td><td>1.6267e-14</td><td>1.8686</td><td>0.1522</td><td>0.20260</td><td>0.13807</td><td>0.6667</td><td>--</td><td>2.385</td><td>2556.01</td><td>1083.52</td><td>326.32</td><td>8.510176e-14 .. 1.5588352e-19</td><td>-- .. 3.1501399e-12</td><td>1.4317436e-17 .. 1.637076e-20</td><td>0.0 .. 0.0</td><td>8.0828</td><td>0.0000</td><td>10.0000</td><td>-inf</td><td>-inf</td><td>-inf</td><td>-inf</td><td>-inf</td><td>1.535316e-09 .. 1.7728115e-09</td><td>-5.864724e-10 .. 6.528685e-10</td><td>3.3132436 .. 4.212942</td><td>4FGL J2359.9-3736</td><td>3FGL J0000.2-3738</td><td></td><td></td><td></td><td></td><td>N</td><td></td><td>bcu</td><td></td><td>NVSS J000008-373819</td><td></td><td>0.9913</td><td>0.0000</td><td>0.0351</td><td>-37.6391</td><td>0.00000</td><td>0</td></tr>\n",
       "<tr><td>4FGL J2359.9+3145</td><td>3</td><td>359.9908</td><td>31.7601</td><td>110.3210</td><td>-29.8480</td><td>0.0189</td><td>0.0179</td><td>-74.100</td><td>0.0307</td><td>0.0291</td><td>-74.100</td><td>254</td><td></td><td>11.307</td><td>3988.55</td><td>2.0863e-10</td><td>2.9220e-11</td><td>2.4250e-12</td><td>3.3327e-13</td><td>PowerLaw</td><td>1.3804e-14</td><td>1.8803e-15</td><td>1.8928</td><td>0.0961</td><td>1.6659e-14</td><td>2.7553e-15</td><td>1.7545</td><td>0.1588</td><td>0.1397</td><td>0.0915</td><td>1.877</td><td>9603.13</td><td>5398.04</td><td>1.6304e-14</td><td>2.6227e-15</td><td>1.6844</td><td>0.1688</td><td>0.19469</td><td>0.13307</td><td>0.6667</td><td>--</td><td>1.869</td><td>11969.66</td><td>5392.77</td><td>317.27</td><td>1.8725167e-10 .. 7.6339624e-13</td><td>-- .. 3.1282615e-12</td><td>3.0125733e-14 .. 1.4201306e-13</td><td>0.0 .. 0.5355769</td><td>19.2051</td><td>0.3569</td><td>0.2332</td><td>-inf</td><td>-inf</td><td>-inf</td><td>-inf</td><td>-inf</td><td>3.0808625e-10 .. 1.5011231e-09</td><td>-- .. 8.147619e-10</td><td>0.54794914 .. 3.526551</td><td>4FGL J2359.9+3145</td><td></td><td></td><td></td><td></td><td></td><td>N</td><td></td><td>bcu</td><td></td><td>NVSS J235955+314558</td><td></td><td>0.9994</td><td>0.8929</td><td>359.9804</td><td>31.7667</td><td>0.00450</td><td>0</td></tr>\n",
       "</table></div>"
      ],
      "text/plain": [
       "<Table length=7195>\n",
       "   Source_Name     DataRelease RAJ2000  ... Unc_Counterpart Flags\n",
       "                                 deg    ...       deg            \n",
       "     bytes18          int16    float32  ...     float32     int16\n",
       "------------------ ----------- -------- ... --------------- -----\n",
       "4FGL J0000.3-7355            1   0.0983 ...              --     0\n",
       "4FGL J0000.5+0743            2   0.1375 ...              --     0\n",
       "4FGL J0000.7+2530            3   0.1878 ...              --     0\n",
       "4FGL J0001.2+4741            1   0.3126 ...         0.00000     0\n",
       "4FGL J0001.2-0747            1   0.3151 ...         0.00000     0\n",
       "4FGL J0001.4-0010            3   0.3717 ...         0.00450     0\n",
       "4FGL J0001.5+2113            1   0.3815 ...         0.00000     0\n",
       "4FGL J0001.6+3503            3   0.4098 ...              --     0\n",
       "4FGL J0001.6-4156            1   0.4165 ...         0.00007     0\n",
       "               ...         ...      ... ...             ...   ...\n",
       "4FGL J2359.0-3038            1 359.7719 ...         0.00000     0\n",
       "4FGL J2359.1+1719            1 359.7756 ...         0.00000     0\n",
       "4FGL J2359.2-3134            2 359.8167 ...         0.00000    16\n",
       "4FGL J2359.3+0215            2 359.8329 ...         0.00450     0\n",
       "4FGL J2359.3+2502            3 359.8342 ...              --     0\n",
       "4FGL J2359.3-2049            1 359.8357 ...         0.00000     2\n",
       "4FGL J2359.3+1444            1 359.8390 ...              --     2\n",
       "4FGL J2359.7-5041            3 359.9365 ...         0.00450     0\n",
       "4FGL J2359.9-3736            1 359.9816 ...         0.00000     0\n",
       "4FGL J2359.9+3145            3 359.9908 ...         0.00450     0"
      ]
     },
     "execution_count": 2,
     "metadata": {},
     "output_type": "execute_result"
    }
   ],
   "source": [
    "fits_file_path = '/Users/vdk/Downloads/gll_psc_v34.fit'\n",
    "dat = Table.read(fits_file_path)\n",
    "dat"
   ]
  },
  {
   "cell_type": "code",
   "execution_count": 4,
   "metadata": {},
   "outputs": [
    {
     "data": {
      "text/plain": [
       "<TableColumns names=('Source_Name','DataRelease','RAJ2000','DEJ2000','GLON','GLAT','Conf_68_SemiMajor','Conf_68_SemiMinor','Conf_68_PosAng','Conf_95_SemiMajor','Conf_95_SemiMinor','Conf_95_PosAng','ROI_num','Extended_Source_Name','Signif_Avg','Pivot_Energy','Flux1000','Unc_Flux1000','Energy_Flux100','Unc_Energy_Flux100','SpectrumType','PL_Flux_Density','Unc_PL_Flux_Density','PL_Index','Unc_PL_Index','LP_Flux_Density','Unc_LP_Flux_Density','LP_Index','Unc_LP_Index','LP_beta','Unc_LP_beta','LP_SigCurv','LP_EPeak','Unc_LP_EPeak','PLEC_Flux_Density','Unc_PLEC_Flux_Density','PLEC_IndexS','Unc_PLEC_IndexS','PLEC_ExpfactorS','Unc_PLEC_ExpfactorS','PLEC_Exp_Index','Unc_PLEC_Exp_Index','PLEC_SigCurv','PLEC_EPeak','Unc_PLEC_EPeak','Npred','Flux_Band','Unc_Flux_Band','nuFnu_Band','Sqrt_TS_Band','Variability_Index','Frac_Variability','Unc_Frac_Variability','Signif_Peak','Flux_Peak','Unc_Flux_Peak','Time_Peak','Peak_Interval','Flux_History','Unc_Flux_History','Sqrt_TS_History','ASSOC_4FGL','ASSOC_FGL','ASSOC_FHL','ASSOC_GAM1','ASSOC_GAM2','ASSOC_GAM3','TEVCAT_FLAG','ASSOC_TEV','CLASS1','CLASS2','ASSOC1','ASSOC2','ASSOC_PROB_BAY','ASSOC_PROB_LR','RA_Counterpart','DEC_Counterpart','Unc_Counterpart','Flags')>"
      ]
     },
     "execution_count": 4,
     "metadata": {},
     "output_type": "execute_result"
    }
   ],
   "source": [
    "dat.columns"
   ]
  },
  {
   "cell_type": "markdown",
   "metadata": {},
   "source": [
    "## Замість індексу [1] - має бути порядковий номер нашого джерела"
   ]
  },
  {
   "cell_type": "code",
   "execution_count": 16,
   "metadata": {},
   "outputs": [
    {
     "data": {
      "text/plain": [
       "array([5.9297060e-16, 1.6964215e-13, 3.8170731e-13, 3.4097429e-13,\n",
       "       1.9686225e-13, 1.8452175e-19, 1.3465063e-13, 1.5542650e-16],\n",
       "      dtype='>f4')"
      ]
     },
     "execution_count": 16,
     "metadata": {},
     "output_type": "execute_result"
    }
   ],
   "source": [
    "\n",
    "dat[1]['nuFnu_Band']"
   ]
  },
  {
   "cell_type": "code",
   "execution_count": 12,
   "metadata": {},
   "outputs": [
    {
     "data": {
      "text/plain": [
       "masked_array(\n",
       "  data=[[--, 1.3147400501622997e-08],\n",
       "        [--, 1.654392844940844e-09],\n",
       "        [-2.0529852817752214e-10, 2.1199200728183598e-10],\n",
       "        [-3.741836354653749e-11, 4.0014786623077114e-11],\n",
       "        [-1.22818309342132e-11, 1.4356767510936841e-11],\n",
       "        [--, 4.4133477254681974e-12],\n",
       "        [-1.5735087928805958e-12, 2.7949235807678274e-12],\n",
       "        [--, 2.7929685474104016e-12]],\n",
       "  mask=[[ True, False],\n",
       "        [ True, False],\n",
       "        [False, False],\n",
       "        [False, False],\n",
       "        [False, False],\n",
       "        [ True, False],\n",
       "        [False, False],\n",
       "        [ True, False]],\n",
       "  fill_value=nan,\n",
       "  dtype='>f4')"
      ]
     },
     "execution_count": 12,
     "metadata": {},
     "output_type": "execute_result"
    }
   ],
   "source": [
    "dat[1]['Unc_Flux_Band']"
   ]
  },
  {
   "cell_type": "code",
   "execution_count": 13,
   "metadata": {},
   "outputs": [
    {
     "data": {
      "text/plain": [
       "array([1.5356434e-09, 2.3401545e-15, 2.8986193e-09, 4.8751740e-09,\n",
       "       2.5895683e-09, 3.5123877e-09, 4.7997295e-09, 5.9496359e-09,\n",
       "       1.0710911e-08, 1.8417545e-11, 1.5091228e-09, 9.7277655e-13,\n",
       "       5.7709539e-09, 2.4428466e-09], dtype='>f4')"
      ]
     },
     "execution_count": 13,
     "metadata": {},
     "output_type": "execute_result"
    }
   ],
   "source": [
    "dat[1]['Flux_History']"
   ]
  }
 ],
 "metadata": {
  "kernelspec": {
   "display_name": "cta-dev",
   "language": "python",
   "name": "cta-dev"
  },
  "language_info": {
   "codemirror_mode": {
    "name": "ipython",
    "version": 3
   },
   "file_extension": ".py",
   "mimetype": "text/x-python",
   "name": "python",
   "nbconvert_exporter": "python",
   "pygments_lexer": "ipython3",
   "version": "3.10.14"
  }
 },
 "nbformat": 4,
 "nbformat_minor": 2
}
