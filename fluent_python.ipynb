{
 "cells": [
  {
   "cell_type": "code",
   "execution_count": 7,
   "metadata": {},
   "outputs": [],
   "source": [
    "import math \n",
    "import time\n",
    "import functools\n",
    "\n",
    "class Vector:\n",
    "\n",
    "    def __init__(self, x=0, y=0): \n",
    "        self.x = x\n",
    "        self.y = y\n",
    "    def __repr__(self):\n",
    "        return f'Vector({self.x!r}, {self.y})'\n"
   ]
  },
  {
   "cell_type": "code",
   "execution_count": 8,
   "metadata": {},
   "outputs": [],
   "source": [
    "def clock(func): \n",
    "    @functools.wraps(func)\n",
    "    def clocked(*args, **kwargs):\n",
    "        t0 = time.perf_counter()\n",
    "        result = func(*args, **kwargs)\n",
    "        elapsed = time.perf_counter() - t0\n",
    "        name = func.__name__\n",
    "        arg_lst = [repr(arg) for arg in args] \n",
    "        arg_lst.extend(f'{k}={v!r}' for k, v in kwargs.items()) \n",
    "        arg_str = ', '.join(arg_lst)\n",
    "        print(f'[{elapsed:0.8f}s] {name}({arg_str}) -> {result!r}') \n",
    "        return result\n",
    "    return clocked"
   ]
  },
  {
   "cell_type": "code",
   "execution_count": 9,
   "metadata": {},
   "outputs": [],
   "source": [
    "@clock\n",
    "def printer(n):\n",
    "    for i in range(n):\n",
    "        print(i)\n"
   ]
  },
  {
   "cell_type": "code",
   "execution_count": null,
   "metadata": {},
   "outputs": [],
   "source": []
  },
  {
   "cell_type": "code",
   "execution_count": 13,
   "metadata": {},
   "outputs": [],
   "source": [
    "a = Vector()"
   ]
  },
  {
   "cell_type": "code",
   "execution_count": 14,
   "metadata": {},
   "outputs": [
    {
     "name": "stdout",
     "output_type": "stream",
     "text": [
      "0\n"
     ]
    }
   ],
   "source": [
    "print(a.x)"
   ]
  },
  {
   "cell_type": "code",
   "execution_count": 15,
   "metadata": {},
   "outputs": [
    {
     "data": {
      "text/plain": [
       "int"
      ]
     },
     "execution_count": 15,
     "metadata": {},
     "output_type": "execute_result"
    }
   ],
   "source": [
    "type(a.x)"
   ]
  },
  {
   "cell_type": "code",
   "execution_count": 17,
   "metadata": {},
   "outputs": [
    {
     "data": {
      "text/plain": [
       "[[1, 2, 3], 10, 25]"
      ]
     },
     "execution_count": 17,
     "metadata": {},
     "output_type": "execute_result"
    }
   ],
   "source": [
    "a = [1,2,3]\n",
    "b = 10\n",
    "c = 25\n",
    "t = [a,b,c]\n",
    "t"
   ]
  },
  {
   "cell_type": "code",
   "execution_count": 19,
   "metadata": {},
   "outputs": [
    {
     "data": {
      "text/plain": [
       "array('d', [1.0, 2.0, 3.0])"
      ]
     },
     "execution_count": 19,
     "metadata": {},
     "output_type": "execute_result"
    }
   ],
   "source": [
    "import array\n",
    "array.array('d', [1,2,3])"
   ]
  },
  {
   "cell_type": "code",
   "execution_count": 24,
   "metadata": {},
   "outputs": [
    {
     "name": "stdout",
     "output_type": "stream",
     "text": [
      "800984\n",
      "400080\n"
     ]
    }
   ],
   "source": [
    "import sys\n",
    "int_list = [i for i in range(100000)]\n",
    "int_array = array.array('i', [i for i in range(100000)])\n",
    "print(sys.getsizeof(int_list))  # Size of list in bytes\n",
    "print(sys.getsizeof(int_array))  # Size of array in bytes"
   ]
  },
  {
   "cell_type": "code",
   "execution_count": 29,
   "metadata": {},
   "outputs": [
    {
     "data": {
      "text/plain": [
       "590899387183067792"
      ]
     },
     "execution_count": 29,
     "metadata": {},
     "output_type": "execute_result"
    }
   ],
   "source": [
    "a = (1)\n",
    "b = (1,2,3,4)\n",
    "hash(b)"
   ]
  },
  {
   "cell_type": "code",
   "execution_count": 33,
   "metadata": {},
   "outputs": [
    {
     "data": {
      "text/plain": [
       "'/Users/vdk/Corrected_15_Night_Schedule.csv'"
      ]
     },
     "execution_count": 33,
     "metadata": {},
     "output_type": "execute_result"
    }
   ],
   "source": [
    "import pandas as pd\n",
    "\n",
    "# Correct data based on the provided image\n",
    "data = {\n",
    "    \"Day\": [\n",
    "        3,\n",
    "        4, 4,\n",
    "        5, 5,\n",
    "        6,\n",
    "        7, 7,\n",
    "        8, 8,\n",
    "        9,\n",
    "        10, 10,\n",
    "        11, 11,\n",
    "        12,\n",
    "        13, 13,\n",
    "        14, 14,\n",
    "        15,\n",
    "        16, 16,\n",
    "        17\n",
    "    ],\n",
    "    \"Shift Type\": [\n",
    "        \"FULL NIGHT\",\n",
    "        \"First Half\", \"Second Half\",\n",
    "        \"First Half\", \"Second Half\",\n",
    "        \"FULL NIGHT\",\n",
    "        \"First Half\", \"Second Half\",\n",
    "        \"First Half\", \"Second Half\",\n",
    "        \"FULL NIGHT\",\n",
    "        \"First Half\", \"Second Half\",\n",
    "        \"First Half\", \"Second Half\",\n",
    "        \"FULL NIGHT\",\n",
    "        \"First Half\", \"Second Half\",\n",
    "        \"First Half\", \"Second Half\",\n",
    "        \"FULL NIGHT\",\n",
    "        \"First Half\", \"Second Half\",\n",
    "        \"FULL NIGHT\"\n",
    "    ],\n",
    "    \"Leader\": [\n",
    "        \"Misha\",\n",
    "        \"Miguel\", \"Misha\",\n",
    "        \"Misha\", \"Miguel\",\n",
    "        \"Miguel\",\n",
    "        \"Misha\", \"Miguel\",\n",
    "        \"Miguel\", \"Misha\",\n",
    "        \"Misha\",\n",
    "        \"Miguel\", \"Misha\",\n",
    "        \"Misha\", \"Miguel\",\n",
    "        \"Miguel\",\n",
    "        \"Misha\", \"Miguel\",\n",
    "        \"Miguel\", \"Misha\",\n",
    "        \"Misha\",\n",
    "        \"Miguel\", \"Misha\",\n",
    "        \"Miguel\"\n",
    "    ],\n",
    "    \"Operator\": [\n",
    "        \"Giulia\",\n",
    "        \"Giulia\", \"Vadym\",\n",
    "        \"Vadym\", \"Giulia\",\n",
    "        \"Vadym\",\n",
    "        \"Giulia\", \"Vadym\",\n",
    "        \"Giulia\", \"Vadym\",\n",
    "        \"Giulia\",\n",
    "        \"Vadym\", \"Giulia\",\n",
    "        \"Giulia\", \"Vadym\",\n",
    "        \"Giulia\",\n",
    "        \"Vadym\", \"Giulia\",\n",
    "        \"Giulia\", \"Vadym\",\n",
    "        \"Vadym\",\n",
    "        \"Giulia\", \"Vadym\",\n",
    "        \"Vadym\"\n",
    "    ]\n",
    "}\n",
    "# Adjust the day numbers by subtracting 2\n",
    "data[\"Day\"] = [day - 2 for day in data[\"Day\"]]\n",
    "\n",
    "data[\"Day\"] = [str(day)+\" August\" for day in data[\"Day\"]]\n",
    "# Create DataFrame\n",
    "df = pd.DataFrame(data)\n",
    "\n",
    "\n",
    "\n",
    "# Save to CSV\n",
    "#csv_path = \"/Users/vdk/Corrected_15_Night_Schedule.csv\"\n",
    "df.to_csv(csv_path, index=False)\n",
    "\n",
    "csv_path\n"
   ]
  },
  {
   "cell_type": "code",
   "execution_count": 10,
   "metadata": {},
   "outputs": [
    {
     "ename": "ValueError",
     "evalue": "too many values to unpack (expected 1)",
     "output_type": "error",
     "traceback": [
      "\u001b[0;31m---------------------------------------------------------------------------\u001b[0m",
      "\u001b[0;31mValueError\u001b[0m                                Traceback (most recent call last)",
      "Cell \u001b[0;32mIn[10], line 2\u001b[0m\n\u001b[1;32m      1\u001b[0m test \u001b[38;5;241m=\u001b[39m (\u001b[38;5;241m1\u001b[39m,\u001b[38;5;241m2\u001b[39m,\u001b[38;5;241m3\u001b[39m)\n\u001b[0;32m----> 2\u001b[0m (record,)  \u001b[38;5;241m=\u001b[39m \u001b[38;5;241m1\u001b[39m,\u001b[38;5;241m2\u001b[39m,\u001b[38;5;241m3\u001b[39m\n",
      "\u001b[0;31mValueError\u001b[0m: too many values to unpack (expected 1)"
     ]
    }
   ],
   "source": [
    "test = (1,2,3)\n",
    "(record,)  = 1,2,3"
   ]
  },
  {
   "cell_type": "code",
   "execution_count": 11,
   "metadata": {},
   "outputs": [],
   "source": [
    "t = (1, 2, [30, 40])"
   ]
  },
  {
   "cell_type": "code",
   "execution_count": 14,
   "metadata": {},
   "outputs": [
    {
     "ename": "TypeError",
     "evalue": "'tuple' object does not support item assignment",
     "output_type": "error",
     "traceback": [
      "\u001b[0;31m---------------------------------------------------------------------------\u001b[0m",
      "\u001b[0;31mTypeError\u001b[0m                                 Traceback (most recent call last)",
      "Cell \u001b[0;32mIn[14], line 1\u001b[0m\n\u001b[0;32m----> 1\u001b[0m \u001b[43mt\u001b[49m\u001b[43m[\u001b[49m\u001b[38;5;241;43m2\u001b[39;49m\u001b[43m]\u001b[49m \u001b[38;5;241m+\u001b[39m\u001b[38;5;241m=\u001b[39m [\u001b[38;5;241m50\u001b[39m, \u001b[38;5;241m60\u001b[39m]\n",
      "\u001b[0;31mTypeError\u001b[0m: 'tuple' object does not support item assignment"
     ]
    }
   ],
   "source": [
    "t[2] += [50, 60]"
   ]
  },
  {
   "cell_type": "code",
   "execution_count": 15,
   "metadata": {},
   "outputs": [
    {
     "data": {
      "text/plain": [
       "(1, 2, [30, 40, 50, 60, 50, 60])"
      ]
     },
     "execution_count": 15,
     "metadata": {},
     "output_type": "execute_result"
    }
   ],
   "source": [
    "t"
   ]
  },
  {
   "cell_type": "code",
   "execution_count": 18,
   "metadata": {},
   "outputs": [
    {
     "name": "stdout",
     "output_type": "stream",
     "text": [
      "Time taken with threads: 0.9271528720855713\n"
     ]
    }
   ],
   "source": [
    "import threading\n",
    "import time\n",
    "\n",
    "def cpu_bound_task():\n",
    "    count = 0\n",
    "    for _ in range(10**7):\n",
    "        count += 1\n",
    "\n",
    "start_time = time.time()\n",
    "\n",
    "# Creating multiple threads to perform the CPU-bound task\n",
    "threads = []\n",
    "for _ in range(4):\n",
    "    thread = threading.Thread(target=cpu_bound_task)\n",
    "    threads.append(thread)\n",
    "    thread.start()\n",
    "\n",
    "for thread in threads:\n",
    "    thread.join()\n",
    "\n",
    "end_time = time.time()\n",
    "\n",
    "print(\"Time taken with threads:\", end_time - start_time)"
   ]
  },
  {
   "cell_type": "code",
   "execution_count": 19,
   "metadata": {},
   "outputs": [
    {
     "name": "stdout",
     "output_type": "stream",
     "text": [
      "Time taken with threads: 0.24371004104614258\n"
     ]
    }
   ],
   "source": [
    "def cpu_bound_task():\n",
    "    count = 0\n",
    "    for _ in range(10**7):\n",
    "        count += 1\n",
    "\n",
    "start_time = time.time()\n",
    "cpu_bound_task()\n",
    "end_time = time.time()\n",
    "\n",
    "print(\"Time taken with threads:\", end_time - start_time)"
   ]
  },
  {
   "cell_type": "code",
   "execution_count": 20,
   "metadata": {},
   "outputs": [
    {
     "name": "stdout",
     "output_type": "stream",
     "text": [
      "Time taken with processes: 1.0707199573516846\n"
     ]
    },
    {
     "name": "stderr",
     "output_type": "stream",
     "text": [
      "Traceback (most recent call last):\n",
      "  File \"<string>\", line 1, in <module>\n",
      "Traceback (most recent call last):\n",
      "Traceback (most recent call last):\n",
      "  File \"<string>\", line 1, in <module>\n",
      "  File \"<string>\", line 1, in <module>\n",
      "  File \"/Users/vdk/mambaforge/envs/cta-dev/lib/python3.10/multiprocessing/spawn.py\", line 116, in spawn_main\n",
      "  File \"/Users/vdk/mambaforge/envs/cta-dev/lib/python3.10/multiprocessing/spawn.py\", line 116, in spawn_main\n",
      "  File \"/Users/vdk/mambaforge/envs/cta-dev/lib/python3.10/multiprocessing/spawn.py\", line 116, in spawn_main\n",
      "        exitcode = _main(fd, parent_sentinel)\n",
      "  File \"/Users/vdk/mambaforge/envs/cta-dev/lib/python3.10/multiprocessing/spawn.py\", line 126, in _main\n",
      "exitcode = _main(fd, parent_sentinel)\n",
      "  File \"/Users/vdk/mambaforge/envs/cta-dev/lib/python3.10/multiprocessing/spawn.py\", line 126, in _main\n",
      "    self = reduction.pickle.load(from_parent)    self = reduction.pickle.load(from_parent)\n",
      "    AttributeErrorexitcode = _main(fd, parent_sentinel): \n",
      "Can't get attribute 'cpu_bound_task' on <module '__main__' (built-in)>\n",
      "\n",
      "  File \"/Users/vdk/mambaforge/envs/cta-dev/lib/python3.10/multiprocessing/spawn.py\", line 126, in _main\n",
      "AttributeError: Can't get attribute 'cpu_bound_task' on <module '__main__' (built-in)>\n",
      "    self = reduction.pickle.load(from_parent)\n",
      "AttributeError: Can't get attribute 'cpu_bound_task' on <module '__main__' (built-in)>\n",
      "Traceback (most recent call last):\n",
      "  File \"<string>\", line 1, in <module>\n",
      "  File \"/Users/vdk/mambaforge/envs/cta-dev/lib/python3.10/multiprocessing/spawn.py\", line 116, in spawn_main\n",
      "    exitcode = _main(fd, parent_sentinel)\n",
      "  File \"/Users/vdk/mambaforge/envs/cta-dev/lib/python3.10/multiprocessing/spawn.py\", line 126, in _main\n",
      "    self = reduction.pickle.load(from_parent)\n",
      "AttributeError: Can't get attribute 'cpu_bound_task' on <module '__main__' (built-in)>\n"
     ]
    }
   ],
   "source": [
    "import multiprocessing\n",
    "import time\n",
    "\n",
    "def cpu_bound_task():\n",
    "    count = 0\n",
    "    for _ in range(10**7):\n",
    "        count += 1\n",
    "\n",
    "start_time = time.time()\n",
    "\n",
    "# Creating multiple processes to perform the CPU-bound task\n",
    "processes = []\n",
    "for _ in range(4):\n",
    "    process = multiprocessing.Process(target=cpu_bound_task)\n",
    "    processes.append(process)\n",
    "    process.start()\n",
    "\n",
    "for process in processes:\n",
    "    process.join()\n",
    "\n",
    "end_time = time.time()\n",
    "\n",
    "print(\"Time taken with processes:\", end_time - start_time)"
   ]
  },
  {
   "cell_type": "code",
   "execution_count": 21,
   "metadata": {},
   "outputs": [],
   "source": [
    "test_dict = {'1' : 1, '2' : 2}"
   ]
  },
  {
   "cell_type": "code",
   "execution_count": 23,
   "metadata": {},
   "outputs": [],
   "source": [
    "test_dict['1'] = 3"
   ]
  },
  {
   "cell_type": "code",
   "execution_count": 24,
   "metadata": {},
   "outputs": [
    {
     "data": {
      "text/plain": [
       "3"
      ]
     },
     "execution_count": 24,
     "metadata": {},
     "output_type": "execute_result"
    }
   ],
   "source": [
    "test_dict['1']"
   ]
  },
  {
   "cell_type": "code",
   "execution_count": 9,
   "metadata": {},
   "outputs": [
    {
     "data": {
      "text/plain": [
       "{1.0, 2.0, 3.0}"
      ]
     },
     "execution_count": 9,
     "metadata": {},
     "output_type": "execute_result"
    }
   ],
   "source": [
    "s = {1.0,2.0,3.0}\n",
    "s"
   ]
  },
  {
   "cell_type": "code",
   "execution_count": 10,
   "metadata": {},
   "outputs": [
    {
     "data": {
      "text/plain": [
       "{1.0, 2.0, 3.0}"
      ]
     },
     "execution_count": 10,
     "metadata": {},
     "output_type": "execute_result"
    }
   ],
   "source": [
    "s.add(1)\n",
    "s"
   ]
  },
  {
   "cell_type": "code",
   "execution_count": 4,
   "metadata": {},
   "outputs": [
    {
     "data": {
      "text/plain": [
       "3776795821275486395"
      ]
     },
     "execution_count": 4,
     "metadata": {},
     "output_type": "execute_result"
    }
   ],
   "source": [
    "hash(test_str)"
   ]
  },
  {
   "cell_type": "code",
   "execution_count": 8,
   "metadata": {},
   "outputs": [
    {
     "data": {
      "text/plain": [
       "3776795821275486395"
      ]
     },
     "execution_count": 8,
     "metadata": {},
     "output_type": "execute_result"
    }
   ],
   "source": [
    "test_str = 'hello world'\n",
    "hash(test_str)"
   ]
  },
  {
   "cell_type": "code",
   "execution_count": 11,
   "metadata": {},
   "outputs": [
    {
     "name": "stdout",
     "output_type": "stream",
     "text": [
      "👍\tTHUMBS UP SIGN\n",
      "👍🏻\tTHUMBS UP SIGN + EMOJI MODIFIER FITZPATRICK TYPE-1-2\n",
      "👍🏼\tTHUMBS UP SIGN + EMOJI MODIFIER FITZPATRICK TYPE-3\n",
      "👍🏽\tTHUMBS UP SIGN + EMOJI MODIFIER FITZPATRICK TYPE-4\n",
      "👍🏾\tTHUMBS UP SIGN + EMOJI MODIFIER FITZPATRICK TYPE-5\n",
      "👍🏿\tTHUMBS UP SIGN + EMOJI MODIFIER FITZPATRICK TYPE-6\n"
     ]
    }
   ],
   "source": [
    "from unicodedata import name\n",
    "\n",
    "SKIN1 = 0x1F3FB  # EMOJI MODIFIER FITZPATRICK TYPE-1-2  # (1)\n",
    "SKINS = [chr(i) for i in range(SKIN1, SKIN1 + 5)]       # (2)\n",
    "THUMB = '\\U0001F44d'  # THUMBS UP SIGN 👍\n",
    "\n",
    "examples = [THUMB]                                      # (3)\n",
    "examples.extend(THUMB + skin for skin in SKINS)         # (4)\n",
    "\n",
    "for example in examples:\n",
    "    print(example, end='\\t')                            # (5)\n",
    "    print(' + '.join(name(char) for char in example)) "
   ]
  },
  {
   "cell_type": "code",
   "execution_count": 18,
   "metadata": {},
   "outputs": [],
   "source": [
    "def count_bits(x): \n",
    "    num_bits = 0\n",
    "    while x: \n",
    "        num_bits += x&1 \n",
    "        x>>=1\n",
    "    return num_bits\n"
   ]
  },
  {
   "cell_type": "code",
   "execution_count": 23,
   "metadata": {},
   "outputs": [
    {
     "data": {
      "text/plain": [
       "1"
      ]
     },
     "execution_count": 23,
     "metadata": {},
     "output_type": "execute_result"
    }
   ],
   "source": [
    "count_bits(1)"
   ]
  },
  {
   "cell_type": "code",
   "execution_count": 29,
   "metadata": {},
   "outputs": [
    {
     "data": {
      "text/plain": [
       "False"
      ]
     },
     "execution_count": 29,
     "metadata": {},
     "output_type": "execute_result"
    }
   ],
   "source": [
    "def check_odd(x):\n",
    "    return bool(x & 1)\n",
    "\n",
    "check_odd(20)"
   ]
  },
  {
   "cell_type": "code",
   "execution_count": 32,
   "metadata": {},
   "outputs": [
    {
     "name": "stdout",
     "output_type": "stream",
     "text": [
      "Collecting emoji\n",
      "  Downloading emoji-2.12.1-py3-none-any.whl.metadata (5.4 kB)\n",
      "Requirement already satisfied: typing-extensions>=4.7.0 in /Users/vdk/mambaforge/envs/cta-dev/lib/python3.10/site-packages (from emoji) (4.11.0)\n",
      "Downloading emoji-2.12.1-py3-none-any.whl (431 kB)\n",
      "\u001b[2K   \u001b[90m━━━━━━━━━━━━━━━━━━━━━━━━━━━━━━━━━━━━━━━━\u001b[0m \u001b[32m431.4/431.4 kB\u001b[0m \u001b[31m1.3 MB/s\u001b[0m eta \u001b[36m0:00:00\u001b[0ma \u001b[36m0:00:01\u001b[0mm\n",
      "\u001b[?25hInstalling collected packages: emoji\n",
      "Successfully installed emoji-2.12.1\n",
      "Note: you may need to restart the kernel to use updated packages.\n"
     ]
    }
   ],
   "source": [
    "pip install emoji"
   ]
  },
  {
   "cell_type": "code",
   "execution_count": 7,
   "metadata": {},
   "outputs": [
    {
     "name": "stdout",
     "output_type": "stream",
     "text": [
      "🥇: FIRST PLACE MEDAL\n",
      "🥈: SECOND PLACE MEDAL\n",
      "🥉: THIRD PLACE MEDAL\n",
      "🆎: NEGATIVE SQUARED AB\n",
      "🏧: AUTOMATED TELLER MACHINE\n"
     ]
    },
    {
     "ename": "TypeError",
     "evalue": "name() argument 1 must be a unicode character, not str",
     "output_type": "error",
     "traceback": [
      "\u001b[0;31m---------------------------------------------------------------------------\u001b[0m",
      "\u001b[0;31mTypeError\u001b[0m                                 Traceback (most recent call last)",
      "Cell \u001b[0;32mIn[7], line 12\u001b[0m\n\u001b[1;32m      9\u001b[0m             name \u001b[38;5;241m=\u001b[39m data\u001b[38;5;241m.\u001b[39mget(\u001b[38;5;124m\"\u001b[39m\u001b[38;5;124men\u001b[39m\u001b[38;5;124m\"\u001b[39m, \u001b[38;5;124m\"\u001b[39m\u001b[38;5;124mNo name found\u001b[39m\u001b[38;5;124m\"\u001b[39m)\n\u001b[1;32m     10\u001b[0m         \u001b[38;5;28mprint\u001b[39m(\u001b[38;5;124mf\u001b[39m\u001b[38;5;124m\"\u001b[39m\u001b[38;5;132;01m{\u001b[39;00mchar\u001b[38;5;132;01m}\u001b[39;00m\u001b[38;5;124m: \u001b[39m\u001b[38;5;132;01m{\u001b[39;00mname\u001b[38;5;132;01m}\u001b[39;00m\u001b[38;5;124m\"\u001b[39m)\n\u001b[0;32m---> 12\u001b[0m \u001b[43mprint_emoji_names\u001b[49m\u001b[43m(\u001b[49m\u001b[43m)\u001b[49m\n",
      "Cell \u001b[0;32mIn[7], line 7\u001b[0m, in \u001b[0;36mprint_emoji_names\u001b[0;34m()\u001b[0m\n\u001b[1;32m      5\u001b[0m \u001b[38;5;28;01mfor\u001b[39;00m char, data \u001b[38;5;129;01min\u001b[39;00m emoji\u001b[38;5;241m.\u001b[39mEMOJI_DATA\u001b[38;5;241m.\u001b[39mitems():\n\u001b[1;32m      6\u001b[0m     \u001b[38;5;28;01mtry\u001b[39;00m:\n\u001b[0;32m----> 7\u001b[0m         name \u001b[38;5;241m=\u001b[39m \u001b[43municodedata\u001b[49m\u001b[38;5;241;43m.\u001b[39;49m\u001b[43mname\u001b[49m\u001b[43m(\u001b[49m\u001b[43mchar\u001b[49m\u001b[43m)\u001b[49m\n\u001b[1;32m      8\u001b[0m     \u001b[38;5;28;01mexcept\u001b[39;00m \u001b[38;5;167;01mValueError\u001b[39;00m:\n\u001b[1;32m      9\u001b[0m         name \u001b[38;5;241m=\u001b[39m data\u001b[38;5;241m.\u001b[39mget(\u001b[38;5;124m\"\u001b[39m\u001b[38;5;124men\u001b[39m\u001b[38;5;124m\"\u001b[39m, \u001b[38;5;124m\"\u001b[39m\u001b[38;5;124mNo name found\u001b[39m\u001b[38;5;124m\"\u001b[39m)\n",
      "\u001b[0;31mTypeError\u001b[0m: name() argument 1 must be a unicode character, not str"
     ]
    }
   ],
   "source": [
    "import emoji\n",
    "import unicodedata\n",
    "\n",
    "def print_emoji_names():\n",
    "    for char, data in emoji.EMOJI_DATA.items():\n",
    "        try:\n",
    "            name = unicodedata.name(char)\n",
    "        except ValueError:\n",
    "            name = data.get(\"en\", \"No name found\")\n",
    "        print(f\"{char}: {name}\")\n",
    "\n",
    "print_emoji_names()"
   ]
  },
  {
   "cell_type": "code",
   "execution_count": 6,
   "metadata": {},
   "outputs": [
    {
     "name": "stdout",
     "output_type": "stream",
     "text": [
      "😀: GRINNING FACE\n",
      "😁: GRINNING FACE WITH SMILING EYES\n",
      "😂: FACE WITH TEARS OF JOY\n",
      "😃: SMILING FACE WITH OPEN MOUTH\n",
      "😄: SMILING FACE WITH OPEN MOUTH AND SMILING EYES\n",
      "😅: SMILING FACE WITH OPEN MOUTH AND COLD SWEAT\n",
      "😆: SMILING FACE WITH OPEN MOUTH AND TIGHTLY-CLOSED EYES\n",
      "😇: SMILING FACE WITH HALO\n",
      "😈: SMILING FACE WITH HORNS\n",
      "😉: WINKING FACE\n",
      "😊: SMILING FACE WITH SMILING EYES\n",
      "😋: FACE SAVOURING DELICIOUS FOOD\n",
      "😌: RELIEVED FACE\n",
      "😍: SMILING FACE WITH HEART-SHAPED EYES\n",
      "😎: SMILING FACE WITH SUNGLASSES\n",
      "😏: SMIRKING FACE\n",
      "😐: NEUTRAL FACE\n",
      "😑: EXPRESSIONLESS FACE\n",
      "😒: UNAMUSED FACE\n",
      "😓: FACE WITH COLD SWEAT\n",
      "😔: PENSIVE FACE\n",
      "😕: CONFUSED FACE\n",
      "😖: CONFOUNDED FACE\n",
      "😗: KISSING FACE\n",
      "😘: FACE THROWING A KISS\n",
      "😙: KISSING FACE WITH SMILING EYES\n",
      "😚: KISSING FACE WITH CLOSED EYES\n",
      "😛: FACE WITH STUCK-OUT TONGUE\n",
      "😜: FACE WITH STUCK-OUT TONGUE AND WINKING EYE\n",
      "😝: FACE WITH STUCK-OUT TONGUE AND TIGHTLY-CLOSED EYES\n",
      "😞: DISAPPOINTED FACE\n",
      "😟: WORRIED FACE\n",
      "😠: ANGRY FACE\n",
      "😡: POUTING FACE\n",
      "😢: CRYING FACE\n",
      "😣: PERSEVERING FACE\n",
      "😤: FACE WITH LOOK OF TRIUMPH\n",
      "😥: DISAPPOINTED BUT RELIEVED FACE\n",
      "😦: FROWNING FACE WITH OPEN MOUTH\n",
      "😧: ANGUISHED FACE\n",
      "😨: FEARFUL FACE\n",
      "😩: WEARY FACE\n",
      "😪: SLEEPY FACE\n",
      "😫: TIRED FACE\n",
      "😬: GRIMACING FACE\n",
      "😭: LOUDLY CRYING FACE\n",
      "😮: FACE WITH OPEN MOUTH\n",
      "😯: HUSHED FACE\n",
      "😰: FACE WITH OPEN MOUTH AND COLD SWEAT\n",
      "😱: FACE SCREAMING IN FEAR\n",
      "😲: ASTONISHED FACE\n",
      "😳: FLUSHED FACE\n",
      "😴: SLEEPING FACE\n",
      "😵: DIZZY FACE\n",
      "😶: FACE WITHOUT MOUTH\n",
      "😷: FACE WITH MEDICAL MASK\n",
      "😸: GRINNING CAT FACE WITH SMILING EYES\n",
      "😹: CAT FACE WITH TEARS OF JOY\n",
      "😺: SMILING CAT FACE WITH OPEN MOUTH\n",
      "😻: SMILING CAT FACE WITH HEART-SHAPED EYES\n",
      "😼: CAT FACE WITH WRY SMILE\n",
      "😽: KISSING CAT FACE WITH CLOSED EYES\n",
      "😾: POUTING CAT FACE\n",
      "😿: CRYING CAT FACE\n",
      "🙀: WEARY CAT FACE\n",
      "🙁: SLIGHTLY FROWNING FACE\n",
      "🙂: SLIGHTLY SMILING FACE\n",
      "🙃: UPSIDE-DOWN FACE\n",
      "🙄: FACE WITH ROLLING EYES\n",
      "🙅: FACE WITH NO GOOD GESTURE\n",
      "🙆: FACE WITH OK GESTURE\n",
      "🙇: PERSON BOWING DEEPLY\n",
      "🙋: HAPPY PERSON RAISING ONE HAND\n",
      "🙌: PERSON RAISING BOTH HANDS IN CELEBRATION\n",
      "🙍: PERSON FROWNING\n",
      "🙎: PERSON WITH POUTING FACE\n",
      "🙏: PERSON WITH FOLDED HANDS\n",
      "🌑: NEW MOON SYMBOL\n",
      "🌒: WAXING CRESCENT MOON SYMBOL\n",
      "🌓: FIRST QUARTER MOON SYMBOL\n",
      "🌔: WAXING GIBBOUS MOON SYMBOL\n",
      "🌕: FULL MOON SYMBOL\n",
      "🌖: WANING GIBBOUS MOON SYMBOL\n",
      "🌗: LAST QUARTER MOON SYMBOL\n",
      "🌘: WANING CRESCENT MOON SYMBOL\n",
      "🌚: NEW MOON WITH FACE\n",
      "🌛: FIRST QUARTER MOON WITH FACE\n",
      "🌜: LAST QUARTER MOON WITH FACE\n",
      "🌝: FULL MOON WITH FACE\n",
      "🌞: SUN WITH FACE\n",
      "🌬: WIND BLOWING FACE\n",
      "🍲: POT OF FOOD\n",
      "🍵: TEACUP WITHOUT HANDLE\n",
      "🎌: CROSSED FLAGS\n",
      "🎔: HEART WITH TIP ON THE LEFT\n",
      "🏁: CHEQUERED FLAG\n",
      "🏳: WAVING WHITE FLAG\n",
      "🏴: WAVING BLACK FLAG\n",
      "🏻: EMOJI MODIFIER FITZPATRICK TYPE-1-2\n",
      "🏼: EMOJI MODIFIER FITZPATRICK TYPE-3\n",
      "🏽: EMOJI MODIFIER FITZPATRICK TYPE-4\n",
      "🏾: EMOJI MODIFIER FITZPATRICK TYPE-5\n",
      "🏿: EMOJI MODIFIER FITZPATRICK TYPE-6\n",
      "🐈: CAT\n",
      "🐭: MOUSE FACE\n",
      "🐮: COW FACE\n",
      "🐯: TIGER FACE\n",
      "🐰: RABBIT FACE\n",
      "🐱: CAT FACE\n",
      "🐲: DRAGON FACE\n",
      "🐴: HORSE FACE\n",
      "🐵: MONKEY FACE\n",
      "🐶: DOG FACE\n",
      "🐷: PIG FACE\n",
      "🐸: FROG FACE\n",
      "🐹: HAMSTER FACE\n",
      "🐺: WOLF FACE\n",
      "🐻: BEAR FACE\n",
      "🐼: PANDA FACE\n",
      "👆: WHITE UP POINTING BACKHAND INDEX\n",
      "👇: WHITE DOWN POINTING BACKHAND INDEX\n",
      "👈: WHITE LEFT POINTING BACKHAND INDEX\n",
      "👉: WHITE RIGHT POINTING BACKHAND INDEX\n",
      "👊: FISTED HAND SIGN\n",
      "👋: WAVING HAND SIGN\n",
      "👌: OK HAND SIGN\n",
      "👏: CLAPPING HANDS SIGN\n",
      "👐: OPEN HANDS SIGN\n",
      "👜: HANDBAG\n",
      "👫: MAN AND WOMAN HOLDING HANDS\n",
      "👬: TWO MEN HOLDING HANDS\n",
      "👭: TWO WOMEN HOLDING HANDS\n",
      "👱: PERSON WITH BLOND HAIR\n",
      "💁: INFORMATION DESK PERSON\n",
      "💆: FACE MASSAGE\n",
      "💑: COUPLE WITH HEART\n",
      "💓: BEATING HEART\n",
      "💔: BROKEN HEART\n",
      "💕: TWO HEARTS\n",
      "💖: SPARKLING HEART\n",
      "💗: GROWING HEART\n",
      "💘: HEART WITH ARROW\n",
      "💙: BLUE HEART\n",
      "💚: GREEN HEART\n",
      "💛: YELLOW HEART\n",
      "💜: PURPLE HEART\n",
      "💝: HEART WITH RIBBON\n",
      "💞: REVOLVING HEARTS\n",
      "💟: HEART DECORATION\n",
      "💢: ANGER SYMBOL\n",
      "💤: SLEEPING SYMBOL\n",
      "💥: COLLISION SYMBOL\n",
      "💦: SPLASHING SWEAT SYMBOL\n",
      "💨: DASH SYMBOL\n",
      "💫: DIZZY SYMBOL\n",
      "💯: HUNDRED POINTS SYMBOL\n",
      "💻: PERSONAL COMPUTER\n",
      "📧: E-MAIL SYMBOL\n",
      "📪: CLOSED MAILBOX WITH LOWERED FLAG\n",
      "📫: CLOSED MAILBOX WITH RAISED FLAG\n",
      "📬: OPEN MAILBOX WITH RAISED FLAG\n",
      "📭: OPEN MAILBOX WITH LOWERED FLAG\n",
      "🔅: LOW BRIGHTNESS SYMBOL\n",
      "🔆: HIGH BRIGHTNESS SYMBOL\n",
      "🔗: LINK SYMBOL\n",
      "🔞: NO ONE UNDER EIGHTEEN SYMBOL\n",
      "🔠: INPUT SYMBOL FOR LATIN CAPITAL LETTERS\n",
      "🔡: INPUT SYMBOL FOR LATIN SMALL LETTERS\n",
      "🔢: INPUT SYMBOL FOR NUMBERS\n",
      "🔣: INPUT SYMBOL FOR SYMBOLS\n",
      "🔤: INPUT SYMBOL FOR LATIN LETTERS\n",
      "🔰: JAPANESE SYMBOL FOR BEGINNER\n",
      "🕅: SYMBOL FOR MARKS CHAPTER\n",
      "🕉: OM SYMBOL\n",
      "🕐: CLOCK FACE ONE OCLOCK\n",
      "🕑: CLOCK FACE TWO OCLOCK\n",
      "🕒: CLOCK FACE THREE OCLOCK\n",
      "🕓: CLOCK FACE FOUR OCLOCK\n",
      "🕔: CLOCK FACE FIVE OCLOCK\n",
      "🕕: CLOCK FACE SIX OCLOCK\n",
      "🕖: CLOCK FACE SEVEN OCLOCK\n",
      "🕗: CLOCK FACE EIGHT OCLOCK\n",
      "🕘: CLOCK FACE NINE OCLOCK\n",
      "🕙: CLOCK FACE TEN OCLOCK\n",
      "🕚: CLOCK FACE ELEVEN OCLOCK\n",
      "🕛: CLOCK FACE TWELVE OCLOCK\n",
      "🕜: CLOCK FACE ONE-THIRTY\n",
      "🕝: CLOCK FACE TWO-THIRTY\n",
      "🕞: CLOCK FACE THREE-THIRTY\n",
      "🕟: CLOCK FACE FOUR-THIRTY\n",
      "🕠: CLOCK FACE FIVE-THIRTY\n",
      "🕡: CLOCK FACE SIX-THIRTY\n",
      "🕢: CLOCK FACE SEVEN-THIRTY\n",
      "🕣: CLOCK FACE EIGHT-THIRTY\n",
      "🕤: CLOCK FACE NINE-THIRTY\n",
      "🕥: CLOCK FACE TEN-THIRTY\n",
      "🕦: CLOCK FACE ELEVEN-THIRTY\n",
      "🕧: CLOCK FACE TWELVE-THIRTY\n",
      "🕻: LEFT HAND TELEPHONE RECEIVER\n",
      "🕽: RIGHT HAND TELEPHONE RECEIVER\n",
      "🖎: LEFT WRITING HAND\n",
      "🖏: TURNED OK HAND SIGN\n",
      "🖐: RAISED HAND WITH FINGERS SPLAYED\n",
      "🖑: REVERSED RAISED HAND WITH FINGERS SPLAYED\n",
      "🖔: REVERSED VICTORY HAND\n",
      "🖕: REVERSED HAND WITH MIDDLE FINGER EXTENDED\n",
      "🖖: RAISED HAND WITH PART BETWEEN MIDDLE AND RING FINGERS\n",
      "🖗: WHITE DOWN POINTING LEFT HAND INDEX\n",
      "🖜: BLACK LEFT POINTING BACKHAND INDEX\n",
      "🖝: BLACK RIGHT POINTING BACKHAND INDEX\n",
      "🖢: BLACK UP POINTING BACKHAND INDEX\n",
      "🖣: BLACK DOWN POINTING BACKHAND INDEX\n",
      "🖤: BLACK HEART\n",
      "🖳: OLD PERSONAL COMPUTER\n",
      "🗚: INCREASE FONT SIZE SYMBOL\n",
      "🗛: DECREASE FONT SIZE SYMBOL\n",
      "🚩: TRIANGULAR FLAG ON POST\n",
      "🚬: SMOKING SYMBOL\n",
      "🚭: NO SMOKING SYMBOL\n",
      "🚮: PUT LITTER IN ITS PLACE SYMBOL\n",
      "🚯: DO NOT LITTER SYMBOL\n",
      "🚰: POTABLE WATER SYMBOL\n",
      "🚱: NON-POTABLE WATER SYMBOL\n",
      "🚹: MENS SYMBOL\n",
      "🚺: WOMENS SYMBOL\n",
      "🚼: BABY SYMBOL\n",
      "🛉: BOYS SYMBOL\n",
      "🛊: GIRLS SYMBOL\n",
      "🜀: ALCHEMICAL SYMBOL FOR QUINTESSENCE\n",
      "🜁: ALCHEMICAL SYMBOL FOR AIR\n",
      "🜂: ALCHEMICAL SYMBOL FOR FIRE\n",
      "🜃: ALCHEMICAL SYMBOL FOR EARTH\n",
      "🜄: ALCHEMICAL SYMBOL FOR WATER\n",
      "🜅: ALCHEMICAL SYMBOL FOR AQUAFORTIS\n",
      "🜆: ALCHEMICAL SYMBOL FOR AQUA REGIA\n",
      "🜇: ALCHEMICAL SYMBOL FOR AQUA REGIA-2\n",
      "🜈: ALCHEMICAL SYMBOL FOR AQUA VITAE\n",
      "🜉: ALCHEMICAL SYMBOL FOR AQUA VITAE-2\n",
      "🜊: ALCHEMICAL SYMBOL FOR VINEGAR\n",
      "🜋: ALCHEMICAL SYMBOL FOR VINEGAR-2\n",
      "🜌: ALCHEMICAL SYMBOL FOR VINEGAR-3\n",
      "🜍: ALCHEMICAL SYMBOL FOR SULFUR\n",
      "🜎: ALCHEMICAL SYMBOL FOR PHILOSOPHERS SULFUR\n",
      "🜏: ALCHEMICAL SYMBOL FOR BLACK SULFUR\n",
      "🜐: ALCHEMICAL SYMBOL FOR MERCURY SUBLIMATE\n",
      "🜑: ALCHEMICAL SYMBOL FOR MERCURY SUBLIMATE-2\n",
      "🜒: ALCHEMICAL SYMBOL FOR MERCURY SUBLIMATE-3\n",
      "🜓: ALCHEMICAL SYMBOL FOR CINNABAR\n",
      "🜔: ALCHEMICAL SYMBOL FOR SALT\n",
      "🜕: ALCHEMICAL SYMBOL FOR NITRE\n",
      "🜖: ALCHEMICAL SYMBOL FOR VITRIOL\n",
      "🜗: ALCHEMICAL SYMBOL FOR VITRIOL-2\n",
      "🜘: ALCHEMICAL SYMBOL FOR ROCK SALT\n",
      "🜙: ALCHEMICAL SYMBOL FOR ROCK SALT-2\n",
      "🜚: ALCHEMICAL SYMBOL FOR GOLD\n",
      "🜛: ALCHEMICAL SYMBOL FOR SILVER\n",
      "🜜: ALCHEMICAL SYMBOL FOR IRON ORE\n",
      "🜝: ALCHEMICAL SYMBOL FOR IRON ORE-2\n",
      "🜞: ALCHEMICAL SYMBOL FOR CROCUS OF IRON\n",
      "🜟: ALCHEMICAL SYMBOL FOR REGULUS OF IRON\n",
      "🜠: ALCHEMICAL SYMBOL FOR COPPER ORE\n",
      "🜡: ALCHEMICAL SYMBOL FOR IRON-COPPER ORE\n",
      "🜢: ALCHEMICAL SYMBOL FOR SUBLIMATE OF COPPER\n",
      "🜣: ALCHEMICAL SYMBOL FOR CROCUS OF COPPER\n",
      "🜤: ALCHEMICAL SYMBOL FOR CROCUS OF COPPER-2\n",
      "🜥: ALCHEMICAL SYMBOL FOR COPPER ANTIMONIATE\n",
      "🜦: ALCHEMICAL SYMBOL FOR SALT OF COPPER ANTIMONIATE\n",
      "🜧: ALCHEMICAL SYMBOL FOR SUBLIMATE OF SALT OF COPPER\n",
      "🜨: ALCHEMICAL SYMBOL FOR VERDIGRIS\n",
      "🜩: ALCHEMICAL SYMBOL FOR TIN ORE\n",
      "🜪: ALCHEMICAL SYMBOL FOR LEAD ORE\n",
      "🜫: ALCHEMICAL SYMBOL FOR ANTIMONY ORE\n",
      "🜬: ALCHEMICAL SYMBOL FOR SUBLIMATE OF ANTIMONY\n",
      "🜭: ALCHEMICAL SYMBOL FOR SALT OF ANTIMONY\n",
      "🜮: ALCHEMICAL SYMBOL FOR SUBLIMATE OF SALT OF ANTIMONY\n",
      "🜯: ALCHEMICAL SYMBOL FOR VINEGAR OF ANTIMONY\n",
      "🜰: ALCHEMICAL SYMBOL FOR REGULUS OF ANTIMONY\n",
      "🜱: ALCHEMICAL SYMBOL FOR REGULUS OF ANTIMONY-2\n",
      "🜲: ALCHEMICAL SYMBOL FOR REGULUS\n",
      "🜳: ALCHEMICAL SYMBOL FOR REGULUS-2\n",
      "🜴: ALCHEMICAL SYMBOL FOR REGULUS-3\n",
      "🜵: ALCHEMICAL SYMBOL FOR REGULUS-4\n",
      "🜶: ALCHEMICAL SYMBOL FOR ALKALI\n",
      "🜷: ALCHEMICAL SYMBOL FOR ALKALI-2\n",
      "🜸: ALCHEMICAL SYMBOL FOR MARCASITE\n",
      "🜹: ALCHEMICAL SYMBOL FOR SAL-AMMONIAC\n",
      "🜺: ALCHEMICAL SYMBOL FOR ARSENIC\n",
      "🜻: ALCHEMICAL SYMBOL FOR REALGAR\n",
      "🜼: ALCHEMICAL SYMBOL FOR REALGAR-2\n",
      "🜽: ALCHEMICAL SYMBOL FOR AURIPIGMENT\n",
      "🜾: ALCHEMICAL SYMBOL FOR BISMUTH ORE\n",
      "🜿: ALCHEMICAL SYMBOL FOR TARTAR\n",
      "🝀: ALCHEMICAL SYMBOL FOR TARTAR-2\n",
      "🝁: ALCHEMICAL SYMBOL FOR QUICK LIME\n",
      "🝂: ALCHEMICAL SYMBOL FOR BORAX\n",
      "🝃: ALCHEMICAL SYMBOL FOR BORAX-2\n",
      "🝄: ALCHEMICAL SYMBOL FOR BORAX-3\n",
      "🝅: ALCHEMICAL SYMBOL FOR ALUM\n",
      "🝆: ALCHEMICAL SYMBOL FOR OIL\n",
      "🝇: ALCHEMICAL SYMBOL FOR SPIRIT\n",
      "🝈: ALCHEMICAL SYMBOL FOR TINCTURE\n",
      "🝉: ALCHEMICAL SYMBOL FOR GUM\n",
      "🝊: ALCHEMICAL SYMBOL FOR WAX\n",
      "🝋: ALCHEMICAL SYMBOL FOR POWDER\n",
      "🝌: ALCHEMICAL SYMBOL FOR CALX\n",
      "🝍: ALCHEMICAL SYMBOL FOR TUTTY\n",
      "🝎: ALCHEMICAL SYMBOL FOR CAPUT MORTUUM\n",
      "🝏: ALCHEMICAL SYMBOL FOR SCEPTER OF JOVE\n",
      "🝐: ALCHEMICAL SYMBOL FOR CADUCEUS\n",
      "🝑: ALCHEMICAL SYMBOL FOR TRIDENT\n",
      "🝒: ALCHEMICAL SYMBOL FOR STARRED TRIDENT\n",
      "🝓: ALCHEMICAL SYMBOL FOR LODESTONE\n",
      "🝔: ALCHEMICAL SYMBOL FOR SOAP\n",
      "🝕: ALCHEMICAL SYMBOL FOR URINE\n",
      "🝖: ALCHEMICAL SYMBOL FOR HORSE DUNG\n",
      "🝗: ALCHEMICAL SYMBOL FOR ASHES\n",
      "🝘: ALCHEMICAL SYMBOL FOR POT ASHES\n",
      "🝙: ALCHEMICAL SYMBOL FOR BRICK\n",
      "🝚: ALCHEMICAL SYMBOL FOR POWDERED BRICK\n",
      "🝛: ALCHEMICAL SYMBOL FOR AMALGAM\n",
      "🝜: ALCHEMICAL SYMBOL FOR STRATUM SUPER STRATUM\n",
      "🝝: ALCHEMICAL SYMBOL FOR STRATUM SUPER STRATUM-2\n",
      "🝞: ALCHEMICAL SYMBOL FOR SUBLIMATION\n",
      "🝟: ALCHEMICAL SYMBOL FOR PRECIPITATE\n",
      "🝠: ALCHEMICAL SYMBOL FOR DISTILL\n",
      "🝡: ALCHEMICAL SYMBOL FOR DISSOLVE\n",
      "🝢: ALCHEMICAL SYMBOL FOR DISSOLVE-2\n",
      "🝣: ALCHEMICAL SYMBOL FOR PURIFY\n",
      "🝤: ALCHEMICAL SYMBOL FOR PUTREFACTION\n",
      "🝥: ALCHEMICAL SYMBOL FOR CRUCIBLE\n",
      "🝦: ALCHEMICAL SYMBOL FOR CRUCIBLE-2\n",
      "🝧: ALCHEMICAL SYMBOL FOR CRUCIBLE-3\n",
      "🝨: ALCHEMICAL SYMBOL FOR CRUCIBLE-4\n",
      "🝩: ALCHEMICAL SYMBOL FOR CRUCIBLE-5\n",
      "🝪: ALCHEMICAL SYMBOL FOR ALEMBIC\n",
      "🝫: ALCHEMICAL SYMBOL FOR BATH OF MARY\n",
      "🝬: ALCHEMICAL SYMBOL FOR BATH OF VAPOURS\n",
      "🝭: ALCHEMICAL SYMBOL FOR RETORT\n",
      "🝮: ALCHEMICAL SYMBOL FOR HOUR\n",
      "🝯: ALCHEMICAL SYMBOL FOR NIGHT\n",
      "🝰: ALCHEMICAL SYMBOL FOR DAY-NIGHT\n",
      "🝱: ALCHEMICAL SYMBOL FOR MONTH\n",
      "🝲: ALCHEMICAL SYMBOL FOR HALF DRAM\n",
      "🝳: ALCHEMICAL SYMBOL FOR HALF OUNCE\n",
      "🤍: WHITE HEART\n",
      "🤎: BROWN HEART\n",
      "🤏: PINCHING HAND\n",
      "🤐: ZIPPER-MOUTH FACE\n",
      "🤑: MONEY-MOUTH FACE\n",
      "🤒: FACE WITH THERMOMETER\n",
      "🤓: NERD FACE\n",
      "🤔: THINKING FACE\n",
      "🤕: FACE WITH HEAD-BANDAGE\n",
      "🤖: ROBOT FACE\n",
      "🤗: HUGGING FACE\n",
      "🤙: CALL ME HAND\n",
      "🤚: RAISED BACK OF HAND\n",
      "🤝: HANDSHAKE\n",
      "🤞: HAND WITH INDEX AND MIDDLE FINGERS CROSSED\n",
      "🤟: I LOVE YOU HAND SIGN\n",
      "🤠: FACE WITH COWBOY HAT\n",
      "🤡: CLOWN FACE\n",
      "🤢: NAUSEATED FACE\n",
      "🤤: DROOLING FACE\n",
      "🤥: LYING FACE\n",
      "🤦: FACE PALM\n",
      "🤧: SNEEZING FACE\n",
      "🤨: FACE WITH ONE EYEBROW RAISED\n",
      "🤩: GRINNING FACE WITH STAR EYES\n",
      "🤪: GRINNING FACE WITH ONE LARGE AND ONE SMALL EYE\n",
      "🤫: FACE WITH FINGER COVERING CLOSED LIPS\n",
      "🤬: SERIOUS FACE WITH SYMBOLS COVERING MOUTH\n",
      "🤭: SMILING FACE WITH SMILING EYES AND HAND COVERING MOUTH\n",
      "🤮: FACE WITH OPEN MOUTH VOMITING\n",
      "🤯: SHOCKED FACE WITH EXPLODING HEAD\n",
      "🤸: PERSON DOING CARTWHEEL\n",
      "🤾: HANDBALL\n",
      "🥘: SHALLOW PAN OF FOOD\n",
      "🥫: CANNED FOOD\n",
      "🥰: SMILING FACE WITH SMILING EYES AND THREE HEARTS\n",
      "🥱: YAWNING FACE\n",
      "🥲: SMILING FACE WITH TEAR\n",
      "🥳: FACE WITH PARTY HORN AND PARTY HAT\n",
      "🥴: FACE WITH UNEVEN EYES AND WAVY MOUTH\n",
      "🥵: OVERHEATED FACE\n",
      "🥶: FREEZING FACE\n",
      "🥸: DISGUISED FACE\n",
      "🥺: FACE WITH PLEADING EYES\n",
      "🦁: LION FACE\n",
      "🦄: UNICORN FACE\n",
      "🦊: FOX FACE\n",
      "🦒: GIRAFFE FACE\n",
      "🦓: ZEBRA FACE\n",
      "🦰: EMOJI COMPONENT RED HAIR\n",
      "🦱: EMOJI COMPONENT CURLY HAIR\n",
      "🦲: EMOJI COMPONENT BALD\n",
      "🦳: EMOJI COMPONENT WHITE HAIR\n",
      "🧍: STANDING PERSON\n",
      "🧎: KNEELING PERSON\n",
      "🧏: DEAF PERSON\n",
      "🧐: FACE WITH MONOCLE\n",
      "🧔: BEARDED PERSON\n",
      "🧕: PERSON WITH HEADSCARF\n",
      "🧖: PERSON IN STEAMY ROOM\n",
      "🧗: PERSON CLIMBING\n",
      "🧘: PERSON IN LOTUS POSITION\n",
      "🧜: MERPERSON\n",
      "🧡: ORANGE HEART\n",
      "🪴: POTTED PLANT\n",
      "🫀: ANATOMICAL HEART\n",
      "☙: REVERSED ROTATED FLORAL HEART BULLET\n",
      "☫: FARSI SYMBOL\n",
      "☮: PEACE SYMBOL\n",
      "☹: WHITE FROWNING FACE\n",
      "☺: WHITE SMILING FACE\n",
      "☻: BLACK SMILING FACE\n",
      "♡: WHITE HEART SUIT\n",
      "♥: BLACK HEART SUIT\n",
      "♲: UNIVERSAL RECYCLING SYMBOL\n",
      "♳: RECYCLING SYMBOL FOR TYPE-1 PLASTICS\n",
      "♴: RECYCLING SYMBOL FOR TYPE-2 PLASTICS\n",
      "♵: RECYCLING SYMBOL FOR TYPE-3 PLASTICS\n",
      "♶: RECYCLING SYMBOL FOR TYPE-4 PLASTICS\n",
      "♷: RECYCLING SYMBOL FOR TYPE-5 PLASTICS\n",
      "♸: RECYCLING SYMBOL FOR TYPE-6 PLASTICS\n",
      "♹: RECYCLING SYMBOL FOR TYPE-7 PLASTICS\n",
      "♺: RECYCLING SYMBOL FOR GENERIC MATERIALS\n",
      "♻: BLACK UNIVERSAL RECYCLING SYMBOL\n",
      "♼: RECYCLED PAPER SYMBOL\n",
      "♽: PARTIALLY-RECYCLED PAPER SYMBOL\n",
      "♿: WHEELCHAIR SYMBOL\n",
      "⚀: DIE FACE-1\n",
      "⚁: DIE FACE-2\n",
      "⚂: DIE FACE-3\n",
      "⚃: DIE FACE-4\n",
      "⚄: DIE FACE-5\n",
      "⚅: DIE FACE-6\n",
      "⚐: WHITE FLAG\n",
      "⚑: BLACK FLAG\n",
      "⚛: ATOM SYMBOL\n",
      "⚭: MARRIAGE SYMBOL\n",
      "⚮: DIVORCE SYMBOL\n",
      "⚯: UNMARRIED PARTNERSHIP SYMBOL\n",
      "⛢: ASTRONOMICAL SYMBOL FOR URANUS\n",
      "⛥: RIGHT-HANDED INTERLACED PENTAGRAM\n",
      "⛦: LEFT-HANDED INTERLACED PENTAGRAM\n",
      "⛮: GEAR WITH HANDLES\n",
      "⛯: MAP SYMBOL FOR LIGHTHOUSE\n",
      "⛳: FLAG IN HOLE\n",
      "⛹: PERSON WITH BALL\n",
      "⛻: JAPANESE BANK SYMBOL\n",
      "⛼: HEADSTONE GRAVEYARD SYMBOL\n",
      "⛿: WHITE FLAG WITH HORIZONTAL MIDDLE BLACK STRIPE\n",
      "✆: TELEPHONE LOCATION SIGN\n",
      "✋: RAISED HAND\n",
      "✌: VICTORY HAND\n",
      "✍: WRITING HAND\n",
      "✕: MULTIPLICATION X\n",
      "✖: HEAVY MULTIPLICATION X\n",
      "❗: HEAVY EXCLAMATION MARK SYMBOL\n",
      "❣: HEAVY HEART EXCLAMATION MARK ORNAMENT\n",
      "❤: HEAVY BLACK HEART\n",
      "❥: ROTATED HEAVY BLACK HEART BULLET\n",
      "❦: FLORAL HEART\n",
      "❧: ROTATED FLORAL HEART BULLET\n",
      "🂱: PLAYING CARD ACE OF HEARTS\n",
      "🂲: PLAYING CARD TWO OF HEARTS\n",
      "🂳: PLAYING CARD THREE OF HEARTS\n",
      "🂴: PLAYING CARD FOUR OF HEARTS\n",
      "🂵: PLAYING CARD FIVE OF HEARTS\n",
      "🂶: PLAYING CARD SIX OF HEARTS\n",
      "🂷: PLAYING CARD SEVEN OF HEARTS\n",
      "🂸: PLAYING CARD EIGHT OF HEARTS\n",
      "🂹: PLAYING CARD NINE OF HEARTS\n",
      "🂺: PLAYING CARD TEN OF HEARTS\n",
      "🂻: PLAYING CARD JACK OF HEARTS\n",
      "🂼: PLAYING CARD KNIGHT OF HEARTS\n",
      "🂽: PLAYING CARD QUEEN OF HEARTS\n",
      "🂾: PLAYING CARD KING OF HEARTS\n",
      "🇦: REGIONAL INDICATOR SYMBOL LETTER A\n",
      "🇧: REGIONAL INDICATOR SYMBOL LETTER B\n",
      "🇨: REGIONAL INDICATOR SYMBOL LETTER C\n",
      "🇩: REGIONAL INDICATOR SYMBOL LETTER D\n",
      "🇪: REGIONAL INDICATOR SYMBOL LETTER E\n",
      "🇫: REGIONAL INDICATOR SYMBOL LETTER F\n",
      "🇬: REGIONAL INDICATOR SYMBOL LETTER G\n",
      "🇭: REGIONAL INDICATOR SYMBOL LETTER H\n",
      "🇮: REGIONAL INDICATOR SYMBOL LETTER I\n",
      "🇯: REGIONAL INDICATOR SYMBOL LETTER J\n",
      "🇰: REGIONAL INDICATOR SYMBOL LETTER K\n",
      "🇱: REGIONAL INDICATOR SYMBOL LETTER L\n",
      "🇲: REGIONAL INDICATOR SYMBOL LETTER M\n",
      "🇳: REGIONAL INDICATOR SYMBOL LETTER N\n",
      "🇴: REGIONAL INDICATOR SYMBOL LETTER O\n",
      "🇵: REGIONAL INDICATOR SYMBOL LETTER P\n",
      "🇶: REGIONAL INDICATOR SYMBOL LETTER Q\n",
      "🇷: REGIONAL INDICATOR SYMBOL LETTER R\n",
      "🇸: REGIONAL INDICATOR SYMBOL LETTER S\n",
      "🇹: REGIONAL INDICATOR SYMBOL LETTER T\n",
      "🇺: REGIONAL INDICATOR SYMBOL LETTER U\n",
      "🇻: REGIONAL INDICATOR SYMBOL LETTER V\n",
      "🇼: REGIONAL INDICATOR SYMBOL LETTER W\n",
      "🇽: REGIONAL INDICATOR SYMBOL LETTER X\n",
      "🇾: REGIONAL INDICATOR SYMBOL LETTER Y\n",
      "🇿: REGIONAL INDICATOR SYMBOL LETTER Z\n"
     ]
    }
   ],
   "source": [
    "import unicodedata\n",
    "\n",
    "def print_emoji_names():\n",
    "    # Define a function to check if a character is an emoji\n",
    "    def is_emoji(char):\n",
    "        try:\n",
    "            name = unicodedata.name(char)\n",
    "            # Filter to common emoji-related terms\n",
    "            return any(keyword in name for keyword in [\"FACE\", \"CAT\", \"HEART\", \"EMOJI\", \"HAND\", \"PERSON\", \"ANIMAL\", \"PLANT\", \"FOOD\", \"ACTIVITY\", \"OBJECT\", \"SYMBOL\", \"FLAG\"])\n",
    "        except ValueError:\n",
    "            return False\n",
    "\n",
    "    # List of emoji ranges\n",
    "    emoji_ranges = [\n",
    "        (0x1F600, 0x1F64F),  # Emoticons\n",
    "        (0x1F300, 0x1F5FF),  # Miscellaneous Symbols and Pictographs\n",
    "        (0x1F680, 0x1F6FF),  # Transport and Map Symbols\n",
    "        (0x1F700, 0x1F77F),  # Alchemical Symbols\n",
    "        (0x1F780, 0x1F7FF),  # Geometric Shapes Extended\n",
    "        (0x1F800, 0x1F8FF),  # Supplemental Arrows-C\n",
    "        (0x1F900, 0x1F9FF),  # Supplemental Symbols and Pictographs\n",
    "        (0x1FA00, 0x1FA6F),  # Chess Symbols\n",
    "        (0x1FA70, 0x1FAFF),  # Symbols and Pictographs Extended-A\n",
    "        (0x2600, 0x26FF),    # Miscellaneous Symbols\n",
    "        (0x2700, 0x27BF),    # Dingbats\n",
    "        (0x1F000, 0x1F02F),  # Mahjong Tiles\n",
    "        (0x1F0A0, 0x1F0FF),  # Playing Cards\n",
    "        (0x1F1E6, 0x1F1FF),  # Regional Indicator Symbols (Flags)\n",
    "    ]\n",
    "\n",
    "    # Iterate over the Unicode ranges and print emoji names\n",
    "    for start, end in emoji_ranges:\n",
    "        for codepoint in range(start, end + 1):\n",
    "            char = chr(codepoint)\n",
    "            if is_emoji(char):\n",
    "                print(f\"{char}: {unicodedata.name(char)}\")\n",
    "\n",
    "# Call the function to print all emoji names\n",
    "print_emoji_names()"
   ]
  },
  {
   "cell_type": "code",
   "execution_count": 8,
   "metadata": {},
   "outputs": [
    {
     "name": "stdout",
     "output_type": "stream",
     "text": [
      "FRONT-FACING BABY CHICK\n"
     ]
    }
   ],
   "source": [
    "import unicodedata\n",
    "\n",
    "emoji_char = '🐥'\n",
    "emoji_name = unicodedata.name(emoji_char)\n",
    "print(emoji_name)"
   ]
  },
  {
   "cell_type": "code",
   "execution_count": 9,
   "metadata": {},
   "outputs": [
    {
     "name": "stdout",
     "output_type": "stream",
     "text": [
      "Text\n",
      " 'Ramanujan saw ௧௭௨௯ as 1729 = 13 + 123 = 93 + 103.'\n",
      "Numbers\n",
      " str   : ['௧௭௨௯', '1729', '13', '123', '93', '103']\n",
      " bytes : [b'1729', b'13', b'123', b'93', b'103']\n",
      "Words\n",
      " str   : ['Ramanujan', 'saw', '௧௭௨௯', 'as', '1729', '13', '123', '93', '103']\n",
      " bytes : [b'Ramanujan', b'saw', b'as', b'1729', b'13', b'123', b'93', b'103']\n"
     ]
    }
   ],
   "source": [
    "import re\n",
    "\n",
    "re_numbers_str = re.compile(r'\\d+')\n",
    "re_words_str = re.compile(r'\\w+')\n",
    "re_numbers_bytes = re.compile(rb'\\d+')\n",
    "re_words_bytes = re.compile(rb'\\w+')\n",
    "\n",
    "text_str = (\"Ramanujan saw \\u0be7\\u0bed\\u0be8\\u0bef\"\n",
    "            \" as 1729 = 13 + 123 = 93 + 103.\")\n",
    "text_bytes = text_str.encode('utf_8')\n",
    "\n",
    "print(f'Text\\n {text_str!r}')\n",
    "print('Numbers')\n",
    "print(' str   :', re_numbers_str.findall(text_str))\n",
    "print(' bytes :', re_numbers_bytes.findall(text_bytes))\n",
    "print('Words')\n",
    "print(' str   :', re_words_str.findall(text_str))\n",
    "print(' bytes :', re_words_bytes.findall(text_bytes))"
   ]
  },
  {
   "cell_type": "code",
   "execution_count": 77,
   "metadata": {},
   "outputs": [
    {
     "data": {
      "image/png": "[encoded data removed]",
      "text/plain": [
       "<Figure size 1000x800 with 1 Axes>"
      ]
     },
     "metadata": {},
     "output_type": "display_data"
    }
   ],
   "source": [
    "import matplotlib.pyplot as plt\n",
    "import numpy as np\n",
    "\n",
    "# Create the figure and axis\n",
    "fig, ax = plt.subplots(figsize=(10, 8))\n",
    "\n",
    "mirror_x = np.linspace(-11.5, 11.5, 400)\n",
    "a = 0.01\n",
    "mirror_y = a * mirror_x**2 - 26\n",
    "ax.plot(mirror_x, mirror_y, 'k', linewidth=2)#, label='Mirror')\n",
    "\n",
    "# Plot the camera as a rectangle\n",
    "camera_x = [-1.5, 1.5, 1.5, -1.5, -1.5]\n",
    "camera_y = [2, 2, 3, 3, 2]\n",
    "ax.plot(camera_x, camera_y, 'k', linewidth=2)\n",
    "ax.text(0, 3.2, 'Camera', horizontalalignment='center', fontsize=12)\n",
    "\n",
    "# Plot the muon track as a vertical line\n",
    "muon_x = [2, 2]\n",
    "muon_y = [30, -35]\n",
    "ax.plot(muon_x, muon_y, 'gold', linewidth=2, label='Muon')\n",
    "\n",
    "# Plot the Cherenkov light cone\n",
    "light_cone_angle = np.deg2rad(47)\n",
    "x_light_cone_left = np.linspace(2, -8 * np.tan(light_cone_angle), 100)\n",
    "x_light_cone_right = np.linspace(2, 12 * np.tan(light_cone_angle), 100)\n",
    "y_light_cone = np.linspace(30, -25.5, 100)\n",
    "\n",
    "ax.plot(x_light_cone_left, y_light_cone, 'yellow', linestyle='-', linewidth=2)\n",
    "ax.plot(x_light_cone_right, y_light_cone, 'yellow', linestyle='-', linewidth=2)\n",
    "ax.fill_betweenx(y_light_cone, x_light_cone_left, x_light_cone_right, color='yellow', alpha=0.3, label='Cherenkov Light')\n",
    "\n",
    "# Add the \"Not Detected in Real Data\" regions\n",
    "not_detected_x = [-4.5, -3.5, -2.5, -1.5, -0.5, 0.5, 1.5, 2.5, 3.5, 4.5]\n",
    "not_detected_y = [-3.5, -3.8, -4.1, -4.4, -4.7, -4.7, -4.4, -4.1, -3.8, -3.5]\n",
    "#ax.plot(not_detected_x, not_detected_y, 'r', linestyle='-', linewidth=2, label='Not Detected in Real Data')\n",
    "\n",
    "# Annotate the diagram\n",
    "#ax.text(0, -4.8, 'Not Detected in Real Data', horizontalalignment='center', fontsize=12, color='red')\n",
    "ax.text(7, -25, 'Mirror dish', horizontalalignment='center', fontsize=12, color='black')\n",
    "# Set limits and labels\n",
    "ax.set_xlim(-13,13)\n",
    "ax.set_ylim(-27, 30)\n",
    "#ax.set_title('Schematic Representation of Muon Light Gathered by LST Camera (Not to Scale)')\n",
    "ax.legend()\n",
    "\n",
    "# Remove the axes\n",
    "ax.axis('off')\n",
    "\n",
    "# Show the plot\n",
    "plt.show()"
   ]
  }
 ],
 "metadata": {
  "kernelspec": {
   "display_name": "cta-dev",
   "language": "python",
   "name": "python3"
  },
  "language_info": {
   "codemirror_mode": {
    "name": "ipython",
    "version": 3
   },
   "file_extension": ".py",
   "mimetype": "text/x-python",
   "name": "python",
   "nbconvert_exporter": "python",
   "pygments_lexer": "ipython3",
   "version": "3.10.14"
  }
 },
 "nbformat": 4,
 "nbformat_minor": 2
}
