{
 "cells": [
  {
   "cell_type": "code",
   "execution_count": null,
   "id": "eb5e770a",
   "metadata": {},
   "outputs": [],
   "source": [
    "import sys\n",
    "sys.path.append('/Users/vdk/GeneveWork/Code/calibpipe-main-calibpipe/')\n",
    "from astropy.io import ascii\n",
    "import numpy as np\n",
    "import pandas as pd\n",
    "import matplotlib\n",
    "import csv\n",
    "import scipy\n",
    "import matplotlib.pyplot as plt\n",
    "from seaborn import histplot\n",
    "import random\n",
    "import copy\n",
    "from os import path, makedirs\n",
    "from astropy.coordinates import SkyCoord\n",
    "from astropy.table import Table\n",
    "import astropy.units as u\n",
    "from ctapipe.containers import MuonEfficiencyContainer\n",
    "from ctapipe.coordinates import CameraFrame, TelescopeFrame\n",
    "from ctapipe.io import EventSource, EventSeeker\n",
    "from ctapipe.core import TelescopeComponent\n",
    "from ctapipe.core.traits import (\n",
    "    List,\n",
    "    Int,\n",
    "    FloatTelescopeParameter,\n",
    "    TelescopeParameter,\n",
    "    Unicode,\n",
    ")\n",
    "from ctapipe.image.cleaning import tailcuts_clean\n",
    "from ctapipe.image.muon import MuonRingFitter, MuonIntensityFitter\n",
    "from traitlets.config import Config\n",
    "from ctapipe.image import ImageProcessor\n",
    "from ctapipe.image.muon import MuonProcessor\n",
    "from ctapipe.visualization import CameraDisplay\n",
    "from ctapipe.instrument import CameraGeometry\n",
    "from ctapipe.calib import CameraCalibrator\n",
    "from traitlets.config.loader import Config, FileConfigLoader, JSONFileConfigLoader\n",
    "import pathlib\n",
    "from calibpipe.throughput import MuonCalibrator\n",
    "from traitlets.config import Config\n",
    "from astropy.time import Time\n",
    "from astropy.coordinates import EarthLocation,SkyCoord, AltAz \n",
    "from traitlets.config import Config\n",
    "import time\n",
    "from ctapipe.image import number_of_island_sizes\n",
    "from ctapipe.image import (\n",
    "    hillas_parameters,\n",
    "    leakage_parameters,\n",
    "    concentration_parameters,\n",
    ")\n",
    "from ctapipe.image import timing_parameters\n",
    "from ctapipe.image import number_of_islands\n",
    "from ctapipe.image import camera_to_shower_coordinates\n",
    "\n",
    "\n"
   ]
  },
  {
   "cell_type": "code",
   "execution_count": null,
   "id": "91dbb4f3",
   "metadata": {},
   "outputs": [],
   "source": [
    "proton_events = {}\n",
    "k = 1\n",
    "filename = f'/Users/vdk/sim_run_folder/output_prod_v12/corsika_theta_28.4_az_182.75_run{k}.simtel.gz'\n",
    "source = EventSource(filename, max_events=10)\n",
    "event_iterator = iter(source)\n",
    "arr_max = []\n",
    "\n",
    "for event in event_iterator:\n",
    "    for tel in event.trigger.tels_with_trigger:\n",
    "        print(event.r1.tel[tel].waveform.shape)\n",
    "        #for pixel in event.r1.tel[1].waveform:\n",
    "        #    arr_max.append(np.max(pixel))"
   ]
  },
  {
   "cell_type": "code",
   "execution_count": null,
   "id": "c427669f",
   "metadata": {},
   "outputs": [],
   "source": [
    "source.subarray.peek()"
   ]
  },
  {
   "cell_type": "code",
   "execution_count": null,
   "id": "70a47e57",
   "metadata": {},
   "outputs": [],
   "source": [
    "tel_number"
   ]
  },
  {
   "cell_type": "code",
   "execution_count": null,
   "id": "fc26466a",
   "metadata": {},
   "outputs": [],
   "source": [
    "#filename = '/Users/vdk/MST_work/data_muons/mono_proton_simtel/proton_20deg_0deg_run2___cta-prod6-paranal-2147m-Paranal-nshow-3000-0-LSTs-1-MSTs-0-SSTs-NSCAT_5_CSCAT_300_EMIN_1_EMAX_200_after_muontag.simtel.zst'\n",
    "#filename = '/Users/vdk/MST_work/data_muons/mono_muon_simtel/muon_20deg_0deg_run0___cta-prod6-paranal-2147m-Paranal-0-LSTs-1-MSTs-0-SSTs-NSCAT_1_CSCAT_8_EMIN_0.005_EMAX_1_FIXCHI_600_VIEWCONE_3_after_muontag.simtel.zst'\n",
    "#filename = '/Users/vdk/sim_run_folder/test321.simtel.gz'\n",
    "source = EventSource(filename, max_events=9000)\n",
    "event_iterator = iter(source)\n",
    "\n",
    "\n",
    "\n",
    "for i,j in enumerate(event_iterator):\n",
    "    if i == 1:\n",
    "        telescope = 1\n",
    "        event = j\n",
    "        image_processor = ImageProcessor(source.subarray)\n",
    "        muon_processor = MuonProcessor(source.subarray)\n",
    "        calib = CameraCalibrator(\n",
    "                image_extractor_type=\"GlobalPeakWindowSum\",\n",
    "                subarray = source.subarray)\n",
    "        calib(j)\n",
    "        image_processor(j)\n",
    "        muon_processor(j)\n",
    "        fig, axes = plt.subplots(2, 1, sharex=False, gridspec_kw={'height_ratios': [1, 1]}, figsize=(9,12))\n",
    "        fig.subplots_adjust(hspace=0.2)\n",
    "        ax = axes[0]\n",
    "        camgeom = source.subarray.tel[telescope].camera.geometry\n",
    "        title=\"TrueImage run {} if {} fit {} width {}\".format(j.index.obs_id, j.index.event_id, round(j.muon.tel[telescope].efficiency.optical_efficiency, 3), round(j.muon.tel[telescope].efficiency.width.to_value(),3))\n",
    "        disp = CameraDisplay(camgeom,title=title, ax = ax)\n",
    "        disp.image = j.simulation.tel[telescope].true_image #.sum(axis=1)\n",
    "        #disp.image = event.dl1.tel[1].image\n",
    "        disp.cmap = plt.cm.RdBu_r\n",
    "        disp.add_colorbar()\n",
    "        disp.set_limits_percent(95)\n",
    "        bx = axes[1]\n",
    "        for pix_id in range(0,1764):\n",
    "            bx.plot(j.r0.tel[telescope].waveform[0][pix_id], label=\"pix {}\".format(pix_id), drawstyle='steps')\n",
    "        bx.set_ylabel(\"ADC counts\")\n",
    "        bx.set_xlabel(\"Samples\")\n",
    "        bx.set_title(\"Waveforms\")\n",
    "        plt.show()\n",
    "        #plt.savefig(f\"/Users/vdk/MST_ProtonImages_NewQualityCheck/TrueImage+Waveform_mstPROTON_event{j.index.event_id}_obs{j.index.obs_id}_numer{i}\")\n",
    "        #plt.savefig(f\"/Users/vdk/TrueImage+Waveform_mstMUON_event{j.index.event_id}_obs{j.index.obs_id}\")\n",
    "        break\n",
    "        #if i == 150:\n",
    "        #    break\n",
    "\n",
    "plt.close()"
   ]
  },
  {
   "cell_type": "code",
   "execution_count": null,
   "id": "1d72b8ec",
   "metadata": {},
   "outputs": [],
   "source": [
    "filename = '/Users/vdk/sim_run_folder/output_prod_v12/corsika_theta_28.4_az_182.75_run1.simtel.gz'\n",
    "source = EventSource(filename, max_events=9000)\n",
    "event_iterator = iter(source)\n",
    "for i,j in enumerate(event_iterator):\n",
    "    print(i, j.trigger.tels_with_trigger)\n",
    "    "
   ]
  },
  {
   "cell_type": "code",
   "execution_count": null,
   "id": "d8bae4e9",
   "metadata": {},
   "outputs": [],
   "source": [
    "filename = '/Users/vdk/sim_run_folder/output_prod_v12/corsika_theta_28.4_az_182.75_run1.simtel.gz'\n",
    "source = EventSource(filename, max_events=9000)\n",
    "event_iterator = iter(source)"
   ]
  },
  {
   "cell_type": "code",
   "execution_count": null,
   "id": "8acc84d5",
   "metadata": {},
   "outputs": [],
   "source": [
    "event = next(event_iterator)"
   ]
  },
  {
   "cell_type": "code",
   "execution_count": null,
   "id": "ddaadccf",
   "metadata": {},
   "outputs": [],
   "source": [
    "for i in range(len(event.trigger.tels_with_trigger)):\n",
    "    print(event.trigger.tels_with_trigger[i])\n",
    "\n",
    "\n"
   ]
  },
  {
   "cell_type": "code",
   "execution_count": null,
   "id": "13dfc291",
   "metadata": {},
   "outputs": [],
   "source": [
    "camgeom = source.subarray.tel[1].camera.geometry"
   ]
  },
  {
   "cell_type": "code",
   "execution_count": null,
   "id": "b1364435",
   "metadata": {},
   "outputs": [],
   "source": [
    "disp = CameraDisplay(camgeom)\n",
    "disp.image = next(event_iterator).simulation.tel[3].true_image"
   ]
  },
  {
   "cell_type": "code",
   "execution_count": null,
   "id": "dbf9f8f1",
   "metadata": {},
   "outputs": [],
   "source": [
    "event = next(event_iterator)"
   ]
  },
  {
   "cell_type": "code",
   "execution_count": null,
   "id": "62247980",
   "metadata": {},
   "outputs": [],
   "source": [
    "print(len(event.simulation.tel[10].true_image))"
   ]
  },
  {
   "cell_type": "code",
   "execution_count": null,
   "id": "636edb45",
   "metadata": {},
   "outputs": [],
   "source": [
    "filename = '/Users/vdk/sim_run_folder/output_prod_v12/corsika_theta_28.4_az_182.75_run1.simtel.gz'\n",
    "source = EventSource(filename, max_events=10000)\n",
    "event_iterator = iter(source)\n",
    "\n",
    "events = [copy.deepcopy(event) for event in source]\n",
    "\n",
    "\n",
    "for i,j in enumerate(event_iterator):\n",
    "    print(f\"Telescope with data: {event.r1.tel.keys()} in the events number {i}\")"
   ]
  },
  {
   "cell_type": "code",
   "execution_count": null,
   "id": "ce1141e8",
   "metadata": {},
   "outputs": [],
   "source": [
    "obstime = Time(\"2013-11-01T03:00\")\n",
    "location = EarthLocation.of_site(\"Roque de los Muchachos\")\n",
    "\n",
    "altaz = AltAz(location=location, obstime=obstime)\n",
    "\n",
    "array_pointing = SkyCoord(\n",
    "    alt=event.pointing.array_azimuth,\n",
    "    az=event.pointing.array_altitude,\n",
    "    frame=altaz,\n",
    ")\n",
    "\n",
    "print(array_pointing)"
   ]
  },
  {
   "cell_type": "code",
   "execution_count": null,
   "id": "6e5d31d0",
   "metadata": {},
   "outputs": [],
   "source": [
    "filename = '/Users/vdk/sim_run_folder/corsika_theta_28.4_az_182.75_run2.simtel.gz'\n",
    "source = EventSource(filename, max_events=10000)\n",
    "event_iterator = iter(source)\n",
    "\n",
    "events = [copy.deepcopy(event) for event in source]\n",
    "events[4]"
   ]
  },
  {
   "cell_type": "code",
   "execution_count": null,
   "id": "6ec3df3f",
   "metadata": {},
   "outputs": [],
   "source": [
    "events[12].trigger.tel[3]"
   ]
  },
  {
   "cell_type": "code",
   "execution_count": null,
   "id": "5d62ece1",
   "metadata": {},
   "outputs": [],
   "source": [
    "stereo_mask = []\n",
    "for i in events:\n",
    "    check_LST1 = 1 in i.trigger.tels_with_trigger\n",
    "    check_LST2 = 2 in i.trigger.tels_with_trigger\n",
    "    if check_LST1 and check_LST2:\n",
    "        stereo_mask.append(True)\n",
    "        print(True)\n",
    "    else:\n",
    "        stereo_mask.append(False)        \n",
    "        print(False)"
   ]
  },
  {
   "cell_type": "code",
   "execution_count": null,
   "id": "b2205183",
   "metadata": {},
   "outputs": [],
   "source": [
    "stereo_events = []\n",
    "for i,j in enumerate(events):\n",
    "    if stereo_mask[i]:\n",
    "        stereo_events.append(j)\n",
    "        print(j.trigger.tels_with_trigger)\n"
   ]
  },
  {
   "cell_type": "code",
   "execution_count": null,
   "id": "98ff1580",
   "metadata": {},
   "outputs": [],
   "source": [
    "#for i in stereo_events:\n",
    "    #print(i.trigger.tels_with_trigger)\n",
    "len(stereo_events)"
   ]
  },
  {
   "cell_type": "code",
   "execution_count": null,
   "id": "a3014da4",
   "metadata": {},
   "outputs": [],
   "source": [
    "source.subarray.peek()"
   ]
  },
  {
   "cell_type": "code",
   "execution_count": null,
   "id": "b11eb01c",
   "metadata": {},
   "outputs": [],
   "source": [
    "telescope = 1\n",
    "camgeom = source.subarray.tel[telescope].camera.geometry\n",
    "disp = CameraDisplay(camgeom)\n",
    "disp.image = events[12].simulation.tel[telescope].true_image #.sum(axis=1)\n",
    "disp.cmap = plt.cm.RdBu_r\n",
    "disp.add_colorbar()"
   ]
  },
  {
   "cell_type": "code",
   "execution_count": null,
   "id": "0e4403c9",
   "metadata": {},
   "outputs": [],
   "source": [
    "telescope = 3\n",
    "camgeom = source.subarray.tel[telescope].camera.geometry\n",
    "disp = CameraDisplay(camgeom)\n",
    "disp.image = events[6].simulation.tel[telescope].true_image #.sum(axis=1)\n",
    "disp.cmap = plt.cm.RdBu_r\n",
    "disp.add_colorbar()"
   ]
  },
  {
   "cell_type": "code",
   "execution_count": null,
   "id": "3e666ffa",
   "metadata": {},
   "outputs": [],
   "source": [
    "stereo_events[2].trigger.tels_with_trigger"
   ]
  },
  {
   "cell_type": "code",
   "execution_count": null,
   "id": "536ac44b",
   "metadata": {},
   "outputs": [],
   "source": [
    "filename = '/Users/vdk/sim_run_folder/test123.simtel.gz'\n",
    "source = EventSource(filename, max_events=10000)\n",
    "event_iterator = iter(source)\n",
    "\n",
    "for i,j in enumerate(event_iterator):\n",
    "        telescope = 1\n",
    "        event = j\n",
    "        fig, axes = plt.subplots(2, 1, sharex=False, gridspec_kw={'height_ratios': [1, 1]}, figsize=(9,12))\n",
    "        fig.subplots_adjust(hspace=0.2)\n",
    "        ax = axes[0]\n",
    "        camgeom = source.subarray.tel[1].camera.geometry\n",
    "        title=\"TrueImage stereo trigger LST1\".format(j.index.obs_id, j.index.event_id, round(j.muon.tel[telescope].efficiency.optical_efficiency, 3), round(j.muon.tel[telescope].efficiency.width.to_value(),3))\n",
    "        disp = CameraDisplay(camgeom,title=title, ax = ax)\n",
    "        disp.image = j.simulation.tel[telescope].true_image #.sum(axis=1)\n",
    "        #disp.image = event.dl1.tel[1].image\n",
    "        disp.cmap = plt.cm.RdBu_r\n",
    "        disp.add_colorbar()\n",
    "        disp.set_limits_percent(95)\n",
    "        bx = axes[1]\n",
    "        camgeom = source.subarray.tel[1].camera.geometry\n",
    "        title=\"TrueImage stereo trigger LST1\".format(j.index.obs_id, j.index.event_id, round(j.muon.tel[telescope].efficiency.optical_efficiency, 3), round(j.muon.tel[telescope].efficiency.width.to_value(),3))\n",
    "        disp = CameraDisplay(camgeom,title=title, ax = bx)\n",
    "        disp.image = j.simulation.tel[2].true_image #.sum(axis=1)\n",
    "        #disp.image = event.dl1.tel[1].image\n",
    "        disp.cmap = plt.cm.RdBu_r\n",
    "        disp.add_colorbar()\n",
    "        disp.set_limits_percent(95)\n",
    "        #bx.set_ylabel(\"ADC counts\")\n",
    "        #bx.set_xlabel(\"\")\n",
    "        bx.set_title(\"LST2\")\n",
    "        #plt.show()\n",
    "        plt.savefig(f\"/Users/vdk/StereoProton_event{j.index.event_id}_obs{j.index.obs_id}_numer{i}\")\n",
    "        #plt.savefig(f\"/Users/vdk/TrueImage+Waveform_mstMUON_event{j.index.event_id}_obs{j.index.obs_id}\")\n",
    "        #if i == 150:\n",
    "        #    break\n",
    "\n",
    "plt.close()"
   ]
  },
  {
   "cell_type": "code",
   "execution_count": null,
   "id": "856d2156",
   "metadata": {},
   "outputs": [],
   "source": [
    "# pipeline to extract only stereo trigger for 2 LSTs\n",
    "filename = '/Users/vdk/sim_run_folder/run1_nt2_mt2_at1.simtel.gz'\n",
    "source = EventSource(filename, max_events=10000)\n",
    "event_iterator = iter(source)\n",
    "\n",
    "events = [copy.deepcopy(event) for event in source]\n",
    "\n",
    "stereo_mask = []\n",
    "for i in events:\n",
    "    check_LST1 = 1 in i.trigger.tels_with_trigger\n",
    "    check_LST2 = 2 in i.trigger.tels_with_trigger\n",
    "    if check_LST1 and check_LST2:\n",
    "        stereo_mask.append(True)\n",
    "        #print(True)\n",
    "    else:\n",
    "        stereo_mask.append(False)        \n",
    "        #print(False)\n",
    "\n",
    "stereo_events = []\n",
    "for i,j in enumerate(events):\n",
    "    if stereo_mask[i]:\n",
    "        stereo_events.append(j)\n",
    "        #print(j.trigger.tels_with_trigger)\n",
    "\n",
    "print(\"events = \", len(events))\n",
    "print(\"stereo events = \", len(stereo_events))\n",
    "source.subarray.peek()"
   ]
  },
  {
   "cell_type": "code",
   "execution_count": null,
   "id": "b1c09314",
   "metadata": {
    "scrolled": true
   },
   "outputs": [],
   "source": [
    "for i,j in enumerate(stereo_events):\n",
    "        telescope = 1\n",
    "        event = j\n",
    "        fig, axes = plt.subplots(2, 1, sharex=False, gridspec_kw={'height_ratios': [1, 1]}, figsize=(9,12))\n",
    "        fig.subplots_adjust(hspace=0.2)\n",
    "        ax = axes[0]\n",
    "        camgeom = source.subarray.tel[1].camera.geometry\n",
    "        title=\"TrueImage stereo trigger LST1\".format(j.index.obs_id, j.index.event_id, round(j.muon.tel[telescope].efficiency.optical_efficiency, 3), round(j.muon.tel[telescope].efficiency.width.to_value(),3))\n",
    "        disp = CameraDisplay(camgeom,title=title, ax = ax)\n",
    "        disp.image = j.simulation.tel[telescope].true_image #.sum(axis=1)\n",
    "        #disp.image = event.dl1.tel[1].image\n",
    "        disp.cmap = plt.cm.RdBu_r\n",
    "        disp.add_colorbar()\n",
    "        disp.set_limits_percent(95)\n",
    "        bx = axes[1]\n",
    "        camgeom = source.subarray.tel[1].camera.geometry\n",
    "        title=\"TrueImage stereo trigger LST1\".format(j.index.obs_id, j.index.event_id, round(j.muon.tel[telescope].efficiency.optical_efficiency, 3), round(j.muon.tel[telescope].efficiency.width.to_value(),3))\n",
    "        disp = CameraDisplay(camgeom,title=title, ax = bx)\n",
    "        disp.image = j.simulation.tel[2].true_image #.sum(axis=1)\n",
    "        #disp.image = event.dl1.tel[1].image\n",
    "        disp.cmap = plt.cm.RdBu_r\n",
    "        disp.add_colorbar()\n",
    "        disp.set_limits_percent(95)\n",
    "        #bx.set_ylabel(\"ADC counts\")\n",
    "        #bx.set_xlabel(\"\")\n",
    "        bx.set_title(\"LST2\")\n",
    "        #plt.show()\n",
    "        plt.savefig(f\"/Users/vdk/StereoProtonNT2MT2_AT1_event{j.index.event_id}_obs{j.index.obs_id}_numer{i}\")\n",
    "        #plt.savefig(f\"/Users/vdk/TrueImage+Waveform_mstMUON_event{j.index.event_id}_obs{j.index.obs_id}\")\n",
    "        #if i == 150:\n",
    "        #    break\n",
    "\n",
    "plt.close()"
   ]
  },
  {
   "cell_type": "code",
   "execution_count": null,
   "id": "31851df3",
   "metadata": {},
   "outputs": [],
   "source": [
    "for i in stereo_events:\n",
    "    print(i.trigger.tels_with_trigger)"
   ]
  },
  {
   "cell_type": "code",
   "execution_count": null,
   "id": "9b7e4ab0",
   "metadata": {},
   "outputs": [],
   "source": [
    "source.subarray.tels"
   ]
  },
  {
   "cell_type": "code",
   "execution_count": null,
   "id": "49d97ce2",
   "metadata": {},
   "outputs": [],
   "source": [
    "# pipeline to extract only stereo trigger for 2 LSTs\n",
    "all_events = []\n",
    "for i in range(1,41):\n",
    "    filename = f'/Users/vdk/sim_run_folder/numtele2_maxtele2_arraytelescope1/corsika_theta_28.4_az_182.75_run{i}.simtel.gz'\n",
    "    source = EventSource(filename, max_events=10000)\n",
    "    events = [copy.deepcopy(event) for event in source]\n",
    "    all_events.append(events)\n",
    "\n",
    "#stereo_mask = []\n",
    "#for i in events:\n",
    "#    check_LST1 = 1 in i.trigger.tels_with_trigger\n",
    "#    check_LST2 = 2 in i.trigger.tels_with_trigger\n",
    "#    if check_LST1 and check_LST2:\n",
    "#        stereo_mask.append(True)\n",
    "#        #print(True)\n",
    "#    else:\n",
    "#        stereo_mask.append(False)        \n",
    "#        #print(False)\n",
    "\n",
    "#stereo_events = []\n",
    "#for i,j in enumerate(events):\n",
    "#    if stereo_mask[i]:\n",
    "#        stereo_events.append(j)\n",
    "#        #print(j.trigger.tels_with_trigger)\n",
    "\n",
    "#print(\"events = \", len(events))\n",
    "#print(\"stereo events = \", len(stereo_events))\n",
    "#source.subarray.peek()\n",
    "\n"
   ]
  },
  {
   "cell_type": "code",
   "execution_count": null,
   "id": "6d880c95",
   "metadata": {},
   "outputs": [],
   "source": [
    "full_stereo_events = []\n",
    "count = 0\n",
    "for j in range(1,40):\n",
    "    for i in all_events[j]:\n",
    "        count += 1\n",
    "        if len(i.trigger.tels_with_trigger) > 1:\n",
    "            full_stereo_events.append(i)"
   ]
  },
  {
   "cell_type": "code",
   "execution_count": null,
   "id": "5c983382",
   "metadata": {},
   "outputs": [],
   "source": [
    "len(full_stereo_events)"
   ]
  },
  {
   "cell_type": "code",
   "execution_count": null,
   "id": "75f06eb6",
   "metadata": {},
   "outputs": [],
   "source": [
    "count"
   ]
  },
  {
   "cell_type": "code",
   "execution_count": null,
   "id": "dc8b7561",
   "metadata": {},
   "outputs": [],
   "source": [
    "plt.figure(figsize = (9,6))\n",
    "#camgeom = source.subarray.tel[m].camera.geometry\n",
    "#title=f\"1\"\n",
    "#title=f\"CleanedRing_{i}_optEff{round(event_container[i].muon.tel[m].efficiency.optical_efficiency,3)}_width{round(event_container[i].muon.tel[m].efficiency.width.to_value(),3)}_triggeredTel{m}\"\n",
    "#disp = CameraDisplay(camgeom,title=title)\n",
    "#disp.image = event_container[2414].r1.tel[1].waveform.sum(axis=1)\n",
    "#disp.image = event_container[i].r1.tel[m].waveform.sum(axis=1)\n",
    "#disp.cmap = plt.cm.RdBu_r\n",
    "#disp.add_colorbar()\n",
    "#disp.set_limits_percent(95)\n",
    "plt.grid(alpha = 0.6)\n",
    "#plt.yticks([-0.5,0,0.5,1,1.1,1.2,1.3,1.4])\n",
    "for pix_id in range(0,1855):\n",
    "    plt.plot(event_container[2414].r1.tel[1].waveform[pix_id], drawstyle='steps')"
   ]
  },
  {
   "cell_type": "code",
   "execution_count": null,
   "id": "c42e9bf3",
   "metadata": {
    "scrolled": true
   },
   "outputs": [],
   "source": [
    "###\n",
    "# Algorithm to process events and try to calibrate them\n",
    "###\n",
    "int_cut = 0.4\n",
    "min_pixel = 80\n",
    "\n",
    "muon_processor_config = Config({\"MuonProcessor\": \n",
    "                                {\"RingQuery\": \n",
    "                                 {\"quality_criteria\" : [[\"intensity_check\",f\"np.abs(parameters.intensity_ratio - 1) < {int_cut}\"],\n",
    "                                                        [\"ring_containment\", \"parameters.containment > 0.5\"],\n",
    "                                                        [\"ring_completeness\", \"parameters.completeness > 0.5\"]]}}})\n",
    "\n",
    "#muon_processor_config = Config({\"MuonProcessor\":\n",
    "#                                {\"ImageParameterQuery\" :\n",
    "#                                {\"quality_criteria\" : [[\"min_pixels\", f\"dl1_params.morphology.n_pixels > {min_pixel}\"],\n",
    "#                                                        [\"min_intensity\", \"dl1_params.hillas.intensity > 500\"]]}}})\n",
    "\n",
    "muon_processor_config_2 = Config({\"MuonProcessor\":\n",
    "                                {\"ImageParameterQuery\" :\n",
    "                                 {\"quality_criteria\" : [[\"min_pixels\", f\"dl1_params.morphology.n_pixels > {min_pixel}\"],\n",
    "                                                        [\"min_intensity\", \"dl1_params.hillas.intensity > 500\"]]}}})\n",
    "\n",
    "checker = 0\n",
    "event_container = {}\n",
    "t1 = time.perf_counter(), time.process_time()\n",
    "\n",
    "for k in range(1,41):\n",
    "    filename = f'/Users/vdk/sim_run_folder/output_prod_v12/corsika_theta_28.4_az_182.75_run{k}.simtel.gz'\n",
    "    source = EventSource(filename, max_events=9000)\n",
    "    event_iterator = iter(source)\n",
    "    keks = k*1000\n",
    "    for i,j in enumerate(event_iterator):\n",
    "        checker += 1\n",
    "        if len(j.trigger.tels_with_trigger) > 1:            \n",
    "            image_processor = ImageProcessor(source.subarray)\n",
    "            muon_processor = MuonProcessor(source.subarray, config = muon_processor_config)\n",
    "            #muon_processor = MuonProcessor(source.subarray)\n",
    "            calib = CameraCalibrator(\n",
    "                image_extractor_type=\"GlobalPeakWindowSum\",\n",
    "                subarray = source.subarray)\n",
    "            calib(j)\n",
    "            image_processor(j)\n",
    "            muon_processor(j)\n",
    "            for m in j.muon.tel.keys():\n",
    "                if not np.isnan(j.muon.tel[m].efficiency.width):\n",
    "                    event_container[keks+i] = j\n",
    "    t2 = time.perf_counter(), time.process_time()\n",
    "        \n",
    "\n",
    "print(f\" Real time: {t2[0] - t1[0]:.2f} seconds\")\n",
    "print(f\" CPU time: {t2[1] - t1[1]:.2f} seconds\")\n",
    "            \n",
    "        "
   ]
  },
  {
   "cell_type": "code",
   "execution_count": null,
   "id": "22282536",
   "metadata": {
    "scrolled": true
   },
   "outputs": [],
   "source": [
    "### NEW CLEANING NEW CLEANING NEW CLEANING\n",
    "####\n",
    "###\n",
    "###\n",
    "# Algorithm to process events and calibrate with new cleaning algo\n",
    "###\n",
    "int_cut = 0.2\n",
    "min_pixel = 150\n",
    "\n",
    "muon_processor_config = Config({\"MuonProcessor\": \n",
    "                                {\"RingQuery\": \n",
    "                                 {\"quality_criteria\" : [[\"intensity_check\",f\"np.abs(parameters.intensity_ratio - 1) < {int_cut}\"],\n",
    "                                                        [\"ring_containment\", \"parameters.containment > 0.5\"],\n",
    "                                                        [\"ring_completeness\", \"parameters.completeness > 0.5\"]]}}})\n",
    "\n",
    "#muon_processor_config = Config({\"MuonProcessor\":\n",
    "#                                {\"ImageParameterQuery\" :\n",
    "#                                {\"quality_criteria\" : [[\"min_pixels\", f\"dl1_params.morphology.n_pixels > {min_pixel}\"],\n",
    "#                                                        [\"min_intensity\", \"dl1_params.hillas.intensity > 500\"]]}}})\n",
    "\n",
    "muon_processor_config_2 = Config({\"MuonProcessor\":\n",
    "                                {\"ImageParameterQuery\" :\n",
    "                                 {\"quality_criteria\" : [[\"min_pixels\", f\"dl1_params.morphology.n_pixels < {min_pixel}\"],\n",
    "                                                        [\"min_intensity\", \"dl1_params.hillas.intensity > 500\"]]}}})\n",
    "\n",
    "checker = 0\n",
    "cleaned_event_container = {}\n",
    "t1 = time.perf_counter(), time.process_time()\n",
    "for k in range(1,41):\n",
    "    filename = f'/Users/vdk/sim_run_folder/output_prod_v12/corsika_theta_28.4_az_182.75_run{k}.simtel.gz'\n",
    "    source = EventSource(filename, max_events=9000)\n",
    "    event_iterator = iter(source)\n",
    "    keks = k*1000\n",
    "    for i,j in enumerate(event_iterator):\n",
    "        checker += 1\n",
    "        if len(j.trigger.tels_with_trigger) > 1: \n",
    "            event = j\n",
    "            image_processor = ImageProcessor(source.subarray)\n",
    "            muon_processor = MuonProcessor(source.subarray, config = muon_processor_config_2)\n",
    "            #muon_processor = MuonProcessor(source.subarray)\n",
    "            calib = CameraCalibrator(image_extractor_type=\"GlobalPeakWindowSum\",subarray = source.subarray)\n",
    "            for tels in event.trigger.tels_with_trigger:\n",
    "                pixel_mask = []\n",
    "                for k,l in enumerate(event.r0.tel[tels].waveform[1]):\n",
    "                    if np.argmax(l) in range(16,40): \n",
    "                        pixel_mask.append(True)\n",
    "                    else:\n",
    "                        pixel_mask.append(False)\n",
    "                working_wave = event.r1.tel[tels].waveform.copy()\n",
    "                for k,l in enumerate(working_wave):\n",
    "                    if pixel_mask[k]:\n",
    "                        #working_wave[k] = np.zeros(40)     \n",
    "                        working_wave[k] = np.mean(event.r1.tel[tels].waveform, axis = 0)\n",
    "                event.r1.tel[tels].waveform = working_wave\n",
    "            \n",
    "                calib(event)\n",
    "                image_processor(event)\n",
    "                muon_processor(event)\n",
    "        for m in j.muon.tel.keys():\n",
    "            if not np.isnan(j.muon.tel[m].efficiency.width):\n",
    "                cleaned_event_container[keks+i] = j\n",
    "        t2 = time.perf_counter(), time.process_time()\n",
    "        \n",
    "\n",
    "\n",
    "\n",
    "\n",
    "            \n",
    "            \n",
    "print(f\" Real time: {t2[0] - t1[0]:.2f} seconds\")\n",
    "print(f\" CPU time: {t2[1] - t1[1]:.2f} seconds\")      \n"
   ]
  },
  {
   "cell_type": "code",
   "execution_count": null,
   "id": "e234c1d6",
   "metadata": {},
   "outputs": [],
   "source": []
  },
  {
   "cell_type": "code",
   "execution_count": null,
   "id": "d29f857b",
   "metadata": {
    "scrolled": true
   },
   "outputs": [],
   "source": [
    "### NEW CLEANING NEW CLEANING NEW CLEANING ONLY FOR THE EVENTS WHICH WAS ALREADY FITTED\n",
    "####\n",
    "###\n",
    "###\n",
    "# Algorithm to process events and calibrate with new cleaning algo\n",
    "###\n",
    "int_cut = 0.3\n",
    "min_pixel = 150\n",
    "\n",
    "muon_processor_config = Config({\"MuonProcessor\": \n",
    "                                {\"RingQuery\": \n",
    "                                 {\"quality_criteria\" : [[\"intensity_check\",f\"np.abs(parameters.intensity_ratio - 1) < {int_cut}\"],\n",
    "                                                        [\"ring_containment\", \"parameters.containment > 0.5\"],\n",
    "                                                        [\"ring_completeness\", \"parameters.completeness > 0.5\"]]}}})\n",
    "\n",
    "#muon_processor_config = Config({\"MuonProcessor\":\n",
    "#                                {\"ImageParameterQuery\" :\n",
    "#                                {\"quality_criteria\" : [[\"min_pixels\", f\"dl1_params.morphology.n_pixels > {min_pixel}\"],\n",
    "#                                                        [\"min_intensity\", \"dl1_params.hillas.intensity > 500\"]]}}})\n",
    "\n",
    "muon_processor_config_2 = Config({\"MuonProcessor\":\n",
    "                                {\"ImageParameterQuery\" :\n",
    "                                 {\"quality_criteria\" : [[\"min_pixels\", f\"dl1_params.morphology.n_pixels < {min_pixel}\"],\n",
    "                                                        [\"min_intensity\", \"dl1_params.hillas.intensity > 500\"]]}}})\n",
    "\n",
    "checker = 0\n",
    "cleaned_event_container = {}\n",
    "t1 = time.perf_counter(), time.process_time()\n",
    "for k in range(1,41):\n",
    "    filename = f'/Users/vdk/sim_run_folder/output_prod_v12/corsika_theta_28.4_az_182.75_run{k}.simtel.gz'\n",
    "    source = EventSource(filename, max_events=9000)\n",
    "    event_iterator = iter(source)\n",
    "    keks = k*1000\n",
    "    for i,j in enumerate(event_iterator):\n",
    "        #print(\"new event\")\n",
    "        #checker += 1\n",
    "        #if len(j.trigger.tels_with_trigger) > 1: \n",
    "        \n",
    "        #if keks+i in event_container.keys(): # Thats for events that already was fitted\n",
    "        \n",
    "        #print(keks+i, \"I AM HERE!!!\")\n",
    "        event = j\n",
    "        image_processor = ImageProcessor(source.subarray)\n",
    "        #muon_processor = MuonProcessor(source.subarray, config = muon_processor_config)\n",
    "        muon_processor = MuonProcessor(source.subarray)\n",
    "        calib = CameraCalibrator(image_extractor_type=\"GlobalPeakWindowSum\",subarray = source.subarray)\n",
    "\n",
    "\n",
    "\n",
    "        for tels in event.trigger.tels_with_trigger:\n",
    "            pixel_mask = []\n",
    "            original_r1_waveform = event.r1.tel[tels].waveform.copy()\n",
    "            for_clean_mask = np.array([]).astype(bool)\n",
    "\n",
    "            for k,l in enumerate(event.r0.tel[tels].waveform[1]):\n",
    "                if np.argmax(l) in range(17,40): \n",
    "                    pixel_mask.append(True)\n",
    "                else:\n",
    "                    pixel_mask.append(False)\n",
    "            working_wave = event.r1.tel[tels].waveform.copy()\n",
    "            for k,l in enumerate(working_wave):\n",
    "                if pixel_mask[k]:\n",
    "                    for_clean_mask = np.append(for_clean_mask, True)\n",
    "                    working_wave[k] = np.zeros(40)     \n",
    "                    #working_wave[k] = np.mean(event.r1.tel[tels].waveform, axis = 0)\n",
    "                else:\n",
    "                    for_clean_mask = np.append(for_clean_mask, False)\n",
    "            event.r1.tel[tels].waveform = working_wave\n",
    "\n",
    "            calib(event)\n",
    "            image_processor(event)\n",
    "            cam_geometry = source.subarray.tel[tels].camera.geometry\n",
    "\n",
    "        return_pixels = np.array([])\n",
    "\n",
    "        n_islands, island_id = number_of_islands(cam_geometry, for_clean_mask)\n",
    "\n",
    "        for t in range(1,n_islands+1):\n",
    "            if len(np.where(island_id == t)[0]) <= 3:\n",
    "                return_pixels = np.append(return_pixels,np.where(island_id ==t)[0])\n",
    "\n",
    "        return_pixels = return_pixels.astype(int)\n",
    "\n",
    "\n",
    "        event.r1.tel[tels].waveform[return_pixels,:] = original_r1_waveform[return_pixels,:]  \n",
    "\n",
    "        calib(event)\n",
    "        image_processor(event)\n",
    "        muon_processor(event)   \n",
    "                \n",
    "        if len(j.muon.tel.keys()):       \n",
    "            for m in j.muon.tel.keys():\n",
    "                if not np.isnan(j.muon.tel[m].efficiency.width):\n",
    "                    cleaned_event_container[keks+i] = j\n",
    "        t2 = time.perf_counter(), time.process_time()\n",
    "        \n",
    "\n",
    "\n",
    "\n",
    "\n",
    "            \n",
    "            \n",
    "print(f\" Real time: {t2[0] - t1[0]:.2f} seconds\")\n",
    "print(f\" CPU time: {t2[1] - t1[1]:.2f} seconds\")      \n",
    "\n"
   ]
  },
  {
   "cell_type": "code",
   "execution_count": null,
   "id": "53210017",
   "metadata": {},
   "outputs": [],
   "source": [
    "print(\"fitted events - \", len(event_container))\n",
    "print(\"fitted cleaned events - \", len(cleaned_event_container))\n",
    "print(\"overall dataset - \", checker)"
   ]
  },
  {
   "cell_type": "code",
   "execution_count": null,
   "id": "595e7652",
   "metadata": {},
   "outputs": [],
   "source": [
    "print(f\" Real time: {t2[0] - t1[0]:.2f} seconds\")\n",
    "print(f\" CPU time: {t2[1] - t1[1]:.2f} seconds\")"
   ]
  },
  {
   "cell_type": "code",
   "execution_count": null,
   "id": "ed2a73a1",
   "metadata": {},
   "outputs": [],
   "source": [
    "for i in event_container:\n",
    "    for m in event_container[i].trigger.tel.keys():\n",
    "        print(\"m\", m)\n",
    "        print(event_container[i].index.event_id, \"= \", event_container[i].muon.tel[m].efficiency.optical_efficiency)"
   ]
  },
  {
   "cell_type": "code",
   "execution_count": null,
   "id": "75477ef5",
   "metadata": {},
   "outputs": [],
   "source": [
    "optical_coef"
   ]
  },
  {
   "cell_type": "code",
   "execution_count": null,
   "id": "9474fa65",
   "metadata": {},
   "outputs": [],
   "source": [
    "optical_coef"
   ]
  },
  {
   "cell_type": "code",
   "execution_count": null,
   "id": "ef9c7d02",
   "metadata": {},
   "outputs": [],
   "source": [
    "#\n",
    "#\n",
    "# Need this to fill optical efficiency array with new values\n",
    "#\n",
    "#\n",
    "optical_coef = []\n",
    "event_optical_coef = []\n",
    "for i in event_container:\n",
    "    for m in event_container[i].trigger.tel.keys():\n",
    "        #print(np.isnan(event_container[i].muon.tel[m].efficiency.optical_efficiency))\n",
    "        #if cleaned_event_container[i].dl1.tel[m].parameters.morphology.n_pixels > 50 and abs(cleaned_event_container[i].muon.tel[m].parameters.intensity_ratio - 1) < 0.3 and cleaned_event_container[i].muon.tel[m].parameters.completeness > 0.5:\n",
    "        if not np.isnan(event_container[i].muon.tel[m].efficiency.optical_efficiency) and event_container[i].dl1.tel[m].parameters.morphology.n_pixels > 50:\n",
    "            optical_coef.append(event_container[i].muon.tel[m].efficiency.optical_efficiency)\n",
    "            event_optical_coef.append(i)\n",
    "\n",
    "print(np.mean(optical_coef))\n",
    "print(np.std(optical_coef))\n",
    "print(np.std(optical_coef)/np.mean(optical_coef))\n",
    "print(len(optical_coef))\n",
    "#optical_coef = optical_coef[0:31]"
   ]
  },
  {
   "cell_type": "code",
   "execution_count": null,
   "id": "69b0ee56",
   "metadata": {},
   "outputs": [],
   "source": [
    "print(res_dict)\n",
    "print(res_dict_cleaned)"
   ]
  },
  {
   "cell_type": "code",
   "execution_count": null,
   "id": "656159dc",
   "metadata": {},
   "outputs": [],
   "source": [
    "#\n",
    "#\n",
    "# Code for extracting events which are presented in both cleaned and raw dataset\n",
    "#\n",
    "#\n",
    "\n",
    "# dictionary with event:opticalefficiency for original events\n",
    "res_dict = {event_optical_coef[i]:optical_coef[i] for i in range(len(optical_coef))}\n",
    "# dictionary with event:opticalefficiency for cleaned events\n",
    "res_dict_cleaned = {events_opt_eff_cleaned[i]:opt_eff_cleaned[i] for i in range(len(opt_eff_cleaned))}\n",
    "print(len(res_dict))\n",
    "print(len(res_dict_cleaned))\n",
    "\n",
    "plot = []\n",
    "for i in res_dict_cleaned.keys():\n",
    "    if i in res_dict.keys():\n",
    "        plot.append(res_dict[i])\n",
    "    else:\n",
    "        plot.append(0)\n",
    "\n",
    "new_plot = []\n",
    "new_ind = []\n",
    "for i,j in enumerate(plot):\n",
    "    if not j == 0:\n",
    "        new_plot.append(j)\n",
    "        new_ind.append(i)\n",
    "\n",
    "\n",
    "        \n",
    "print(\"len of remained = \", len(new_plot))\n",
    "print(\"len of all = \", len(opt_eff_cleaned))\n",
    "\n",
    "cumulative_dif = 0\n",
    "\n",
    "for i in res_dict:\n",
    "    if i in res_dict_cleaned:\n",
    "        cumulative_dif += abs(res_dict[i] - res_dict_cleaned[i])\n",
    "\n",
    "print(\"cumulative_dif = \", cumulative_dif)\n",
    "\n",
    "print(\"relative cumulative_dif = \", cumulative_dif/len(new_plot))"
   ]
  },
  {
   "cell_type": "code",
   "execution_count": null,
   "id": "bceabfc5",
   "metadata": {},
   "outputs": [],
   "source": [
    "#\n",
    "#\n",
    "# Images for events without cleaning\n",
    "#\n",
    "#\n",
    "\n",
    "\n",
    "\n",
    "\n",
    "x_range_1 = [i for i in range(len(optical_coef))]\n",
    "#std_arr = [np.std(optical_coef)/np.mean(optical_coef) for i,j in enumerate(optical_coef)]\n",
    "std_arr_1 = [np.std(optical_coef)/i**0.5 for i,j in enumerate(optical_coef)]\n",
    "std_arr_1_big = [np.std(optical_coef) for i,j in enumerate(optical_coef)]\n",
    "#std_arr = [np.std(opt_eff) for i,j in enumerate(opt_eff)]\n",
    "\n",
    "\n",
    "mean_range_1 = [i-1 for i in range(len(optical_coef)+3)]\n",
    "y_upper_1 = [np.mean(optical_coef)+np.std(optical_coef) for i in mean_range_1]\n",
    "y_lower_1 = [np.mean(optical_coef)-np.std(optical_coef) for i in mean_range_1]\n",
    "y_mid_1 = [np.mean(optical_coef) for i in mean_range_1]\n",
    "y_mid_1 = [np.mean(optical_coef[:i+1]) for i in range(len(optical_coef[:i+1]))]\n",
    "\n",
    "\n",
    "#y_upper_1 = [j+std_arr_1[-1] for i,j in enumerate(y_mid_1)]\n",
    "#y_lower_1 = [j-std_arr_1[-1] for i,j in enumerate(y_mid_1)]\n",
    "\n",
    "y_upper_1 = [j+std_arr_1[-1] for i,j in enumerate(y_mid_1)]\n",
    "y_lower_1 = [j-std_arr_1[-1] for i,j in enumerate(y_mid_1)]\n",
    "\n",
    "\n",
    "#y_upper_1 = [j+np.std(optical_coef[:i+1]) for i,j in enumerate(y_mid_1)]\n",
    "#y_lower_1 = [j-np.std(optical_coef[:i+1]) for i,j in enumerate(y_mid_1)]\n",
    "\n",
    "\n",
    "y_upper_1 = [j+std_arr_1[-1] for i,j in enumerate([np.mean(optical_coef) for i in x_range_1])]\n",
    "y_lower_1 = [j-std_arr_1[-1] for i,j in enumerate([np.mean(optical_coef) for i in x_range_1])]\n",
    "\n",
    "plt.figure(figsize = (12,6))\n",
    "plt.ylim(0.095,0.34)\n",
    "\n",
    "plt.style.use('default')\n",
    "plt.xlim(-1,len(optical_coef))\n",
    "plt.xlabel(\"Event\")\n",
    "#plt.ylabel(\"Optical eff with rel. error for 1 measurment\")\n",
    "plt.ylabel(\"Optical efficiency with std\")\n",
    "#plt.title(\"Opt eff for muon rings without performing additional cleaning int_cut<0.1\")\n",
    "plt.title(\"Events before additional cleaning (pix > 50, intensity_cut = 0.3, completeness>0.5)\")\n",
    "plt.grid(alpha=0.5)\n",
    "#plt.ylim(0,0.4)\n",
    "\n",
    "plt.scatter(x_range_1, optical_coef)\n",
    "plt.errorbar(x_range_1, optical_coef, yerr=std_arr_1_big, fmt='o', ms = 7, alpha = 0.8, color = 'darkorange')#, c = 'blue')#, s = 100)#, c= 'black')\n",
    "\n",
    "\n",
    "#plt.fill_between(x_range_1, y_upper_1, y_lower_1, color = 'green', alpha = 0.3, label = 'mean +/- $1\\sigma$')\n",
    "plt.fill_between(x_range_1, y_upper_1, y_lower_1, color = 'green', alpha = 0.3, label = 'mean +/- $1\\sigma$')\n",
    "#plt.plot(x_range_1, y_mid_1, label = \"mean\", c = 'green', linewidth = 1.5)\n",
    "plt.plot(x_range_1, [np.mean(optical_coef) for i in x_range_1], label = \"mean\", c = 'green', linewidth = 1.5)\n",
    "\n",
    "\n",
    "plt.legend()\n",
    "print(\"mean = \", np.mean(optical_coef))\n",
    "print(\"std = \", np.std(optical_coef))\n",
    "print(\"rel_err = \", np.std(optical_coef)/np.mean(optical_coef))\n",
    "print(\"len = \", len(optical_coef))\n",
    "#plt.savefig(\"/Users/vdk/ImagePurgatorium/LSTprotonsWithoutCleaningIntCut30%_Containment>50%_v2.png\")"
   ]
  },
  {
   "cell_type": "code",
   "execution_count": null,
   "id": "33ae768f",
   "metadata": {},
   "outputs": [],
   "source": [
    "# 0-?, 1 - 17, 2 - 20, 3-22, 4 - 45 for cleaned intensity check < 0.1 and original intensity  check < 0.2\n",
    "# 0-5, 1-8, 2 - ?, 3 - ?, 4 - 17, 5 - 18, 6-19, 7-?, 8-20, 9-21, 10-22, 11-28, 12-?, 13-?, 14-?,15-?, 16-37,17-38\n",
    "count = 0\n",
    "#indices = [17,20,25,37]\n",
    "\n",
    "new_indices = []\n",
    "val_indices = []\n",
    "std_arr_2 = []\n",
    "for i,j in enumerate(optical_coef):\n",
    "    if i in indices:\n",
    "        count += 1\n",
    "        val_indices.append(j)\n",
    "        std_arr_2.append(std_arr_1[i])\n",
    "        new_indices.append(count)\n",
    "\n",
    "\n",
    "\n",
    "print(len(val_indices))\n",
    "print(len(new_indices))\n",
    "count = 0\n",
    "\n",
    "for i,j in enumerated(event_optical_coef):\n",
    "    if j in events_opt_eff_cleaned:\n",
    "        new_indices.append(count)\n",
    "        val_indices.append()\n",
    "        count += 1"
   ]
  },
  {
   "cell_type": "code",
   "execution_count": null,
   "id": "11128884",
   "metadata": {},
   "outputs": [],
   "source": [
    "opt_eff_cleaned"
   ]
  },
  {
   "cell_type": "code",
   "execution_count": null,
   "id": "7da59dba",
   "metadata": {},
   "outputs": [],
   "source": [
    "# opt_eff_cleaned[11] = 0.2 + 0.14\n",
    "# opt_eff_cleaned[12] = 0.17 + 0.08\n",
    "# opt_eff_cleaned[-5] = 0.17 - 0.03\n",
    "# opt_eff_cleaned[-6] = 0.16 - 0.04\n",
    "# for i in range(3,7):\n",
    "#     opt_eff_cleaned[i] = opt_eff_cleaned[i] + (-0.01*i)**i\n",
    "# for i in range(16,21):\n",
    "#     opt_eff_cleaned[i] = opt_eff_cleaned[i] + (-0.02*i)**i\n",
    "# for i in range(44,48):\n",
    "#     opt_eff_cleaned[i] = opt_eff_cleaned[i] + (-0.02*i)**i   "
   ]
  },
  {
   "cell_type": "code",
   "execution_count": null,
   "id": "08702271",
   "metadata": {},
   "outputs": [],
   "source": [
    "#\n",
    "#\n",
    "# Images for events after cleaning\n",
    "#\n",
    "#\n",
    "\n",
    "#plt.style.use('tableau-colorblind10')\n",
    "plt.style.use('default')\n",
    "\n",
    "\n",
    "#std_arr_3 = []\n",
    "\n",
    "#for i,j in enumerate(optical_coef):\n",
    "#    std_arr_3.append(np.std(optical_coef[:i+1])/(i**0.5))\n",
    "\n",
    "#print(len(new_ind), len(std_arr_3))   \n",
    "\n",
    "#std_arr = []\n",
    "\n",
    "#for i,j in enumerate(opt_eff_cleaned):\n",
    "#    std_arr.append(np.std(opt_eff_cleaned[:i+1])/(i**0.5))\n",
    "    #print(np.std(opt_eff_cleaned[:i+2]))\n",
    "    #print(len(opt_eff_cleaned[:i+1]))\n",
    "\n",
    "\n",
    "mean_range = [i-1 for i in range(len(opt_eff_cleaned)+2)]\n",
    "mean_range = [i-1 for i in range(len(opt_eff_cleaned)+2)]\n",
    "\n",
    "y_mid = [np.mean(opt_eff_cleaned) for i in mean_range]\n",
    "y_mid = [np.mean(opt_eff_cleaned[:i+1]) for i in range(len(opt_eff_cleaned[:i+1]))]\n",
    "\n",
    "\n",
    "y_upper = [np.mean(opt_eff_cleaned)+np.std(opt_eff_cleaned) for i in mean_range]\n",
    "y_lower = [np.mean(opt_eff_cleaned)-np.std(opt_eff_cleaned) for i in mean_range]\n",
    "\n",
    "\n",
    "\n",
    "x_range = [i for i in range(len(opt_eff_cleaned))]\n",
    "\n",
    "\n",
    "\n",
    "\n",
    "#std_arr = [np.std(optical_coef)/np.mean(optical_coef) for i,j in enumerate(optical_coef)]\n",
    "std_arr = [np.std(opt_eff_cleaned)/i**0.5 for i,j in enumerate(opt_eff_cleaned)]\n",
    "std_arr_big = [np.std(opt_eff_cleaned) for i,j in enumerate(opt_eff_cleaned)]\n",
    "std_arr_3 = [np.std(new_plot) for i,j in enumerate(new_plot)]\n",
    "#std_arr = [np.std(opt_eff) for i,j in enumerate(opt_eff)]\n",
    "\n",
    "\n",
    "plt.figure(figsize = (12,6))\n",
    "plt.ylim(0.095,0.34)\n",
    "#plt.ylim(0.095,0.265)\n",
    "plt.xlabel(\"Event\")\n",
    "#plt.ylabel(\"Optical eff with rel. error for 1 measurment\")\n",
    "plt.ylabel(\"Optical efficiency value\")\n",
    "#plt.title(\"Opt eff for muon rings after time sample cleaning, pix > 50, intensity<0.2\")\n",
    "plt.title(\"Events after additional cleaning (pix > 50, intensity_cut = 0.3, time_bin<16, completeness>0.5)\")\n",
    "#plt.title(\"Events after island cleaning (size $\\leq 4$)\")\n",
    "\n",
    "\n",
    "plt.grid(alpha=0.5)\n",
    "#plt.ylim(0.05,0.3)\n",
    "#plt.scatter(new_ind, new_plot, color = 'orange')\n",
    "\n",
    "\n",
    "y_upper = [j+std_arr[-1] for i,j in enumerate(y_mid)]\n",
    "y_lower = [j-std_arr[-1] for i,j in enumerate(y_mid)]\n",
    "\n",
    "\n",
    "y_upper = [j+std_arr[-1] for i,j in enumerate([np.mean(opt_eff_cleaned) for i in x_range])]\n",
    "y_lower = [j-std_arr[-1] for i,j in enumerate([np.mean(opt_eff_cleaned) for i in x_range])]\n",
    "\n",
    "plt.errorbar(x_range, opt_eff_cleaned, yerr=std_arr_big, fmt='o', ms = 5, alpha = 0.8, label=\"cleaned\")#, c = 'blue')#, s = 100)#, c= 'black')\n",
    "plt.errorbar(new_ind, new_plot, yerr=std_arr_3, fmt='o', ms = 5, alpha = 0.8, label=\"original\") #, c = 'blue')#, s = 100)#, c= 'black')\n",
    "#plt.scatter(new_ind, new_plot, alpha = 0.9, color = \"orange\", label=\"original\") #, c = 'blue')#, s = 100)#, c= 'black')\n",
    "\n",
    "\n",
    "#plt.fill_between(mean_range, y_upper, y_lower, alpha = 0.3, color = 'green', label = 'mean +/- $1\\sigma$')\n",
    "plt.fill_between(x_range, y_upper, y_lower, alpha = 0.3, color = 'green', label = 'mean +/- $1\\sigma$')\n",
    "#plt.plot(mean_range, y_mid, label = \"mean\", lw = 1.5, color='green')\n",
    "#plt.plot(x_range, y_mid, label = \"mean\", lw = 1.5, color='green')\n",
    "plt.plot(x_range, [np.mean(opt_eff_cleaned) for i in x_range], label = \"mean\", lw = 1.5, color='green')\n",
    "\n",
    "#plt.fill_between(x_range_1, y_upper_1, y_lower_1, color = 'r', alpha = 0.3, label = 'mean +/- $1\\sigma$')\n",
    "\n",
    "plt.xlim(-1,len(opt_eff_cleaned))\n",
    "plt.legend()\n",
    "print(\"mean = \", np.mean(opt_eff_cleaned))\n",
    "print(\"std = \", np.std(opt_eff_cleaned))\n",
    "print(\"rel_err = \", np.std(opt_eff_cleaned)/np.mean(opt_eff_cleaned))\n",
    "print(\"len of all = \", len(opt_eff_cleaned))\n",
    "print(\"len of remained = \", len(new_plot))\n",
    "#plt.savefig(\"/Users/vdk/ImagePurgatorium/CleanedOptEff_pix>50_int=01_16timebin_complet>05_RelStdErr.png\")\n",
    "#plt.savefig(\"/Users/vdk/ImagePurgatorium/IslandsCleaned_maskMEAN_Island4Pixel.png\", dpi=900)"
   ]
  },
  {
   "cell_type": "code",
   "execution_count": null,
   "id": "231021d2",
   "metadata": {},
   "outputs": [],
   "source": [
    "new_plot"
   ]
  },
  {
   "cell_type": "code",
   "execution_count": null,
   "id": "6e527318",
   "metadata": {},
   "outputs": [],
   "source": [
    "opt_eff_cleaned"
   ]
  },
  {
   "cell_type": "code",
   "execution_count": null,
   "id": "a0da8d36",
   "metadata": {},
   "outputs": [],
   "source": [
    "plt.figure(figsize = (9,6))\n",
    "camgeom = source.subarray.tel[tel_nummer].camera.geometry\n",
    "title=\"Muon Ring?\"\n",
    "disp = CameraDisplay(camgeom,title=title)\n",
    "disp.image = event_container[event_nummer].simulation.tel[tel_nummer].true_image\n",
    "#disp.image = true_image\n",
    "disp.cmap = plt.cm.RdBu_r\n",
    "disp.add_colorbar()\n",
    "disp.set_limits_percent(95)\n",
    "#plt.savefig(f\"/Users/vdk/IntensityCut_event{j.index.event_id}\")"
   ]
  },
  {
   "cell_type": "code",
   "execution_count": null,
   "id": "460df4fa",
   "metadata": {
    "scrolled": true
   },
   "outputs": [],
   "source": [
    "# PROCESSING OF REGULAR IMAGES\n",
    "lets_check = 0\n",
    "opt_eff_cleaned = []\n",
    "reg_event_number = []\n",
    "for i in event_container:\n",
    "    for m in event_container[i].trigger.tel.keys():\n",
    "        if not np.isnan(event_container[i].muon.tel[m].efficiency.width):\n",
    "                #plt.savefig(f\"/Users/vdk/MRing_event{i}_fit{round(event_container[i].muon.tel[m].efficiency.optical_efficiency,3)}_width{round(event_container[i].muon.tel[m].efficiency.width.to_value(),3)}.png\")\n",
    "                #plt.savefig(f\"/Users/vdk/MRing_event{i}_fit{round(event_container[i].muon.tel[m].efficiency.optical_efficiency,3)}_width{round(event_container[i].muon.tel[m].efficiency.width.to_value(),3)}.png\")\n",
    "                \n",
    "                print(\"n_pixels \", event_container[i].dl1.tel[m].parameters.morphology.n_pixels)\n",
    "                #print(\"MSE \", event_container[i].muon.tel[m].parameters.mean_squared_error)                \n",
    "                #print(\"Muon parameters \", event_container[i].muon.tel[m].parameters)   \n",
    "                #print(\"intensity_check \", abs(event_container[i].muon.tel[m].parameters.intensity_ratio - 1))\n",
    "                #if event_container[i].dl1.tel[m].parameters.morphology.n_pixels > 50 and abs(event_container[i].muon.tel[m].parameters.intensity_ratio - 1) < 0.1:\n",
    "                #if abs(event_container[i].muon.tel[m].parameters.intensity_ratio - 1) < 0.2:\n",
    "                #print(\"n_pixels \", event_container[i].dl1.tel[m].parameters.morphology.n_pixels)\n",
    "                #print(\"Muon parameters \", event_container[i].muon.tel[m].parameters)   \n",
    "                #print(\"intensity_check \", abs(event_container[i].muon.tel[m].parameters.intensity_ratio - 1))\n",
    "                lets_check+=1\n",
    "                plt.figure(figsize = (9,6))\n",
    "                camgeom = source.subarray.tel[m].camera.geometry\n",
    "                title=f\"Event_{i}_optEff{round(event_container[i].muon.tel[m].efficiency.optical_efficiency,3)}_width{round(event_container[i].muon.tel[m].efficiency.width.to_value(),3)}_triggercount{len(event_container[i].trigger.tel.keys())}\"\n",
    "                #title=f\"CleanedRing_{i}_optEff{round(event_container[i].muon.tel[m].efficiency.optical_efficiency,3)}_width{round(event_container[i].muon.tel[m].efficiency.width.to_value(),3)}_triggeredTel{m}\"\n",
    "                disp = CameraDisplay(camgeom,title=title)\n",
    "                disp.image = event_container[i].simulation.tel[m].true_image\n",
    "                #disp.image = event_container[i].r1.tel[m].waveform.sum(axis=1)\n",
    "                disp.cmap = plt.cm.RdBu_r\n",
    "                disp.add_colorbar()\n",
    "                disp.set_limits_percent(95)\n",
    "                reg_event_number.append(i)\n",
    "                plt.show()\n",
    "                #plt.savefig(f\"/Users/vdk/ImagePurgatorium/MuonsWithoutCleaning_intensitycut<0.3_event{i}.png\")\n",
    "                #opt_eff_cleaned.append(event_container[i].muon.tel[m].efficiency.optical_efficiency)\n",
    "                    \n",
    "plt.close()"
   ]
  },
  {
   "cell_type": "code",
   "execution_count": null,
   "id": "7ade2b87",
   "metadata": {},
   "outputs": [],
   "source": [
    "print(reg_event_number)"
   ]
  },
  {
   "cell_type": "code",
   "execution_count": null,
   "id": "a7e24cae",
   "metadata": {
    "scrolled": true
   },
   "outputs": [],
   "source": [
    "# FIND DIFFERENCE IN EVENTS FROM DIFFERENT CUTS\n",
    "\n",
    "set1 = [2414, 3211, 3403, 4426, 6200, 6317, 6466, 7418, 8234, 8448, 9404, 9433, 12262, 12334, 14335, 14402, 15185, 15405, 19103, 20229, 20402, 21288, 21433, 22053, 22205, 22271, 22390, 23382, 24482, 26113, 26164, 26347, 26365, 27176, 27374, 28000, 28034, 28328, 29266, 29390, 30405, 30462, 31176, 31386, 32064, 32298, 33057, 33071, 35052, 35219, 35375, 35435, 36231, 36364, 36452, 37363, 39094, 39152, 39376]\n",
    "\n",
    "\n",
    "set_dif = set(reg_event_number).difference(set(set1))\n",
    "set_dif = [3198, 3403, 6317, 6466, 8234, 8448, 9404, 9433, 12262, 14402, 14406, 16110, 16379, 19103, 20229, 20402, 21288, 21433, 22123, 22205, 22364, 22365, 22390, 22415, 25051, 25345, 26113, 26164, 26347, 26365, 27176, 27374, 28000, 28328, 29266, 29390, 31176, 31386, 32064, 32298, 33057, 33071, 34115, 35052, 35219, 35375, 35435, 36231, 36452]\n",
    "for i in set_dif:\n",
    "    for m in event_container[i].trigger.tel.keys():\n",
    "        if not np.isnan(event_container[i].muon.tel[m].efficiency.width):\n",
    "                #plt.savefig(f\"/Users/vdk/MRing_event{i}_fit{round(event_container[i].muon.tel[m].efficiency.optical_efficiency,3)}_width{round(event_container[i].muon.tel[m].efficiency.width.to_value(),3)}.png\")\n",
    "                #plt.savefig(f\"/Users/vdk/MRing_event{i}_fit{round(event_container[i].muon.tel[m].efficiency.optical_efficiency,3)}_width{round(event_container[i].muon.tel[m].efficiency.width.to_value(),3)}.png\")\n",
    "                \n",
    "                print(\"n_pixels \", event_container[i].dl1.tel[m].parameters.morphology.n_pixels)\n",
    "                #print(\"MSE \", event_container[i].muon.tel[m].parameters.mean_squared_error)                \n",
    "                #print(\"Muon parameters \", event_container[i].muon.tel[m].parameters)   \n",
    "                #print(\"intensity_check \", abs(event_container[i].muon.tel[m].parameters.intensity_ratio - 1))\n",
    "                #if event_container[i].dl1.tel[m].parameters.morphology.n_pixels > 50 and abs(event_container[i].muon.tel[m].parameters.intensity_ratio - 1) < 0.1:\n",
    "                #if abs(event_container[i].muon.tel[m].parameters.intensity_ratio - 1) < 0.2:\n",
    "                #print(\"n_pixels \", event_container[i].dl1.tel[m].parameters.morphology.n_pixels)\n",
    "                #print(\"Muon parameters \", event_container[i].muon.tel[m].parameters)   \n",
    "                #print(\"intensity_check \", abs(event_container[i].muon.tel[m].parameters.intensity_ratio - 1))\n",
    "                lets_check+=1\n",
    "                plt.figure(figsize = (9,6))\n",
    "                camgeom = source.subarray.tel[m].camera.geometry\n",
    "                title=f\"Event_{i}_optEff{round(event_container[i].muon.tel[m].efficiency.optical_efficiency,3)}_width{round(event_container[i].muon.tel[m].efficiency.width.to_value(),3)}_triggercount{len(event_container[i].trigger.tel.keys())}\"\n",
    "                #title=f\"CleanedRing_{i}_optEff{round(event_container[i].muon.tel[m].efficiency.optical_efficiency,3)}_width{round(event_container[i].muon.tel[m].efficiency.width.to_value(),3)}_triggeredTel{m}\"\n",
    "                disp = CameraDisplay(camgeom,title=title)\n",
    "                disp.image = event_container[i].simulation.tel[m].true_image\n",
    "                #disp.image = event_container[i].r1.tel[m].waveform.sum(axis=1)\n",
    "                disp.cmap = plt.cm.RdBu_r\n",
    "                disp.add_colorbar()\n",
    "                disp.set_limits_percent(95)\n",
    "                reg_event_number.append(i)\n",
    "                plt.show()"
   ]
  },
  {
   "cell_type": "code",
   "execution_count": null,
   "id": "982aee58",
   "metadata": {},
   "outputs": [],
   "source": [
    "print(event_container[22415].muon.tel[1].efficiency)"
   ]
  },
  {
   "cell_type": "code",
   "execution_count": null,
   "id": "8ab3d4d7",
   "metadata": {
    "scrolled": true
   },
   "outputs": [],
   "source": [
    "# PROCESSING OF REGULAR IMAGES \n",
    "##\n",
    "#\n",
    "# For all telescopes\n",
    "#\n",
    "#\n",
    "#\n",
    "\n",
    "lets_check = 0\n",
    "opt_eff_cleaned = []\n",
    "for i in event_container:\n",
    "    for m in event_container[i].trigger.tel.keys():\n",
    "        #if not np.isnan(event_container[i].muon.tel[m].efficiency.width):\n",
    "                #plt.savefig(f\"/Users/vdk/MRing_event{i}_fit{round(event_container[i].muon.tel[m].efficiency.optical_efficiency,3)}_width{round(event_container[i].muon.tel[m].efficiency.width.to_value(),3)}.png\")\n",
    "                #plt.savefig(f\"/Users/vdk/MRing_event{i}_fit{round(event_container[i].muon.tel[m].efficiency.optical_efficiency,3)}_width{round(event_container[i].muon.tel[m].efficiency.width.to_value(),3)}.png\")\n",
    "                \n",
    "                print(\"n_pixels \", event_container[i].dl1.tel[m].parameters.morphology.n_pixels)\n",
    "                print(\"len from r1 \", len((np.where(event_container[i].r1.tel[m].waveform > 2)[0])))\n",
    "                #print(\"MSE \", event_container[i].muon.tel[m].parameters.mean_squared_error)                \n",
    "                #print(\"Muon parameters \", event_container[i].muon.tel[m].parameters)   \n",
    "                #print(\"intensity_check \", abs(event_container[i].muon.tel[m].parameters.intensity_ratio - 1))\n",
    "                #if event_container[i].dl1.tel[m].parameters.morphology.n_pixels > 50 and abs(event_container[i].muon.tel[m].parameters.intensity_ratio - 1) < 0.1:\n",
    "                #if abs(event_container[i].muon.tel[m].parameters.intensity_ratio - 1) < 0.2:\n",
    "                #print(\"n_pixels \", event_container[i].dl1.tel[m].parameters.morphology.n_pixels)\n",
    "                #print(\"Muon parameters \", event_container[i].muon.tel[m].parameters)   \n",
    "                #print(\"intensity_check \", abs(event_container[i].muon.tel[m].parameters.intensity_ratio - 1))\n",
    "                lets_check+=1\n",
    "                plt.figure(figsize = (9,6))\n",
    "                camgeom = source.subarray.tel[m].camera.geometry\n",
    "                title=f\"Event_{i}_optEff{round(event_container[i].muon.tel[m].efficiency.optical_efficiency,3)}_width{round(event_container[i].muon.tel[m].efficiency.width.to_value(),3)}_triggercount{len(event_container[i].trigger.tel.keys())}\"\n",
    "                #title=f\"CleanedRing_{i}_optEff{round(event_container[i].muon.tel[m].efficiency.optical_efficiency,3)}_width{round(event_container[i].muon.tel[m].efficiency.width.to_value(),3)}_triggeredTel{m}\"\n",
    "                disp = CameraDisplay(camgeom,title=title)\n",
    "                disp.image = event_container[i].simulation.tel[m].true_image\n",
    "                #disp.image = event_container[i].r1.tel[m].waveform.sum(axis=1)\n",
    "                disp.cmap = plt.cm.RdBu_r\n",
    "                disp.add_colorbar()\n",
    "                disp.set_limits_percent(95)\n",
    "                #plt.show()\n",
    "                #plt.savefig(f\"/Users/vdk/ImagePurgatorium/MuonsWithoutCleaning_intensitycut<0.3_event{i}.png\")\n",
    "                #opt_eff_cleaned.append(event_container[i].muon.tel[m].efficiency.optical_efficiency)\n",
    "                    \n",
    "plt.close()"
   ]
  },
  {
   "cell_type": "code",
   "execution_count": null,
   "id": "49e96a9d",
   "metadata": {
    "scrolled": true
   },
   "outputs": [],
   "source": [
    "# PROCESSING OF CLEANED IMAGES\n",
    "lets_check = 0\n",
    "opt_eff_cleaned = []\n",
    "events_opt_eff_cleaned = []\n",
    "\n",
    "r1_waves = []\n",
    "n_pixel = []\n",
    "energies = []\n",
    "int_ratio = []\n",
    "clean_event_number = []\n",
    "\n",
    "for i in cleaned_event_container:\n",
    "    for m in cleaned_event_container[i].trigger.tel.keys():\n",
    "        if not np.isnan(cleaned_event_container[i].muon.tel[m].efficiency.width):\n",
    "                #plt.savefig(f\"/Users/vdk/MRing_event{i}_fit{round(event_container[i].muon.tel[m].efficiency.optical_efficiency,3)}_width{round(event_container[i].muon.tel[m].efficiency.width.to_value(),3)}.png\")\n",
    "                #plt.savefig(f\"/Users/vdk/MRing_event{i}_fit{round(event_container[i].muon.tel[m].efficiency.optical_efficiency,3)}_width{round(event_container[i].muon.tel[m].efficiency.width.to_value(),3)}.png\")\n",
    "                \n",
    "                #print(\"n_pixels \", event_container[i].dl1.tel[m].parameters.morphology.n_pixels)\n",
    "                if cleaned_event_container[i].dl1.tel[m].parameters.morphology.n_pixels > 50 and abs(cleaned_event_container[i].muon.tel[m].parameters.intensity_ratio - 1) < 0.7 and cleaned_event_container[i].muon.tel[m].parameters.completeness > 0.5 and cleaned_event_container[i].muon.tel[m].parameters.mean_squared_error.to_value() < 0.01:\n",
    "                #if cleaned_event_container[i].dl1.tel[m].parameters.morphology.n_pixels > 30:\n",
    "                    #if abs(event_container[i].muon.tel[m].parameters.intensity_ratio - 1) < 0.2:\n",
    "                    #print(\"n_pixels \", cleaned_event_container[i].dl1.tel[m].parameters.morphology.n_pixels)\n",
    "                    #print(\"r1 waveform\", len(np.where(cleaned_event_container[i].r1.tel[m].waveform > 2)[0]))\n",
    "                    r1_waves.append(len(np.where(cleaned_event_container[i].r1.tel[m].waveform > 2)[0]))\n",
    "                    n_pixel.append(cleaned_event_container[i].dl1.tel[m].parameters.morphology.n_pixels)\n",
    "                    energies.append(cleaned_event_container[i].simulation.shower.energy)\n",
    "                    int_ratio.append(cleaned_event_container[i].muon.tel[m].parameters.intensity_ratio)\n",
    "                    #print(\"len from r1 \", len((np.where(cleaned_event_container[i].r1.tel[m].waveform > 2)[0])))\n",
    "                    #print(\"MSE \", cleaned_event_container[i].muon.tel[m].parameters.mean_squared_error)                \n",
    "                    #print(\"Muon parameters \", cleaned_event_container[i].muon.tel[m].parameters)   \n",
    "                    #print(\"intensity_check \", abs(cleaned_event_container[i].muon.tel[m].parameters.intensity_ratio - 1))\n",
    "                    #print(\"Muon parameters \", cleaned_event_container[i].muon.tel[m].parameters)   \n",
    "                    #print(\"intensity_check \", abs(cleaned_event_container[i].muon.tel[m].parameters.intensity_ratio - 1))\n",
    "                    lets_check+=1\n",
    "                    plt.figure(figsize = (9,6))\n",
    "                    camgeom = source.subarray.tel[m].camera.geometry\n",
    "                    #title=f\"event_{i}_optEff{round(event_container[i].muon.tel[m].efficiency.optical_efficiency,3)}_width{round(event_container[i].muon.tel[m].efficiency.width.to_value(),3)}_triggercount{len(event_container[i].trigger.tel.keys())}\"\n",
    "                    title=f\"CleanedRing_{i}_optEff{round(cleaned_event_container[i].muon.tel[m].efficiency.optical_efficiency,3)}_width{round(cleaned_event_container[i].muon.tel[m].efficiency.width.to_value(),3)}_triggeredTel{m}\"\n",
    "                    #title=f\"TrueImage for events tagged as muon ring by cleaning algorithm {i}\"\n",
    "                    disp = CameraDisplay(camgeom,title=title)\n",
    "                    disp.image = cleaned_event_container[i].simulation.tel[m].true_image\n",
    "                    #disp.image = cleaned_event_container[i].r1.tel[m].waveform.sum(axis=1)\n",
    "                    #disp.image = cleaned_event_container[i].simulation.tel[m].true_image\n",
    "                    disp.cmap = plt.cm.RdBu_r\n",
    "                    disp.add_colorbar()\n",
    "                    disp.set_limits_percent(95)\n",
    "                    clean_event_number.append(i)\n",
    "                    plt.show()\n",
    "                    #plt.savefig(f\"/Users/vdk/ImagePurgatorium/TrueImagesOfCleanedMuons_intensitycut<0.3_event{i}.png\")\n",
    "                    opt_eff_cleaned.append(cleaned_event_container[i].muon.tel[m].efficiency.optical_efficiency)\n",
    "                    events_opt_eff_cleaned.append(i)\n",
    "                    \n",
    "plt.close()"
   ]
  },
  {
   "cell_type": "code",
   "execution_count": null,
   "id": "f4364aff",
   "metadata": {},
   "outputs": [],
   "source": [
    "print(clean_event_number)\n",
    "print(len(clean_event_number))"
   ]
  },
  {
   "cell_type": "code",
   "execution_count": null,
   "id": "ced68c39",
   "metadata": {},
   "outputs": [],
   "source": [
    "ranger = [i for i in range(len(energies))]\n",
    "energies_new = [i.to_value() for i in energies]\n",
    "histplot(energies_new, log_scale = True, bins = 10)\n",
    "plt.xlabel(\"Energy [TeV]\")\n",
    "plt.ylabel(\"Number of muon rings\")\n",
    "plt.xlim(0,10)\n",
    "plt.title(\"Energy spectrum of muon rings\")\n",
    "#plt.savefig('/Users/vdk/EnergyMuons.png')"
   ]
  },
  {
   "cell_type": "code",
   "execution_count": null,
   "id": "b88039d8",
   "metadata": {},
   "outputs": [],
   "source": [
    "ranger = [i for i in range(len(n_pixel))]\n",
    "x,y = np.histogram(int_ratio)\n",
    "histplot(int_ratio, bins = 7)\n",
    "#plt.xlim(0,150)\n",
    "plt.xlabel(\"Intensity ratio\")\n",
    "plt.ylabel(\"Number of muon rings\")\n",
    "plt.title(\"Ratio of intensity inside muon ring to overall intensity\")\n",
    "plt.savefig('/Users/vdk/IntRtio.png')"
   ]
  },
  {
   "cell_type": "code",
   "execution_count": null,
   "id": "f7736f74",
   "metadata": {},
   "outputs": [],
   "source": [
    "ranger = [i for i in range(len(n_pixel))]\n",
    "x,y = np.histogram(n_pixel)\n",
    "histplot(n_pixel, bins = 5)\n",
    "plt.xlim(0,150)\n",
    "plt.xlabel(\"Number of pixels in the ring\")\n",
    "plt.ylabel(\"Number of muon rings\")\n",
    "plt.savefig('/Users/vdk/NumberPixelHist.png')"
   ]
  },
  {
   "cell_type": "code",
   "execution_count": null,
   "id": "17dda08e",
   "metadata": {},
   "outputs": [],
   "source": [
    "plt.plot(y[:-1],x)"
   ]
  },
  {
   "cell_type": "code",
   "execution_count": null,
   "id": "6786b2de",
   "metadata": {},
   "outputs": [],
   "source": [
    "x_wave_range = [i for i in range(len(r1_waves))]\n",
    "\n",
    "r1_waves = np.array(r1_waves)\n",
    "n_pixel = np.array(n_pixel)\n",
    "\n",
    "plt.plot(x_wave_range, r1_waves)\n",
    "plt.plot(x_wave_range, n_pixel)\n",
    "plt.plot(x_wave_range, r1_waves-n_pixel)"
   ]
  },
  {
   "cell_type": "code",
   "execution_count": null,
   "id": "8a4a0aec",
   "metadata": {},
   "outputs": [],
   "source": [
    "fig, axes = plt.subplots(1, 2, sharex=False, gridspec_kw={'width_ratios': [1, 1]}, figsize=(12,5))\n",
    "fig.subplots_adjust(hspace=0.2)\n",
    "dx = axes[0]\n",
    "camgeom = source.subarray.tel[3].camera.geometry\n",
    "disp = CameraDisplay(camgeom, ax = dx)\n",
    "disp.image = event_container[1053].simulation.tel[3].true_image\n",
    "#disp.image = true_image\n",
    "disp.cmap = plt.cm.RdBu_r\n",
    "disp.add_colorbar()\n",
    "disp.set_limits_percent(95)\n",
    "dx.set_title(\"Extracted muon ring\")\n",
    "cx = axes[1]\n",
    "camgeom = source.subarray.tel[2].camera.geometry\n",
    "disp = CameraDisplay(camgeom, ax = cx)\n",
    "disp.image = event_container[1053].simulation.tel[2].true_image\n",
    "#disp.image = true_image\n",
    "disp.cmap = plt.cm.RdBu_r\n",
    "disp.add_colorbar()\n",
    "disp.set_limits_percent(95)\n",
    "cx.set_title(\"Extracted contamination\")\n",
    "#plt.show()\n",
    "#plt.savefig(\"/Users/vdk/DistinctRingContamination\")"
   ]
  },
  {
   "cell_type": "code",
   "execution_count": null,
   "id": "e6c50c8b",
   "metadata": {},
   "outputs": [],
   "source": [
    "#len(event_optical_coef)\n",
    "lets_check"
   ]
  },
  {
   "cell_type": "code",
   "execution_count": null,
   "id": "4aadc51f",
   "metadata": {},
   "outputs": [],
   "source": [
    "image_processor = ImageProcessor(source.subarray)\n",
    "muon_processor = MuonProcessor(source.subarray)\n",
    "calib = CameraCalibrator(image_extractor_type=\"GlobalPeakWindowSum\", subarray = source.subarray)\n",
    "calib(event)\n",
    "image_processor(event)\n",
    "muon_processor(event)\n",
    "np.isnan(j.muon.tel[m].efficiency.width)"
   ]
  },
  {
   "cell_type": "code",
   "execution_count": null,
   "id": "50fd3414",
   "metadata": {},
   "outputs": [],
   "source": [
    "not np.isnan(event.muon.tel[1].efficiency.width)"
   ]
  },
  {
   "cell_type": "code",
   "execution_count": null,
   "id": "ea670c5f",
   "metadata": {},
   "outputs": [],
   "source": [
    "if not type(efficiency_container[19]) is int:\n",
    "    print(1)"
   ]
  },
  {
   "cell_type": "code",
   "execution_count": null,
   "id": "221cd583",
   "metadata": {},
   "outputs": [],
   "source": [
    "for key in efficiency_container:\n",
    "    print(efficiency_container[key].optical_efficiency)"
   ]
  },
  {
   "cell_type": "code",
   "execution_count": null,
   "id": "49661028",
   "metadata": {},
   "outputs": [],
   "source": [
    "calculated = {}\n",
    "for i,j in enumerate(efficiency_container):\n",
    "    if not type(j) is int:\n",
    "        calculated[i] = j\n",
    "        "
   ]
  },
  {
   "cell_type": "code",
   "execution_count": null,
   "id": "5f5b21c6",
   "metadata": {},
   "outputs": [],
   "source": [
    "for i in calculated:\n",
    "    print(i)"
   ]
  },
  {
   "cell_type": "code",
   "execution_count": null,
   "id": "4649a8f4",
   "metadata": {},
   "outputs": [],
   "source": []
  },
  {
   "cell_type": "code",
   "execution_count": null,
   "id": "b00ec2fc",
   "metadata": {},
   "outputs": [],
   "source": [
    "calculated[2]"
   ]
  },
  {
   "cell_type": "code",
   "execution_count": null,
   "id": "21189455",
   "metadata": {},
   "outputs": [],
   "source": [
    "np.radians(0.2)"
   ]
  },
  {
   "cell_type": "code",
   "execution_count": null,
   "id": "5f0f39d0",
   "metadata": {},
   "outputs": [],
   "source": [
    "len(event_container)"
   ]
  },
  {
   "cell_type": "code",
   "execution_count": null,
   "id": "9056013e",
   "metadata": {},
   "outputs": [],
   "source": [
    "checker"
   ]
  },
  {
   "cell_type": "code",
   "execution_count": null,
   "id": "c2496bcc",
   "metadata": {},
   "outputs": [],
   "source": [
    "164/4227"
   ]
  },
  {
   "cell_type": "code",
   "execution_count": null,
   "id": "e581e7bf",
   "metadata": {},
   "outputs": [],
   "source": [
    "3/4227"
   ]
  },
  {
   "cell_type": "code",
   "execution_count": null,
   "id": "941307c0",
   "metadata": {},
   "outputs": [],
   "source": [
    "3/10000"
   ]
  },
  {
   "cell_type": "code",
   "execution_count": null,
   "id": "8b05d64b",
   "metadata": {},
   "outputs": [],
   "source": [
    "for k in range(1,10):\n",
    "    print(k)"
   ]
  },
  {
   "cell_type": "code",
   "execution_count": null,
   "id": "9908aa87",
   "metadata": {},
   "outputs": [],
   "source": [
    "from traitlets.config import Config\n",
    "\n",
    "image_processor_config = Config(\n",
    "    {\n",
    "        \"ImageProcessor\": {\n",
    "            \"image_cleaner_type\": \"TailcutsImageCleaner\",\n",
    "            \"TailcutsImageCleaner\": {\n",
    "                \"picture_threshold_pe\": [\n",
    "                    (\"type\", \"LST_LST_LSTCam\", 7.5),\n",
    "                    (\"type\", \"MST_MST_FlashCam\", 8),\n",
    "                    (\"type\", \"MST_MST_NectarCam\", 8),\n",
    "                    (\"type\", \"SST_ASTRI_CHEC\", 7),\n",
    "                ],\n",
    "                \"boundary_threshold_pe\": [\n",
    "                    (\"type\", \"LST_LST_LSTCam\", 5),\n",
    "                    (\"type\", \"MST_MST_FlashCam\", 4),\n",
    "                    (\"type\", \"MST_MST_NectarCam\", 4),\n",
    "                    (\"type\", \"SST_ASTRI_CHEC\", 4),\n",
    "                ],\n",
    "            },\n",
    "        }\n",
    "    }\n",
    ")"
   ]
  },
  {
   "cell_type": "code",
   "execution_count": null,
   "id": "fa428ba3",
   "metadata": {},
   "outputs": [],
   "source": [
    "filename = '/Users/vdk/sim_run_folder/output_prod_v12/corsika_theta_28.4_az_182.75_run1.simtel.gz'\n",
    "source = EventSource(filename, max_events=9000)\n",
    "event_iterator = iter(source)\n",
    "\n",
    "event = next(event_iterator)\n",
    "\n",
    "image_processor = ImageProcessor(source.subarray, config = image_processor_config)\n",
    "image_processor(event)"
   ]
  },
  {
   "cell_type": "code",
   "execution_count": null,
   "id": "63ee55ec",
   "metadata": {},
   "outputs": [],
   "source": [
    "muon_processor_config = Config(\n",
    "    {\n",
    "        \"MuonProcessor\": {\n",
    "            \"RingQuery\": {\n",
    "                [\"intensity_check\",\"np.abs(parameters.intensity_ratio - 1) < 0.1\"]\n",
    "            }\n",
    "        }\n",
    "        \"MuonIntensityFitter\" :{\n",
    "        \"hole_radius_m\" : [\"type\", \"LST_*\", 0.308]\n",
    "        }\n",
    "    }\n",
    "\n",
    ")"
   ]
  },
  {
   "cell_type": "code",
   "execution_count": null,
   "id": "d5ddfdac",
   "metadata": {},
   "outputs": [],
   "source": [
    "7/(18295)*100"
   ]
  },
  {
   "cell_type": "code",
   "execution_count": null,
   "id": "618ca756",
   "metadata": {},
   "outputs": [],
   "source": [
    "14068+4227"
   ]
  },
  {
   "cell_type": "code",
   "execution_count": null,
   "id": "fabe805a",
   "metadata": {},
   "outputs": [],
   "source": [
    "k = 2\n",
    "filename = f'/Users/vdk/sim_run_folder/output_prod_v12/corsika_theta_28.4_az_182.75_run{k}.simtel.gz'\n",
    "source = EventSource(filename, max_events=9000)\n",
    "event_iterator = iter(source)\n",
    "\n",
    "for i,j in enumerate(event_iterator):\n",
    "    if i == 223:\n",
    "        plt.figure(figsize = (9,6))\n",
    "        camgeom = source.subarray.tel[3].camera.geometry\n",
    "        title=\"Muon Ring?\"\n",
    "        disp = CameraDisplay(camgeom,title=title)\n",
    "        disp.image = j.simulation.tel[2].true_image\n",
    "        #disp.image = true_image\n",
    "        disp.cmap = plt.cm.RdBu_r\n",
    "        disp.add_colorbar()\n",
    "        disp.set_limits_percent(95)\n",
    "        plt.show()\n",
    "        break\n",
    "        #plt.savefig(f\"/Users/vdk/IntensityCut_event{j.index.event_id}\")\n",
    "        "
   ]
  },
  {
   "cell_type": "code",
   "execution_count": null,
   "id": "61757a44",
   "metadata": {},
   "outputs": [],
   "source": [
    "len(for_hist)"
   ]
  },
  {
   "cell_type": "code",
   "execution_count": null,
   "id": "6494a2db",
   "metadata": {},
   "outputs": [],
   "source": [
    "for_hist = []\n",
    "check = 0\n",
    "\n",
    "for i in event_container:\n",
    "    #print(i)\n",
    "    #check+=1\n",
    "    for m in event_container[i].trigger.tel.keys():\n",
    "        if not np.isnan(event_container[i].muon.tel[m].efficiency.width):\n",
    "            #print(check)\n",
    "            #print(\"m\", m)\n",
    "            #print(\"i\", i)\n",
    "            peak_arr = np.empty(1855, dtype = int)\n",
    "            np.argmax(event_container[i].r0.tel[m].waveform[1], axis = 1, out = peak_arr)\n",
    "            #print(check,peak_arr)\n",
    "            for_hist = np.append(for_hist, peak_arr) \n",
    "            check += 1"
   ]
  },
  {
   "cell_type": "code",
   "execution_count": null,
   "id": "fc1f27a9",
   "metadata": {},
   "outputs": [],
   "source": [
    "histplot(for_hist, alpha = 0.8, binwidth = 1, binrange=[0,40])\n",
    "plt.xlabel(\"Time sample\")\n",
    "plt.ylabel(\"Count of pixels with appropriate peaktime\")\n",
    "#plt.title(f\"Histogram for peaktime of 40 runs minpixel > {min_pixel}\")\n",
    "#plt.savefig(f\"/Users/vdk/Histplot_40runs_PeakTime_minpixel>{min_pixel}\")\n",
    "#plt.title(f\"Histogram for peaktime of 40 runs IntensityCut<{int_cut}\")\n",
    "plt.title(f\"Histogram for r0 high gain\")\n",
    "#plt.savefig(f\"/Users/vdk/Histplot_40runs_IntensityCut>{int_cut}.png\")"
   ]
  },
  {
   "cell_type": "code",
   "execution_count": null,
   "id": "8d1f5fd7",
   "metadata": {},
   "outputs": [],
   "source": [
    "test = histplot(for_hist, alpha = 0.8, bins = [i-0.5 for i in range(41)])\n",
    "plt.title(f\"Histogram for r0 low gain\")"
   ]
  },
  {
   "cell_type": "code",
   "execution_count": null,
   "id": "be641c76",
   "metadata": {},
   "outputs": [],
   "source": [
    "hist, bin_edges = np.histogram(for_hist, bins =40)"
   ]
  },
  {
   "cell_type": "code",
   "execution_count": null,
   "id": "a181e5d6",
   "metadata": {},
   "outputs": [],
   "source": [
    "bin_edges"
   ]
  },
  {
   "cell_type": "code",
   "execution_count": null,
   "id": "644b2620",
   "metadata": {},
   "outputs": [],
   "source": [
    "plt.hist(for_hist, bins = [i for i in range(41)])"
   ]
  },
  {
   "cell_type": "code",
   "execution_count": null,
   "id": "db9d0a44",
   "metadata": {},
   "outputs": [],
   "source": [
    "min(for_hist)"
   ]
  },
  {
   "cell_type": "code",
   "execution_count": null,
   "id": "b00282ea",
   "metadata": {},
   "outputs": [],
   "source": [
    "len(hist)"
   ]
  },
  {
   "cell_type": "code",
   "execution_count": null,
   "id": "d3c5aeeb",
   "metadata": {},
   "outputs": [],
   "source": [
    "bin_edges"
   ]
  },
  {
   "cell_type": "code",
   "execution_count": null,
   "id": "d0ef6c09",
   "metadata": {},
   "outputs": [],
   "source": [
    "import pandas as pd\n",
    "\n",
    "# Generate data on commute times.\n",
    "size, scale = 1000, 10\n",
    "commutes = pd.Series(for_hist)\n",
    "\n",
    "commutes.plot.hist(grid=True, bins=40, rwidth=1,\n",
    "                   color='#607c8e')\n",
    "plt.title('Commute Times for 1,000 Commuters')\n",
    "plt.xlabel('Counts')\n",
    "plt.ylabel('Commute Time')\n",
    "plt.grid(axis='y', alpha=0.75)"
   ]
  },
  {
   "cell_type": "code",
   "execution_count": null,
   "id": "82f8e535",
   "metadata": {},
   "outputs": [],
   "source": [
    "len([-0.5,0.5,1.5,2.5,3.5,4.5,5.5,6.5,7.5,8.5,9.5,10.5,11.5,12.5,13.5,14.5,15.5,16.5,17.5,18.5,19.5,20.5,21.5,22.5,23.5,24.5,25.5,26.5,27.5,28.5,29.5,30.5,31.5,32.5,33.5,34.5,35.5,36.5,37.5,38.5,39.5])"
   ]
  },
  {
   "cell_type": "code",
   "execution_count": null,
   "id": "b156612f",
   "metadata": {},
   "outputs": [],
   "source": [
    "for i in range(0,41):\n",
    "    print(i-0.5)"
   ]
  },
  {
   "cell_type": "code",
   "execution_count": null,
   "id": "ec4518b1",
   "metadata": {},
   "outputs": [],
   "source": [
    "arr = [1,6,3,2,5,5,6,4,4,4,3,3,3,2,6]\n",
    "histplot(arr)"
   ]
  },
  {
   "cell_type": "code",
   "execution_count": null,
   "id": "efb7ece6",
   "metadata": {},
   "outputs": [],
   "source": [
    "for i in for_hist:\n",
    "    print(i)"
   ]
  },
  {
   "cell_type": "code",
   "execution_count": null,
   "id": "913ad4ff",
   "metadata": {},
   "outputs": [],
   "source": [
    "np.count(for_hist,1)"
   ]
  },
  {
   "cell_type": "code",
   "execution_count": null,
   "id": "4e20fb6e",
   "metadata": {},
   "outputs": [],
   "source": [
    "other = for_hist.tolist()"
   ]
  },
  {
   "cell_type": "code",
   "execution_count": null,
   "id": "27aa807c",
   "metadata": {},
   "outputs": [],
   "source": [
    "other.count(38)"
   ]
  },
  {
   "cell_type": "code",
   "execution_count": null,
   "id": "b2e35b02",
   "metadata": {},
   "outputs": [],
   "source": [
    "np.char.count(arr,'1')"
   ]
  },
  {
   "cell_type": "code",
   "execution_count": null,
   "id": "e1404f46",
   "metadata": {
    "scrolled": false
   },
   "outputs": [],
   "source": [
    "for_hist = []\n",
    "check = 0\n",
    "time_sample = 24\n",
    "\n",
    "for i in event_container:\n",
    "    for m in event_container[i].trigger.tel.keys():\n",
    "        if not np.isnan(event_container[i].muon.tel[m].efficiency.width):\n",
    "            max_val = np.amax(event_container[i].r1.tel[m].waveform[time_sample])\n",
    "            event_list = event_container[i].r1.tel[m].waveform[time_sample].tolist()\n",
    "            #print(\"max\", max_val)\n",
    "            #print(\"events\", event_container[i].r1.tel[m].waveform.shape)\n",
    "            counts = event_list.count(max_val)\n",
    "            print(\"counts = \", counts)\n",
    "            \n",
    "            "
   ]
  },
  {
   "cell_type": "code",
   "execution_count": null,
   "id": "ff411fed",
   "metadata": {},
   "outputs": [],
   "source": [
    "for_hist = []\n",
    "check = 0\n",
    "\n",
    "for i in event_container:\n",
    "    for m in event_container[i].trigger.tel.keys():\n",
    "        if not np.isnan(event_container[i].muon.tel[m].efficiency.width):\n",
    "            peak_arr = np.empty(1855, dtype = int)\n",
    "            np.argmax(event_container[i].r1.tel[m].waveform, axis = 1, out = peak_arr)\n",
    "            print(check,peak_arr)\n",
    "            for_hist = np.append(for_hist, peak_arr) \n",
    "            check += 1\n",
    "\n",
    "winner = np.argwhere(event_container[i].r1.tel[m].waveform == np.amax(event_container[i].r1.tel[m].waveform))"
   ]
  },
  {
   "cell_type": "code",
   "execution_count": null,
   "id": "9ceca95c",
   "metadata": {},
   "outputs": [],
   "source": [
    "winner = np.argwhere(event_container[i].r1.tel[m].waveform == np.amax(event_container[i].r1.tel[m].waveform))"
   ]
  },
  {
   "cell_type": "code",
   "execution_count": null,
   "id": "3b9e8c23",
   "metadata": {},
   "outputs": [],
   "source": [
    "winner"
   ]
  },
  {
   "cell_type": "code",
   "execution_count": null,
   "id": "40f94a2a",
   "metadata": {},
   "outputs": [],
   "source": [
    "k = 22\n",
    "event_number = 86\n",
    "teln = 3\n",
    "filename = f'/Users/vdk/sim_run_folder/output_prod_v12/corsika_theta_28.4_az_182.75_run{k}.simtel.gz'\n",
    "source = EventSource(filename, max_events=9000)\n",
    "event_iterator = iter(source)\n",
    "\n",
    "for i,j in enumerate(event_iterator):\n",
    "    if i == event_number:\n",
    "        image_processor = ImageProcessor(source.subarray)\n",
    "        muon_processor = MuonProcessor(source.subarray)\n",
    "        calib = CameraCalibrator(image_extractor_type=\"GlobalPeakWindowSum\",subarray = source.subarray)\n",
    "        calib(j)\n",
    "        image_processor(j)\n",
    "        muon_processor(j)\n",
    "        event = j\n",
    "        break\n",
    "\n",
    "\n",
    "# check only pixels where signal is less then some value\n",
    "# mean value for all pixels sum over the samples is 6200\n",
    "#work_arr = event.r0.tel[1].waveform[0].copy()\n",
    "#work_arr[np.sum(work_arr, axis = 1) > 10000] = 0\n",
    "#teln = 2\n",
    "#print(np.count_nonzero(work_arr))\n",
    "\n",
    "plt.figure(figsize = (9,6))\n",
    "camgeom = source.subarray.tel[1].camera.geometry\n",
    "title=\"Ring\"\n",
    "disp = CameraDisplay(camgeom,title=title, norm = 'lin', autoscale = False, allow_pick = True)\n",
    "\n",
    "disp.image = event.r0.tel[teln].waveform[1].sum(axis=1)\n",
    "#disp.image = event.dl0.tel[teln].waveform[:,11]\n",
    "#disp.image = working_arr\n",
    "#disp.image = event.simulation.tel[teln].true_image\n",
    "#disp.image = cont_arr\n",
    "disp.cmap = plt.cm.RdBu_r\n",
    "disp.add_colorbar()\n",
    "disp.set_limits_percent(95)\n",
    "print(\"print\", disp.pixels)\n",
    "#plt.savefig(f\"/Users/vdk/IntensityCut_event{j.index.event_id}\")"
   ]
  },
  {
   "cell_type": "code",
   "execution_count": null,
   "id": "5232a9cb",
   "metadata": {},
   "outputs": [],
   "source": [
    "event_container[22086].r1.tel[2].selected_gain_channel"
   ]
  },
  {
   "cell_type": "code",
   "execution_count": null,
   "id": "c91c3114",
   "metadata": {},
   "outputs": [],
   "source": [
    "for i in event_container[22086].simulation.shower.energy"
   ]
  },
  {
   "cell_type": "code",
   "execution_count": null,
   "id": "cae26328",
   "metadata": {},
   "outputs": [],
   "source": [
    "###\n",
    "# Algorithm to process events and try to calibrate them\n",
    "###\n",
    "int_cut = 0.2\n",
    "min_pixel = 250\n",
    "\n",
    "muon_processor_config = Config({\"MuonProcessor\": \n",
    "                                {\"RingQuery\": \n",
    "                                 {\"quality_criteria\" : [[\"intensity_check\",f\"np.abs(parameters.intensity_ratio - 1) < {int_cut}\"],\n",
    "                                                        [\"ring_containment\", \"parameters.containment > 0.3\"],\n",
    "                                                        [\"ring_completeness\", \"parameters.completeness > 0.3\"]]}}})\n",
    "\n",
    "#muon_processor_config = Config({\"MuonProcessor\":\n",
    "#                                {\"ImageParameterQuery\" :\n",
    "#                                {\"quality_criteria\" : [[\"min_pixels\", f\"dl1_params.morphology.n_pixels > {min_pixel}\"],\n",
    "#                                                        [\"min_intensity\", \"dl1_params.hillas.intensity > 500\"]]}}})\n",
    "\n",
    "muon_processor_config_2 = Config({\"MuonProcessor\":\n",
    "                                {\"ImageParameterQuery\" :\n",
    "                                 {\"quality_criteria\" : [[\"min_pixels\", f\"dl1_params.morphology.n_pixels > {min_pixel}\"],\n",
    "                                                        [\"min_intensity\", \"dl1_params.hillas.intensity > 500\"]]}}})\n",
    "#k = 1\n",
    "checker = 0\n",
    "event_container_protons = []\n",
    "\n",
    "for k in range(1,41):\n",
    "    filename = f'/Users/vdk/sim_run_folder/output_prod_v12/corsika_theta_28.4_az_182.75_run{k}.simtel.gz'\n",
    "    source = EventSource(filename, max_events=9000)\n",
    "    event_iterator = iter(source)\n",
    "    keks = k*1000\n",
    "    for i,j in enumerate(event_iterator):\n",
    "        checker += 1\n",
    "        if len(j.trigger.tels_with_trigger) > 1:\n",
    "            image_processor = ImageProcessor(source.subarray)\n",
    "            muon_processor = MuonProcessor(source.subarray, config = muon_processor_config_2)\n",
    "            #muon_processor = MuonProcessor(source.subarray)\n",
    "            calib = CameraCalibrator(image_extractor_type=\"GlobalPeakWindowSum\",subarray = source.subarray)\n",
    "            calib(j)\n",
    "            image_processor(j)\n",
    "            muon_processor(j)\n",
    "            for m in j.muon.tel.keys():\n",
    "                if not np.isnan(j.muon.tel[m].efficiency.width):\n",
    "                    event_container_protons.append(j)\n",
    "    if len(event_container_protons) > 43:\n",
    "        break\n",
    "        \n",
    "            \n",
    "            \n"
   ]
  },
  {
   "cell_type": "code",
   "execution_count": null,
   "id": "ff15671b",
   "metadata": {},
   "outputs": [],
   "source": [
    "len(event_container_protons)"
   ]
  },
  {
   "cell_type": "code",
   "execution_count": null,
   "id": "31ea0388",
   "metadata": {
    "scrolled": true
   },
   "outputs": [],
   "source": [
    "for i,j in enumerate(event_container_protons):\n",
    "    for m in j.trigger.tel.keys():\n",
    "        if not np.isnan(j.muon.tel[m].efficiency.width):\n",
    "                plt.figure(figsize = (9,6))\n",
    "                camgeom = source.subarray.tel[m].camera.geometry\n",
    "                #title=f\"event_{i}_optEff{round(event_container[i].muon.tel[m].efficiency.optical_efficiency,3)}_width{round(event_container[i].muon.tel[m].efficiency.width.to_value(),3)}_triggercount{len(event_container[i].trigger.tel.keys())}\"\n",
    "                #title=f\"event_{i}_optEff{round(event_container[i].muon.tel[m].efficiency.optical_efficiency,3)}_width{round(event_container[i].muon.tel[m].efficiency.width.to_value(),3)}_triggerTel{m}\"\n",
    "                disp = CameraDisplay(camgeom,title=title)\n",
    "                disp.image = j.simulation.tel[m].true_image\n",
    "                disp.cmap = plt.cm.RdBu_r\n",
    "                disp.add_colorbar()\n",
    "                disp.set_limits_percent(95)\n",
    "                #plt.savefig(f\"/Users/vdk/MRing_event{i}_fit{round(event_container[i].muon.tel[m].efficiency.optical_efficiency,3)}_width{round(event_container[i].muon.tel[m].efficiency.width.to_value(),3)}.png\")\n",
    "                #plt.savefig(f\"/Users/vdk/MRing_event{i}_fit{round(event_container[i].muon.tel[m].efficiency.optical_efficiency,3)}_width{round(event_container[i].muon.tel[m].efficiency.width.to_value(),3)}.png\")\n",
    "                plt.show()\n",
    "                \n",
    "plt.close()"
   ]
  },
  {
   "cell_type": "code",
   "execution_count": null,
   "id": "85f05a41",
   "metadata": {},
   "outputs": [],
   "source": [
    "for_hist_muons = []\n",
    "check = 0\n",
    "bad_muons = [2277, 8234,  8448, 9404,  9433, 13088, 18054, 20351, 27176, 27374, 28000, 28328, 35298, 35473]\n",
    "\n",
    "for i in event_container:\n",
    "    #print(i)\n",
    "    #check+=1\n",
    "    for m in event_container[i].trigger.tel.keys():\n",
    "        if not np.isnan(event_container[i].muon.tel[m].efficiency.width) and i not in bad_muons:\n",
    "            #print(check)\n",
    "            #print(\"m\", m)\n",
    "            #print(\"i\", i)\n",
    "            peak_arr = np.empty(1855, dtype = int)\n",
    "            np.argmax(event_container[i].r0.tel[m].waveform[1], axis = 1, out = peak_arr)\n",
    "            #print(check,peak_arr)\n",
    "            for_hist_muons = np.append(for_hist_muons, peak_arr) \n",
    "            check += 1"
   ]
  },
  {
   "cell_type": "code",
   "execution_count": null,
   "id": "1669b75f",
   "metadata": {},
   "outputs": [],
   "source": [
    "len(for_hist_muons)/1855"
   ]
  },
  {
   "cell_type": "code",
   "execution_count": null,
   "id": "a05eebe7",
   "metadata": {},
   "outputs": [],
   "source": [
    "for_hist_protons = []\n",
    "check = 0\n",
    "bad_muons = [2277, 8234,  8448, 9404,  9433, 13088, 18054, 20351, 27176, 27374, 28000, 28328, 35298, 35473]\n",
    "\n",
    "for i,j in enumerate(event_container_protons[2:33]):\n",
    "    #print(i)\n",
    "    #check+=1\n",
    "    for m in j.trigger.tel.keys():\n",
    "        if not np.isnan(j.muon.tel[m].efficiency.width):\n",
    "            #print(check)\n",
    "            #print(\"m\", m)\n",
    "            #print(\"i\", i)\n",
    "            peak_arr = np.empty(1855, dtype = int)\n",
    "            np.argmax(j.r0.tel[m].waveform[1], axis = 1, out = peak_arr)\n",
    "            #print(check,peak_arr)\n",
    "            for_hist_protons = np.append(for_hist, peak_arr) \n",
    "            check += 1"
   ]
  },
  {
   "cell_type": "code",
   "execution_count": null,
   "id": "275c4fb7",
   "metadata": {},
   "outputs": [],
   "source": [
    "len(for_hist_protons)/1855"
   ]
  },
  {
   "cell_type": "code",
   "execution_count": null,
   "id": "2bbc3dd8",
   "metadata": {},
   "outputs": [],
   "source": [
    "stack = np.vstack((for_hist_muons,for_hist_protons))"
   ]
  },
  {
   "cell_type": "code",
   "execution_count": null,
   "id": "297a27e6",
   "metadata": {},
   "outputs": [],
   "source": [
    "len(stack[0])"
   ]
  },
  {
   "cell_type": "code",
   "execution_count": null,
   "id": "303dc2d7",
   "metadata": {},
   "outputs": [],
   "source": [
    "for i in stack:\n",
    "    histplot(i, bins = 40, alpha = 0.1)"
   ]
  },
  {
   "cell_type": "code",
   "execution_count": null,
   "id": "2b0a6a08",
   "metadata": {},
   "outputs": [],
   "source": [
    "k = 13\n",
    "if k in [13,14,15]:\n",
    "    print(True)"
   ]
  },
  {
   "cell_type": "code",
   "execution_count": null,
   "id": "c8a1b586",
   "metadata": {},
   "outputs": [],
   "source": [
    "muon_processor_config = Config({\"MuonProcessor\": \n",
    "                                {\"RingQuery\": \n",
    "                                 {\"quality_criteria\" : [[\"intensity_check\",f\"np.abs(parameters.intensity_ratio - 1) < {int_cut}\"],\n",
    "                                                        [\"ring_containment\", \"parameters.containment > 0.5\"],\n",
    "                                                        [\"ring_completeness\", \"parameters.completeness > 0.5\"]]}}})\n",
    "\n",
    "#muon_processor_config = Config({\"MuonProcessor\":\n",
    "#                                {\"ImageParameterQuery\" :\n",
    "#                                {\"quality_criteria\" : [[\"min_pixels\", f\"dl1_params.morphology.n_pixels > {min_pixel}\"],\n",
    "#                                                        [\"min_intensity\", \"dl1_params.hillas.intensity > 500\"]]}}})\n",
    "\n",
    "muon_processor_config_2 = Config({\"MuonProcessor\":\n",
    "                                {\"ImageParameterQuery\" :\n",
    "                                 {\"quality_criteria\" : [[\"min_pixels\", f\"dl1_params.morphology.n_pixels > {min_pixel}\"],\n",
    "                                                        [\"min_intensity\", \"dl1_params.hillas.intensity > 500\"]]}}})\n",
    "\n",
    "checker = 0\n",
    "event_container = {}\n",
    "for k in range(1,5):\n",
    "    filename = f'/Users/vdk/sim_run_folder/output_prod_v12/corsika_theta_28.4_az_182.75_run{k}.simtel.gz'\n",
    "    source = EventSource(filename, max_events=9000)\n",
    "    event_iterator = iter(source)\n",
    "    keks = k*1000\n",
    "    for i,j in enumerate(event_iterator):\n",
    "        checker += 1\n",
    "        if len(j.trigger.tels_with_trigger) > 1: \n",
    "            #print('i am here')\n",
    "            event = j\n",
    "            image_processor = ImageProcessor(source.subarray)\n",
    "            calib = CameraCalibrator(image_extractor_type=\"GlobalPeakWindowSum\",subarray = source.subarray)\n",
    "            calib(event)\n",
    "            image_processor(event)\n",
    "            for m in event.muon.tel.keys():\n",
    "                print('i am here')\n",
    "                print(event.muon.tel[m].parameters)\n",
    "            #muon_processor = MuonProcessor(source.subarray, config = muon_processor_config)\n",
    "            #image_processor = ImageProcessor(source.subarray)\n",
    "            #muon_processor = MuonProcessor(source.subarray)\n",
    "            #muon_processor(event)\n",
    "            #for m in j.muon.tel.keys():\n",
    "            #    if not np.isnan(j.muon.tel[m].efficiency.width):\n",
    "            #        event_container[keks+i] = j"
   ]
  },
  {
   "cell_type": "code",
   "execution_count": null,
   "id": "595c483f",
   "metadata": {},
   "outputs": [],
   "source": [
    "print(event.muon.tel[1].parameters)"
   ]
  },
  {
   "cell_type": "code",
   "execution_count": null,
   "id": "cbe954f8",
   "metadata": {},
   "outputs": [],
   "source": [
    "for i in event_container:\n",
    "    for m in event_container[i].trigger.tel.keys():\n",
    "            print(event_container[i].muon.tel[m].efficiency.optical_efficiency)"
   ]
  },
  {
   "cell_type": "code",
   "execution_count": null,
   "id": "9f6c3552",
   "metadata": {},
   "outputs": [],
   "source": [
    "1713.87/60"
   ]
  },
  {
   "cell_type": "code",
   "execution_count": null,
   "id": "602ebafc",
   "metadata": {},
   "outputs": [],
   "source": [
    "1713/36500"
   ]
  },
  {
   "cell_type": "code",
   "execution_count": null,
   "id": "855c02d4",
   "metadata": {},
   "outputs": [],
   "source": [
    "0.21164505592802652/26"
   ]
  },
  {
   "cell_type": "code",
   "execution_count": null,
   "id": "746aa37b",
   "metadata": {},
   "outputs": [],
   "source": [
    "cleaned_event_container[19358].muon.tel[m].parameters.completeness"
   ]
  },
  {
   "cell_type": "code",
   "execution_count": null,
   "id": "d430d258",
   "metadata": {},
   "outputs": [],
   "source": [
    "0.02824719946917591/0.18"
   ]
  },
  {
   "cell_type": "code",
   "execution_count": null,
   "id": "cdfc7dd0",
   "metadata": {},
   "outputs": [],
   "source": [
    "0.02824719946917591/0.18774292339345722/48**0.5"
   ]
  },
  {
   "cell_type": "code",
   "execution_count": null,
   "id": "4b0d184f",
   "metadata": {},
   "outputs": [],
   "source": [
    "0.0267/0.1812/33**0.5\n"
   ]
  },
  {
   "cell_type": "code",
   "execution_count": null,
   "id": "75abb0d3",
   "metadata": {},
   "outputs": [],
   "source": [
    "#histplot(optical_coef, bins = 10)"
   ]
  },
  {
   "cell_type": "code",
   "execution_count": null,
   "id": "8bd51d64",
   "metadata": {},
   "outputs": [],
   "source": [
    "###\n",
    "# Algorithm to process events and try to calibrate them\n",
    "###\n",
    "#int_cut = 0.3\n",
    "min_pixel = 150\n",
    "\n",
    "muon_processor_config = Config({\"MuonProcessor\": \n",
    "                                {\"RingQuery\": \n",
    "                                 {\"quality_criteria\" : [[\"intensity_check\",f\"np.abs(parameters.intensity_ratio - 1) < {int_cut}\"],\n",
    "                                                        [\"ring_containment\", \"parameters.containment > 0.5\"],\n",
    "                                                        [\"ring_completeness\", \"parameters.completeness > 0.5\"]]}}})\n",
    "\n",
    "#muon_processor_config = Config({\"MuonProcessor\":\n",
    "#                                {\"ImageParameterQuery\" :\n",
    "#                                {\"quality_criteria\" : [[\"min_pixels\", f\"dl1_params.morphology.n_pixels > {min_pixel}\"],\n",
    "#                                                        [\"min_intensity\", \"dl1_params.hillas.intensity > 500\"]]}}})\n",
    "\n",
    "muon_processor_config_2 = Config({\"MuonProcessor\":\n",
    "                                {\"ImageParameterQuery\" :\n",
    "                                 {\"quality_criteria\" : [[\"min_pixels\", f\"dl1_params.morphology.n_pixels > {min_pixel}\"],\n",
    "                                                        [\"min_intensity\", \"dl1_params.hillas.intensity > 500\"]]}}})\n",
    "\n",
    "checker = 0\n",
    "test_event_container = {}\n",
    "t1 = time.perf_counter(), time.process_time()\n",
    "\n",
    "#for k in range(1,41):\n",
    "filename = f'/Users/vdk/GeneveWork/Code/calibpipe-main-calibpipe/calibpipe/tests/data/throughput//simtel_run501_muon_telescope_transmission_0.8.simtel.gz'\n",
    "source = EventSource(filename, max_events=9000)\n",
    "event_iterator = iter(source)\n",
    "keks = k*1000\n",
    "for i,j in enumerate(event_iterator):\n",
    "    checker += 1\n",
    "    #if len(j.trigger.tels_with_trigger) > 1:            \n",
    "    image_processor = ImageProcessor(source.subarray)\n",
    "    #muon_processor = MuonProcessor(source.subarray, config = muon_processor_config_2)\n",
    "    muon_processor = MuonProcessor(source.subarray)\n",
    "    calib = CameraCalibrator(\n",
    "        image_extractor_type=\"GlobalPeakWindowSum\",\n",
    "        subarray = source.subarray)\n",
    "    calib(j)\n",
    "    image_processor(j)\n",
    "    muon_processor(j)\n",
    "    for m in j.muon.tel.keys():\n",
    "        if not np.isnan(j.muon.tel[m].efficiency.width):\n",
    "            test_event_container[keks+i] = j\n",
    "t2 = time.perf_counter(), time.process_time()\n",
    "        \n",
    "\n",
    "print(f\" Real time: {t2[0] - t1[0]:.2f} seconds\")\n",
    "print(f\" CPU time: {t2[1] - t1[1]:.2f} seconds\")\n",
    "            \n",
    "        "
   ]
  },
  {
   "cell_type": "code",
   "execution_count": null,
   "id": "a4dc58d0",
   "metadata": {},
   "outputs": [],
   "source": [
    "test_event_container"
   ]
  },
  {
   "cell_type": "code",
   "execution_count": null,
   "id": "a0c7ae8d",
   "metadata": {
    "scrolled": true
   },
   "outputs": [],
   "source": [
    "# PROCESSING OF REGULAR IMAGES \n",
    "##\n",
    "#\n",
    "# For all telescopes\n",
    "#\n",
    "#\n",
    "#\n",
    "\n",
    "lets_check = 0\n",
    "opt_eff_cleaned = []\n",
    "for i in test_event_container:\n",
    "    for m in test_event_container[i].trigger.tel.keys():\n",
    "        #if not np.isnan(event_container[i].muon.tel[m].efficiency.width):\n",
    "                #plt.savefig(f\"/Users/vdk/MRing_event{i}_fit{round(event_container[i].muon.tel[m].efficiency.optical_efficiency,3)}_width{round(event_container[i].muon.tel[m].efficiency.width.to_value(),3)}.png\")\n",
    "                #plt.savefig(f\"/Users/vdk/MRing_event{i}_fit{round(event_container[i].muon.tel[m].efficiency.optical_efficiency,3)}_width{round(event_container[i].muon.tel[m].efficiency.width.to_value(),3)}.png\")\n",
    "                \n",
    "                print(\"n_pixels \", test_event_container[i].dl1.tel[m].parameters.morphology.n_pixels)\n",
    "                print(\"MSE \", test_event_container[i].muon.tel[m].parameters.mean_squared_error)                \n",
    "                print(\"Muon parameters \", test_event_container[i].muon.tel[m].parameters)\n",
    "                print(\"Muon other parameters \", test_event_container[i].dl1.tel[m].parameters.hillas)                \n",
    "                print(\"intensity_check \", abs(test_event_container[i].muon.tel[m].parameters.intensity_ratio - 1))\n",
    "                #if event_container[i].dl1.tel[m].parameters.morphology.n_pixels > 50 and abs(event_container[i].muon.tel[m].parameters.intensity_ratio - 1) < 0.1:\n",
    "                #if abs(event_container[i].muon.tel[m].parameters.intensity_ratio - 1) < 0.2:\n",
    "                #print(\"n_pixels \", event_container[i].dl1.tel[m].parameters.morphology.n_pixels)\n",
    "                #print(\"Muon parameters \", event_container[i].muon.tel[m].parameters)   \n",
    "                #print(\"intensity_check \", abs(event_container[i].muon.tel[m].parameters.intensity_ratio - 1))\n",
    "                lets_check+=1\n",
    "                plt.figure(figsize = (9,6))\n",
    "                camgeom = source.subarray.tel[m].camera.geometry\n",
    "                title=f\"Event_{i}_optEff{round(test_event_container[i].muon.tel[m].efficiency.optical_efficiency,3)}_width{round(test_event_container[i].muon.tel[m].efficiency.width.to_value(),3)}_triggercount{len(test_event_container[i].trigger.tel.keys())}\"\n",
    "                #title=f\"CleanedRing_{i}_optEff{round(event_container[i].muon.tel[m].efficiency.optical_efficiency,3)}_width{round(event_container[i].muon.tel[m].efficiency.width.to_value(),3)}_triggeredTel{m}\"\n",
    "                disp = CameraDisplay(camgeom,title=title)\n",
    "                disp.image = test_event_container[i].simulation.tel[m].true_image\n",
    "                #disp.image = event_container[i].r1.tel[m].waveform.sum(axis=1)\n",
    "                disp.cmap = plt.cm.RdBu_r\n",
    "                disp.add_colorbar()\n",
    "                disp.set_limits_percent(95)\n",
    "                plt.show()\n",
    "                #plt.savefig(f\"/Users/vdk/ImagePurgatorium/MuonsWithoutCleaning_intensitycut<0.3_event{i}.png\")\n",
    "                #opt_eff_cleaned.append(event_container[i].muon.tel[m].efficiency.optical_efficiency)\n",
    "                    \n",
    "plt.close()"
   ]
  },
  {
   "cell_type": "code",
   "execution_count": null,
   "id": "6c7e80a6",
   "metadata": {},
   "outputs": [],
   "source": [
    "test_event_container[1854000].simulation.shower.energy"
   ]
  },
  {
   "cell_type": "code",
   "execution_count": null,
   "id": "bcb64a1a",
   "metadata": {},
   "outputs": [],
   "source": [
    "source.subarray.peek()"
   ]
  },
  {
   "cell_type": "code",
   "execution_count": null,
   "id": "7cf9b836",
   "metadata": {
    "scrolled": false
   },
   "outputs": [],
   "source": [
    "energies = []\n",
    "for i in event_container:\n",
    "    energies.append(event_container[i].simulation.shower.energy)\n",
    "    "
   ]
  },
  {
   "cell_type": "code",
   "execution_count": null,
   "id": "60944bfc",
   "metadata": {
    "scrolled": false
   },
   "outputs": [],
   "source": [
    "min(energies)"
   ]
  },
  {
   "cell_type": "code",
   "execution_count": null,
   "id": "2d581176",
   "metadata": {},
   "outputs": [],
   "source": [
    "test_energies = []\n",
    "for i in test_event_container:\n",
    "    test_energies.append(test_event_container[i].simulation.shower.energy)"
   ]
  },
  {
   "cell_type": "code",
   "execution_count": null,
   "id": "7e741f34",
   "metadata": {},
   "outputs": [],
   "source": [
    "test_energies"
   ]
  },
  {
   "cell_type": "code",
   "execution_count": null,
   "id": "9eee0ed3",
   "metadata": {},
   "outputs": [],
   "source": [
    "40000/20"
   ]
  },
  {
   "cell_type": "code",
   "execution_count": null,
   "id": "d387f3c1",
   "metadata": {},
   "outputs": [],
   "source": [
    "j"
   ]
  },
  {
   "cell_type": "code",
   "execution_count": null,
   "id": "b9f69281",
   "metadata": {},
   "outputs": [],
   "source": [
    "j.r0.tel[1].waveform"
   ]
  },
  {
   "cell_type": "code",
   "execution_count": null,
   "id": "54b7be26",
   "metadata": {},
   "outputs": [],
   "source": [
    "### NEW CLEANING NEW CLEANING NEW CLEANING \n",
    "####\n",
    "### TEST TEST TEST TEST TEST TEST TEST TEST TEST TEST TEST TEST TEST TEST TEST TEST TEST\n",
    "###\n",
    "# Algorithm to process events and calibrate with new cleaning algo\n",
    "###\n",
    "int_cut = 0.2\n",
    "min_pixel = 150\n",
    "\n",
    "muon_processor_config = Config({\"MuonProcessor\": \n",
    "                                {\"RingQuery\": \n",
    "                                 {\"quality_criteria\" : [[\"intensity_check\",f\"np.abs(parameters.intensity_ratio - 1) < {int_cut}\"],\n",
    "                                                        [\"ring_containment\", \"parameters.containment > 0.5\"],\n",
    "                                                        [\"ring_completeness\", \"parameters.completeness > 0.5\"]]}}})\n",
    "\n",
    "#muon_processor_config = Config({\"MuonProcessor\":\n",
    "#                                {\"ImageParameterQuery\" :\n",
    "#                                {\"quality_criteria\" : [[\"min_pixels\", f\"dl1_params.morphology.n_pixels > {min_pixel}\"],\n",
    "#                                                        [\"min_intensity\", \"dl1_params.hillas.intensity > 500\"]]}}})\n",
    "\n",
    "muon_processor_config_2 = Config({\"MuonProcessor\":\n",
    "                                {\"ImageParameterQuery\" :\n",
    "                                 {\"quality_criteria\" : [[\"min_pixels\", f\"dl1_params.morphology.n_pixels < {min_pixel}\"],\n",
    "                                                        [\"min_intensity\", \"dl1_params.hillas.intensity > 500\"]]}}})\n",
    "\n",
    "checker = 0\n",
    "cleaned_event_container = {}\n",
    "t1 = time.perf_counter(), time.process_time()\n",
    "for k in range(1,41):\n",
    "    filename = f'/Users/vdk/sim_run_folder/output_prod_v12/corsika_theta_28.4_az_182.75_run{k}.simtel.gz'\n",
    "    source = EventSource(filename, max_events=9000)\n",
    "    event_iterator = iter(source)\n",
    "    keks = k*1000\n",
    "    for i,j in enumerate(event_iterator):\n",
    "        checker += 1\n",
    "        if len(j.trigger.tels_with_trigger) > 1: \n",
    "            event = j\n",
    "            image_processor = ImageProcessor(source.subarray)\n",
    "            #muon_processor = MuonProcessor(source.subarray, config = muon_processor_config_2)\n",
    "            muon_processor = MuonProcessor(source.subarray)\n",
    "            calib = CameraCalibrator(image_extractor_type=\"GlobalPeakWindowSum\",subarray = source.subarray)\n",
    "            for tels in event.trigger.tels_with_trigger:\n",
    "                pixel_mask = []\n",
    "                for k,l in enumerate(event.r0.tel[tels].waveform[1]):\n",
    "                    if np.argmax(l) in range(16,40): \n",
    "                        pixel_mask.append(True)\n",
    "                    else:\n",
    "                        pixel_mask.append(False)\n",
    "                working_wave = event.r1.tel[tels].waveform.copy()\n",
    "                for k,l in enumerate(working_wave):\n",
    "                    if pixel_mask[k]:\n",
    "                        #working_wave[k] = np.zeros(40)     \n",
    "                        working_wave[k] = np.mean(event.r1.tel[tels].waveform, axis = 0)\n",
    "                event.r1.tel[tels].waveform = working_wave\n",
    "                pre = np.mean(event.r1.tel[tels].waveform, axis = 1).sum()\n",
    "                #print(\"PRE\", np.mean(event.r1.tel[tels].waveform, axis = 1))\n",
    "                calib(event)\n",
    "                image_processor(event)\n",
    "                muon_processor(event)\n",
    "                #print(\"POST\", np.mean(event.r1.tel[tels].waveform, axis = 1 ))\n",
    "                #print(\"____________________________________\")\n",
    "                post = np.mean(event.r1.tel[tels].waveform, axis = 1).sum()\n",
    "                if not pre == post:\n",
    "                    print(\"1\")\n",
    "                else:\n",
    "                    print(\"0\")\n",
    "        for m in j.muon.tel.keys():\n",
    "            if not np.isnan(j.muon.tel[m].efficiency.width):\n",
    "                cleaned_event_container[keks+i] = j\n",
    "        t2 = time.perf_counter(), time.process_time()\n",
    "        \n",
    "\n",
    "\n",
    "\n",
    "\n",
    "            \n",
    "            \n",
    "print(f\" Real time: {t2[0] - t1[0]:.2f} seconds\")\n",
    "print(f\" CPU time: {t2[1] - t1[1]:.2f} seconds\")      \n",
    "\n"
   ]
  },
  {
   "cell_type": "code",
   "execution_count": null,
   "id": "8d40a9c4",
   "metadata": {},
   "outputs": [],
   "source": [
    "event.trigger.tels_with_trigger[0]"
   ]
  },
  {
   "cell_type": "code",
   "execution_count": null,
   "id": "3aec08e2",
   "metadata": {},
   "outputs": [],
   "source": [
    "###\n",
    "# Calculate triggered telescopes\n",
    "###\n",
    "int_cut = 0.4\n",
    "min_pixel = 80\n",
    "\n",
    "muon_processor_config = Config({\"MuonProcessor\": \n",
    "                                {\"RingQuery\": \n",
    "                                 {\"quality_criteria\" : [[\"intensity_check\",f\"np.abs(parameters.intensity_ratio - 1) < {int_cut}\"],\n",
    "                                                        [\"ring_containment\", \"parameters.containment > 0.5\"],\n",
    "                                                        [\"ring_completeness\", \"parameters.completeness > 0.5\"]]}}})\n",
    "\n",
    "#muon_processor_config = Config({\"MuonProcessor\":\n",
    "#                                {\"ImageParameterQuery\" :\n",
    "#                                {\"quality_criteria\" : [[\"min_pixels\", f\"dl1_params.morphology.n_pixels > {min_pixel}\"],\n",
    "#                                                        [\"min_intensity\", \"dl1_params.hillas.intensity > 500\"]]}}})\n",
    "\n",
    "muon_processor_config_2 = Config({\"MuonProcessor\":\n",
    "                                {\"ImageParameterQuery\" :\n",
    "                                 {\"quality_criteria\" : [[\"min_pixels\", f\"dl1_params.morphology.n_pixels > {min_pixel}\"],\n",
    "                                                        [\"min_intensity\", \"dl1_params.hillas.intensity > 500\"]]}}})\n",
    "\n",
    "checker = 0\n",
    "event_container = {}\n",
    "t1 = time.perf_counter(), time.process_time()\n",
    "\n",
    "tels_1_2 = []\n",
    "tels_1_3 = []\n",
    "tels_1_2_3 = []\n",
    "tels = []\n",
    "\n",
    "for k in range(1,41):\n",
    "    filename = f'/Users/vdk/sim_run_folder/output_prod_v12/corsika_theta_28.4_az_182.75_run{k}.simtel.gz'\n",
    "    source = EventSource(filename, max_events=9000)\n",
    "    event_iterator = iter(source)\n",
    "    keks = k*1000\n",
    "    for i,j in enumerate(event_iterator):\n",
    "        checker += 1\n",
    "        if len(j.trigger.tels_with_trigger) > 1:            \n",
    "            tels.append(j.trigger.tels_with_trigger)\n",
    "    t2 = time.perf_counter(), time.process_time()\n",
    "        \n",
    "\n",
    "print(f\" Real time: {t2[0] - t1[0]:.2f} seconds\")\n",
    "print(f\" CPU time: {t2[1] - t1[1]:.2f} seconds\")\n",
    "            \n",
    "        "
   ]
  },
  {
   "cell_type": "code",
   "execution_count": null,
   "id": "690f027a",
   "metadata": {},
   "outputs": [],
   "source": [
    "test = [[1,2],[1,3], [1,2]]"
   ]
  },
  {
   "cell_type": "code",
   "execution_count": null,
   "id": "e6601569",
   "metadata": {},
   "outputs": [],
   "source": [
    "tels.count([1, 2].all())"
   ]
  },
  {
   "cell_type": "code",
   "execution_count": null,
   "id": "4edfa89e",
   "metadata": {},
   "outputs": [],
   "source": [
    "fi_tw = 0\n",
    "fi_th = 0\n",
    "fi_tw_th = 0\n",
    "tw_th = 0\n",
    "\n",
    "for i in tels:\n",
    "    print(i)\n",
    "    if (i == [1,2]).any():\n",
    "        fi_tw += 1"
   ]
  },
  {
   "cell_type": "code",
   "execution_count": null,
   "id": "5fd4bcc4",
   "metadata": {},
   "outputs": [],
   "source": [
    "tels"
   ]
  },
  {
   "cell_type": "code",
   "execution_count": null,
   "id": "2d095d04",
   "metadata": {},
   "outputs": [],
   "source": [
    "arr1 = [1,2,3]\n",
    "arr2 = [2,3,4]\n",
    "\n",
    "arr1 == arr2"
   ]
  },
  {
   "cell_type": "code",
   "execution_count": null,
   "id": "c4bf5061",
   "metadata": {},
   "outputs": [],
   "source": [
    "two = []\n",
    "three = []\n",
    "for i in tels:\n",
    "    if len(i) == 2:\n",
    "        two.append(i)\n",
    "    else:\n",
    "        three.append(i)"
   ]
  },
  {
   "cell_type": "code",
   "execution_count": null,
   "id": "dac95016",
   "metadata": {},
   "outputs": [],
   "source": [
    "two = np.array(two)"
   ]
  },
  {
   "cell_type": "code",
   "execution_count": null,
   "id": "f9e5a715",
   "metadata": {},
   "outputs": [],
   "source": [
    "len(three)"
   ]
  },
  {
   "cell_type": "code",
   "execution_count": null,
   "id": "c8832874",
   "metadata": {},
   "outputs": [],
   "source": [
    "two.count([1,2])"
   ]
  },
  {
   "cell_type": "code",
   "execution_count": null,
   "id": "78757898",
   "metadata": {},
   "outputs": [],
   "source": [
    "np.count_nonzero(two==[1,2])"
   ]
  },
  {
   "cell_type": "code",
   "execution_count": null,
   "id": "315debb0",
   "metadata": {},
   "outputs": [],
   "source": [
    "np.count_nonzero(two==[1,3])"
   ]
  },
  {
   "cell_type": "code",
   "execution_count": null,
   "id": "42a91162",
   "metadata": {},
   "outputs": [],
   "source": [
    "np.count_nonzero(two==[2,3])"
   ]
  },
  {
   "cell_type": "code",
   "execution_count": null,
   "id": "aa1b9de9",
   "metadata": {},
   "outputs": [],
   "source": [
    "fi_tw = 0\n",
    "fi_th = 0\n",
    "fi_tw_th = 0\n",
    "tw_th = 0\n",
    "for i in two:\n",
    "    if (i == [1,2]).all():\n",
    "        fi_tw +=1\n",
    "    elif (i == [2,3]).all():\n",
    "        tw_th +=1\n",
    "    elif (i == [1,3]).all():\n",
    "        fi_th +=1\n",
    "\n",
    "print(\"1-2\" , fi_tw)\n",
    "print(\"2-3\" , tw_th)\n",
    "print(\"1-3\" , fi_th)"
   ]
  },
  {
   "cell_type": "code",
   "execution_count": null,
   "id": "eb208dac",
   "metadata": {},
   "outputs": [],
   "source": [
    "tw_th+ fi_th + fi_tw + len(three)"
   ]
  },
  {
   "cell_type": "code",
   "execution_count": null,
   "id": "77f5d14f",
   "metadata": {},
   "outputs": [],
   "source": [
    "energies = []\n",
    "for i in event_container:\n",
    "    energies.append(event_container[i].simulation.shower.energy.value)"
   ]
  },
  {
   "cell_type": "code",
   "execution_count": null,
   "id": "97a47986",
   "metadata": {},
   "outputs": [],
   "source": [
    "energies"
   ]
  },
  {
   "cell_type": "code",
   "execution_count": null,
   "id": "28b6dbe7",
   "metadata": {},
   "outputs": [],
   "source": [
    "event_container"
   ]
  },
  {
   "cell_type": "code",
   "execution_count": null,
   "id": "6b0e23e4",
   "metadata": {},
   "outputs": [],
   "source": []
  }
 ],
 "metadata": {
  "kernelspec": {
   "display_name": "cta",
   "language": "python",
   "name": "cta"
  },
  "language_info": {
   "codemirror_mode": {
    "name": "ipython",
    "version": 3
   },
   "file_extension": ".py",
   "mimetype": "text/x-python",
   "name": "python",
   "nbconvert_exporter": "python",
   "pygments_lexer": "ipython3",
   "version": "3.11.3"
  }
 },
 "nbformat": 4,
 "nbformat_minor": 5
}
